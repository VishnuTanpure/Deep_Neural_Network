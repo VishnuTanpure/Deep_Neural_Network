{
 "cells": [
  {
   "cell_type": "markdown",
   "id": "13ZX_Or9iiKP",
   "metadata": {
    "id": "13ZX_Or9iiKP"
   },
   "source": [
    "# $\\color{red}{Deep \\ \\ Neural \\ \\ Network \\ \\ on \\ \\ MNIST \\ \\ Dataset}$"
   ]
  },
  {
   "cell_type": "markdown",
   "id": "Ps1sh4uygIEs",
   "metadata": {
    "id": "Ps1sh4uygIEs"
   },
   "source": [
    "# $Training \\ \\ Data$"
   ]
  },
  {
   "cell_type": "markdown",
   "id": "RHxkFAjhgaLa",
   "metadata": {
    "id": "RHxkFAjhgaLa"
   },
   "source": [
    "## $Import \\ \\ Basic \\ \\ Libraries$"
   ]
  },
  {
   "cell_type": "code",
   "execution_count": 1,
   "id": "eb21dd53-96c0-4e5b-8ca4-ce051806a37f",
   "metadata": {
    "id": "eb21dd53-96c0-4e5b-8ca4-ce051806a37f"
   },
   "outputs": [],
   "source": [
    "import pandas as pd  # For handling and analyzing structured data\n",
    "import numpy as np  # For numerical operations and array handling\n",
    "from matplotlib import pyplot as plt  # For data visualization and plotting"
   ]
  },
  {
   "cell_type": "markdown",
   "id": "PqzMY6Pbgf5y",
   "metadata": {
    "id": "PqzMY6Pbgf5y"
   },
   "source": [
    "## $Import \\ \\ Training \\ \\ Data$"
   ]
  },
  {
   "cell_type": "code",
   "execution_count": 2,
   "id": "3d4933a4-19e2-4156-851b-f08d36492591",
   "metadata": {
    "colab": {
     "base_uri": "https://localhost:8080/",
     "height": 255
    },
    "id": "3d4933a4-19e2-4156-851b-f08d36492591",
    "outputId": "f6d5aa7f-e9b2-4a54-91c3-338d96d1c628"
   },
   "outputs": [
    {
     "data": {
      "application/vnd.google.colaboratory.intrinsic+json": {
       "type": "dataframe",
       "variable_name": "df"
      },
      "text/html": [
       "\n",
       "  <div id=\"df-a00df3ca-0f27-4220-ab10-13735458b13f\" class=\"colab-df-container\">\n",
       "    <div>\n",
       "<style scoped>\n",
       "    .dataframe tbody tr th:only-of-type {\n",
       "        vertical-align: middle;\n",
       "    }\n",
       "\n",
       "    .dataframe tbody tr th {\n",
       "        vertical-align: top;\n",
       "    }\n",
       "\n",
       "    .dataframe thead th {\n",
       "        text-align: right;\n",
       "    }\n",
       "</style>\n",
       "<table border=\"1\" class=\"dataframe\">\n",
       "  <thead>\n",
       "    <tr style=\"text-align: right;\">\n",
       "      <th></th>\n",
       "      <th>label</th>\n",
       "      <th>pixel0</th>\n",
       "      <th>pixel1</th>\n",
       "      <th>pixel2</th>\n",
       "      <th>pixel3</th>\n",
       "      <th>pixel4</th>\n",
       "      <th>pixel5</th>\n",
       "      <th>pixel6</th>\n",
       "      <th>pixel7</th>\n",
       "      <th>pixel8</th>\n",
       "      <th>...</th>\n",
       "      <th>pixel774</th>\n",
       "      <th>pixel775</th>\n",
       "      <th>pixel776</th>\n",
       "      <th>pixel777</th>\n",
       "      <th>pixel778</th>\n",
       "      <th>pixel779</th>\n",
       "      <th>pixel780</th>\n",
       "      <th>pixel781</th>\n",
       "      <th>pixel782</th>\n",
       "      <th>pixel783</th>\n",
       "    </tr>\n",
       "  </thead>\n",
       "  <tbody>\n",
       "    <tr>\n",
       "      <th>0</th>\n",
       "      <td>1</td>\n",
       "      <td>0</td>\n",
       "      <td>0</td>\n",
       "      <td>0</td>\n",
       "      <td>0</td>\n",
       "      <td>0</td>\n",
       "      <td>0</td>\n",
       "      <td>0</td>\n",
       "      <td>0</td>\n",
       "      <td>0</td>\n",
       "      <td>...</td>\n",
       "      <td>0</td>\n",
       "      <td>0</td>\n",
       "      <td>0</td>\n",
       "      <td>0</td>\n",
       "      <td>0</td>\n",
       "      <td>0</td>\n",
       "      <td>0</td>\n",
       "      <td>0</td>\n",
       "      <td>0</td>\n",
       "      <td>0</td>\n",
       "    </tr>\n",
       "    <tr>\n",
       "      <th>1</th>\n",
       "      <td>0</td>\n",
       "      <td>0</td>\n",
       "      <td>0</td>\n",
       "      <td>0</td>\n",
       "      <td>0</td>\n",
       "      <td>0</td>\n",
       "      <td>0</td>\n",
       "      <td>0</td>\n",
       "      <td>0</td>\n",
       "      <td>0</td>\n",
       "      <td>...</td>\n",
       "      <td>0</td>\n",
       "      <td>0</td>\n",
       "      <td>0</td>\n",
       "      <td>0</td>\n",
       "      <td>0</td>\n",
       "      <td>0</td>\n",
       "      <td>0</td>\n",
       "      <td>0</td>\n",
       "      <td>0</td>\n",
       "      <td>0</td>\n",
       "    </tr>\n",
       "    <tr>\n",
       "      <th>2</th>\n",
       "      <td>1</td>\n",
       "      <td>0</td>\n",
       "      <td>0</td>\n",
       "      <td>0</td>\n",
       "      <td>0</td>\n",
       "      <td>0</td>\n",
       "      <td>0</td>\n",
       "      <td>0</td>\n",
       "      <td>0</td>\n",
       "      <td>0</td>\n",
       "      <td>...</td>\n",
       "      <td>0</td>\n",
       "      <td>0</td>\n",
       "      <td>0</td>\n",
       "      <td>0</td>\n",
       "      <td>0</td>\n",
       "      <td>0</td>\n",
       "      <td>0</td>\n",
       "      <td>0</td>\n",
       "      <td>0</td>\n",
       "      <td>0</td>\n",
       "    </tr>\n",
       "    <tr>\n",
       "      <th>3</th>\n",
       "      <td>4</td>\n",
       "      <td>0</td>\n",
       "      <td>0</td>\n",
       "      <td>0</td>\n",
       "      <td>0</td>\n",
       "      <td>0</td>\n",
       "      <td>0</td>\n",
       "      <td>0</td>\n",
       "      <td>0</td>\n",
       "      <td>0</td>\n",
       "      <td>...</td>\n",
       "      <td>0</td>\n",
       "      <td>0</td>\n",
       "      <td>0</td>\n",
       "      <td>0</td>\n",
       "      <td>0</td>\n",
       "      <td>0</td>\n",
       "      <td>0</td>\n",
       "      <td>0</td>\n",
       "      <td>0</td>\n",
       "      <td>0</td>\n",
       "    </tr>\n",
       "    <tr>\n",
       "      <th>4</th>\n",
       "      <td>0</td>\n",
       "      <td>0</td>\n",
       "      <td>0</td>\n",
       "      <td>0</td>\n",
       "      <td>0</td>\n",
       "      <td>0</td>\n",
       "      <td>0</td>\n",
       "      <td>0</td>\n",
       "      <td>0</td>\n",
       "      <td>0</td>\n",
       "      <td>...</td>\n",
       "      <td>0</td>\n",
       "      <td>0</td>\n",
       "      <td>0</td>\n",
       "      <td>0</td>\n",
       "      <td>0</td>\n",
       "      <td>0</td>\n",
       "      <td>0</td>\n",
       "      <td>0</td>\n",
       "      <td>0</td>\n",
       "      <td>0</td>\n",
       "    </tr>\n",
       "  </tbody>\n",
       "</table>\n",
       "<p>5 rows × 785 columns</p>\n",
       "</div>\n",
       "    <div class=\"colab-df-buttons\">\n",
       "\n",
       "  <div class=\"colab-df-container\">\n",
       "    <button class=\"colab-df-convert\" onclick=\"convertToInteractive('df-a00df3ca-0f27-4220-ab10-13735458b13f')\"\n",
       "            title=\"Convert this dataframe to an interactive table.\"\n",
       "            style=\"display:none;\">\n",
       "\n",
       "  <svg xmlns=\"http://www.w3.org/2000/svg\" height=\"24px\" viewBox=\"0 -960 960 960\">\n",
       "    <path d=\"M120-120v-720h720v720H120Zm60-500h600v-160H180v160Zm220 220h160v-160H400v160Zm0 220h160v-160H400v160ZM180-400h160v-160H180v160Zm440 0h160v-160H620v160ZM180-180h160v-160H180v160Zm440 0h160v-160H620v160Z\"/>\n",
       "  </svg>\n",
       "    </button>\n",
       "\n",
       "  <style>\n",
       "    .colab-df-container {\n",
       "      display:flex;\n",
       "      gap: 12px;\n",
       "    }\n",
       "\n",
       "    .colab-df-convert {\n",
       "      background-color: #E8F0FE;\n",
       "      border: none;\n",
       "      border-radius: 50%;\n",
       "      cursor: pointer;\n",
       "      display: none;\n",
       "      fill: #1967D2;\n",
       "      height: 32px;\n",
       "      padding: 0 0 0 0;\n",
       "      width: 32px;\n",
       "    }\n",
       "\n",
       "    .colab-df-convert:hover {\n",
       "      background-color: #E2EBFA;\n",
       "      box-shadow: 0px 1px 2px rgba(60, 64, 67, 0.3), 0px 1px 3px 1px rgba(60, 64, 67, 0.15);\n",
       "      fill: #174EA6;\n",
       "    }\n",
       "\n",
       "    .colab-df-buttons div {\n",
       "      margin-bottom: 4px;\n",
       "    }\n",
       "\n",
       "    [theme=dark] .colab-df-convert {\n",
       "      background-color: #3B4455;\n",
       "      fill: #D2E3FC;\n",
       "    }\n",
       "\n",
       "    [theme=dark] .colab-df-convert:hover {\n",
       "      background-color: #434B5C;\n",
       "      box-shadow: 0px 1px 3px 1px rgba(0, 0, 0, 0.15);\n",
       "      filter: drop-shadow(0px 1px 2px rgba(0, 0, 0, 0.3));\n",
       "      fill: #FFFFFF;\n",
       "    }\n",
       "  </style>\n",
       "\n",
       "    <script>\n",
       "      const buttonEl =\n",
       "        document.querySelector('#df-a00df3ca-0f27-4220-ab10-13735458b13f button.colab-df-convert');\n",
       "      buttonEl.style.display =\n",
       "        google.colab.kernel.accessAllowed ? 'block' : 'none';\n",
       "\n",
       "      async function convertToInteractive(key) {\n",
       "        const element = document.querySelector('#df-a00df3ca-0f27-4220-ab10-13735458b13f');\n",
       "        const dataTable =\n",
       "          await google.colab.kernel.invokeFunction('convertToInteractive',\n",
       "                                                    [key], {});\n",
       "        if (!dataTable) return;\n",
       "\n",
       "        const docLinkHtml = 'Like what you see? Visit the ' +\n",
       "          '<a target=\"_blank\" href=https://colab.research.google.com/notebooks/data_table.ipynb>data table notebook</a>'\n",
       "          + ' to learn more about interactive tables.';\n",
       "        element.innerHTML = '';\n",
       "        dataTable['output_type'] = 'display_data';\n",
       "        await google.colab.output.renderOutput(dataTable, element);\n",
       "        const docLink = document.createElement('div');\n",
       "        docLink.innerHTML = docLinkHtml;\n",
       "        element.appendChild(docLink);\n",
       "      }\n",
       "    </script>\n",
       "  </div>\n",
       "\n",
       "\n",
       "<div id=\"df-8ba77987-194d-46ad-81b3-ef36ebea48f8\">\n",
       "  <button class=\"colab-df-quickchart\" onclick=\"quickchart('df-8ba77987-194d-46ad-81b3-ef36ebea48f8')\"\n",
       "            title=\"Suggest charts\"\n",
       "            style=\"display:none;\">\n",
       "\n",
       "<svg xmlns=\"http://www.w3.org/2000/svg\" height=\"24px\"viewBox=\"0 0 24 24\"\n",
       "     width=\"24px\">\n",
       "    <g>\n",
       "        <path d=\"M19 3H5c-1.1 0-2 .9-2 2v14c0 1.1.9 2 2 2h14c1.1 0 2-.9 2-2V5c0-1.1-.9-2-2-2zM9 17H7v-7h2v7zm4 0h-2V7h2v10zm4 0h-2v-4h2v4z\"/>\n",
       "    </g>\n",
       "</svg>\n",
       "  </button>\n",
       "\n",
       "<style>\n",
       "  .colab-df-quickchart {\n",
       "      --bg-color: #E8F0FE;\n",
       "      --fill-color: #1967D2;\n",
       "      --hover-bg-color: #E2EBFA;\n",
       "      --hover-fill-color: #174EA6;\n",
       "      --disabled-fill-color: #AAA;\n",
       "      --disabled-bg-color: #DDD;\n",
       "  }\n",
       "\n",
       "  [theme=dark] .colab-df-quickchart {\n",
       "      --bg-color: #3B4455;\n",
       "      --fill-color: #D2E3FC;\n",
       "      --hover-bg-color: #434B5C;\n",
       "      --hover-fill-color: #FFFFFF;\n",
       "      --disabled-bg-color: #3B4455;\n",
       "      --disabled-fill-color: #666;\n",
       "  }\n",
       "\n",
       "  .colab-df-quickchart {\n",
       "    background-color: var(--bg-color);\n",
       "    border: none;\n",
       "    border-radius: 50%;\n",
       "    cursor: pointer;\n",
       "    display: none;\n",
       "    fill: var(--fill-color);\n",
       "    height: 32px;\n",
       "    padding: 0;\n",
       "    width: 32px;\n",
       "  }\n",
       "\n",
       "  .colab-df-quickchart:hover {\n",
       "    background-color: var(--hover-bg-color);\n",
       "    box-shadow: 0 1px 2px rgba(60, 64, 67, 0.3), 0 1px 3px 1px rgba(60, 64, 67, 0.15);\n",
       "    fill: var(--button-hover-fill-color);\n",
       "  }\n",
       "\n",
       "  .colab-df-quickchart-complete:disabled,\n",
       "  .colab-df-quickchart-complete:disabled:hover {\n",
       "    background-color: var(--disabled-bg-color);\n",
       "    fill: var(--disabled-fill-color);\n",
       "    box-shadow: none;\n",
       "  }\n",
       "\n",
       "  .colab-df-spinner {\n",
       "    border: 2px solid var(--fill-color);\n",
       "    border-color: transparent;\n",
       "    border-bottom-color: var(--fill-color);\n",
       "    animation:\n",
       "      spin 1s steps(1) infinite;\n",
       "  }\n",
       "\n",
       "  @keyframes spin {\n",
       "    0% {\n",
       "      border-color: transparent;\n",
       "      border-bottom-color: var(--fill-color);\n",
       "      border-left-color: var(--fill-color);\n",
       "    }\n",
       "    20% {\n",
       "      border-color: transparent;\n",
       "      border-left-color: var(--fill-color);\n",
       "      border-top-color: var(--fill-color);\n",
       "    }\n",
       "    30% {\n",
       "      border-color: transparent;\n",
       "      border-left-color: var(--fill-color);\n",
       "      border-top-color: var(--fill-color);\n",
       "      border-right-color: var(--fill-color);\n",
       "    }\n",
       "    40% {\n",
       "      border-color: transparent;\n",
       "      border-right-color: var(--fill-color);\n",
       "      border-top-color: var(--fill-color);\n",
       "    }\n",
       "    60% {\n",
       "      border-color: transparent;\n",
       "      border-right-color: var(--fill-color);\n",
       "    }\n",
       "    80% {\n",
       "      border-color: transparent;\n",
       "      border-right-color: var(--fill-color);\n",
       "      border-bottom-color: var(--fill-color);\n",
       "    }\n",
       "    90% {\n",
       "      border-color: transparent;\n",
       "      border-bottom-color: var(--fill-color);\n",
       "    }\n",
       "  }\n",
       "</style>\n",
       "\n",
       "  <script>\n",
       "    async function quickchart(key) {\n",
       "      const quickchartButtonEl =\n",
       "        document.querySelector('#' + key + ' button');\n",
       "      quickchartButtonEl.disabled = true;  // To prevent multiple clicks.\n",
       "      quickchartButtonEl.classList.add('colab-df-spinner');\n",
       "      try {\n",
       "        const charts = await google.colab.kernel.invokeFunction(\n",
       "            'suggestCharts', [key], {});\n",
       "      } catch (error) {\n",
       "        console.error('Error during call to suggestCharts:', error);\n",
       "      }\n",
       "      quickchartButtonEl.classList.remove('colab-df-spinner');\n",
       "      quickchartButtonEl.classList.add('colab-df-quickchart-complete');\n",
       "    }\n",
       "    (() => {\n",
       "      let quickchartButtonEl =\n",
       "        document.querySelector('#df-8ba77987-194d-46ad-81b3-ef36ebea48f8 button');\n",
       "      quickchartButtonEl.style.display =\n",
       "        google.colab.kernel.accessAllowed ? 'block' : 'none';\n",
       "    })();\n",
       "  </script>\n",
       "</div>\n",
       "\n",
       "    </div>\n",
       "  </div>\n"
      ],
      "text/plain": [
       "   label  pixel0  pixel1  pixel2  pixel3  pixel4  pixel5  pixel6  pixel7  \\\n",
       "0      1       0       0       0       0       0       0       0       0   \n",
       "1      0       0       0       0       0       0       0       0       0   \n",
       "2      1       0       0       0       0       0       0       0       0   \n",
       "3      4       0       0       0       0       0       0       0       0   \n",
       "4      0       0       0       0       0       0       0       0       0   \n",
       "\n",
       "   pixel8  ...  pixel774  pixel775  pixel776  pixel777  pixel778  pixel779  \\\n",
       "0       0  ...         0         0         0         0         0         0   \n",
       "1       0  ...         0         0         0         0         0         0   \n",
       "2       0  ...         0         0         0         0         0         0   \n",
       "3       0  ...         0         0         0         0         0         0   \n",
       "4       0  ...         0         0         0         0         0         0   \n",
       "\n",
       "   pixel780  pixel781  pixel782  pixel783  \n",
       "0         0         0         0         0  \n",
       "1         0         0         0         0  \n",
       "2         0         0         0         0  \n",
       "3         0         0         0         0  \n",
       "4         0         0         0         0  \n",
       "\n",
       "[5 rows x 785 columns]"
      ]
     },
     "execution_count": 2,
     "metadata": {},
     "output_type": "execute_result"
    }
   ],
   "source": [
    "df = pd.read_csv(\"/content/train.csv\")  # Load the dataset from a CSV file into a DataFrame\n",
    "df.head()"
   ]
  },
  {
   "cell_type": "code",
   "execution_count": 3,
   "id": "75df7ad7-e1ac-4889-9b3d-a3f34e9d660e",
   "metadata": {
    "colab": {
     "base_uri": "https://localhost:8080/"
    },
    "id": "75df7ad7-e1ac-4889-9b3d-a3f34e9d660e",
    "outputId": "e276289e-4845-4bbe-f37e-8b92149051b3"
   },
   "outputs": [
    {
     "name": "stdout",
     "output_type": "stream",
     "text": [
      "No. of Examples : 42000\n",
      "No. of Features(Pixels) : 785\n"
     ]
    }
   ],
   "source": [
    "data = np.array(df)  # Convert the DataFrame into a NumPy array for easier manipulation\n",
    "m, n = df.shape\n",
    "print(\"No. of Examples :\", m)\n",
    "print(\"No. of Features(Pixels) :\", n)"
   ]
  },
  {
   "cell_type": "markdown",
   "id": "KCys-7U7gnhE",
   "metadata": {
    "id": "KCys-7U7gnhE"
   },
   "source": [
    "## $Data \\ \\ Modeling$"
   ]
  },
  {
   "cell_type": "code",
   "execution_count": 4,
   "id": "280038be-985a-4bae-af36-8ee459072e3f",
   "metadata": {
    "colab": {
     "base_uri": "https://localhost:8080/"
    },
    "id": "280038be-985a-4bae-af36-8ee459072e3f",
    "outputId": "89e5546a-9a5c-46ea-f852-5b4fefd570e9"
   },
   "outputs": [
    {
     "name": "stdout",
     "output_type": "stream",
     "text": [
      "No. of training examples : 33600\n",
      "X_train Shape : (784, 33600)\n",
      "Y_train Shape : (33600,)\n",
      "\n",
      "No. of testing examples : 8400\n",
      "X_test Shape : (784, 8400)\n",
      "Y_test Shape : (8400,)\n"
     ]
    }
   ],
   "source": [
    "np.random.shuffle(data)  # Shuffle the data to ensure randomness\n",
    "m_train = int(m * 0.8)  # Use 80% of the data for training\n",
    "print(\"No. of training examples :\", m_train)\n",
    "\n",
    "# Split training data and transpose for easier manipulation\n",
    "train_data = data[0:m_train].T  # Transpose train data\n",
    "X_train = train_data[1:n]  # Extract features (all rows except the first)\n",
    "X_train = X_train / 255  # Normalize feature values to [0, 1]\n",
    "Y_train = train_data[0]  # Extract labels (first row)\n",
    "print(\"X_train Shape :\", X_train.shape)\n",
    "print(\"Y_train Shape :\", Y_train.shape)\n",
    "\n",
    "print()\n",
    "\n",
    "# Prepare test data (remaining 20%)\n",
    "print(\"No. of testing examples :\", m - m_train)\n",
    "test_data = data[m_train:].T  # Transpose test data\n",
    "X_test = test_data[1:n]  # Extract test features\n",
    "X_test = X_test / 255  # Normalize test features\n",
    "Y_test = test_data[0]  # Extract test labels\n",
    "print(\"X_test Shape :\", X_test.shape)\n",
    "print(\"Y_test Shape :\", Y_test.shape)"
   ]
  },
  {
   "cell_type": "markdown",
   "id": "o87rvMyQcQAP",
   "metadata": {
    "id": "o87rvMyQcQAP"
   },
   "source": [
    "# $Weights \\ \\ \\& \\ \\ Biases$"
   ]
  },
  {
   "cell_type": "markdown",
   "id": "3KFYYiTjhYNB",
   "metadata": {
    "id": "3KFYYiTjhYNB"
   },
   "source": [
    "## $Initiate \\ \\ Weights \\ \\ \\& \\ \\ Biases$"
   ]
  },
  {
   "cell_type": "code",
   "execution_count": 5,
   "id": "cfe1cbc7-8d11-4783-9095-2d47d3e13748",
   "metadata": {
    "id": "cfe1cbc7-8d11-4783-9095-2d47d3e13748"
   },
   "outputs": [],
   "source": [
    "# Initialize Weights and Biases\n",
    "def initialize_weights_biases(layers_dims):\n",
    "    \"\"\"\n",
    "    Initializes weights and biases for each layer in the network.\n",
    "    Args:\n",
    "        layers_dims (list): List specifying the number of neurons in each layer.\n",
    "    Returns:\n",
    "        dict: Dictionary containing initialized weights and biases.\n",
    "    \"\"\"\n",
    "    np.random.seed(1)  # Seed for reproducibility\n",
    "    weights_biases = {}\n",
    "    L = len(layers_dims)  # Number of layers in the network\n",
    "\n",
    "    for l in range(1, L):\n",
    "        # Initialization for weights to maintain gradient flow\n",
    "        weights_biases['W' + str(l)] = np.random.randn(layers_dims[l], layers_dims[l-1]) / np.sqrt(layers_dims[l-1])\n",
    "        # Initialize biases as zeros\n",
    "        weights_biases['b' + str(l)] = np.zeros((layers_dims[l], 1))\n",
    "\n",
    "    return weights_biases"
   ]
  },
  {
   "cell_type": "code",
   "execution_count": 6,
   "id": "08cPpiOY5Brh",
   "metadata": {
    "cellView": "form",
    "colab": {
     "base_uri": "https://localhost:8080/",
     "height": 529
    },
    "id": "08cPpiOY5Brh",
    "jupyter": {
     "source_hidden": true
    },
    "outputId": "5fafa271-b48a-4d08-8677-240619d34e35"
   },
   "outputs": [
    {
     "data": {
      "text/latex": [
       "$\\displaystyle \\large{Initiate \\ \\ weights \\ \\ \\& \\ \\ biases \\ \\ for \\ \\ layers :\\left[ 784, \\  100, \\  30, \\  20, \\  10\\right]}$"
      ],
      "text/plain": [
       "<IPython.core.display.Math object>"
      ]
     },
     "metadata": {},
     "output_type": "display_data"
    },
    {
     "name": "stdout",
     "output_type": "stream",
     "text": [
      "\n",
      "\n"
     ]
    },
    {
     "data": {
      "text/latex": [
       "$\\displaystyle \\large{Weights \\ \\ and \\ \\ Baises \\ \\ at \\ \\ Layer \\ 1}$"
      ],
      "text/plain": [
       "<IPython.core.display.Math object>"
      ]
     },
     "metadata": {},
     "output_type": "display_data"
    },
    {
     "data": {
      "text/latex": [
       "$\\displaystyle \\Huge{[} \\Large{W^{[1]}} \\Huge{]} \\Large{_{_{\\left( 100, \\  784\\right)}}} \\ \\ \\ \\& \\ \\ \\ \\ \\ \\ \\Huge{[} \\Large{b^{[1]}} \\Huge{]} \\Large{_{_{\\left( 100, \\  1\\right)}}}$"
      ],
      "text/plain": [
       "<IPython.core.display.Math object>"
      ]
     },
     "metadata": {},
     "output_type": "display_data"
    },
    {
     "name": "stdout",
     "output_type": "stream",
     "text": [
      "\n",
      "\n"
     ]
    },
    {
     "data": {
      "text/latex": [
       "$\\displaystyle \\large{Weights \\ \\ and \\ \\ Baises \\ \\ at \\ \\ Layer \\ 2}$"
      ],
      "text/plain": [
       "<IPython.core.display.Math object>"
      ]
     },
     "metadata": {},
     "output_type": "display_data"
    },
    {
     "data": {
      "text/latex": [
       "$\\displaystyle \\Huge{[} \\Large{W^{[2]}} \\Huge{]} \\Large{_{_{\\left( 30, \\  100\\right)}}} \\ \\ \\ \\& \\ \\ \\ \\ \\ \\ \\Huge{[} \\Large{b^{[2]}} \\Huge{]} \\Large{_{_{\\left( 30, \\  1\\right)}}}$"
      ],
      "text/plain": [
       "<IPython.core.display.Math object>"
      ]
     },
     "metadata": {},
     "output_type": "display_data"
    },
    {
     "name": "stdout",
     "output_type": "stream",
     "text": [
      "\n",
      "\n"
     ]
    },
    {
     "data": {
      "text/latex": [
       "$\\displaystyle \\large{Weights \\ \\ and \\ \\ Baises \\ \\ at \\ \\ Layer \\ 3}$"
      ],
      "text/plain": [
       "<IPython.core.display.Math object>"
      ]
     },
     "metadata": {},
     "output_type": "display_data"
    },
    {
     "data": {
      "text/latex": [
       "$\\displaystyle \\Huge{[} \\Large{W^{[3]}} \\Huge{]} \\Large{_{_{\\left( 20, \\  30\\right)}}} \\ \\ \\ \\& \\ \\ \\ \\ \\ \\ \\Huge{[} \\Large{b^{[3]}} \\Huge{]} \\Large{_{_{\\left( 20, \\  1\\right)}}}$"
      ],
      "text/plain": [
       "<IPython.core.display.Math object>"
      ]
     },
     "metadata": {},
     "output_type": "display_data"
    },
    {
     "name": "stdout",
     "output_type": "stream",
     "text": [
      "\n",
      "\n"
     ]
    },
    {
     "data": {
      "text/latex": [
       "$\\displaystyle \\large{Weights \\ \\ and \\ \\ Baises \\ \\ at \\ \\ Layer \\ 4}$"
      ],
      "text/plain": [
       "<IPython.core.display.Math object>"
      ]
     },
     "metadata": {},
     "output_type": "display_data"
    },
    {
     "data": {
      "text/latex": [
       "$\\displaystyle \\Huge{[} \\Large{W^{[4]}} \\Huge{]} \\Large{_{_{\\left( 10, \\  20\\right)}}} \\ \\ \\ \\& \\ \\ \\ \\ \\ \\ \\Huge{[} \\Large{b^{[4]}} \\Huge{]} \\Large{_{_{\\left( 10, \\  1\\right)}}}$"
      ],
      "text/plain": [
       "<IPython.core.display.Math object>"
      ]
     },
     "metadata": {},
     "output_type": "display_data"
    },
    {
     "name": "stdout",
     "output_type": "stream",
     "text": [
      "\n",
      "\n"
     ]
    }
   ],
   "source": [
    "# @title $Initiate \\ \\ Weights \\ \\ \\& \\ \\ Biases$ {\"form-width\":\"20%\"}\n",
    "# Import sympy and display, Math for Latex format\n",
    "import sympy as sp\n",
    "from IPython.display import display, Math\n",
    "\n",
    "# Input layer and hidden layer sizes as a string\n",
    "Layers_dims = \"100,30,20\" # @param {\"type\":\"string\",\"placeholder\":\"Enter sizes of hidden layers\"}\n",
    "Layers_dims = [int(i) for i in Layers_dims.split(\",\")]  # Convert layer sizes to a list of integers\n",
    "Layers_dims.insert(0, 784)  # Add input layer size (784 for MNIST data)\n",
    "Layers_dims.append(10)  # Add output layer size (10 classes for MNIST)\n",
    "\n",
    "# Initialize weights and biases for the specified layer dimensions\n",
    "weights_biases_check = initialize_weights_biases(Layers_dims)\n",
    "display(Math(\"\\large{Initiate \\ \\ weights \\ \\ \\& \\ \\ biases \\ \\ for \\ \\ layers :\" + sp.latex(Layers_dims) +r\"}\"))\n",
    "print(\"\\n\")\n",
    "\n",
    "# Determine the number of layers in the network\n",
    "L = len(weights_biases_check)//2  # Each layer has a weight and bias, hence divide by 2\n",
    "for i in range(1, L+1):\n",
    "    # Display weights and biases for each layer in mathematical format\n",
    "    display(Math(\"\\large{Weights \\ \\ and \\ \\ Baises \\ \\ at \\ \\ Layer \\ \" + sp.latex(i) +r\"}\"))\n",
    "\n",
    "    # Format weights for display with shape information\n",
    "    W_check = weights_biases_check[\"W\" + str(i)]\n",
    "    expr_W_check = r\"\\Huge{[} \\Large{W^{[\" +sp.latex(i) + r\"]}} \\Huge{]} \\Large{_{_{\" + sp.latex(W_check.shape) + r\"}}}\"\n",
    "\n",
    "    # Format biases for display with shape information\n",
    "    b_check = weights_biases_check[\"b\" + str(i)]\n",
    "    expr_b_check = r\"\\Huge{[} \\Large{b^{[\" +sp.latex(i) + r\"]}} \\Huge{]} \\Large{_{_{\" + sp.latex(b_check.shape) + r\"}}}\"\n",
    "\n",
    "    # Display weights and biases in LaTeX format\n",
    "    display(Math(expr_W_check +r\" \\ \\ \\ \\& \\ \\ \\ \\ \\ \\ \" + expr_b_check))\n",
    "\n",
    "    print(\"\\n\")  # Add spacing for readability\n"
   ]
  },
  {
   "cell_type": "markdown",
   "id": "iHXdUoJ4cbVA",
   "metadata": {
    "id": "iHXdUoJ4cbVA"
   },
   "source": [
    "# $Activation \\ \\ Functions$"
   ]
  },
  {
   "cell_type": "code",
   "execution_count": 7,
   "id": "f5cf6f33-de93-4269-912b-98c125c35a4f",
   "metadata": {
    "id": "f5cf6f33-de93-4269-912b-98c125c35a4f"
   },
   "outputs": [],
   "source": [
    "# ReLU activation function\n",
    "def ReLU(Z):\n",
    "    # Applies ReLU activation: sets negative values to 0, retains positive values\n",
    "    return np.maximum(0, Z)\n",
    "\n",
    "# Softmax activation function\n",
    "def softmax(Z):\n",
    "    # Applies softmax to convert logits into probabilities\n",
    "    A = np.exp(Z) / sum(np.exp(Z))  # Normalizes exponentials of inputs\n",
    "    return A"
   ]
  },
  {
   "cell_type": "code",
   "execution_count": 8,
   "id": "aCCoSHvGCXaO",
   "metadata": {
    "cellView": "form",
    "colab": {
     "base_uri": "https://localhost:8080/",
     "height": 397
    },
    "id": "aCCoSHvGCXaO",
    "jupyter": {
     "source_hidden": true
    },
    "outputId": "fd5afd17-19de-482c-9328-e66763702ff9"
   },
   "outputs": [
    {
     "data": {
      "image/png": "[encoded data removed]",
      "text/plain": [
       "<Figure size 1440x360 with 2 Axes>"
      ]
     },
     "metadata": {},
     "output_type": "display_data"
    }
   ],
   "source": [
    "# @title $Visualize \\ \\ ReLU \\ \\ \\& \\ \\ Softmax \\ \\ Activation \\ \\ Functions$\n",
    "# Generate data\n",
    "x_plot = np.arange(-5, 5, 0.1)\n",
    "relu_y = ReLU(x_plot)\n",
    "softmax_y = softmax(x_plot)\n",
    "\n",
    "# Create subplots with increased space between plots\n",
    "fig, axes = plt.subplots(1, 2, figsize=(12, 3), dpi=120, gridspec_kw={'wspace': 0.5})  # Increase wspace\n",
    "\n",
    "# Plot ReLU function\n",
    "axes[0].plot(x_plot, relu_y, color='red', label=\"ReLU(x)\")\n",
    "axes[0].set_xlabel('x')\n",
    "axes[0].set_ylabel('ReLU(x)')\n",
    "axes[0].set_title('ReLU Activation Function')\n",
    "axes[0].grid(True)\n",
    "axes[0].legend()\n",
    "\n",
    "# Plot Softmax function\n",
    "axes[1].plot(x_plot, softmax_y, color='blue', label=\"Softmax(x)\")\n",
    "axes[1].set_xlabel('x')\n",
    "axes[1].set_ylabel('Softmax(x)')\n",
    "axes[1].set_title('Softmax Activation Function')\n",
    "axes[1].grid(True)\n",
    "axes[1].legend()\n",
    "\n",
    "# Display the plots\n",
    "plt.show()"
   ]
  },
  {
   "cell_type": "markdown",
   "id": "zok31jqOWCY7",
   "metadata": {
    "id": "zok31jqOWCY7"
   },
   "source": [
    "# $Forward \\ \\ Propogation$"
   ]
  },
  {
   "cell_type": "markdown",
   "id": "m4o0w7kwV1I8",
   "metadata": {
    "id": "m4o0w7kwV1I8"
   },
   "source": [
    "![Deep Neural Network2.png](data:image/png;base64,iVBORw0KGgoAAAANSUhEUgAABQAAAALQCAIAAAE3GHqXAAAAAXNSR0IArs4c6QAAAARnQU1BAACxjwv8YQUAAAAJcEhZcwAADsMAAA7DAcdvqGQAAP+lSURBVHhe7P0P0FbHnd+JUqkpllxys2JvbS1TdcWl7o0rlG60S1DuXtZ3s2In2MIek3mTUbQ4kSeg3VjsTogYsC0YJWImsQZyhYM0M9E74xFmLSf1ZjPyMGWvA87aIr4IIbAk0IBEFDMgY0tYRLIU2ZLGRaV0v+/zbX5uuvv06dPn7/M8v0899b6nz3OePud0//r3p7tPnwXvKxONVvCEoxU84WgFTzhawROOVvCEoxU84WgFTzhawROOVvCEoxU84WgFTzhTXcGrVq0yW9eYmZkxW0PlwoULZiuNWAXv379/wYIFV65cwfbVq1dl59zcHDa2bdvmF1A6K1asWLx4MTYuXbqEszArXD22sfGJT3xi/qBQHdSHp5CTApz3nXfewQYrWO5xyZIl+Hv06FH87RjnpHYRcQ/KnxtxYhX83nvv8YYXLlzIPeCZZ55hZd96663ckwfkhhW8d+9eZIirxz3g6pctW4adjz32GP5i5+HDh+ePHt0h60CpxFSr6GlAK3jC0QqecMoreHZ2FvYPmHQ7rFmzhmexMd8pNSgpRKeU4fqarYZIqcVFixaZraY5d+4cLuDIkSMmbYH9y5cvN4meiBcOvt21a5dJFNNbKzl+/LjZGiGBio2EBCBFFNKxczt79qxzapxXTt3seROJn9QJkC5evGi2QsQysk8j25v+8bPbHznzxcPfxef0+bfweePtn/CrBmm1WCVzxIHcYAXfe++9+MtvbdmKl2DjbN261WyNLgbB5Pr16036/fcRRiZGwCRWjnYpI/Y3W++//9Dj59due9IkqnPHrpO/8ttnTMLCLtMgRSf90btXKWoUO8gfPji46GN+do177rnHvrsgH95+zGy1Ca7tYzuvU2xBUMFOj1ukPcQquIjz3/8xi8kvrDj28Sn2w4b38JOr/xF/H5z7zmhfNb78rVe4ceDAAW4Ijop+7LHHpIPFhtePfHgZTbHrC+fwF82GyUhtZVCSl3My29+R2nrx5be5EeHSa++arWv3Q1JuZt26daJLbRFJFy//yJUrV5qtnohffHodl3qg5RlJAGPSI9ga7vzsM0ySk+d+aLauIVJZCk/hcPnyZfN1MVseft5shZC2Dq3DDRucwmyFuOGGG3bv3m0SI8TbsOVVePLM62arGKfEbPwbYYBqEtezevXq+MULSQdF8CuVslkkoY/8YYmhLSWl4f7gjT8xWyMixVqVlLM7x+z8/AtmqxhbqzVLfgUXGUK4Ofhr3+SjX3vZbDWNryH8CkipkjoEdQPgefPchQZJa+YjTKIAvykDeLZ2+YqbEwR2kSciZm8IO0/ZnrnvaW4A2dlg262Jfc1dUlJtTkGfO3edJrn7c6fwN3Lp8hVqmhsO8Yokpcd89DNPma3r2bT7WbNVzLwoLVhw6tT8jQjwXEpPasPbLK1COcC2IBHlHL8GfNt6T9amPbESdLQTfJB4Eaxdu9ZshXDcRWRlnz2oPyIcPHhQPPM4kVIOulrpfiX4+K9/22xdTyXxaqAni5M6BDsKLGo9kUgxUs0Xrs3oiPc8lLaVIJFA0+ljmZubs2+5Zkw1943vma007J4scunSJbN1jVWrViVOf0iqYCAlnhLj++3J8US2/vYfma2K2DnnVbPzq5tuuslsRfmdr1xEuE9DU2RuHKBgaMLSQSk5sZYji6hUVIRftb7ICrEKjisxUVDBgi71biLXFITH00XPBiWeIhZowZxOZCOydceuk9yoQ9DfZDPwSya4J3GmWEkpI9g3WyPkTFJMESGVY954+yc/etfM2QN2JW3cuNFsRZGRO8mT4mXX1leP/bRXxLeOTqiWaICJ090hPPHcdZarJnYR+TVaRAM9WTgZnEx4JevWrTO7PFDQTt8CgYV2dE5Qw2/YsAFnWb16NYdm8Rf+IfYAHlCEVLDvCkg7K+pJxUlLxav0AkilrmlbKOMMoieLsJvNuXR60f/kXzYc6TuliZMWFZmzP9Lfcvz4cfbI4m9p7BG0PtL+vn7yNW44lIaULVGrgnm59l8ADexYKbn5pm7Pjh2lIzA4LJ3STZhBUezggBsPqvE2RtCLqNuCnVt1qrCS7sqAoiMnZcE5kSivIR6yZ+CItc32RwKj3Q62xW2VND0+wiQsbHWEWw3ebcoYC0nvqgSOJvQVY/BiGsT344pKQOj+IkFJOToF7XRVkpSr/FDBMaUVCYqOYVBBdV10DaV9/ZELwFebN282ieux21+lriuS0nwvX74cL5yUogNJBxXhF2s8RqwksM7MIz8esEcXIvCkdVSiXZS+qq90U4m8+eabZqsMJ471SZKRd0Zwmzij03Fb62gzVIwTU/nP9MljYQ6O0bWLO6WgceqUsUvI1v33328SI1gU8ZFBwSmNRPNfSVAWLlwoNeLPQLJJqmDA5+xAkQMpytAZHkkfBnBk6Pbbb+eDaAJc4qrNJdhw/9xf/qniTezx4HnZRXP6/FuIrZ1ajDub2Th6GHJ/9epVp6DixCq46OYbuXrn0ktJOd65sGCIknLxaME333yzSYyoerWgagQhDcPRz6hRVIRTqTfeeGPizO2S6y7tqrSR/lXZ8E2yc9tVuyqDpZYucBLApBs5YJdg4+FWkHR5Kj2yPCNkEeyqDBZrsMNSKBrcrtRVWdRVROSqfBfM717goysm4bF0hElYxO9RusTTxa6IohIA2O+PKgYpr+AIkSEj3x+pf8PCcCbiBLFNQ4N3nUetCgb++B3VsnNjiX176fgFJ3s6K9PIiWz5vvBKBZ+ocepWMLBvxraRohLTO7MqUVS+nVXwWNBABfdIUV9Hx3Vsm4yhiVeTFcwmG+87bBzHRtz+D06YrRF1OrAysBWY44VwXKvj6wHj3YKJ2AK7TCFhLY0VppDYjdoBjVUwCzej571xWN99qUq0Uf/UfoTWGW21YCor3mqwd6Jx7GK97VPzj/N2Wcdyrh7VRpBmKtjxkx/40ktmqw/iD8h0Rsqwfwc01oJFhIPtJt770wZ8jLHLRuzQ46ltGqhgu8UEOzTa7ngq6kXp0vI13pPTFE3a4HiHRkvdHaW02pI41G1PDk987qEz6lYwmm9EeCXs82cwNUVcbjpoWPasoAG24yZbcBAZ/Pnqscv1H+93iChhuyUNxBz6VH14KYNaFYwKc/prgrQdORRpxc4iljqC27b7WauCU9bXIdRd0GYNyizbZco0P/xtvBFLcN/NFIBs8iuYfc7pnRgs4mY7PVKqrfGqHS/yKxiNsmqHBsu6KU8kvenwjM3WdLMNtz3vLKmCOa3Vnj8FTZtXXriTopvhDBWbovVeEVhXdcthj4MXfPz4cZ5r165dnCrEB/fiS81WfWg/BX/qBKm50HJmC64jcY5wpFxupVsqAv5g1fOCxldQLsIZSUy5vNKHg0FJLn4WK1eurK/rGDs591C6GCmPr9960CbM1miGLF+w4mC/h4SFAA+xPUVK6FE7Cy37TwWAZcuWyUTauCiUi4n/kAHCEuiT7Y+cgR1CZdufLQ8/j/34trRDBwebrWuX6FTwpk2bzJZFfR/NPi/KznlApojEKYz1ibs1pavi+pRXMEHpQ2SCwt4qzuPYEB1+IEbyEfFK/Ji8CmT/7NmzZsvi4MGDZqtzKPf+0wwomfjCU6Skgv0iiCuESthZ8UVJe/bsYZLMzs7ir+xs6tScfW3DsxfR4C2n4Mh0KfHLK7902wy38RqDlDzbKOKUPHfs2OEsgtcZKZdnL7RcRGrBdSDFOIWP+a5NzJmup6969TEXdD0pCy2TLkqwJWxNy+cQcee++u0RuSome6HJcyO0GInXfKcB/i5ZsgR/zXctsHHjxtHZ5k+EooSHCX+kqgFrHFwPrmT9+vW4GFzViRMnnOigY5qsAARUDB9Zyh1UMEqQcY60lSFUsNjFSWvBPrg35/lz3i1Ckfq3HXz0FBXcY0gDIve1ZcsWs+UR7M1ohC6EC2qKGxTtq1evohQI9zcLsoUukZOiib/yyvysse6DeBt2n/HNvAAXuXPnTtnmRht0UcEtIdq4aEGPXvBrq1+/r8kKblUSfaCipUEMBxSCeFW8vMmpYNGK3YAKhk+Hdjy0Frx48WK7KCangjsm6GQJsPeXLl1CcVdajqM+RSqaBgXh01133YVj0nsqatJ6BeNmAJUVbjKyJnFTcKVsnJHBMXf2Dsvhl0dgw+xtnzFuwUoKWsETjlbwhKMVPOFoBU84WsETjlbwhKMVPOFoBU84WsETjlbwhKMVPOFoBU84WsETjlbwhKMVPOFoBU84WsETjlbwhDPtFSyv7JtUwhW8bNkyeZhiwehBAWxcuHCBT78fPXq00uvzgnzwgx9EhosXL2ZW2MaJ7Gw5M+3q6DEIbDT1cAdyY4Zg27ZtUsEymZknwjHtPU4SRyZ745IWLlyIwuczGfZ+Xhs2rlwJvL7PprCCuYH7RL44BzaQHYsD1XDLLbfwgDogw507dyI3PrJ2+vRp7ge33norN/CVlDj3dECX5yqlppwN6E6UNtAKnnC0giec8gqGQSIm3QJ8X72DPDyo1KFCtTW+LsmOHTvirycnqGyz1TTIObgaIGSrvZMmsnr16pUrV5qEx3vvvZd4hbGD/BM0eNt2yQYfzW41SpFbw6n9kM8Ojp2FBTvAeXzLf3YScY0sgVZaI+UVhmDGbL3//qFDh7i4HJebO33+rdIlC4PYl+VfYvCJMUi02WoOBPQpj/23sTpYEZF1r1iplHu71uN1XF7BNkeOHHnj7Z+kLOMf4bcO/rFzTf6DxRBSNCO7bW3YsMFehdCGcmYvcWgvXOh8/tTP/HSVUXDXXXeZLQune+vNN9/8yKfbXYYU/OCNP/nRu6ZXx0a6NfKIVbCfr3P6Sm/K4fr/KH0uFR8xMEWger5+8jXkYNIVmbnvaeTgeBLSPRQh3kRqgkviRvbLGxprwaI9nHqVSyxCDnCORB2nPJ3t3EDp6Xy4Rq28oyP4Zv4inLM7Kwpnvy5oy8PPm6333z957odm6xrxZ9ttSoWvvIKRBTHpAoLlbr/zjEUTfEEJvVaHYDXwLPa57NcWOdgvAPFf3ItT7N692yRC4ACzlQCsg9kqpqpo4gJgmEzievDVuXPzirCUCvdgI/XkLOBc9B4WeXtSUzjLgjtlV7Uom8W5tn7fJZxZwTb2uwvlZny1Axp5L2ik8qD3gufti37ljJRXMCwlFMLFixdN+hr2a6fov5iERfodwj/HWYTNmzebL9Jo4y0ZRfg3JYY5Lnz467ulbb+Kt0ILvuGGG8zW9dD9i9wbvwq63KhLs1XA1hEmcQ37XEXnhdGNmGeCIBgXYL/CAczOzmJnPPZ1XqlX6TWnkYKy6aIny8/C3oPic946Fjc2TpeInVXwxQl2MMql3x3s+nN8KEZiJFigiaUT6V0Jvj3iq8fCiyMlViqptBBR6Y0k3afAruPI5fIOfUNoN1/UtP2uGvsSsQ2P2u47E+QwRib+NUjgEby8Sq/Um5mZsftY7NA55W1+9gUk2g4oat6X35OFSN0pECgeu2soXsfVKhiuuVN8fmmWOo34iXNNN910k9myWL9+vb3/4MGDwZqzwQGlxzjyZLZGoFL379/vd02jgpktu8y4E9R5y07RS7NTSqYSsQr2h494emjmonIM7peuTX7LvxkL0MHU2UbBPxeaS+Rt42xMfh+CU6YAe7iaGvEPEIrCX4aFfvAdpGochRa8ePFik4heHoh9VwqjYSnoyOv8ghUfvzLBPyyYm+D3+Yn25kbieUmRawmeeK5kwluchx4/b7ZG2NLQaU8Wx/WcjPxCLOq0+4VfLRdPZA5khF9CJl+F2MIOSx+vaRDRosjfbBVQeoCQoqsf/drL3PjKk8nv0+ixJwvY7gML2nFAbFeWOF53UwS7yUrr3kb6Sp2QKZHSeEwkoI7ZziO/gouAFZQSZyxRc3gxjlSkv2FTqb4rQbUftP3BkzpS3uAbs4PUqmDbivBmJOR37g23UWlsMQ4z9+UG+30/oMHzJmLfO2xZMFJiNVd1rzIor+CirkoSdxRFI+E+nSp3qNpVabcY5BxX/m0oRnHcSOlbM/0AOl4gTVGhBdv+ZHDUr6gcZYzBvyXUpdkqoLSrMm7/UA08e7A0cfaivqpDhw4VXZstTM7wSZGnGalLcb4ccHZcg0l4rFu3LnFUO1a+/h1yDy9XNGRp+7APkCEKJ3NnlgyRqWV2V6WUr11qkRIE/NYuyqLK8wl2CDelWp1IiaRfGyidqlael/12pwMHDqCwIoPbKS7D7x95JfJabc64K5otREWX2IEA7NYmHcWlJbht2zb/za1NDURGZBH3Fbw2v6vSbI3wg0mb8gomfNtUYuwVB3cYvI3423BLX3cVb8RBnMvgBfjTVME/ffwFaGNUALsqnYGTCM5AU1zbQcfEawv4RReX19h3RV2VQaR8bfPsF7qo6IyuymC8mxFmONYL1sFRGMGZeBkC5JjkSDeqkGJZT5w4EZTCILEKbhxHtcZFT7APiytnuw7i9ZF4auC7eI3j3FTK0x4kPqeMlN9nsKsyDkPP0shBQOYgpasySMoQXhCcIlJG+NZsXU/6/LIipzqRohLYsWNH0bX5VKi2FKTdJI6DNoX0+/MC/CkWwbgum9J5NrZwt9qRV0rDFSw35o9GdIbv7maYz6aI25QOaLiCidPL0w3ivjnV2WrtpmSebqraoIEKFksjipFPl/DGupzHijM6cUjpOE972PXa42U004KLuj466EwPwobVZdMJDv537IgEaUxF/9JvzAd5orJSRuMbwanFbk6ajrTdogmXbdOkDbYLFxYxvbunJrQCjnLuuKYjzpQ48M168ok0U8HOtLruXce2h80rEXlCp3RgpnEaa8Ey0m43HbrTflTaOC++/LZ9Xm533Ih9goNFHdNABftTJjr2rSTmRo12H39H5pI6nlcvAtdMC/Z775y+nm56c6CoO7bEwV7SiB7m9XSg0oS6FQx7U3S5EgG3WsqSuWyI49q9wQOlriWvs9UysWnMBgdvzI5hIq5HfRyjYCvqzopymNSqYPj9LL6+OjRIpLOsvb6OfqOydBpowYn3hsP8qfB1sKfjRIA30Hjp0+cQ6akUFsqvumkV+RXM2rKf858qGnHX4RW27X7mVzCaRYYCTGx2pVTq+cPBzTZituBG8mx7HCKzgrN7jhrxbDMEq+bkCqEpAe2M8gqW2SH2NJE6kVxQ8Hfv3o38HY4cOWK+boLgeXmiNWvWzM7O4nTyFJr5+nrYmdxlR2z9hZZLKhjZma0RTH7817/NZB52ATn5F2E/VIF6Sp8VZWNPakw8r3MY3KJmVb2NbdQbXGg56T4bxy+m4Hqb9g1Ia85W8nBneF57ot2WLVv8KaivvvqqfWrO8G2vagWanuAS1jYpK+QKsQpet26dP0P45p/bfHq0tGtwUVfsxFc4IO4c4k7kNj7wgQ9woxQUOk5hElkgZLJrjtvOhHvudB4mqHnedPzLc/CXEIk/vRLIQghKCrSH2aqHsxDVK68E+rnslSjAzR/9NUgPP5AkfrY8/LyIV8rn//7fmPWDIbuiNu655x5u2OtPyc4uCVaqA5fYkdopWgWAlGfXGcF7k50ZT0IU4evAYF32UsEgsv5ZBiUV7DzBmDKVvhIpAgsSD0tn48aNKWv1N37eRFDHGQstB0m6AUQReYtXpMPHzB3iyqcRoOjMySxK3ZzOkLDNptp61+b/mOO7HkNgCFc1IRWsFNFkBVd6rLER4AbzxZaDasHbtm3jQnnT2IJpRUyiZT42wiSGAWKzKyNMun26KGs0MlTq+vXrTbp9cDpEtDhjsIOsL9CgUcFUcmji3RTI2Ntgrr+LGq3UBd8e7EOWVYE7U1dFNHN66RmnW79kyZLObsxfYHkI4Ko6dkeKaLKCoXbYjLqv4N4bymBpuAULwRJvZJGecYRvrGebDq5n3x4tCv6pU6fm5uY4HtV2Rxg5fvw4BGvnzp0mPRhsf4qOtEm0j2q2CUcreMLRCp5wtIInHK3gCUcreMLRCp5wtIIVZYzRBqwoY4w2YEUZY7QBK8oYow1YUcYYbcCKMsZoA1aUMUYbsKKMMdqAFWWM0QasKGOMNmBFGWO0ASvKGFOtAS9btsxsFcAngEHHjzanw+dxnaVNZY2j+mstLFiwYFCrvQDerFN3cqdLlizhhk+lG+GyqBMMV3x1VjPgyl0+nTWEzAbMxTBYwVxrBRuQCee6sYcbOADItz0iDZgXRrFDA2ZN4ILlAXweYMs9bxMcPXp027Zt2BCptWV94A2Yd4E75S34DViWssGNsDR4R9/97vybv6UQ5IfDXPqmcVjXvH0IDMWDYsPyQQtnmfgNAb8VccK3o2+awVRGHumS2s0yX50xBE2kKKBWA1YUpV+0ASvKGKMNWFHGmLoNGDG9/7qXG264odlX/bQKbgHE3xbmc+jQIf5w8+bNZtc4c+TIkeBrbshk3GPjoNBMAY1Ys2bNrl27sJPs27cPSew0X49ejnP5coWXIKeQ34BxQWarAOdNdYOi9OIzYAMwiQEzL0q1r3Pr1q3IBH9NejrALdtvva0Jcqv/Oq7MinTWer5w4UKwn7m+oDRO8JKwc9WqVXzjGf4WvfqGv7169So2OCoQJHiK3im6Ktwv667orm2Cdz07Ozuc98K1ARqt8z5Hh9Ki27ZtGwr59ttvd15rS2Dq4vlHyBQ1Wxo4nMg9fPeTzdptT977O2e3P3LGpFvg9Pm35COvmrXfNosPXyP7f/7PA68lXrZsGYeFZHDIro97773XbF27x7179+7cufOxxx7jziCNe0p1WLFihdm6npSpF7hl3nUpiYelwKrkm7G5jY0XX37b3zn3je+hormTlY6NL3/rFWzwnfKyUzYARcLeiOz8c385HD7gfiMD4HZDTRz4zZs+kFnoRTLhwEpFy8HfTXueHe3r7r3ZAOdCRfLt/o/84bz1iLyk8667zFui9+/fz408eNeQMJwaFxB/7Xmr4Oz4xJuWTGWJ+BRUbZylUGRtDh48aLZGPPFcd2+gaIpdXzjnCOcbb/8k5a2uKGE4MpEWCCNHx82kPaDxL168aBJVyGzAIC4WwO75+OhnnuKGU0APfOkl0XaNgNyQp0lY52XrJW+++WbpxWfAsNAkLO7+3CluQKad22+cmfuehlGSbW4AXFiD70r3sW9cyhzIxRBYUfx1dvbCg3Pf8esCzdVseYLahsAIdTKve1nBc69bt86P9e/YddJsFRvhDPlGoQd/Ze+EZjVbHufOncMtgIy31EM344eJ7932LxJ7Lr32rknkcvLcD/2cnzzzutnywAVv3LjRJGqD3Iq6KsVfJcE6IvR1tzz8PJONA62Bs1N3BLnzs8+YrQTmZaWJxtxYPuZ/J4gtItCCZisEDOnOz79gEteD+oh4aM6vIq23e4pkBbdjG644uP0fvPEnJmFhexmJbNiwgZIEVq9ezVEQ891omARgpzlixKlT11ViVeAXMGRNIb1MhLhs2ER0SiXg2sDZNKVTAMrQHN00nTZg4DcnKOBSQ/TVY5dLixuhJnW5jaMyBgKaXzwwxs3aZQJNF7+RpmSxDYoUKAqhkukjp8+/JTeLDQgGtxOBHS6yCiBdswyHrhswKDIUTjCM6ikqUMc4F8nBMFuvjR2m2uDGRUzjxnnITVeItBlSeheIvx792ssm4eF3PjnAP483zrEoxiB1GzDcAyfcfe+997Az/ojZl7/1itmyQHtDy6xUlDw4+JP01ith8KJFi2wHMoJ4lY1MVuH12/1PEXAwjfNDj5/nngahw7zmGtjevXt3l6/uZitt5NaQVSVZygDFRTEgLLH5qGPE0GdiQXbjrRRXbLZCPHnmdThRRUVcWvR2l5gNlDE+Rd8KuDZ/sicHtEF84G7x4sU7d+70J64gz+PHj5tEAk6ndKmZIifP/VCMyddPvpYRJXK+Sp0ZRZBO5ABMOhk/Oi1ysOsQMbYoMbvMq3rgNcvNAbn1NhML2sVsjWBdQjKYFPw6RvFJLZYOkPoyjbrhCH6EeHd3UOzeeecdNEtpwMHpMiD4W4eLFy9GzDKuJ9j/JOAGi/pgivxtIZ45Lj6iX5YtWxYZBwasXBSUPw6MnOM9W2xR0s+coXQax+4ugRzGW3LpTCyAYiktwKIZbz3PxDp69OjMzIxM63GkHG5hpMJ8geMkG/vzr5957fgLb3x69iy2OZ8m8vnwp44hlg5+fvH+E//pz/4/zWksUKxyzaiDJUuWBGsCLZyH4U7Pnj3rV4Ngj7giKMgLxW3V46uhUmzjDEeuyFfCV/jLVUqcipMb5DH89urVq0U3jgOkVUTGbEjESMZpZLQpxUWXe3GKxaHBAux0Jlb8rgSZsAWrWCSF9uh5EPlhfNgJBDWF/BzKAobiwIEDTEaIq9LSGYgoHJz0t778x6KDzBfVyWi6NohTYLeX3PgXTboYfw6sAy0w/hYd6UwkQmVlDGulwDi5ZsnEYetFtIK/ieP8NQtwiDOxoPXt6XW20r3zs8/AWppEsT4OVlJRzdn7nWMcpxRV0tLTjnaZiK2ANFSVNuga2zexy6oUtBwJLCWTRIWbzdatW2dnZ01iZP/N1vWgHJy6tl3ZOEVliDgrMnHFJphDon/UagHWybzWZcGgFZ27aL8f1sJA+SVbKrLOT5AsquCi/QTXCTKmYRFER1V/joYdcSXi8lRk0+Dg+G3G90fgpOFqTaIJcOORDEs9JhIfeqgUMBflQ0WGb4v6F2ziXTPz4tJEGTaWj/nfBPFOaSFSW04nYZwvf+uVdZ8+ho3ITyDZZqs/4tcgF59+4zwSfyPRR0puMg0LkY7zKILPjh07eDCoNBkrvQtAjPOnHjnz9ItvcDsP3H56eQpFjkOc6ZqJRXxFGFS0qHvH5mx/5IyzB/Vkj6zYFHnm3RMXJulexq3FJyfZ+URMU4qdGSDxpo6qN1seKJaifqnEDojEMbwB0k8DJuyr9IXbaXiQVFQDHBv/SGePON6RWTt94U8XxW3GWxruruhRDcFRXqU9ggPEt3t2/O8w943vsUBYnpFJuPFymxj6bMDQqUWljP1x+4kDIr81W8ODU9DiwxhQVb51RVOP3xcKcwjxQgopFcRjUA4Rw1tESp9WnaGBQVG3AcO/rzqVEgJq9z2K4+TUa7wvwT4YdSz9JVLfKVJCupxKiasKXhh8h0qSikwcMWW26Xdtc/nyZXvGX4QGYznnUvnQn0k0B827My5tn6jOSe1CgySgcMBoGuU82HZKNWUIsyr5DThjKqUT4KX4h2breiK/gvdlf1s0ewnX1vhIEvKMTHWyr4rqBpqrkUfbnVsG8UCa3VGNCBNUnl/LDsFJHTLQFRcAUDr/TEjpguLpghFv6ZWwyz1vtNYHzae06FLIzMKZSnn16tXg/GG5RCkdlHKRpydr7tj4tRIs6KJOCBwMNWFnEiy1bdu2YT+nyMSLFWoVB3PyVnDGpT+V0h5NwfVI2NZIH5ufCYqXfQFo2HYwCeUSmXlbOoLAeaao5cR5pnbDq9+pVjonpLSdx9un7c7AbDjiFBcJcuLa24+KmJubYxk6M7EgMHVmRJdfWZDILTlfffTepzbvPQ2pgosY/KBkO/v8hY+GPUBcMwt3dnb2lltu4U6BJc7q4YvCwMKFC/fs2cNtB06lhEywdeG8o90BIj3JKQRVngPODoNcVF/cz5tyHs+Qhrps2bKZmRmWD4g86bF69WrebKQXqmMQ6zLclQ0ABUcdJxv2NsUSGyg33E5kARM0WvvthEUNmMdwJhYITqWMNKg4uT9LOx+nUkYk2CcY+lIBB/NJ6XCWdpI4lRJIcfuUTppD4aTfcnYbTj8FjiytL7be+LJs+HvzzTczGWTDhg1FUU86RQ5akMQ5WBmwDYNEUY+bX8AlE/fu3RtcMrHrBgxKTwmvzJ4eUKkZp3jOKS5osIK7mUoJ4v1wQvp0QkHsRhxbO8D5b+muiXPvNcP7yJgwQ5K4U539lGJQSnFr8QdFucbw4cOHmQzClT2BY4GReWn8EiG/AYOMqZSV7IbZurZtV2q8n4akWANcJ2hvKmViGwbNPqAf6dFBM8Y1N7JI5bp165BVXP7quNNFkzGhv4qC3kTV5pBo9tmrnP3on0CxMYl6NJMLSVckiV2L1KN2S2ZBl2qB9K7LbigSRIfS+4rPVRLStQaBcYY8pdDGmhJNkeG9Q7kEF4epxOzsLBtkEVBzlSafVqLJBlyVlPlrkGnHVb7tU/Pzn4sobQM9khLuRjzPlFtLcUzGF4lLbfK6uIcsJ5XoswGTSD+ElDINr8wTDJb+uExnTREd3+0sdbDHTiIrzYVi04Uq9zs+UFbpXvrEtFuh/wYMfvTuVb8jxynrSBK/TenQGhSlkpQuaonx22CpusjGpdfeZXU73u8D1hs5HL567HJk1vRYM4gGTOwYJthcnZn63NnGqmidEfca0DLjB5SuXDNepOssFEui1R137VbKgBowQd04Fel0yUg3Iw5Lr/IhU9T7Er+7+iOug4V9kMGBopSId2IEI4XBNWD29LAKi8Iku3omo6p8e2J7Fk7nzdD62BtHuuISu4glgLIdlozR9XFkWA3Y7qcN6lHp8bInYE2Muo1MTuA9TsydVuKps2/E+zjwLaLcye6BL2JADdhuvXboIlLrG+R4v/Q48uDcd4IG9u7PnZpgn5n4N+5Uqz8M7v8kZaxukhhKA7ZbrO/8oJ6KmqhU2AS0YfsWZNvxriuNvowRjrccr83SunYa9gS36kE0YGm9fszjVFVwKpLU1ljXU3CWwtpfCUhqqfiONb5RFfyhoEpFUX/S1QDpvwFLm3QqIzKC4s93lRhpYoYN7NLw1VZQkY0j6XMw4qQ8WTmR9NyARRBtiUycmOHXPYfyx0u4/Y6rIqtS/7H4QdGGH3Hy3A+LSsk+3VjPHXDoswEHyzEyn8bHn7XPehqXGnKEuPTefdU2pl2v4gznPTxUStHsLinwiWnDvTVglqCz3IzZqohjxPgkXfx50SFgewpolilOB3GEPrvc+qXqI1N5BAtnkvq0+mnAbLdSuI0UqGOLIB9D7rSwm2viw4YO9v120xjqQ8PbyxSLIjXXVBDeFz00YNpGSm3jY5t2PWG7vSVXsrEfGCySqnTsHCIP8fdO/TttimB31/ja5K4bsO3ZtjekKeKC2hqUdZILa1agW8q2WWzPv/d5jrActnLHtY3p40pNNuBdo5Ws8dekPeDTMvCLjPU1iEjzQNwkDnG11G0D6FRX6gXshvgzVf1i90SM41y3ug34zTffXFCwus+iRYvslUTQetGiujcRFOv/6cHnmAyyb98+rn5SdblzeWdf6ZopDHqdJyLbgJF/vEuM7yXMW4744sWLvOXSsoKZHaNOcpHMC68Eln11YAmsXr3apNM4dOgQf7h582azqza1GjAuxWwVw2Pgrty1J9aE2gYht6M7bhhhEs2B+3XWuGNoGpxo1RJovWg8jpuD9pZSXxn42UpRf/XYQBfQisCL9y1NG6XHBQZNIov8H5e+UVb4e7+2P32MpFX+1dM/wN94kc3MzJSu8UuWLFlitjxgkBlKQA58UegGKA7pmylaUFaWay9634IDbqqocOxS7euWm+XOz36bchsUGOzkGvelLZCLPc7NzeHId0Zwv01pJkVk/gwg3MXfZcuWyQXt3LmTAnHixImrV6/K2uhtGLo4L7789unRSvwIOPGB9cNn055n2Zz819sE19p2YG3xpSrcEwd3/aEByPHf/IffDl6wNF0fNFH8BFAHQU8Fc/D50LZjKF72OLCosQEvuvGdiPNRoYxHWLlFOxFQQADYZ0ZhsDcA5cTecHb+zH/yZ7jTBmLPdZ5nZ2e5gSLi6tAC2wW1/JUrV2RdaDYcn7zlPvMbMLBfAiTmSCqbG5HF/vuiSByliH/3d39XXqESAbf29NNPBxs/lO6gbrzolm+66Sb8PToCtxxZGJhfQRDxF43fP7LoFBPA0qVLzVYN+GYGwXn1R3bp1S30+InrvLWpbXDl69atM4nmQLZV+zY6o402dvz48TayHRqRzto6bN26tWa2zVwTLsLWKAiPsaeRtf+7gX0JIGKCghw5coQ/RE2YXeMAbpOXndEdKmVl0tOHvFA644UeMOb4YSMmnUxvNSjKBDA2DZgdKtBe+Mt4m9vjSNEbK5ctW8YN6QmPzIqZEopqmWXFN3cmjhpMJANtA6tWrWJfqElPYgPmXdi9wezbxH1pAxZYy3YTZZmgrI4ePYpvkdQGPDhYbfEmGv92yLAB85W8keEcoA2YtSwDBOwGV4RxbQPAbsBwpewk6ltG29hO3nnnHTQG6mwk+2386b3fbOpyzWztcvH2Xdgvzh+vHrU4VWvKHtpkcZ04cQJ/WT7cA2GgVAgyCDp29CnHjeCMVCXW97lzY7wgA+4xOJuHXeizs7NMKhFQhvZQP8XGbvzjwrAasD8/nj4kzem4h76C04nFhoc2Ob52oD1Y3WIwWVaO/Txy5IjZmj4G2oAl9uMGa3HCGjCk8OzZs3NzcxRK3NcE3FrjsEzY5zwzM8OyctAGPBTYgNmpWCTNEyDlbMCI2x1LoviwuhEXfOITn+AeH23AQ6H0EVPAGt2xY8f+/ftXrFhht2e0B9HQNN3DnMtZ2olFieREH+l3gQPCPlhp9kePHuXGBIP6jUsFDrAbsPhuHCIW8bDlZJIY17tK7LsqeoxuXICeMluje7S7moVx7Hppg5S+d/9BtHFnMtWSokwJ2oAVZYzRBqwoY4w2YEUZY7QBK8oYow1YUcYYbcCKMsZoA1aUMUYbsKKMMdqAFWWM0QasKGOMNmBFGWO0ASvKGKMNWFHGGG3AijLGaANWlDFGG7CijDHagBVljNEGrChjjDZgRRljtAEryhijDVhRxhhtwIoyxmgDVpQxRhuwoowx2oAVZYzRBqwoY4w2YEUZY7QBK8oYow1YUcYYbcCKMsZoA54iXn31VW5cuHCBG+Cdd94xW9djH6NkMzMzY7baoVoD5hviI/C16KDt685j2bJl+Ctv8SdLlizhRkRk5ZhSPvnJT5qtYSA3a9dd4w04vXzGFEoOsIvx6tWrZsujs4ZQuQGzqnBZqGDUvbwan/VtX/fRo0e5sX79em7wt3Nzc33VN6rhgx/84C233IJtuULeAm6NlbRq1SpWjP3Wf7lg7JRvecvckGbAPIcDGjCuEEjdAV75rl278FcqUSoIJSDHyAa+3bZtm73HFuXFixebrQmFRQRQDtwWOWFpUMgl6TdgbOzfvx8bkH+nwOvwUxlNQYQAV88LdSrVvm5+JTcA5Nv6152HbYFxYSx0XIxdEydOnMBfwCtny+QFnz17lhv4CtXg1BkZYAPmht+AcQv4a2thHmA3YJQGN1B03O8jP59gpOhQXFJKfgPGt0zaDUEMGP5+97vfxV+nwOtQqwHfdtttkGkksfP111/Hxs6dO9kAeLm4UNnAX9mof915OA0Yf3E9LF9ssD4OHz7M0ucBdgPGMcxBmi72nD59mnUGkAP2ACaVaUBqP4XGZSM/u0rXLWZtMhD9qij9orZCUcYYbcCKMsZoA1aUMUYbsKKMMdqAFWWM0QasKGNMAw2YI5/C7Oys+WLc2LVrl7mHKGvWrDl37pz5jaL0Sq0GvHHjRgi0SVyDc/dMYvBs3bp11CoXHDx40OxKY926dfyhSY85O3bs4O34LF++/NChQ+Y4xWJmNK2SLFq0CAYAHLkGttlABOwxv2yOfPnDxR04cMAkPHC5ZmuosExNogYQbuSD0jDpMWHFihUsATRdsysKJHLp0qX8CbbN3unjzTffZCFU1fhEFKVJ1yY/I6gcs1VAg1fZLDfccANk0SSaY7D3a7Nv3z5c5+bNm006l3kZHIf7bRDEhrjlpqKn3bt3IzeZqZ5NZh2kVB7nEg+N+JXjmuNTROfm5ngA50g7QDVEvJJ+uXz5cvDecTtLliwpveuzZ8/ilp27ZhxhEhMNbhO21yQstm3bxin0a9eu5Z4igo+CsBmbRBaZP3bOCrkPCnQbhq4OwcLCTu7nowhFokxlyWfB8Dd4vwBt2GwNCVRE3FUubcDytA332LD0JpjIDaIBo2Ruv/320gZcJDCgTgFm/tIJx3kFly5d8vdvf+SMfL54+LvyOX3+LfmYo9sn2LribowozkgFOAxNoGEnT506ZRLXOHHihP1IRlED5jFowEwWFcLQbrlBim6NJSaP0xY9a8lngPm8tDzE5lMakBaRWe4XL140W++//4lPfAJtgM8b+Q147bYn8THpFvjBG38iiuDkuR/aOsLWHbwM+7IFuA8s/b179+7cufOxxx7jfhs+TnjlyhX6S6AlhdoGweuJXyQLhC5JoubKFkEfUesvvvw2Nn5y9T8W7WRFY2PuG9/Dxo/ena8d2Skb9jblgTtlu2jn//xPTm/YsIH7HaDU7CUNgkD9sQGXki0zmT/bt2+f2boeJ+7FZaHZfPQzT2EbG0+emX9muGPeePsnbL2P/OGFFStWmL0ebJlsqBGRleciIz4n7vrD2489OPcdk06A0skPRY0fChM/KEbeSNVPaadx6ePZd9111z333IONiDiyrk1izNn5+RdYdHfsOuk7Lzb+qhVFUGCKjuy6ASeej1oZTejuz5lSeOBLL0EWud02Dz1+/s7PPoMN1MSuL8x3HmYXkwBR5kaRKFNHsPqhsPCX+7tny8PP/8Y/e+n8938cGX6spLZwQFxtsZbhB+EvRH+0e2ygov/qscvY/vK3XsHfr598DX/jMsNOrBS5wjEw2uPUgMVKU4gf/drLTAJ4Qa1KNjJ/4jnj3lCSYH6ZzC6pFBBt2jUk99jqzfrgdIgs0JDoZ8ZvmSHD4cOHmQxSGjjATNnd73brZXvG9TA5NGBRnNphEu2ZyaVLlwb7nxsEYhMM7lLIl+Y1a9aYrQJsuYEdwF+0W4qU0LhkOxnSj6X5FXBhKT5PVZCtPUjIK5m572kmAfawHFoCjURu379ls9UOdv4SKInbJbD2pW30CAoKfrJJXMMWHobTBHfX3ly0lStXFoXZKeTXK3zFiNpwJIZhMEAV+kKMgqOezgaej5yC4ESIJ7ntSDPBFUZC4nQ4dTQyYAZP3myNgGdbKTxOARnarcXWGoJTI00B4XO6r2zRL2qrNMh+E2oVeGGQNPvybOa+8T2zdU3R2MC/aLwAOanLJHKp9Xs0gGAbCF6W3YPF/kAHODMZNQpvzc9NvEcgznMQXD+uNqMHlfNywPHjx80uD9Ho0FmODwkP39E4efi6zzYjDqtXr8YFm0RtOCvQJK7H0dHbHzkD58skCig9IBsUyKY9z5pECKfEIuoVjhtuWQbVsuEc6bzJmA4NVCcuxQYugfnieuy4CPj+FUkPj3GYrykBFIHZGhE0vz4wpMuXLzf3UEakWyiCreOFxJt1wI0Hf5iSG1VP9qiPaC6TLiDvvgD7HeuDC8gY9UiUFpYASJ8WLuUWtHnZNKaPU2DnnhA3QUUSAMc4IhyO9xg3vx3gXGqRdOKwS6+9axJRoAWCHjKIFEsQROwUKQKtBHG0JRLb2LlmzRpzRBN9B+l+B26HfcLpIHPHThSBuKZq5kXAkNKPKwIFaJdqs3TagH2rWypzOEBcRESPjnV18HNLVKhdErnleHiMdhu04aTIo+mRomgTBF2nCHE5wbcc8qlJZwOcDdJpAwa+SYzXDcExv/LbJYXr59O7+SX+hcVv2Q+PcXxc4h3XZjhAJZktj3ghFIFfsVrtLvd0Ij/Ju57e6boBB01iUdlxbN0kouFxcP8AjZKQIi44pvQwyLHTPTZeyHB9IigQaiuO36aPSDXe8z8Qum7AINiGndAFxR3pzHDEOthQB2WUgu0wol827XlWBA6/LQqPm4ri2iauSVPacLAABXwbj5XigXdVf35QNNCA+aApSelhK/JsWQeojEStjCMRHgdHpEC2+e1ycRlEbo704KaCFtUPj4fsX2SA+NMpiifPvF41CHro8fNOU3eSQQbYUZJO3QYMsXYmmnEwxiQKCAofyrpSVwTcJ5gmlL4/elzJ/EoXYquLyxRJ0o/evXr6/FuJER3Kh8YkvS83HSji2dlZdjsT9kubr7sC5dCISUQ+O3+33YkiHBYmi8ZuTSzOQDIJj8hXwG5g2LbFMTGoc5q6M7bkOORBBrK4DGI5qLNKRgB3mtLaS7EHP3bv3m32ely8eNGW1OwlR+LXLOMLUMrxeRelQCfaI20QsKJTZ5xoctbEKr2I+FQBtDGUcpEDHDfF8b7N0uH7osVlFi9evHPnzshT16DoAe6UxWUcMULSnkSVaFTtTLCd0YM1Lz71phPRyYK5Nulc4PFmXH8diobQU+BMjAlZEytlrRxcn9nygOT9m9P/3iQKKJpWWSroUA3IXyZCO8QXlyl9MlYacHAJlcgtC/AP7UZoU7RfCMofDLgz3boIXF7D04AWLCh6MrwIGNj0CbOlBWKDckicDAOg5SuFIbjTNp5JGsSaWBcuXLhy5QpCJpO2cBZbhcGxq6S0BH15La1R2/zCL3Vc0+DiMjC50izjwJOMN2AQqQ+4G6XXHzkgLvcSHgeBG1x0YTTF74zgniKWLVvmPw9c5M74cIJ0xvTG0pA4MmOkCLucIw4did8gCjCyYJgNDgg+UJ1YgEEyf+mEjkVXIPsRbPiTqFKerbMLulT6gS/EdnhcdJ3BosfBhEnUU9G6Rw5+7ICrSu9X89UWJDh9vNQvJZgOOL0m4YH7gmKCCi6VP1D0QL+UkkNTHbyR7ugUqUgk6M8X3ZpAwThx4kS8AK9evXrp0qWiAsyeml5ycUXYdgyXVWTBcPMo30ic45Q+Gpv/wTH4+5FPP4W/MGKRz/+y7/R2aw0a54N8joT6VOfb6KiSUAdcPJX7bWB88JeHoQ7gaRfVBOBhxBcvf4+PPWIENZdnYaTY7euxYbzAbyFe9o0fPXqUG9JVyfWfirICfKgVdYS/zgNSPimF4ONosbzHHhILk1Xw4stvRx7WbbAAIwUbJ/NnRV2R9McEXBZKOVJbiTNp1m5Pqu8iHxLuJQJjBIql/fj0hW666SYmfSJfCX/6z/4sRC1PRgW0WxROzdmgDI+DlSUSFkS+hVJLlC0chlv+m//o29im5uV+e9sm3k9ZSnAkMgUoerNVBsofElW0JlazBdh1A060+HJZnxrZQG47lAo6azoS4JGgQ47aYk3zLPFi4spPiRRZYNT31n/8hzgdBTcovoltG7qv0oC2D06EcosPeFDn4m9cIkH8AKdsE+8xA+QM/VhTtUVwYr3SptVIAXbdgFPOB+dB+tw56Q+i7NdrpIvC8R7jStdp4agGZ+oSyS6pRJg/bxN/0yfrOkhB5Q2K2uUcv2VIHg5YvHhxqfzF81m9ejU3nCpGsqjjCm6R2UomI5oQ4mNIzrxUuYvSNbHqF2APa2LBzhS5FoJzuVIi/jiKkyT2InhCkf9jm1+0c+cwp+bigpiNs7iMDO3AkPr3ErxlIaV8irAP5jYif4gI97SEU6RFqtZXqYm3BtWf7cGRYEcMnLuUkSfc3QSuiRVvBsuXL/cHqZ3CihR9pH8i2KnDrNBQ/d7aoDB1sLiM49LHh3lsgsWSIqbOMbaTSSthEk2TkXPcGLZNvDCD307mmlhFpy96x5c/kgRQXpB1u9Ti5Qtgw+3AEm4qMzHp64k4XZxbk92DL4ukmLRH8EZkZ/DbiOYqKhbfoyF+VzAuNXG+dyLIsGgFJZDSSnFMJMrAt5EIywFFV5QVyyfleuJhGqeUMuitw4DWxNq8ebPcEvx4NF0k+VWQIilEpEe/t+gAH/qoOD7yk8Tc2ltcpmj8Fhfmd24Fg3YbR7zgFhbdYOTGef11JvGx0oNTd/Kge2z3S6fPqXJwGjyK9BfuK1x1MBuWIbCFJI6o+4Ynw5n/HVKkUyFz+KT32fDgiP6u2YXbCPFrWLvtGGUXbkLisoyUcjT+iEOe0nNm6yw0yHh7hpjC0vLgRM0lRHyKIiLaJwUUJnKoWvvZJ52iNbFIUY2Kh+N41D72t5EjB/K8e6lk/OGTr6ZLD+Tyb/6jb8dbe9wPLGL37t0QNWDkbiR5cLnrC1/i9EkIhqOVSl0SBxSjRFLQcQgiMmZujhc9NGDgRyOsKkeOfbF29tCYB6U/uLMvEueiYTsS8j3yhxfsnthghwJIifS6J1ICQnxotyiHR7/2clFdJ2rwYZZYIv00YBs4PH40aIPq+dF7806RSVvITufbFB+yS4qmBAdF545dJ53VJ3d+/oWgcAd/nt7r0zGR9lnUAh0YGNM3hrmONzw7io7kX9RJMS701oDpLMHJcQTOKWvpp8Ffp51HfpjnQ7aKL0Oyx/8KQEwhoBDTsij6ut8Gsxov4reAb+WprEjbK52MTbK7yoZDnxb4F/9BeOoiW2awn2bLw8/LBAm/phldD9YjsjVOaUvDXaAE8JPSI+WA9Fm+PSJdzfAyIstc21CJN+JV2YXZ1JNS/dJbA4aARkbtijq6CCq+6ICq3R5dAt+YG36btPdg24/3sLNooBtQZ9nDMEPGcZ2CvPjy27gdv6AiMOLFD0XFTwMNNOCqq1ICqRinhqSfplTdUsr9CsaeJ8+8niIiRciqRT71V6VEG46497j4+JXDeyzqu/KLYpjwOiP1CxWMY+LdIhHwW2Ze1OkFoBrgY1cdZxomdRswxNqZ6l26KqUjapwnDH/G7uSoJI5ysJhfVGF6eCODeImzlI5krUpJipxG3EL6LUO4nYPZ7GGiI9POIuzatYu3E2fNmjV1VoSy41JcsNPANu15to7aLcLP09mTV2Lg4MGDplxGoHBk/g/ANpDBc4ADzC8bJb8By5PKQYq+8sX0jl87GdSFEY8xKOvY+exL16mS+ChCx6tSQl4pss7FB+8lEfmtHVAkjp1s3bqVV151Qh+X7wMmnUbRbcZvv2rhRLQ2PZdgc41Img/VvTx6VYnjx4+z6JpaGQ/kN2Bch9kqwJ9j7MyyQuRGrRysp8Sp/wIzwa/szsngIyzpyzilE1+V0tFQvCr/rqvKK/nQtmNO9BvvhJ+XoCZuH9EE8nGWPfPx+xThH/FOodFKrW66J1UqMGi9+FA8/PPGu10AbjZlLccU+BgDdKhJ1yCzIjNWpbT7SFF/jgcV7PcPTqMJSrmjRBErijvtCFBkVcrSBeuEosUrgw3DaU6QobyGWgRlEZGILYLBU9xwww1NiaBN8K6JrUyDtVnJ+jVOYqQd1851qJ9t5u+dExet9kb1jLYqehSCFVS6wSEQ6bYtJdj5DGeSrVekGTURfIwZtwPQgNevX4+NogbMlbEAjuGGj/OV3ZBQCJIMNjBQtL8I53hbOzhfFV0z1RZqsFRtReZL+8+fiT2sPy5QahtTxs/iltyWNKfccGvxR9/n5uZYhqWrAp44ccJfyCUiSylk/tgJHSnZ+/fvZ1LAxUlIViqawQMc5zN4TDxnOmw8pqiwpGUGkYrxbzCIxA5yYTA+vidZf9g2Eu7i1NCbcgERKYHwgfvvv7+0AceBoJutEaVrtdqUDoDFPW3Hm/NJnNcBnCEo6KxSRxcNeOHChdgobcAguBJTnTac+csinXTp0iWzNeLWX/5XEFOIEaK+4Adfdfk5Euo0pmGR0kdl7Nmzh9vg6lXT7TEzM8MGPDs7e8stt3BnENYHToe/UEBFEWmRVPGHKZROhMCp//rfn58t47QuQmGi9QBFbhTvevHixfgbf23FX/zrn0tvKlXJGPWBhyxOsmxDIEV1yra9k5KJg6Fzl626gzt9IDZcQ0ceD7Yb8L333mu2rm+fwQYMiTJb1clswMHn9dF6HV3y3939lUoeFArObFnI8FJQshP7uqikd0VXpbz99tvxN26NBdRWZG13XBVuvHSuT3pb9Un/7d996HRwySVIHtc6jQB1luh3fPaxf/vf/O0vsZtX2sOLL7+NlkD7KU2oiMhk6SJKC0GaZVV4qXHbmLIKInKIZ1KTzKwrrUqZOGOO+FUSaQbx7lZBLiBelKWLkjmI6rWBb3Lbp46my01QpkvlMu5S2lBzRSbY0ALffPPNTEag+Y08D1xfUusHzI0g5R/0XBzuuusu/N27d2+ppitayTR7TRiQWeIpVQUfQ8a7anpWaMNBmY5M6BGcsatW1SFg/ol+AQiu3VeK3ekShw04ctdowAgTUhow+96LGrDoCNxRSr3kkV6wQW8ug1KBgR2+8cYbEYAUtU/AQMwJ1oQeGjDsTFEYLNh3DotR2tMg+NIZdK5KzRQIHtNSG3ZWpUy5PBI8MvLzRL8D2L5PS3dN1q1bV3WljgjxG2SndLxrurTjOsgTz10JDmvFi056SeKdWI899hj+Hj58mEnCdVFMIov8H8dP7K9Kiego3fFz2jCk2anUlIn7kTbQwaqUIL0NVzJZiQf7zQAX2WAzE5BtcGqR3/E+vuAeG5l3YYM8E2fvRqjX+gvagD8qSNJH7f2m7nRClvZJpjSetlelBIltODjoEvxtYoaRw3DBic+cxIGCRlbxmSHs08qjqP0jTo7UfrqPbZOoa0a1XVfvw3VFJpHXzVWi7tVUXZUyxXISEUHZELNcKsRVPSh6MsKu5lalBIkilXJY4gpPKY2cc3ozlJeorePHU1d7TLmeIMEyoXLPztMhI1yHJLAE0ifSo2mgqPkrs6shGs4uhfTHNZ3+Z4pvqVLP6xZqlbyQDDhimnJrVSUbhpQPkKUQH4eLkDFEVJWMJl1fC0D1Q5Wb0ilg9+7d5ugW6KEBg/i7qoUfeE/8QiXH151Nn/veMSm3HHfkUqRt4GFnXoORX/k/l0G4vJwngH4aMEg0Sk7F/OJoXlGE9L7u7kkZD/eLJV00S+eNDIH0ATCH4LBQ3rMQD3zppfT+1IHTWwMGpVEfZdfusUC5RwS60oyRXigVuCLBKi2r9uYwtkHGhI2iek9XcBNJnw0YxEuf0iyPpPHgol6HuGs9EHBHpTG8Xyal7zevNEQ3ECpFxXQu6rfhpmZ3DIeeGzBIqRVs211f/k/Sq7B3Upx8Z+Gr0p/E5xgPmZRO4CLVPEaV3h79N2AQrAnHpPyrp39gtryvxq4i7cfcg9hdcby7yD0OZP5wNlW7LUoLxGfsJCSdQTRg4BSxn3TEVA4Y07opbXW8r9I3nmX3CQ2KookZleKCsYihGmcoDRjYTdH2rKTjx2+r2eOrQ6B0SvNXj12227l/+2OqvIIEuwaCoQF1Vsq9T4Z2izOgBgzY1+rUjT06Yqvk0q6d4RPvW47L6CS1XsFucqVD+sESmLxuqjjDasAARtU2v04liZs02AkbVanUSiUZ/9VYw97poG+VOP/nj1/98fAHFJticA0YohlfTolWiz0fkyHHwbsQ4+wPHY914JCIXyZFvQaT9MxTBoNrwJRX1laRh1n6KNLY4cirHTUU9d5NMJz0Ho8vgkjhTEMpkSHGwOSXHgjbmbs/d8o+bGKqyr4Rx+rKV6UTuSYAp0Ifevx8yhNskApnLlqivz3uDKsB2wKKSNiXV6nd0i7ccYTeYFAlsfeOvQPBAyaY0vvlAVPSYh0G1IB9uwqpLerQskcdJkmgN+0OD2Zu2vNs+qPUY4pd18RR6GbreiKe9sSXGBhQAxYXyJ6o9INrr8/xW6m9p9KI/5CBGQlOEt7+yJmJDBxsnK4N6GhncNi562D7dLoMSie9jTtDacD2AKCzJisadlG/q0yQngyBlibqhHMRIzO12AITp3Q221gzlAYsi8X4TfHRr71c9A4Ru26KXKwxRWYI2wUyqUbY11CR7jqY5dInmRzjnLgU0TgyiAYs2tT3hGXCRtEwoMjxuAu0c/2MHfybmsjeO4fIs82nz7+VqKkjmUwSg2jAoiB9V9l+VKVIdiXOGd9RluA6Yes+fcxsWUxq710KtjAAuGZOkBwhfSW28aL/BizN0o9q/AkbwWk3Mm9ufGNF31xwUCT4ipZJarfOvUReSVOkviMGGS6M3eYnUt/134CllTr+c1GFBVup1M04Rju+YNl9p8HZ+RIETqRQOpT2JEcUd7qJHlN6bsDSSh1BjMtl8Fvq2vTOyYHgGxBf5ny/YwJ6Vp1HBYv0dbqGiuhuKdLJa889N2CaX2e545Q684+RiTjjNVPaF9xgJO/fr+xJF/FBYTfgoJeRMbZfVBQoUsmt0pvHh0+fDVhk144A08WxSKaLdPkA8U1rZOl2/34neHSkTiVO2IBinD4bMAM5Wy6rPijnyzQVbek44TApvX3nfqX3zi+HIWNfbUv9jsECse3ExNjh3hown5izn8vPe5m6U1WMgcdiiXPnyhMbYd6vhkN8fjKMZ6vKd3yX7yyitwbMepLA1Rniq4SjxceiDTvaqlI7dO6XHuPYteQOLvhH71715/9MWD9WPw2YrcsWxDoNGPjO58C9aHtoJEOU7fsdo8fopMZ9b6tLBSTLbo+d1vPppwE702Ia6Te25ZgVM9jeLFtuqob9gr34OzMcuDjK5dVU1hk8+rWXJ7Vnq4cGTNsoyrjBZmbr9e2PnBnmeJLtwtWc3zeOz7s6WsYJB7pkMhZI7KEBw38Wa9m40RDXlBp3gPM6RG4ambktmfBOB2uEu7e6QRx9wdIb69G4rhswzS+rsyVpE5lG/kOrG1EoP0l4y1kKyESmKAxQWxGO2djVffLcDwfytNC4r9rRdQOG+WVFtmcrINPSNuBU9+ik+Uhja1B8HUveXsHWoRF3o0HsUqKEDLPcSum0ASMopUnM7rlJRBw2tJPhiI6ISOP9xhLtD00K2SthW7lB6VOHcbTGjTXgixcvzszMrFu37tSpwk6puz936tGvvewPIbSBmDjI9BDEWtpYSwuRi1LAxnCaMTwOW1kPsLtIympoui+RBhowGu2CBQvee+89k0amCxasXLnSJK4BCUYZddmZIZri6B+lRsK4izVr1uD6S9m8ebP5TRpswK1KCZtKpfGSjRs3mvsZgXvftWvXkWtg2ykN7DG/TMD2fcaieUDdVO1HQIGYoomCYjx3rpWZRXUbMC7ObHk4X31yNFzUcW8k7RLMflyARoUcUDpxUCX84fLly82uAnj2DoRYwrmU+923b59JV2HDhg38uUkXgAsQp2D4L/6E1uOcrRT/ZevWrSyBgwcPml1p0NQBk26CWnktWrTIbBUg1wr7A90mbmSXcJw5WCuQYFzh7OysSdcA4QOyunw5sPgeO646i/14p8G3ex0/fhwXeeDAAZOuB1uySXjwrgc+Hy5IpAHjfiO3nM6hQ4eQD9wfk65BraspNVkQa258ePuxHudFBd94gBK03f5GmJub8ysYmqvjZ19wp088d8W/30j3RDbBZvyvvz3fG9SLvq4JNA6ssQwWCDfccMPSpUtNojn8oqtK/u8Tz43DnjzzekSrdQMuQFoR5DjoO6D5IVbBxjvvvMM9RWzbtu3ChXnbsnbtWu6xsUsG3mPRmritgvu1y7yoshYvXoyv1q9fb9LF4LAlS5ZcvXo1WDh2/nyp1UBmbmSTUnoQA9qAoBgEodjYQDXU8YmSGmGQortywGG9t14iMl105WjALN+UBsyNopqTU/zbSz/iRveU3i9ZtmyZ2YqCwqGwFhXOihUruNHIBJXekZAnWHrYCSAGUGqrVq2KN2DmcPjwYWz4DRigDZut6sSqNg4vC1fPZBE47PT5t/D54uHv8rP9kTP4ULziHx4pP2Q+Jt8skCcv2+fEiROQUW77Mnrvvfdy4+jRo4gLShswgFrF6fo1RB+79zj++pEODCn+XrlSslgc4c1GCoegYHf8zgu/9Qd/bNITwYc/dSzYulKCLxbU/v37i0TOJuWYIHUbMPX3Y489Nto33wxY35/85Ce5J/vK6hBRGT+39QlzkMXChQvNVhm4nVKdRf6LP/9XhvCeeNzyxYsXTcIiche4R2LSCS4JgKCzhLF952efwQaVVxs7WaHYeOBLL2GDI2fBnRQAbCAgxwa9A9lpmwTZdnYGSw9KXAoQ25cuXYLk26VEFUlYknv37t25cyc2br755j179oy++Sl2aVciv3U5p2Qcdd9998GpwDYsFccMs6+sJSLXc9ddd3HYk0mxOT64O+jgLVu2MBk88sPbv0VBkQ8lzP9QRtv7+AE/7pG3CbHjniJwGKvy/vvvN7sKYIaTh4QGPrfffjv+cgACBN1jwvaMpoHChE3mTpvs0ssv9OApb7nlFjQDbLA3CGRfWXsUdSdCmuFQLF68mMmIe4yaQwNmTcAR9Y8c1F3HLwb3K9Yj4lTjK/hWcFU+9rGPYds58tSpU3mjysMnUnpojWZrRLBlphDREaXUkjMZJSpimJW6Y8eOYJGJ2wMPImJ+bfATv4IHqLOKLkkscOn9igWGH+jYbbTeAd5yg7R6d+vWrSttRxFqXVnpjQ22Xt988802ru3y5cuDvWU40qUzxjLA/UIhmsTkgtus08yKQLY1p1jWlbaIvA5WlAVGvMFeiqocOHAAWTU1yak9cJGl8+cSQVbAJKYD3G8dd1dA/IWsGpkZ0kAF3HDDDY5MYM8YVS3NJmCvWyXamN3aATKfuary4hxA0Mj80zEFbRglkKEHUWgsvePH54f3GqExyeO8YrB7926zawyRIk7hyJEj5mfjDN2QFLZu3Wp+o4yAIUVUYkqnjAzzkMJ0uUCKMmFoA+4aeK1Fpht6mhv79++fm5vDYS09RDoBOGXF7SlkWA1YasWBM9dk4sRYE3elVq1axfkAFMpGnjgba1LiFJZVkfBMNkNswJyMyVHyw4cPv/POO2zAk4E0YNzX1atXKXz2LDzu0QZM2IA5b5HiIXMYZUa6NuChwDpg0+VsAc6LkgZsC/qYYjfgmZkZCN+SJUu4B6AEWAjagIk0YDRXlIw9XdEpK25PG0NswKgk1pNMjZpUC4y/9qwmEUGJ67QB2xZ44cKFUlx+WWkD7h/WAZor6ykeLo4pclOc2SNTr4NoA2YDpmDEm6g24P7JqIP4VARkCC5dumTn3MbaKOlU0kpswJWmW/R7d42T0olFWMWcLsptrjdC9w0ygL+Tx3g3YDYGPgViPx8Dj8uOlhFk0id3nqHpBVxzolDiMMcC4762bNly8803YxvxBe8RhcbuHDuWnhiqNmDCbVQ3S0bWDILXw6+CkhbcOXDG74ptuDgzyt15sIv9Q9jgegNxN3UsoCC+8sr8MnG8NdwjbQtaNUoAQQflL7gy5rTBokC9I2xmTwolAYVGYbC7HgRtwONB1eV8e8eeQM/OWJO4Hu5vY+nJMUIeRE9nrLtIp7EB9wt8Qnr+gt0gsX3gwAHngGnG0VZ2ySBkuHjxYpE6mxKGdfPOA6uTNHok+I0TexjGA8axUy6UPlIgLD0G/1pWYIgNeCKHfwVpwBKZcw8FUYUyCMN+gLKieCCI1bICQ2zA0iM12Q346aefZu8o9mBDG3CEtWvX0kmR0gNaVmCIDZgVA6U78S40+5ZtEeS2NmAbioEMBTloAx4QbMCcN8c4Z/JgA2bT5RxAH23ANrfffnukQOSr0vGziRxgG2IDTiFlaSIJnAaFbYGLoFAG51RxLgr+Xrp0iVlN6nquibCsuMANgy94cDTaKCVuyMBh+rSQcWEsGzBrBbV19uxZe3KVzN9w5nUMCrS6uBjJKq28TdwRklet9WvpoQA24AmbO+kgdx1EhpG4MibrXd6zIZPVhHhu48hY3s+hQ4fwF4qWEyTRjEe7fzqDcsgNOB0ufYY7Yn815xJJ6wXUVpMnlBnQAqMoUFZot5xtKmA/S2mYTlkdtO6Hy5tvvmm2RlAEHWilFVA6BW316tVma4LQBqwoY4w2YEUZY7QBK8oYow1YUcYYbcCKMsZoA1aUMUYbsKKMMdqAFWWM0QasKGOMNmBFGWO0ASvKGKMNWFHGGG3AijLGaANWlDFGG7CiKIqi9IAaYEVRFEXpATXAiqIoitIDaoAVRVEUpQfUACuKoihKD6gBVhRFUZQeUAOsKIqiKD2gBlhRFEVRekANsKIoiqL0gBpgRVEURekBNcCKoiiK0gNqgBVFURSlB9QAK4qiKEoPqAFWFEVRlB5QA6woiqIoPaAGWFEURVF6QA2woiiKovSAGmBFURRF6QE1wIqiKIrSA2qAFUVRFKUH1AAriqIoSg+oAVYURVGUHlADrCiKoig9oAZYURRFUXqgRQO8bNmyK1eumERDXLhwYWZmxiSUMuwqeO+99xYvXoyNo0ePcsNmyZIl77zzjkmMQFGvWrXKJJJBPmarOXbu3KmVHkFqlkilL1iwIKVO/aovpfFmiGtYuHAhLhiYXcrYwnr84Ac/iL933XWX2etx9epVVLpJpOH/ZNwtQhcGGK3r0qVLqIybb76ZX6HUdu3atWXLFux87LHHuBPb3BA1gT1kbm5OvpLihl7GV7feeiuT2OYGkO01a9Zge8+ePUziSpAD9jTuGQyToAG2y3B2dhalcd9994kWhohTG545c0aU9Te/+U0chp08xq6+EydO8BiC33Lj1VdfxbYcsH//fvyEX8l2MFtUmWMk4DGoAY5QZIClLrZt24ZCvu2221DaUrbY/uQnP4m/gOWPesFh3Mk9yAFwj13RIkJPP/00vrIPwPEiSMgNG0XZ3nLLLX4zxDFT0jYnFdSg2RqB2qeoyH4ID4WQIoG/Z8+exc6Pf/zjkJNNmzbJkfGfyFctiWI3XFdYzeIrAmgKlqOUGoB2oDr2izvu70DFoyhRYdwjaojnxW9ZHzyGGcqVTAlxA7x+/XrRqigZSKRd4FILOAxtgyVJwbVrAaegKBO7hL/yla/wJ0zyYuQy4tnaqAGOEzfARXXqVz1qQXDai7RcIjVl/0rqCNvyN56tDU6BA0xCGVucSkxU73bbFwc9/hPShih2yXWF1SyOIgDSjFFqKAIqbtnA8VQK2OBhAN9yg0hxiwZBBds198EPfpCVByRnQI+p9+LuGKkCIGpayhCGLVIdKCt+K4cBxKz4KzkAnEIKGbCEpZ1Q6EffzINtScaztVEDHCdugAEaC6oDEfDNN9/MMme90PVZs2YNaxBNSXayz8lvuURqiiEFoxapI4qTGPhItgK+QsslkU5LZfiInUNYib979+7lfogBRWXFihUiSzgAggGpgMxgP6UUO/lt/CdMNi6KHdOiAY4gpdYsjiZShobtECiTClRhG61bmWBasgjDF8V+DLCiKIqiTDlqgBVFURSlB9QAK4qiKEoPqAFWFEVRlB5QA6woiqIoPaAGWFEURVF6YFgG+MiRI1wLCWDj4MGD5gtlAFy+fBkVNDs7i6qRarLh/t27d+Owc+fOmZ8piqIoIXo2wFDTC65x4MABs9cCNnjRokU8AGrd7FVaYG5ubsWKFSxqG1hW2NRTp06Z45K5ePEirPXMzIzUoLB8+fJgdSuKMp1I9GV0RBXWrVu3b9++cXT6ezPAK1euRMFt3rzZpBOAysZPbrjhBpNWagBzOxLdeVCksrJMl6DJwRKbi1iwANbafKF0ArzbIn2HepEuDYCacjBfjDQm27IPvlI3SxHgkfuiAhMAcTJH1Oby5csQOV+qIajmiIHRgwFGLIUS2bhxo0lXBJ4Ofq4NOwMo3JE0LkCk+95775m9Q2L16tW8QtSy2aU0ARST3b2Bcj506JD5rmWOHz+OAMWceMGCpUuX6vDElMCQiWzYsKFfnQMzj0iDFwMhfPPNN80XvdK1Aab5NIkaIBNd7i4ROJ4jqVsAVWh2lcGAGI4kC/nChQv2gs+VyMsKBoPXnNH1rZDdu3ezDKFuIANm7wCA7pOej61bt5q9ykQgLRdVbHZF2bZt2+LFi7loMzTD+vXr7VXHK1EpK4lG4IyaXX3QqQHmiG/QD2KpcaFgKOuUHlEc30vH6RgBTYdSSmwJNixYVEpTBjg7K/ZZqRlOR8LNRB9fGhF+gr/16xpUyopxSb96UKkPnaqqXZuwmvh79OhREZ61a9dyoyrZWXGSSi9zfjs1wLjJFStWmEQIHJC+WP+GDRtwvEkoHrt27UL5pHT74JgTJ05AcBdee9WXSDCJaNJ7773XbFkgH6ma9KwiIDdUt0koBdCSlTorOIYwPkAFoeq5B62vagVBePBDbtfJiv00UIUmrYwP9PkSvWQEppAKRqtI0mraVDXAODWd+5pZ0YHouJ+8awMcHHlCo7106RIKESUor44C2B8ZPEeL/dm/8JG1257E5zf++Uunz79lf754+LvBz/ZHzgQ/d+w6yay6/9z52Weci5GPc/HycW5WPqZoRqC000fKcbBd8pWw+3nsl25mGNoiOG/AJBQPWsHE7lzbZFbF6dPbv38/arnBquGooXZ4jBHsozKJNHB8onKAD4eDbWyLgG/h80EIs3utHY4fP45TdGmDuzbAlSa8xQ0w+1efPPM6befXT7721WOXsTFz39NvvP0Tc9CU8cCXXhK7jsLJ7lThO1nvueceeV8mpJwbVWkkKzhbf+Gjv/Yhy2tp4/PRzzzlOEDycRwg+TgOkHx+cvU/mkvvBNR1YtffsmXL4OnCTxKdhW2+tHXnzp34+9hjjxUpR6e3QyoUZ2fHVXpWEWZnZ5EhquND247h7w/e+BPuh58qNdX9TrQsEQZRLzV3fvlbr4gg/ejdq1V3yh58uAcEd9qSaXY1sfPAoZdRRIiC0rU6wl9ULjG73n+frr89TWS0uwRIMmNoO7e8rGyQVZfdMF0bYBSNSdRmx44dLPfz3/8xVCc2YHp3fv6F0ZfvQwOyIT36tZe5ZyKB/0FNgfaAcsAG2if+4itoZJHLSkCNSjQMJUsdWqk7UWgqK9zI6tWr7/7cqb//ey+wTvEX9duxnRsaLAd8/q//1V/LixqdCuJGI3XNjbysUN1bHn7+H+x/EX/Nrvff552igV967V2zS2kfaWLwIZ54zowPwoc49e/eQnVgG5VV5yGfm266iRsQFVpNIDsr0UhWuJ0GjVQpnRpgOEp5JiEIspKHVcQGAzRRWGJuC3AhIS4TEByjPWza8yzu5cG575hd77//0OPn5fbZKggLfN26dSadDJQpwheTeP/9w4cPZ6hRUjOrrVu34hbkEWHYYFQl4hLcJiode1ChqFYkv3rsMo+ZYGB7UNG42a+ffI2FQHnm6C+PqQq7KGxq9nbYZGTFGTEmcQ1of961SY+gr4kPpOLkuR+avUouEuBCzJzWBDFDOd+x66RJW3BqbZ3nQsVvIzCfZqs6NbPCjfiy1yqdngzAMWnkDpHJypUrTWIE9ZFJvP8+2qqdtEG7Ha/g+IuHv0vp970H3Ai0j0lcb32FuWtrbnQ8v6AmNCq7d+826WvQBnMb92s7IuCRP7yAnZMUHO/6wjnckXTtgLlvfM+v6KVLl6K4BvJ0Yza4BacDELe//ZEzJmEFZEWw4VMG6KIpPhLLAmlNKcA2+7IH5vXLOIvf5s2bcf07duww6a7o2gADPgqcPTzJcfLgiBfdNJMYQassAzlBGBwHzVtf4IIZ6ESiOv9b59596P2A7uUsEXl01fGuHGwbDJD0+zwAinEcg2MxIb79wJ3CrphECJZe+gPfA0GWpC3yEVEavumlGx1v3YRtHB/pKJoenjzzutkauW5mKwr72Hx9iNKLW2t6gfFHXQaFCF4vzyCBHgwwYXxTaTkeWVDCpEP4Nphgp+30FSHBsT2FoRvYyWYPegUpcimCdx2BD3EReDN9Bcd0PEmloRfHBgParUiENNjgWKQOV2h2eeDb9A4bWYFo4MtciL/ViEdY1YGGQoDbjYLFx+wac06e+6F0I9sTplJoNvyQh9EH+PQgjC6HOUBn68EV0ZsBJtICIwuVcTIRSNQmUK9FLQrx0K4vVFgGr9XgGO2fjT+xqfBiTOJ6ivanA6G0TTKBJwsDCd+wjnk+cuQI1Ku/BizC8ZpPm/g2GHBcsHREUIJjZ1ixM8QbwAWbXSF4O3W6UuHWmBIfgLpBjdPzBhnrwwCURqQxou0jSgt2hyQCyWH8B+kyuwYJRMIelciGwxnxLiIUaZ1mIkNgpM6MrQyclVCh0y5fHlB/WM8G2AYBLmyArFiL9gkdDcNgvq5CxAaD7aOnfk0imfrBMa6KOTz0+HmzK414x2PkThsEcgxvCY0HCp2wmmzMF2vWwOLiyEqPnOURtMEEWiNdQ9EcQvO2FxxDY+IU+CTqMvpnJtEcqBdTW9eAj9X4c7doy5ABiTNIU+E4GqDdrRoBDa2RyVmouy0PP4/qqBpWNsKl1961JbkREU33UdoQQphAu+vLBmofX1F7EPMbC4grvzpw4AA1kvnx9cCUDP/9LgMywI0TF51IQJlCYnDMB0WyY2j8NtItCercwmQQscEAmqvqsF+DwTHOjnyqRio4vk4Mlwc8Xb47UiLUDBBqwEtr3JzXhK6PSTQH5ITz40y6CZAnaj/eKVIHqCN7RpvSO5NsgEFp8+CkvpoSbwfH8qBInYk/iR2PpXc3JcRtMEAYlF3LlYJjjkOn1F0QSM4DX3rJJJQyUNpVvSu20zZGlAhkDGE3TmHSxeDIB+e+48zhb4PE67FBoF/1J0oeE26AQYokscs6u7eKjrDMn0oMjoNwYQ2TiJJ42JRQaoMBa7lOXOsHx1CjqGjsiXdUxKkpflNOXpdslxPjcYV/Z+8pabDtmX8HnCivcHrpaZ9OJt8AAxH9UuBQp/ikEuiUSioUdOLIcaWOx/Q7mh5SbDBBOeNgk6iOzJ96eBRb1Bk5ZqiR/XNFyO45gJVCFTTY50/xMIkotrjW8QsF9vRUmmdqkziyrjTIVBhgkNgkCLSzM+lJ7GjV+VMOweAYjb9Sm6l0L1NFug0G8LQSS/LFl9/GkfhEtGTVkWOcvWr3qRIH5dmIGUuHMzzSRS6F7CUyaoIb0cC3e/o3wIcOHTJTOEaTOGT+GzZk4Qgwd/1b7TKAhJmtNLb+9h/hJ3k9ySnQ9can0rTqqndRlYMHDxbNKly+fDm+Qr0QVpON+WI0L9F/7ojgqzqr1pVSyQYDztCB+TTpa2x/5Az2V50/JURGjiFRpU97K/1Cl8uufT6u02CgXAlcDzcgThAt/MUHDkdf19MGVCBFyicODMe+ffvyHpnpl94M8Hujd6KBxFK7fPkyj7948aLZVR00IbMVAroYMo1j7PEhKuhmOwmZJ6Jqkx7BFh63981eCYpUHvoCq1ev7uw5UefhvKVLlzbYeKraYIKy5Sdv/lQEWHfKFT4dh2gpQAyyFV8Qemk9asM7P/tM9rOCAMLDyjLpUYNtyQuvSnA1IU7mcvRJIrjNZpVbBKhu3y/fvHkzTK85ojYQZvj3vjBDIM0RA6MfA8xCMYmKBNdqT8cRODi52FM6NR8/wWHih2aT2PEoU3vspeMaaSqy8glsXh1XpnHefPNNvhAb1H9gNMUGQ6WykO35U9DdzuhDfTjTXjQ4Z6W2+sxxEXyzhQCXq9UV+ODP2W4WgLY137UMWhAK2SSKgatN3wh1ZHYVQxfZJLqFaqqSa4jjd33hXOS+4Aum6KI6yIpsILLUUjfAzMsjdtB+A1m2umsDzMC3Zn8yl4POe9wQYgfRxCfPmuKHea9wgFqHVTCJirDl/41dJ/OcXCB6MFHstm3bhr/2S3zXrl3LjarkZcWmAgth0tUJ2mAaP9RFvCQRP+Ewk6hBaT4SHLcUGe8YvbKTtNrznw6ssizQkfgO40aQhScbeRAWThtyM4l2SPQhKoEM0S7qBxIRpKsyb6WzzoDryeuso2Tq07UBxg034nTD+iKrFHMCOYbCheTZ86eQrNOnVMma4lw1n3lADhIt4Xb84DgCLVlVZ4VWE8hLfGsaYJCRFWJ0XLzzepx0UEe/9Qd/jLLCJ8PCwTrih3k90ghwMyJp+gfZjprASoebb9Jl4OBXX30VFbRw4cKrV68imf32yapZSZ+kSTfBk2deZ5PHh31X5osWyJ4lEAHWPc/LTwENwR45ZkACca0/BZo9WHlOFX545coViM2qVavqS2DVrOgRttobVESnBjjee8y3KK9fvz6x6KllTOJ6OAUGhio+nlpzXCfen0z17c/uqQoyifRVysixH9KxsyG9OxflL+UJq7l48WJuA1QKpNkkPHyDumzZsv3796M2sV0pqyDsyEr3IbhqIDVjMA6uCnJLn/2OgxvRnhnBMXuGMvwV9khBYDhUBknIVn/ZWbE5Vw3TbVtrdoVA1GsPNLQBnyjLfgQIJjB+C42AU6RoJM7nh1YJDjn7sIOtzgpoFBvRP/UlMCMrOhAd95MXmsM2iDcw2wAAaPD77ruPLozZdT0MgrnNWYv4VIo1cXz9GTd89s62kQ2OFSGfdC/BCY5ROOneKA6G4EL44DyaXck4BhihD/6i+qoa2gizs7NFYgBQ6bhrmKtgbTZigwHyiUw6ZYdhfXEqojQ4RvlEisgGbYq+EY5ndVNnCVXVH3wsOXXNrCJeNcoWt49CwGeSFi2p76N3A3ULPk5rYh+GSaQxWAmkC9ulDa5WcDXBvQXnRqL4PvGJT2ADd45jTpw4wf0AetwpUJu1v3KUMtHSB45z4mf+maXtT/78jqc+eu9TsvOLh79b54MLOPpHr8OzrvT5F0/Mm398Fv2n/0W2T4oaMVujWuMG20xVmspKfgvglFAdJMaaTdlgwC4729/iHpPoBD84RuHAdHE7BVRKunu0ZMkS5G9jvhiBb/EXOytpzAirV69Gbrg7NCh8/odf/+lQq7QsfMyugp3zP7/2Mbt62okPZe+ne3Bf17zkn+5s85LsPbIT1NnJqYVrf+XJn9vyzYxpzIOVQOSTPeaVwXV30ja4t/QXf8JzifdisWfSJN5//5N7n4NAPDhXeW1V6LL64x84Nfu4sJE4OhsH+aTHvmjhOJ6DjvgVtrERCSZKodU8evQocgD0UusY4JpZoUngpvCBfwNfx9a58uEBnX5GmnQIn//P//j7iXPa2aVEpBbuv/9+/L3xxhvR1qgW77nnntE3Megunz17lpXL1pqXlQNyu3z5MkJeiDR8yk17nkX9mu+aILFndQJgr5hJ1ICdTPj4fTBS9YkMXAKRz5oqLyavSacGmE9BmERtgiUFEcFfigskzx8ZDYIj82xwUccjFEekt7AU5Flqfdkn6cwBQURon3fp0qUopYFMuM8Gt0CfFN4V7pePZGQsPdhgHAynjReAjexhv2wYc0NoEYhzci+KaMWKFebrisi4AzSjaFLZWYlGsuJ7qU2iAE7ySHl2KELNn6cAzYDrdLwHzlFId687BkIF2cYV4mN2XQ9vyiRG79FCfdWZYz8cCcSNlMpes3R6MtDUHdK0mMT1QCfCazYJq78ubmKhxSqNH0PxIc/I9CgAOcapTSIZZFvUOBnnFU0nwbmCY2Ms8+PHj5v0mMCGDdB+zC4rvieoaCTxSfSfatpgVDfO5RcyfIKMiq4ETY6jynE7X7y24gQKKn3aswODBpuMsJXUzIorw5iERWk/v4wQm3QaOL6NIdj0WXiQ5+xVrCNAWtgfVgoaDlQfykGGM+Ig26DSG7XUfF+/dwnk+4nTO2ibomsDDOJzoVMY1XUsBycQtEG8AmkL9lQnamdo20orwNFUm0QZ0ON2PA1Zh8Tj56XOQekp2GMPmnovekvIUiGRxoCbDWoBVCu+ii/0mGeDaenj/han4yV2uqQQkVWArxxHDS4/ym3lypUmPVZwJm3eMEcRnA7Ztm8kwJLhXHEhCYKfQKVk/LCIIiGkG5dRIIlSzbgouzOme8TL7+UZJNCDAQa87UrTRghn3KUUFjuHTaIA6coT8bJDCh8IbnZ/I0O3uLtN64sjsYGD7Tg+AmdDmEQa9lJtnS0/WcSpU6c4XA3SH96HXxIfa/dnKgmVbDDsXyWFBTWKk2aPMtLfKr28SI0jCmFhNmvMWkIW5wpOzwxStUZs0FjYjeRIBcLQvOUp6JmZRBMgJEWGlXrjBDvyxp1CzutfG+W5aj+BrPyzYcMGs2swQNIYBILetV8/BpikawpppVWn9UJ0nCihCBzGp9/+539y2unjpQg29eQDsvJNApvxRz79VFVBhzJyhoEzYORks3nz5jpP9QW5ePEigloRfVInHIeqSlfE0E0oYZg3OlspNhjyUOetCYk/F8FL7EXHYTjeJMqQZS4QlAxkKsB7770n2hkBkz2+UAmIfdFYTFVkhhE+ZlcCaHqJLnIeiYqL8Bb++NW2noKrw9zcHKubyNBsNzjLzqMhXL5ca1mkZunTANvs27fPlJBHzQqDEkxfRYEgzGUgcu/vnMXfxO6XSkCH/p0H5/1TxN8w8DAkds9zInm/Sgeu4uzsLNwjiVAzgPTv3r27cXMuVFKaBBWKYscPd/zuWbPrevBV4pBYKVDT/hWi1rATn6r+FoQ52+qgNjnCSuAJoV7Md60B+WG3JMF243MR2mieMH7s/7frju003ftpENQ7roQxOi6jEbc7Dk7XVBPwgQnkmKvP8uXL8RV0/pFrmN9YQJnwqwMHDuBI/9ULBNIO8TO/GSpDMcCtAsGt2mf1P/7jUx/efozbEESIIxpeJZ80COMwmUrD4WRcW2L0Y2OrhikHBZjXf8g4mNEDKuLUv5vvh6hfyz4jizv/zLo93lGVNq4NAShUGNcAahAYWmTbWaixac+zqEqTqA1X9TGJa8BVkkC5qkNfBwTZCAZMIoR/qTWBdY8MwynNMhUGmCRKKlQkGzNCDX/EFxoQmhpZpbuH8ak0ON1vH5xfr9ikE8jwJyYeVFaeCqYN5rInsidSX5VgtvaFIZk+/GxTSUKU+tz2qWMo87hjZwfKCEzN3hrY0xrijhpOhwjhQ9ubOS9poy9BiTNFBhjAdkZmx6AVOXMfoCvjap0djL6d5squpaoW1ldiX7jY+ElpiIPouRHbMHmg6FCAJpEMauojn3mqqKZQO8gTn/QImyIRryPENDivSZSBGEj9rXTQxvttIHDN6aPHI9dLr70rTnwjHRvZ8/4ALrXtPm0lyHQZYAAf02kYtHxFo3GlNpjAefzYjuPIZ92njyUO7NnW1waZFLWlyHUqBEWU6MjjSJk1yjiY2xEY7viqikFz1Y47jkeYRAHwt7rs8JwY4LKkr7PBvmV7CrEN1EXN2V4IUn/lt8xKbciq5rwNiISMYTlQldWxxErHTJ0BBmgPVHx8TJA7I8BMwliahEVkKg1sAH6Cr5yQWiiyvgI0iPOEfsqlKgDmMKIxUTUoSV8JJtpggkz++t8/wdqvqe+oNIPWAvvV36pJJLhMD5RR3enz4e0+4YjzRK2CKka4nF7LON5slcEOoUjO8CPjMbrSAdNogAG07Ye2pYaqQGwwNiDW2E4Mswi7JcVvhdwn6npcJ001WqnZpSQQ7LblZDqTCBG3wbSU+AQjGK4MumnPs9ljcvi57TfEL1VJByVpz9iAYKT3/5ciegDefP3Qk1KET4PLY+HeHZmEAKs+GQhTZ4Ah3OKWwgdMEXROpdm459lGhuLufODbyA1ZJZp/WIX5Vy2pOq6OFBpcn0SN49hg+lv4baVROtQsfoIfpofUAi4AsXUjkqYIKb39KUjnGVRHuvteBwje3xo9EgmRsN2IDHDxH/nMMeST7SMqjdO/AT506JB5dmH0zKg8AYaNmZkZ88XobbXmB1kUdTxeKlhGijGrY57x85qa0dHvuCp2QxVpanwlqh9nR7JS5J3BwYMHi56rW758Ob5CvRBWk435YvRkniwB4YCv6qzbXhWU2PZ/Gh4wK2LDr8/XSIO9cxzpQEWnWHFodsgeRyXNrv64fPkyqnV2dlaq1YH7d+/ejcPSl7LqEjRhaTI0n8EOjAj4iTM83Or6Gw64Zn+OJ/ty8MFXia4hXUmTGB6Qnx07dhQpjQh8brj3Ba2y6c0Avzd6kxRIbLfQBTw+8bVrwhMJb03gAXzaPT6Vhv2QJlGReA8nYAcUR5uoLLjfhvsbWZYLRWqvzLB69erO5NhZnmbp0qXNqm+7lFChpV2OLHnRdKU1lQ2MAUw7zhWc8oP9tnmg15j3iHMKcGptARBgWfPWTkHb5MotznpnAIqyG8eLLjVq0KQ9iloW2P7IGdROon1FvSArk2iBqplDyHFf+BTNOwlCtz5SXE3hrAMDICQwujC95ojaMAawF34BELwGT9E4/RhgFo1JVIRt2ySiIJiIdzxCxBmAwqPERqLgwuUsasARKul0XMlfG/Vh4lM0mROxeMbjFvKqA4hpVVemVd58801ZDqLO+pTBNyIEdS60LXYWTddqzwbbMJRBVRb1xBAcUH9Q0F4R8IYbbqjZpZQHVKHUMmh8oaL0/iEW+D/+5/+ujhGF8DQ4nGyDbDNat4PMWoBPX6RGfBJD6lLsxQ0RpJq9PSGLGYM66qVxujbADHxrNn7ET8gk4qFDYcH6msT1QCjxLYTS74miGTaJKFVtMEKryLxcB1yDo/qhIxg2+dE57ERKZ6mEm+kLAvNF+hcuXMCvuGft2rXcqEpGVlz8EkG5SScAhYWaNYkQKMC/+Q/nB+ATx9K6scGAUQg22AdTpHnTR7KFgwcPztf6aFm+7FWXWwVVzCuEvja7qoACQaWXGlGUKg7z650mqo4NHiy4r6A7wgERfCKyzRGQDOGXfsqBv5JL9GHvL2nt2gDjnoPvMoJG3r9//65du2ihS9+fDOuLwxxzwkDnSe/xntOjVx0kTqXBkWYrCs9lElEqWV/kWaoOkBsOs3uNuMckroeWLKM7kVYTLFmyhBs1DTComhVidFz8otHb+COgZoueEkGN099ivyJsWKXAogMbjNDWH+QDDOXlygUO5sWFhOUGEvULKmjx4sVbtmzBT+Acr1+/ftWqVea7imRnJbq7VFbjrZjVjYruZpIUeeK5K1V9oyANzjyoBCUN0h4cIMetlSoldvx2/z7dmszOzuKySzVMe3RqgEt7j+1vr169esstt2DP3r17za7roWnh9ouj5Vttjw96E3vyBBo/DAqiQ4oNTre+HPAziWToW/CCuS1Nha5Men/LBz7wAfzFT06cOIENsZpCkdVETb3zzjsmcY2jR49u2rSJ77lKzyoI32Qc1Mu4Xz+sYTlAEQc1tYSbibRqg3GRKZIGYKdx2bArTFL2fF+TbxhbnvxWRyIVtGzZMm7Ud7ays+JMHL+6WQL27Af6IvgUraFRCYqNSWSBn6f39DpU7VQLghwamR1CkBs+UrZQZcGuI0aTGS6+DftERWYuXLjgq5REMrKiw1q11TRCpwYYNxmciIHYF1+hmBgE33777eaL99//zd/8zaK3/6LK8Su745GBYDCeqAqyFWUXJ9Js0q3vFw9/145o84BSZk81PvBIUDgbN2403yWAwl+4cKFJVAS/taUccQ/ODrIDKQc6qiZxzYjaIQ5UA/bg9ktddRKpNZ+WbHCla7CBlmech7tGdCKCiraDUkrpakYFob4YrSJZ00MCOG8jzpaADDds2IDalLvDneKW79h1skEb40NBMgnleuijcLYX+5w4r4rfVgK/IlQRsJqHDx/mHkhmVQPMYIPb2Vnh+O5D4a4NcPpk18cee4wb4sv4/Pdb/o+P3juviSANaJaQj6qfiL5O90mDh8H6JroC0CxNrR7HMJo3hdKu45YihDVbo/4lbtC7rEojWeF28JfPZHMP/a1EP8kHqjzo0QfZ+fkXGrTB8SlXVWE5fGj7sT/1MwvTZxpTPZlEFA7e28DSm+9G36Iq4YE15WyBe35rfiwcn7/z/z0l3Voof9Q+P7ITYTEEgB/p8AjuFN8UH3HdBr6Te4DssXfyBrFn4+6fTgSTG8fH7Bq1GvmYXVV22grT7BrthB8Mkdu+76etOx3bZFbFkTR6/9m5Cew9Momu6NoANzhIwJ5JbCAaaKQPKgjkOyWoshsGgE5MtL7OD+uArOzgwO6iz4D9EFCvZ8+ehQ9EZZ0XzdTPCp7pslV3QDehVHGbspRKTb567DLMsEmUgVM3YoMfbOFlrqh3FAuqu6i7yEb6J4DZ9f77J06cQAXhLysI2+aLKDiYMbSdW15WDhcvXvx/ffx3G2wdGdi9a1WBfSq9eHjetp2rCq6t0oSGRqDJN4lRvdveWCIQjJmZmatXr4opxfbevXsZuWID0Re1hM+9995rtkbItBL8kDOH0rNy4IxFk+iKTs/HueAmURtktWbNGpMYmZ/0gKYSm/Y8m9JORC4TrS983qb0Cy2TSVhwZkT6zGcH5ymRPXv2mK3q1MkKtwADDHe7psIKAu8qvRbq22AoTTuMqA+vnz7ixo0b89rXTTfdZLZGfchUZPbOdJrKCjdiz4G3p3cow4HjgDWf8IbJ5LwTcOnSJVpl+G2JhtMmO6tGbiSDzg3+CJOoAU2LSVhAGSXOaqnEk2deT/GFcfZE64sYzu4jygahP8ySSRTAMu99wn1Vzp07xyt3BjVRyI2PAiLPxOkzdWwwzmK2GsIviiNHjqDE1q1bZ9LJiNoieWErqZkV3XT/EWEOr3Qf85EtDz8PN9ckquAPN6DBZovQ3WmPHTYF3bsHyp5BHzXTfEcf3HXXXWbrGvv37zdbFcnIitdvEt3Sw1lL50KXEi8vCk0bLrPTkHw4GmcSxcCW11/eqOo4InvswaCeQ/eRpULioxW4dxk2awRomcSe4Qwb3GBvBynq8yBz19bcSJmQNRw4aAIBMOkozdZ+IvFij0Bvmz4E90weDIoG/gSwzYYNG3DB3U+8sunH7DO4QXsz6WT4iELKQFfjKo9EbOfcN77Hmczx8zZyVcikjgJaY6323PsyqqdOnaLmBZWeBGjkyQ2bdJmBFk7vDH/o8fNFjylngNxK+zwEWU19sA9oir+VobgfHb1iQaZZTSoI+tNrvCZcpiOxN6gIWVyl0lMY3YCGwGvr5aEjn34MMOGsM8AHGCKwVwpUndbLySkm0RAIc/1HhhAS2TtxUg7L2fDhGZPIBR4AGolJNAQfX7HZvHlznRnUQS5evAjpZ/+HUD8cb7yKg3XnAxsMSTCJYlBfTXWY15Qf+vsEmrGv4BiiZS7i+jkcYwdqNnEyoN1ZVWmNSWiVZmU7TuMTLAAfICRo+4ndG02Bs4tzDzo+ewp9GmAbe+FQh4xZdg4QLLQWk2gCpyvJsb7E0ePQ16VDKXF2fv6FlhaeLeLcuXOQYLhHthBXZd26dZD7xs25A6q4wSjhzs8+k+LllNrgprRnG6MqqFzbJJMVK1bAQB48eLCOeT5S8GYbCFLbYoBmnj6tvRtQa/56KcMBrabjEgsKHkHoDG0PIELE/MbCfHHt3Wt2Z55NB8LWCEMxwB0AddmsqFEnBq0vwQHsH8NGnV4drvhjEkox2x85U1QXVUlcXLDIBjfYPY58mnpMvBLHjx+H50QdR4xuszBfrFkDi4sjoRbNj6cM1JH/CEa8yZ///o+D0zAb6SdLAT5rsy6dksEUGWACBd2UjgYbfv3kL95/3ZxPB7SlOs2JoXZKj6giwHA29aBwSt35NvjRr73ciIxt2vNs408MTxV8GLcz9wXnkkcwsJ0S+Pqtu9XGzs5w1SfDYeoMMIGOrv88AxoYQuoXX367qH/75Lkf4itIfF74ix82NXw4hSRqwFJQg6VT1m0bDNGqf97GB02UIUM/2yTa4Y23f9Jg4KE0xZQaYAKhz167g9bXJEZZma1rbHn4eVHKUKbiGqeQ/bSD4oB6qf+8Sso0ZtpgnK5meNHS7H2FoB5bLV4OW0AGEgVPjqwvOUG2P3KmjalVSlNMtQEmEP2qixM51pfAykrogzydpyNSAimQsrCGUolGuvFLx3R5QHA8OB3kUN9dUHoBOqRmpwXafoOLbECW6i82oLSNGuB50j1WELS+BM7mxtGrQkz6evCrSOek/ayC0jhQRvWLFzkE562g3tm/VzQnqxTo7q8eu2wSSlfQOWt7dS2cwvH/sKeNdXNxFnXfxws1wD8lpSMIFjTi56JR/Y1dJ5GJSXsU2WD8REOfDqg/tgpDi0jFJEagTm1lWtUGb3n4eR2cG1/iCkGw5zaXjkbBFasqpdsfOaOmdxxRA+wSeQwAX0UaxqY9z8rDo8jB6YIWoG3thQyRYeMLayhxaj5RbXc2oqJ9jy3RBmfoWaVtuLpW4qzJ9CMBDGQlJ7tIC9nYmkQZR9QAh0FM4zSAuPX1FTF80qKuLdrg7hfWUGzu/OwzdfoeUeMRFRm3wexrMQll0oGk2Y+T+bqlKuw5V8d9AlADHAMKmh07EesLu1vUnIqC6SdHC2vUnLCjNAIqImM0DroPWhUiEXlOrMgG44x5j6UpvYBadhxl1GD9AaPgZIIgOJ2MWxX1qyljihrgcjbuefZD28MmlorYJApA+zFb18/IzZ6wozROJaN4x66TMmHqi4e/G+nGcKoYzpw+EzLWQEgSh1oR8kJOTKKYxCHk+/efg4im22xlXFADXII8f+L0IwFn9k0EHol8nOedoJ2ho01C6RXbN4rgHxPpAgG0wTrcMDFwOn1wKqVQNT6GeATtup+PTpWfMNQAx/Cf/oS7yiAmRVkLMN6/vO/5oEesNnhQRKbgxQ0tvgp2D+pwwwTw5W+9khLOQjM01cMBmQmu/aKzByYMNcCF+NaXcH/iIpH2whpFGjzyOgelF1AjTscgIo9SFexMu9PhhskANRh0rQQ03nWfPtaUXYSzrtpgelADHKbI+kKNimeKAyJ9TZcKFtbATn+4UW3wANn5+Rc4wI+/qCDujCMBNP5imzuJ2uCxo7OV2NlNUnXhqqB6UcYLNcABiqyvP+uVUY4/OQI7I7b5gS+95AwnAzTClG4upWNQlff93osmkcDMfU8XaUa1wWNEsF3bsDfYH4eiTmhkda1NZW/vxwE6gDXWqAF2KeooLtKqwB44hJFOiZaCYzlqgweFLQmo1tL5L9CVjJgB6jE4QU9t8MQQN89xYDgTZ1MDyF4j5lwZIGqAryNofYs6kx02/5PTKYfZ4HjHg4Ytd0YflV6A+fSdIdSX07FM+N5Zk7hG0bCx2uAhE299aK0ZQ0VcXSvSJVYfCFXpC7uUAaIG+KcErW+wu9iBQzjc/mLF1YYRMzkr2qgN7h0o2aLprBQSiX6YdLwoIShRQG3wAEFLjz8qhqrMGxXmkFYjE6Tj1xAUNmXIqAE2BHUl9gQjHoHjPb7+lfk7KTzx3BWnPyrYQa10A0o+PusVcNABnxSNjMP8aXdqg6cZeNj6XLgC1ADPU2R9zVYBOCD+ImHY4NLoWXBOVzQRTGmPooDVBzWLgImLq5hdUWBu8TGJa6gNHgKohUjnLSxlRuQK2YBglA4S1xlFBjhFUbd2ytmVIaAGeB5Hjb748tvxTmDqX5MoA1kl6lkcaT+KoDa4S54883rKvBhUpXMYJCGltyPYq6E2uF9QI373lZBXNRljvVxdK3FZPRu6jMEzfvlbr0RuTRkIaoBd67v9kTMPPX7eJDzshTUqkdjAcGrbH0+PyZQ63O295deH3c4m4ZHY24EcHLWoNnhopLhTDnCdG5kDBS/QbDVHhkOgdMa0G2BHpSJZJK+Jc6HjIIf4oDJwAl+1wW2D4i0d9MUxKX16KT2Wd+w66Tyopja4Y4oaFPywqta3pZ7eTXuejXfC+bCLxY964fdXzUrpjKk2wE47LGqWAF815UjSoJa2W+eYyLUpdSgtWBzwxHNXTCIN/CS+qpE/7U5tcDcgxNz+yBmTyAXVhyruJrIsdQ0d/Ol+ypCZXgNsa15fIQpwHhOXIaxEkbtq4/SL2hes1OfkuR/GIwOUf/ocOocUN8upULXBvVD1ucH0yR8NAkGCtFRajiOoLjQUHhpTaoBt6Sx66BPKF1+ZRDvABgTbiXD6/Ft2m4kfrKSz5eHnI9Zu7hvfa0RV0c0yiRD41h6SUBvcEmjIwcA30cG687PPZAwMt0Gl9aKDs/Qh2BmzvZSWmEYDbAsltv0wpdQuNkupuncu2GwpuaAMi/oPS01mBuyxNAkPZ9qd2uDG8fuZ0MDjnU8C7G7VTuBu+PK3XoFQDfPalHSmzgCLKmQnIbcF7kxsnM3ywJdeisyvhoWWNR8i2lwpJVJ6+Kq9gb0H575TVL/OtDu1wU3hz2yPT2UnbThh7QFpMVtRfPFDspHFuZQ6TJcBlnYVXKcX38YX1uiAuz93qqjfG61FVs8ZIwUxHJz+fBvsL33XQiOgcoueV0GdiuenNrgmQfe6FISV47tAFWS4tJ9cnHjieH5K90yRARZRg+l1tC0Et5e5FUXAOQ1OuLDViracSuz8/AvBIt3+yJm2R/p9oCuDwQeuRParDW4KzmCKTIiDYExMXy5upDSuPf/9Hw9kSFuZFgNs2y27hxnCGun47RdcajAsw37qC+delCJQUP7jGb0/H4mrciISgD1yVWqDqwIr69QpajkyrIAqmOAZSbi7yBN0sMHieuZ1GCj1mQoDTNly+lvGZaQHF+mracRtjOfwrdrgOH4tD6fnjYrPtxByeWqD04FFscsqsuLNVBUpbjYxvt/y8PO9j8FNG5NvgKnLHv3ay3ZPY1DrDZagmpbpJPirNjgIisiPcVFcQ1usIOgL4sqpDdUGVwWFGYxrYWD8cp4evnrsclGXD/YHB2iUtplwA8z2NnPf07LIKkStjYU1OoBxm2NreYP4m+jkTg+wW864/sCnfZ70Hn4TrxEGWG1wEXfsOhkvHH3s1aHIDIuLj4bT/cSI6WSSDbAYJyY7WFijA/znKKCAoGLUBtugNOweSFT9uMxuhS2xJyWw8wMbaoN97KEEf94ii04DuwhQHX75wEmly6L9ah0wLAO8Zs2aBcWsXLnyvffeM4eWgbYnPXt+bDHu0OKaxLWnquDYRsa9muXIkSMHDx7cNWLDhg2oOBvuBzgMmN90hV0yY1r18BSdERMYmw5sMCoLtYYaNE0umaVLl0IMZmdnL168aPLqCjTzxAWtlCCnz78F7WES14DIcepJ9x7M5cuXIYeQJeoQqhQb7t+9ezcOO3cu6THowTIIA8w2vHXrVpMuBoXOg998802zKwSkB3Kz/ZEz9IIn1ZXDPUq0xDttxAYfOnRo9erVLGcbin6eQcWvduzYARfK5GWxefNmNDlzXD3s7gE+fDLWVY/KlTdjbnn4eWzXt8FwYWEpTdFfA1WQV61BYIMPHDgAaTG5j1i0aBF2miPqIY61M5Y0943vYb/2A9UBBSgd0UJwZzZzc3MrVqwwYmEBgYF6P3Wqcicl5A3WemZmBjJm8rrG8uXLm5K6lujZAKOMUGomUQV43PhtMCCGuMAO8R3X0zCpD36GPNWHW779H5yo9FZRmNuRrM7ToJasBOpx48aN5iJGTTG9q0N44Esv7bq2KhDKobPOgLbBvTAWgUhDsKvaYGg0U6yjPqTuI1QbSJe5lFEtm71V+Oqxy7C78WXjlJps2vMsvBlu07PPNsAwt6a+Fyy44YYbkDRfdAicS1hicxELFsBamy8GQG8GeN++fSiLOh0ICIKRAxwfkx4BWcFnaAtrdABumR1xuPGPfOapuA2GRI5Ecd5DjPcl9IVoanhaZlcUulzYuGPXSYkaJwlRgthIscGMBvC3qd6FNti1axdrGSG42VUF2GBxPZU2gMhx8gSXMZFWFufgwYOsVkS6GZ50B0gPH8yQ2dUT/Rhg9iSbRD2Qj9hg6KbbPnVsml1jtJAvHv4umg2Kwp/sjehnJHULjh8/bnaNA2wtcJ9N2gM3i78Pzn1nstUxqxURCSR85+fPBm0w2gLKCpGuSY8J8BJGgrmgyF2AYD/0++dZ0UrHcLIbR3P+xv3zc02436Gqetm2bRs3Fi5cyI21a9dyow4MspH5iRMnsHHhwoV33nln9E0AEbyMru9G6McA44ab6gdgMIcNiIi2T4Jy4OSjf3nk+9zD3gLEu0ymQDmG+NK/ictxItLklixZwo30Jsem4pjhS6+9i9vkcIPZNemwZue+8b1f+NWnbRtMpxZ/TToBqQ6EKatWrcJGgxoQLFu2DDJTSXJwC8AkrsFeUNZypeEVpXEe/drLHGs36REZ6gVQ/Pbv309LCRoUPzHqieLH6Sndm+EeDDD7nbCB4kbpI4n2jz1XrhSumhYHv1277dgn986/8pMfRIH25/T5t+QztEUY2gON5OfvPb7tn/4Re/tLu5rRHnAYgchCjq9evcoktusYYChi1DI22OTWr1/PbLFdtcmxnXD7ocfP/8o//SPc5ljPtMoDUo1ABPdOG8x5VfwqHVYH/95///3426AGpN+GRl1Vciiu3L5//3jPcZ1UYIYhezTD1OcpXc04Brb26NGjtI4UPJsU8YNS8sUJGYrMiP9Hqvp/aEom0QmVG219OH/KJEb3bLbefx91gyRhOd52223Y/sQnPsEDAGy2U8ROht0Af9y267a9x0dcAXw27XmWwlrzc/fopeLycc5oX4zMP+JM4J+750ji1CpYSmdMPQPGUgKSqLL62Qqo6xUrVtD8cHbS1AIxQCHs/RffQZkcOnTI7C1jyZIl4g8tXryYOwEcI6fuinAUJRSreNUAG+JM04er6rrhJ3/+L/0Cbq2ot3McsVuouIy2GsnY+eVvvSIaQN42Edwpe/DhHmDrE7Or4s4PbZ9XTekzN1GzEu9mA30iEiVBAqgqZj6csWgSndC13QI7duzATaIQWWQMgm+//Xbz9ahMaWLhvFBxS48l9AWMtGOAkU/ejMopAeVz8OBBkyiAnRDYgFKmHKMW9u7dO/rSZc+ePWbL49577zVbVvWhikXRFw09RPJ0wHV+aNuxaZtkF+HD24/9d5v/95QxHTq42Ljpppu4Jw/bAKNyqVKRc30NSJDV2A1jTy2orFL1EgTSiL/QPGfOnLH1PEUUcoW/Gdx11134e8899zA3aCHYF+RGq+HYDgcOY5tEJ/RggEGkzlAfUkZwyelKS/EBxwCzyPArk1Y8tm7dWlWqYH2pValeKcrYeeONN46+z+yrFDdr4cKFbBjY3rlzJ2s5Jc/NmzfjXmx3vugj4ULix5xgPIH1RbFUnfDMPsDf+73fQ3W8/vrrTi8F9WMGbJ6HDx+GU7Vs2TLuJCl52qMMyvDhA4QmUQXRBpCKj33sY9iAtPyH//Af2A1TqetYEMUFoLWQA0wDMoQpYW5xJYMbWb16tUl0Qj+CnjdkFQT5qLNcCqeqrVu3zqQToCPpIIFs3JEsIqh/YeNpgEvzxC0Ak1CuhxNhEp/aIjTA9IRgLznQA4VFFVbTAEs0Q8X3gQ98AH/jefIWItPdlWGSoV5IUbcNpDG7NwU2+LHHHjOJ64l0szFKaWpqcDq9qTO427hhk8gFOaj1TQeaESUGxqvDQJY/M2mlGHkUZLyW6IPuxjWr6R1rxlS9QOpwzZUeH2iQPpUa6gl3XnXyOmGLHfeFQPtClp3KWwChAy5fvsyGAfp6RG+sYac0GKyHKkt0LVq0aLxUthKHwRXYsWOH2TUwxKfvvXX0H1WIz54yjRMWN/1gJQV7DUi0nNKnlVri4MGDYnHBkc5f4TDBiLoBK1as6Muh4fNFBHWNhm++UCYXe+FxqJq+PC3OHSGDmrE7oG6948ePmxK6hv9KALW7bYPQ0xZWAnWJhoSgqo7ShE3dFXrTztKlS7sfeplyUBGm9C1QNdhfx/UpqmLEGdpyFYAIyjbJBE4hdA5c8DrmGbIXfN0Lgoohd6HpuJpSDdjgAwcOUM8SI+kWaFH8Co2tpk5XeoGmdOvWraxHPmpvw/0Ah2kVK02BMGz37t2QKCNeIfVivlizBhZ33GVPDbCiKIqi9IAa4Bh0uDZu3GjSZbw3WhLIJK6HT2XIW7G4U+kGVEp6JRJ5gPWb3/wm6steWlYel8rIVpkwIBuVIjCRq6OjRVFElmy5AqoipgSt5hhVm4FjgO2f0wATbV0dY1vK3/zN30T5i0Fdv349FR80IPZL1TgrSGyzXq6iBlgRIDBigCk/lJOroyUSuR9tH9vUDCJXECR75RM1wNOJVnMMuxnAY5WVcu3Vp7lWFLfVAA8Tx1Ki/PmYP8wqoOJD3dkKURSlvQobUAOs2ECWxADbKoKP4nDbduZkWxSCLPykBngK0WqOYTcDtBA2FS42xK+gvu0VW0q7oIm2ro5xLCXqArWGusM2/sJ/ctQfcCJgQQ2wYoO2LAZYVAQ9Ofay2A0fpMgVUBUxJWg1x7CbAYwrWpcs9YfWtX79em5XRVtXxziWEkrw7rvv5jYM8IMPPihv76mEGmDFNsBUEdKPAhVhv2yqEqoipgSt5hh2M7AHdUCdFtJ965ryRQ9aspROtrt37857LUycjleHVyqBtlxpElYijoroeMEmnK6vBXmmja4twXjRkqW0s+VikLDuS0Zvad25c2fwpDjg5ptv5rb0YuF4brDzSiYW2TOM7Ny2bt1qtqaMDgywlPNjjz2G7VtvvXW/9RJGG1QlOyqlHkt/cvz48Ta0vFIfVFyrBnjfvn0IrLkNZL9MPZFXxvGFPzKVAQccPXp0xYoVZ8+exa8y+njsKRFKSwR0vSJAcEGDutt5DMkWcahjKHQ7zt6yZYtsE7Qx6m4Bx8vQEYc2v/nNb+IY7Kd5Rg7yChonN6VBpGwvjGZTYwPVUTSqh3o8d+6cVKXzE9QdlSa/JW04EMrwccRAkpy7gA0xwHTs1qxZI7NSKE4iXQCqIGhWgyLnJJU20CLuk1OnTtF9RgOguMOBxYb0ZEobuHTpkrQrtChuOxM3Dh8+jOMR/tpHYo8cs2jRIm4ojRNfdz7j9clS9QBa1WwpU8bly5cbXMWTPrpJeNgih/O2MZ6iOKgB7p+iAR60B2LSNYB50D5MRRlTYA7NVifo+8c6Qw1wIRB6GK2I3WK06vQJA7GaFy9ejOegdEPpGDCqkj32V69eve2221B9e/fu5VcIGrgBWK2KIsRFQuQK7N+/X7aBI1eqJaYTVSiFHDhwIP6uYmldFy5cOHjwoN0UVWsPCscAS4e/YCtKIhPZtCqVCI5IiNgQW66cI9UAK0AVSiGOAYbWdmaoOlrbbmCqtQeFY4CPHj3qmNt0RWm2FGWELRKcmWzPnRS5kvBXpr6rAVaAKpRCHAO8fv36p59++uzZs9jgtCZpXYyoCGckqtYeFKgm2wCjdjiDVCaFOr6UjValEsEWCdmGua0qV2qApxNVKIU4Blg6l7Zt28ZGhdaFlhMZAyb2ttILtgG+cG29QICqiUwK9dGqVBxEJODMUa7gjjsd0aUgEzXA04kqlEJsAwyjy0Yl4W86qrV7x4mAs3GqspE1qs6dO7dhwwaTUMaNRlq3Y4BFHi5duiQBNLvZVqxYwWQR9hNrpQcrvaO2oZDSSViJ2E008UlcxNaycg0aIbexgaykQeKYqV3ZqiqNG2BYTT6dmbLeEJw2xNmoL3sNBGcc2hYSZYxopOKQiRjgdevWcQPYQiJRtWxAriCHzsIazvWoXA0crZ5CYICXLl1ap2uIjyFJG8C25IaQmi0H30ovqD0sBNDAnP5tR2vr+gx9YdcCas1ZbwjIKCBA7IJ6tJcoAk5VNuLqKRNA0WxBSpe4cRQqbCxbtsyWK8fiOkllaGj1dMfly5dnZ2e5TbuLBrZ48eKdO3fKTm5I6wIybRLYah3Iq5mU7on076FabZ2YgnZmKGTz5s2wsiZRj0Z6fZRWUQPcKZF+Y3xVyV3VmElRFGWsUQOsKIqiKD2gBlhRFEVRekANsKIoiqL0gBpgRVEURekBNcCKoiiK0gNqgBVFURSlB9QAK4qiKEoPqAFWFEVRlB5QA6woiqIoPaAGWFEURVF6QA2woiiKovSAGmBFURRF6QE1wIqiKIrSA2qAFUVRFKUH1AAriqIoSg+oAVYURVGUHlADrCiKoig9oAZYURRFUXpADbCiKIqi9IAaYEVRFEXpATXAiqIoitIDaoAVRVEUpQfUACuKoihKD6gBVhRFUZQeUAOsKIqiKD2gBlhRFEVRekANsKIoiqL0gBpgRVEURekBNcCKoiiK0gNqgBVFURSlB9QAK4qiKEoPqAFWFEVRlB5QA6woiqIoPaAGWFEURVF6QA2woiiKovSAGmBFURRF6QE1wIqiKIrSA2qAFUVRFKUH1AAriqIoSg+oAVYURVGUHlADrCiKoig9oAZYURRFUXpADbCiKIqi9IAaYEVRFEXpATXAiqIoitIDaoAVRVEUpQfUACuKoihKD6gBVhRFUZQeUAOsKIqiKD2gBlhRFEVRekANsKIoiqL0gBpgRVEURekBNcCKoiiK0gNqgBVFURSlB9QAK4qiKEoPqAFWFEVRlB5QA6woiqIoPaAGWFEURVF6QA2woiiKovSAGmBFURRF6QE1wIqiKIrSA2qAFUVRFKUH1AArymTyzjvvmK1rLFmyxNl54cKFVatWmUQyyMdsKUqvjLsotmWA33vvvcWLF5tEc2jLT8epgmXLll25cgUbCxYs4IYQ1MK+si4F+czMzJhEQ1y9ehUXbBJKCKlZIJV+9OjRlDodggF++umnUcUf/OAH8Xdubs7sVcaT/fv3S22CiA5Zv379iRMnTCIN/ydqgMM0YoAnr7i7pMgA+wzWAKMxL1y4EM3YpJUQQQMcZJgGWMDFoLpNQhlDIH52a4UXGJFGNcCgdQOMRrVr164tW7agYqTsUGqMbKS9oapEd1NNbNu2DQcQ7gdS3K+++iq28RXzhKbGWfiVbH/zm9/EATgFlQ6vZM2aNRkaZxwpMsBShqgCbKN8zpw5I2UyOzuLQrvvvvtYC9yJQsPOPXv2MImvLl26hD0333wz9xDbAO/cuRMH3HrrrUximxtAtv1skQP2iDn5zne+g7/2bxWfoAG26wIF+MlPfhJ/AesUjQv1ftttt2GPVD22P/7xj6MWuAc5IMnDpJ0SHCMbqGI5AD+R3ERXBrPFTl81x/W1MnwgV6KHCSoaf331DuWMDUjCL//yL3MnkzieOZT+hGCPbDQoip3RlmqzFQHukM2elQFQBCxcaXJ+cWMj4u984hOf4AbztDsquSEVIF/ZVzIN0Bv94DWw7Rhg2QMNzrKS6qB9ZVlJdaB1sYdQqg++jtQaQAlLtZ49exYbcgCqkr+Vig5mK23GBlditpQQqD4UkSDtjuVs60QpcxzGPdJMpBYADsNf+Yp77IbDA2xkj+TMjWC2RfoOPxFPQhlHpJkLFINS9S47RV1XtQiC7Kkjip1hLrFxgp44NAXL0S617OL+yle+Qr+eScYBcl78Ft4NDuAxyNC+kmlAioJInMQyhKBLWCOq1m8SbA8sxk2bNvEwqQWcwjaZdgm/+uqr/An3yMXwMuLZOkgVK0GkZoHf7oJ1Gqx6lLPgtBdpuURqij1bhHuo5qQ5x7O1wSmc4EkZO2xvj6DS8TfFAHMDJP6EtCGKXdKWavMVAZBmXL+48SvGWLKHOYib4/92CMXdJU0ZYDlMkDIvMsCoBe63y5wVzb/xbB34E6WIuAGWFgFYp9iQIpWqtw8jdt0FDbBdibZI4ALk+Hi2wpo1a9T6TgCoXLtd79+/X/SAKAoRQkfbcANCReEs/QlpXBQ7pi3V5isCIGWBMuLOw4cPs5RxPEvQ7vz0i8wpbqktgm1Jwh5L/X3zm9/E3yEUd5dIFRBR0yKgKCupDpaVFBrKSr6VDeA4PTiFFDKQEpZ2ghqUMkdr/OAHPyh6NpKtg9SpEkRqFvjtjm3kk6N+INg5ljkqCC3otttuu/nmm6UGccCtt966adMmFniw5RJbhDioxp8QJG0tHMmWQEjwFQdKgNmrjCcQLdYm/jpiwAFXiAdlCQqBQoht7ASUUtH58Z8QfMUNHowkNrgHIFlJFLvnp9faLKUG2J/Fw+k/e/bssVs79thWRIr7scceY2niYO4BqHvbHsC64xhUwOnTp5EcQnF3SakBpmpG+WBDyo2Tp/bu3YvClFq45ZZbWNpMSg5FBhjgGPzkmWeekT08neQJirIV2JiJfSJlyPh+s6LE8dt+IwxfFNsywHFaKm6xMcoAcRwCZVKBt2S2FCWNlizC8EVxcgwwAiy7t0EZGghnnfEbRVGUaUZ9VUVRFEXpATXAiqIoitIDaoAVRVEUpQfUACuKoihKD6gBVhRFUZQeUAOsKIqiKD2gBlhRFEVRekANsKIoiqL0gBpgRVEURekBNcCKoiiK0gNqgBVFURSlB9QAK4qiKEoPDMgAX7x4cdeuXTMzM2vWrFm3bh22T506Zb5TBsCREagXgmqy2bp1K/fzMPMbRVEUpYBBGGCo79ErX8OsXLnyvffeM4cqnXDo0KGNGzcuXbrU1EE9Fi1aBL9K3xGrKIpi07MBRqRLHQ0FHbSyMAM8AGbY7FJa4PLly5s3b2ZR26xevZpBrTmuCvgVfhv0rlCtFy9eNMcpijLdQBvMzs7CCsBZNzoiGWiYbB3VO30aYBbf1q1bTbqY3bt38+A333zT7FKa4NSpU8uXL2fZEohye6YRZh75220MQbb2Vw8ECEORw1TKWCtBpWMQa0FaHM0jQJY2bNiAAwA0P4TKgV8BHHnDDTeYn10PQruDBw+a8w2Yfgww7CiLyaTToOLWgeFGkL4HgHi0l05+O+ZeuXKlelddQmeoSH9Btcmg/oEDB4zmuwZUG7/asWNHkcFGa0UO2s+hCPv27TPCcY3Vq1dj57lz58wRtYFwQiadMHrFihWDtRr9GGAUCsrIJKrAUUkdEs4Gald0LmzwQEoSDi8vCVKhKrtVYDVZ1AIsKExsg94PzLPt3hE4W+ZrZcqYnZ01QjACbllnrvahQ4dg482JFyxAzD009dKDAaZ7YhLVYVGahFIF6fOBwjW7hgQUNy8PLoL6WM0igzgEUUJnJYxT2xFJypCTMhkg9DS1vmBB73Mw7f42uKFmb990bcnYC1Gnz4Hd1zMzMyatJACLOxK8BfBGza6hAqeVlzqcRjK+oLHIVHa4NShb80UfnDp1yr6Yy5cvmy+UiUMqemj+FqROrm0IGqZrA4zbrj+fGdYX+ZiEUgb9UPw16TK2bduGvxcuXJBCXrt2LTeqkp0V+zDRVExaqQgCXBlrGJorY/dJ6sD/hCGjD4ndbDjyypUrS5YsWbVq1dWrV5F85513zHcVqZSVdE03OAKdQadmjP1gJlEP5KNBcArUwpVCH1pNAFHmRk0DDDKyQsA03z7U06qOKMHSiaCsoBtvvBFOEtQWtmvWdXpWR44c4UWmu4bKkGHfJKgU9bJrev369TSWEJ5sA1w1KzipHByBMTa7OqdT7YZbLZp7tWbNGjbaS5cu4TDujIAwOuWwKYeDvlXnHQzEAAM2afgQJq2UIUpwx44dZlcUqaCjR49Sf9Wv60pZSTSsk+/GGnGXq3ZpUFTwQybrG+CqWTEsLDJMbdO1AY6MQUJHX716lWa4FLrPJqGEgDiiiFJiX6hOHEkgstSkcCS5B9tVlfKyZcvY7Vk/KzbsRHMy5YgSTJ9gxQpCu5Nu6poGOC8rBiL9DlEr2cB5QvXlOcpQU1T7CL1OnDhR0wDnZXXu3Dlcfy82uDsbxjmuJhECDfjmm282iQSQG5wXk1A8UD6JY6gf+MAH8BfHQ2qxQU1qU6RJIe6+iCMA2rRpEwcI0rOKwCdNTUIpIFEJokZwGBFni8nFixdju2oFOc5WdlbsrVEbPI6g4hKtLzQGNQN+cuXKFWwwbBWqGmDKM7frZMXmAyE06a7oTq+hlUpJBUEEbA/rbtmyJX48vv3Q3/vftz9yxv88OPedLx7+bvBz+vxbwY/JdFJgMJQeCUGN5o2p79+/35FyeKDY2ewIPe5lmI9ODQcUUYoSHLKzRRvc2fNRSiOw1kwiDah66SbBb2mJAWQMySKrCWFzvoKo2GYlPasgHA3peCikOwPMiSEmcT1owDAA2Fi4cCH3kKLjCb5du+3JD207tn7n8f/fH/1725p+/eRrjt3l59GvveyYavkgq74+zpXIx7l4+Tzx3BX7ZuVz/vs/NkVzbWkLkygD9tIp+XQcAyy9zYlDCYkgQ52qE4FPVphEGUN2tnAXfY3GKXmgyvbt22cSCcBRS1cOMNXI38Z8MYIzS7CzkqGNgKw6Fr/URlufiI6QEoT6tnuhi44nyPA//3N/+ec/89Rf3XmcluzJM6+b78YKx47Kx7G78nngSy85ppqfuz93Sow6PvHSE+BF8kg0DJFjDtVLf9GePXtGu12cqOjChQs8HkqZnZAgMas4iO0Sb2c6QeGUTngmA3e22HMzwGeT7IZpdtXeaTdqs6udnbaWMLsa2vnzn/o/UF9mVwKIYnn8TTfdxD3pOBEwpJG9OMjQ3l+HBp/TSaS7k2WM5MWPx7fQy7A0X/hXL+PvT67+xzs/+ww2EOaaI6aMF19+G7f/oW3HPrTtyf/q//3hbEmCoOMvDPOZM2ckuHHGVxJpKivcC28Nf9v7iJZxPo/84QVbr8nnq8cu24rV/pjr7oTSwR1hLJwtXCEc61GNHMVfs/f996Waetlpy4PZVXunLUtmVzs7g5KZvfNH717lzo/teAp19Kd+JtWfg2Cgcolog/vvvx9/IU7YyT333HMPNyJQks+ePUuLzg7tvKxs+BCBSXRCdyfbsWNH1XvD8RHXBt/CqCPq/ehnnnriuSvSWh6c+w62bUGfeOa+8T3c8h27Tv5PDz5HLwRGLluSbr/9dm6IkgUZk6dAU1nhXn7h04dwX/zYne0NYisa+/Plb71i6zX5PPT4eVux2h+51C4+v5La2+EzTGcLOh339df+/tM7P/+C2av0DVoB5Q0aBpLP7b/4X//lbNkjIiHsTwYUpAwayarm7VSlu5PVMQlBkBufToEcvPH2T6CUsUHvDCA6QXLmvqfxFfdMJNT1u74wv5gLbhYKC9uI2JBE+axbt250VDXEakJ8P/axj3G7pgGuk5W4brhTfP7Jv/wO7hQbqGIeMJ1AsFkO+GS3rGE6WwA3BbfS7Hr/fdH4MANml9I+l15712yNAhvRrtAzkD34oFu3bs2WPQB3TaZNidW0d6bTSFaNG6lSuj1Z8khVKZw1jvLFNkwvgmBsQCWhif7gjT8ZHTIPrTI+Yzo8XATu0TFC2KbdxQb3sG1kTOoLuo0ZoQyonxWqGHexZs0abN/9uVPQv7hxuB1I0vmAXhgdOEV8/eRruHF8tjz8PEqjjhIcmrMFWN1osHZDpiWAAUB1i1WwD1AaBAIGjQoBg3SZXSPsnifEwfjL5nmkxnugqQ3spQKCSiOF+lnxeXST6ISuDXBTD1rBxbZLCrLCSPcnV/8jtl98+W3uJ2i3EzM8zMgezcN2TrEHbQYbEv4SyhPdlEpwME/IG8wjNbPC9TsVjb+wxHfsOsk9qFPsRP2i6rlnguHwyqY9z3LGA8oBO6kET2W98bS+hyQ0khXvxVmel4611LjARo2PLfNKHrY3AzXiODcUvGAYU9NoceDWpurArVAzK04AbCpETKRTA1zp2Zg4yMd+qQMjXZOwDJLDA196CV8xfho7ePEIekx6BHwL7BTP1C4EgoICHT/c1gjUxcCkRzAIxgY0Ars9CFQD7t0uiklCPEixNLh3yAO3gV9Q6QzH2QL+jcgQEl3PoA2wHesJ6+tqmyeeu8K+NEiU9DA74NvIYDzb6QQ8JYi76P4RuE4NMMBNyvhQNnynoUlcAwJkK18ki+JdziaA2EnbHjK4SPj+uOAvWtMaCd0OaTZO+CvQRR2v1Rzl/YkmbYFb5gY1MreJ3zM/7pw890PcDj62XUHSGQqdDCXIpQKc8Bc3W6lvQx7Ge+jx82aXcj3QGLZbY/ellQK96g/Dw/FCxXGcaEyZ1zW5Lmwduj6l03WcB3Lw32nIfiqTGAFdHHHc+NAOPoN1mTm1G5/TocdaGPOZxAgnaSOvxxl+KPzmm2/SYyh6baUEwcBxQYQtDz+P/WM9PMyudfhe9t1xhAVW2aQt6LLkTbsbAnxfuv8iHbZTk7gGygGtO26YbYc12B82baAk6crjU6r04M37Hgwa1J2joV8fzpRMXJByUHAhaAAv1uzqkD5s/giTqE5kyMEJgsGmPc9ynKwIaDd27vnxZY9wzicurEjF4GodrVQU/gqctgbQSIb5LnSYXq7WAuLTOux7Rw0i6Yz6ExRIvBiHCWM433tAfI/9kZlHXEag+/Vs68OXm23cuNGkr+eBL72EhmwS16ADmvKcEiQEh+FgfOx++2kAki+9QSiHlAEadrpAn5j0NRAoY79JhJB3gdSZk9UxXJ2iR7+hBwPM7rI8NRHspBL8IBhwxrxJFMMR1pT23B5oLVA0uIx471nwjuJtQ+ArMYgzYtcjc6PZ/yRlWTs7CCa4/aJuZ+lISNE+PYLLgweJ6wyGawwESz2J48ePsxixYXYNG/EL82Z+odlWGkgS9wWF7HelThKMK/Cxn+ZKAUJYJGZ2Z0wRXLQODNPLFxiyg37f6NODAQaHDh3CnVcd8eaq3/HyumPXSb93BfYMUmUSUdAmIbLIpFKrrs/p82+xtcBamF0FBGN6uKu+xxoB2pkdCQANJk/31QeesoS8oNL8Q5SV2boGqjgS38jw8AB7Iyl1uLyi6NYf7Y7DysXfAa7pKMARF2XdSO9finkQcDBn9uIz2EGoqth9YME+oQgN9hJJKAwGGA1zsAMUDXJ1ST8GGIjnm/ICMummLz0YYhRUVVC76SqM0QY+wcG2ZmFncqLJh44OGtr0W3PgKobCunXr2o6c0Dg5GV5AezDfVcEPggG8/viIAxjU8DC7RuP9LrjURPfRRkJhmOG8J5TaA21fTG8l58/viBZgUFGSzjMCVUH7GtRQVCLsNsMnPghVBPucI7+FzskwzyKBAIqllxFWG7gCEnUMwfSS3gwwYTtEuRS1Q0RF0lYT3flgEAwYZaZLEpp0q8PDtATpg1JFV4KWUyn8DTI7O2sHo2TNmjWw0HV8WPwWOXCgxQZ1WukNKkFQIGbLYvsjZ/z+eR8OD0NzNej4pyPheGn3IPwJCKFJVIddTQR+j9nbHxJ8gIz3S6LW0LpNIgTd2dJupAgUjKBoDQpbcoKTNBOBbxdvL4xGTKI6sLsyAxSsXr2645h49+7dYnfBcMbdSM8GGNiOEkElma1rVHpNd1EQDKD48FWlrirQ7PDwpdfehdAjw/RHZXhHReF40c1mgxbCyerNgnZYqR5LCQbBgPOHTSIKh4dRHZWexKgDe2LwSRmQhrGpGdIReK52m+qgn8Pm3Llzdp/H8uXL60zFR5l0HKSish56/HwvjpoPp2c2eEmlcohzNXIiVLrjiK9YsaK+F+4D2bb9PMK3NQyQ/g2wgMqwawjb2cPjCBqKZliwqypjPk794WGO5FVV95xZVvSTRsLfFBjLQnejXoAfLsPN5FcARzZra4tAyZit6+EU2UTF0c3wMEcc4TQkXhXkJD4XLwPYQmg9U2EjYJgzItFS5ubmIAbmHCNgd5uy+ik9HCTSZV0JvuykSNjaBppHfI5G5qZAESV6/5DANgbIIR5+lEWoPRCnQuGAoMzwK4Ajt27dyin0Phs3biyarjscBmSAmyXeWvBtnmDlDQ8zhs6IZuAo4IeRkB3fmq2ppCgIBuztKJrWFKSN4WEZyICrZHYlgOPbniwGHecYY4FK8ODBg1RzfsCKkJpfwc3CkTMzM3YvnwAvrY0QJx06zUUL8mRD0YLjW0m6qsLHfvCBQFbttCuC4Ue8G797IEiQIsdjqwTcO5hbuJIDn3rtM7EGOKKaCQSx6gR9QbRqvDcM7ipkvfSwIkonjnUW/g6ZSBEh1sS3VT0tjgLWHx7m3BZ8KvlqVJEZPTQ1qa8EabaRj8lxMMCvqjMqXASCyI9GJ95nQI/BJFoAmXc22qKkMLEGGJSKMtpPzXCnaHhYnj3Nnh/xUMKjU6U3OA2keFoZMVCd4WGacLhoVQMXBj2NdDNOPPCQBuV94mJQdzD2ec4TfosP9MlAah8XY7aUNplkAwzVXNrvBy2Jw0wiF/qtHB7mUB+yrRM/oRmXdhPh1jL6tCeSUmUxc+0NhlWpNDyMGucDIXleHSPmmmH3VIHiqvq0K37SqtmG35boeOHI0jZeH3aoVJ1ACr+zjaFfxWeSDTCA8JmtYmCA0WZMIhcI+v/wa2ad1Updjj6JPkHKrU0JpUEwqFnL8eFhmRmQPXDL52dMQkmDQwwmkQxD1ZqNNBFKBdwy+3TcictodQgZUGirduHAVVXPvjMm3ABDykuDYADFWtrfW4SziBUsMRQ9knnjvom94rA39QP3SQIFbraKeeBLL2XXMvGHhzk/FlFyHWUKKU2f2avYZI9odtnT8L8efnndp5+S0ajOTp2ngnSQuEsm3ACDFNUMMkIQeV9NcNimaHg4Ao5PfDyg6qVOPClBMOCTYCaRC4eHP7z9WNX6DVIzNFdq0mq0R62CmNK2atiDD/RGGxPdoYvUgo4Rk2+AEV7gYxJR+PCoSURh307KBEh7eNjsCsHOtMQZWxr+BkmsO3YXV50eJcio8O995WL68HARyKGpBV6mGdRm9pgll7ZIdHxLOXnuh5v2PIuPSRcDM2nrpUa6ozkFIXsaVxsOgRJn8g0wgFCarTLiz92izXy04iJWJP70MNoevkpvgTjYbCkWiUEwQP2iDKvOVoV6YiU6P4wPD0fArxp/RHVqQWHW6dqFi5wyVhUH1wAhrDovDECx0JmDeuFIVgb4efZzlQBinDdRUanDVBhgNK3EIBhQOzvmkIEsmked7h3kjHaOfOyxGZhk7EnXHRr+RkBJmq0EcHCiI8XRBBR7pJr84eE4OFgnmjYIfVyT6AScESLR7EmhIsS9g3h01pmMc9WcHqHkMRQDvG/fPvM8//XsamgNz0rtxO4QhuXGdrMDRcxz5+dfoF03e9OoenxNTp06lb0+Q/crM6QHwQRKJxK5vnFtHZX02IjDw3FHLS/+VkpBVeZNO3JA7ZTmg2PgbLU6lRqZczonPkXdY40E7gCnMFtKt/RvgGU9vEWLFkFfz83NyRJ38h6kpUuXmqNzgZhWChzZLYxPI006yN17591nNKH0MZu2w9/Lly/bxe4Ag7p161YcAA4cOIBqsjl48CC/AkUGG1WMHOqsxV9KVVWC8veLlLMB8MnTsBCeouHh+BiHMhA4rCBeFGqNe+r0cmdjnxSySpnkDNCmhq57Bzphdna2aE3TOINdgi2FPg3w7t27WYLxBWNhknlYzfepQV7NVhQZ6kMEjFCm8QXxCRoS577KU0wpuj7xFqoC8WUJC5BpmNgGX+cO82y/lYzkvQk4Dgq2UhAM7DcYckoOqqYRG4mLQW4SZFO0uD1w6FSNvKl5IA824ofxMPObyQICQAMM0wt5GMh4AbQEhWpcBCnIe++9B+FZvny5UQTXAwGDqqeAwUZQxmz4FcCRRdECtA10jjnfgOnNAFMd469Jl8E3TKHOTLo6peEjFCWVr+1ytjFP1c8TrZ29nZGAG9ePY0yiCcQBIjt27OjspdnOSzqh0M0XTZChm37rD/6YSi1jLlUpNOp/7e/Px8Rm15A4dOjQxo0b/ddb5YFqRRxT9HrvDuD4kUlUB0YXbRM52F27LXnhGQRDcKiFvKlb8AjjKrFZ/HHG1atXY2eD7yyCeYYec8LoFStWnDrV3W1Woh8DzG7nqm8bhKbAr+DymHR1gi0Txo9jLUXNDDKa8lxBIk7bduDwcHDKGPY30gOGuFa0LQqzm/cGFoGGYV9MIy8zQX2lB8EyQf23D87b4EZK2Ac6/WM7jiP/mvP4GgGF7L8wFUAbIqqACjPHVYFxCSISk5cFrHurgw4+8GLzXNXz3/8xnGN/4IAmOW88oinY5+xfGxCnAR+zK4Ganko6s7OzRhRGwNtusGstDpSb/d7Dmu+iboMeDPCBAwdQFnnvKePb+9GkTboiThCJFkWpLfUfId/SS1kHnCvYhBy4vhIuVTpCnzzzep5OsUGAKz02UJdm7zCwW2n99pmiWaCmcRiqVWa4QJFhT9GEl2zg3kmcgcxhgxPFoFng6zidfpCB9vQR5xPYsQg8rTzrngHKvHR2EuqC/m6KtMBcoeKanYyZDq6w0qnhSeBq4yPEyLNtX9B+32WPnSLEdjqHo/26NsCwAbh/VIxJV2dmZgY5ZPdaQOzQluKLWAVBe05pqEXAlOLnlea+yvAwN2oGZzIEmzI0gsOuXLly9epVlDb+IvnOO++Y7ypSKSsoaBwA6kgIiAfB2x85g/KEU2XSFgwLGox1oAeDC7bgCnGibvo27dF3OK+dDTTY2Opv5cqVHcRApdal1EQNB3HE04F7wcfnihyRVmVPurWaHV2qD/xCubYhmOGuDTBv3iRyYfGZRBWgXu984NsQypRFrHwQteC3JlGFOnNf8StEafh59lP2UHYssR07dphdZcBdhZo+c+YMrCaSFy5cyDbAGVlJNFwnPvNrSqLP0g5qHNPIEhml5+LwsMTHzQJdIx0esMG92F2fDRs28JIQHHfWH4hGxBke+Jhd9UA+2StmJALZaLabhH5n22u/iLd34MABs2uQSNd0gyPQGXRqgBn+1p+cdurUKeRTaVydJhAf+Lz4mx1NZgSjfDbUJLLgGSPDwxFYVqCS/mV/EYxlIwYYfzOyYu9l9hC1HQSz0mF903sg/IlylagUSdOxw+U12Pstvc3D1INQArw8uAitegaMcVG2pV5XVe4YzZrMXvcxApVMHfErAmL5ud+fd0SyFWAEcfSHFvUWAcGjkoExNrs6p1MDTKVgEvUYVXRSVhxPtbVbzWVfkA8yTNSV7Os2iSyc0V9/eDgCIgyUEnScSSdDq3n06NGPfexj2KhvgPOyosBk22AUlCxiZXZVYdOeZ+/Mek1CJQkRcDzEEj+sGfdwjgWYnZ01u6Js27Zt8eLFW7ZswU9QWevXr1+1apX5riJVs+K0StBgZyBMC/sV8Hnx5be3PPx8XndXCpdee7eNsXyIQRsGkjiSyYJCidU8ozj6GYMLFBtoBvwcyqG+BFbKig+DwBKbdLd0aoBxnwyDfNasWcOSunTpEg7jzghosaWHcWZgcIFT7K/jusL4IYfScKqRqVs4kd827OFhsysEiijF+nKAFhs4/sqV+Y41Wk2hqgFGM5DaqZkVbXDVIEkWsfr075w1u7KA7q7qq9UfsK8zPMxpL5VG0FFZ3EAhsw2uXbuWe6qSlxU7LZfWW2xHmjMsojNYg8LMWJ+5KmMxnFw0N41uvUlUJ9vRJxQbaCExljUlsGpW586dw/X3YoO7M8Bok7jJyKjPkiVL7IIrBbkFe6Hh33HQNPJMLWxnnSCY4BSRcSDIev2Hl+KTn+EH0MwEh4erDrej/CUQwQ9piUF85hRCW+crVLTtHqVnVQR+kt422OGPD7t/scH92Xy5ynKh7Os2iXpkDA9zxLdqh4FYzWXLlnGjvgGumpXETyadhh3sxodmmqqUCHSbqnZ7ED6O0fboLCQ5JR5AqbJIH5z7Tko3G0DFZVtfQLGBJhFnvaYEZmRFHwLuvkl3RXcGmDNrTCIEyu7mm282iQSQm7OUEsfS8ElxeHFY/fEbZBI08xD0qoO1QRIvMjg8jPJJH25H4ae7PjDVyNzGfDEC3+IvdlY1tEVQO5d2bVEXw++xtYY9EpwNnxUuVUZQWPW9Oof04WF2FWRMa6LO4t/7778ff2uqv7ysOIKYosft1t220aoEO8YqDVvA2qFy6/eTtQG8yZT3I9UfWKTArF+/Hhrj9ttvx3ZNCczLihYqowXVoTsDvHHjxng9QXHbHdQ4GIV49913O32YAg5YuXIltznFMf1dNIDTskyiBmg8ziATso0E3+nAL66k0O3h4ZQuegEOIw++6aabuCcdJwLev3//iRMnsMHq4876ILeiwQvUOFQebrxoEatGahluEPKJDDrA0lfSvJUoHR5GG0ERJca+VE9QVYsXL0aSOsumqvqT2qmZFT2torn6FG98GlwVZwh00D1eH4ltdn7+Bef5LlRZ1UUdBiuByKfjjujuDDCMJW7PJK4HZcc+q4ULF3KPAP1eNEEDuf3Mf/Jn2AebN2AGpRZRqZCz0+ffSvnc8Wsnf2n3M9j49kvzXUn/4onvYfuJ567ADGd/5mdvbX/y7/3W/Es6K33mu8K2zzeVotJ2YLcwESPH8OXGG2+8cOECI+N77rln9E0MjjKcPXuWFp0Vl5eVA3LzGwYKmUqhyCyRRoJgUnQuOGHdLNHAfk5f2lE+lcZQOUuF26IHSXzeiq/O0HLhdYn6S88qCNfSQs0yaTfP0oU1SkHpdbmkM2qqSL3gMvI6q/OAa5gemcSBWpObQoRQydG3GaYEckKWSXRCdyfj9BCTuB7sZ7SE8nJ6oX2TLPyf/syfpf5t6QNH27Ftkc9f/dXj6z5zDL/6uw8Zk4mw2LGplT6//Qd/vO7Tx6CJqn6oo//KPd+oI0nS6yCjKdjgnqo0khXuxb4dzi2H2UvUYjjYbNUGWTmhNty4ouC7JZzhYQaO8H6YTAHHJ/ZPUFHa2A4xvkWdQv1VNbQRcIr/8qP3zTuR25/86L1PyRAMGpQ0t/hOOuX8iISwm6TjnR/9tOletnd+ZLRTem74yTiR7MGHe4C/k5MYnJ2g7s5fMXtQX2ZXFfCrAUogx0FMohO6O1lpF7RP/Hh8C6NO8fr5HU/9L/tOmy+qEA+C0+Ew4UeaGwJEbimjvzbwGPAr9tRt3bo1W5KgyjltCsGxyLrsrERTWeFe1vzcvOeLQBN3V/URyQaDYAD9LsYPFxOPv9uDvYIQ4Dv+1icr1TUOhs7Kq1An/qB/3LgB/tkb/x9/7b6nP7x93qP9rT/4Y+5HExMvU+K54M4Il0arjZpEJyBMlB4LXCHO3mWfM4elTaI2dgnjpnBrqz8yv8CZ2ZXMkCUw43bq0N3J+CoMk0iAc3lAUSc+cpNFoTmNEP6muIeJcGzPJHKhKsRGzdn8AnwCKFaTKAOtgi4/LQGc6yeeuwLhRvkEZ4mnwFAVOQB26dSMgOtkhXv5z5b9JdwgQqJf+o1nJOKxPyiu+QOm8DMabvjTf/ZnTWGVsX79etYFMLvef//EiROIJM6ePYtGh7gE2+aLKMuWLWOF2rnlZWXDudzYYA9HzSVgfXqct9X9cO8DX3qpqh/vgxzQxChvTm4Zjv6QJRDKyr6qDujuZJznDWVq0rVBbvYsX5pSKuJKIz2wXnVGhpy5r3QFUpzxCL6gB4F7CyVl3y/OLhczL5K5wsSBW5uMgVtSPyveyC/86tO3ferYHb928vgLb0jQI5/SKcrNBsEMpPAx6T7gWMMjB+ftU3ZFA3veiuQjswEq0UhW+GHkaRDc7J2ffQZybtKDhzEorT5ba6msDgS5zi8e/q7zvKWUPx39mu/YGI4ELhotjGUSndDtyZp7B3vwoaadn38BHh+MH4dMgk/H+rBfyCQqsuXh59GoTOIaiF/rNLOU8BeRAV0N2B6za4R9I2wbNd9q0DtcpYHrteLu4Grgr3/jKdiFUwfxsfjMcU1nqyoi3vQnsLH/sf+tjtaQqe8ITbgBMubDg0aywr3Yg3zAqWs0EI62mHQu9UPDUjhiYk8b5liVDGEMEEg1HYWigR5oHnvSQ32jNRAJ5FyK+islV6JTA9ygf1GUFeRGLB8ECMmUCTJ5QTD0YFFDotvrzNdPBD+MqAZa92DmuBhnpihXJYQNM+lxg6/QkaVlqRqwgfJhr3uij0UaCYIRDeC8JnEtFK468JEHhIp3LaPODz1+fvvoSc06tcyg4eho4jrgsFyd+KNOVjt27MAPTeIa0PgodpPwYBX4M8PjsMPMJFqjqLu7bdsPgcy+O6jNiDyjAToatb6jPxAJxPH+oxZt06kBpouRPTApsMqDrgpbo0mM4BhS/CmRjCDYcQN9mGfVvjLaV5O4HsQB+ArnDbbeIoXCifXdr/BSHz635rz7Gbdvu0oPjJZ6Tp+TVVS2iez6wjm/w4POVqudoqhc3LhzFltoORSXvYYAH90WMgZuhTpZsV2vWbPGpC1wp/G1HukYVTLD+Ilfm/VBZaV3ihQ155qgKFJ64HCdUGI4WAQpDgxzsK2xPzJYcYn0LoG4fmASHdL1KRu5z/giiwh0fMeTawQigCiSS4Sz6eERskpc+hVHVoq6cDxssElcg/2uUBaRRoUDilry8ePHWezYMLuGDacLAE7gcsCdmq1roIRZPqWRaJ0geFP03Qy4gEiUlg1DGXx8qYDutu0x+4Rgw0x6DGGlm4SHX+8R4HCjsZd2a6FCm52Txb7x9K4v1m9ErjJAQ0gUcpy6KaFl10WdBSn7ggtBg17aTtcGmEFwnfdVsVs13lMPwQo6oQwi8fHVGcB+s1UMw51KA5BQlCnd4MCPYuk3oH3GfWrpioxABY2/Ga8r6Qy0AU6CBUXtYe4b3wsqLOmcdyaMODglnAiUWmmcjYpOj8VL4WAhPkGvAqbFj95Ybh2vpdcIjH2BSTcBrCD8LRRgejxaB2qGPHsGkcalmkRtgsoNQKLQcPIKJCXeoG4HNedkdQkXfunRb+jaAAO+kTvvNch8ULp0vAEGEtrQJDxg56C8IIiOpi4Nj+iuloZZPjhdqYEEuGZpPOxSS2mWaE440iSiSCgMM1x/IKBZYDbE9AYDXxvcb5GWQWkwCinqjcwIgpFbYpwUj5ITkQ6PSOdkUY3TzSpazXGYyPsTTbqMoqovBYUGV7gbe5xNS5e35eHnIZl5AyVoMhBskyhDWvHly4N+PRRDdrB7926zqw96MMCAlVTVBtD6ApOOcseuk3GvDYJOf9B2Wov0GoDs4tvs5gEhjqtmCX85aJ1isAnMdqWIXF7CCuAMmb39wZlWJPHt8aiFSE0RGGAcA8XhV1npbwWeKB5SO+z6wrmI8xeHD5RDdONiBlmKOAScNw6GHwqjRdNjkEXdU0ARZY+4c7TCEQCUdnaVQcBKO7orgSuBAJhERWR2HuCaBPU72Hd+/oWqPqWEwmCA0bAonEpS1xL9GGDAcdx07+PgwYM4Hs3VpBNwmlkRfJXQA6MXKkC1BZecpTSbRC4QZb/bUEDDu39/4KVGcdDk8pordN/q1atHcjgPtHaXI8Tnzp1jRwhZvnx5VWsB+xqfWEdgO1Gk+NhhU2IQzE7FjHiLWt4k0uBPUjSdP07hI4Po8HSHGYhA/KgBQIaOzquXIGiSEBLIUqV2B6gT8Nekm4NdINRI6eBGaIA5eIGfR6aMJIIcIiorjvS3AaiX3mcnQMzo7YEhmF7SmwEGnOYK4spXAt+qPfWVjBNcRUgtVDP+ml3XgChnO8gOPItJWMA2Y3+lOZwkmFslYAu5TLcAw5wYiVZibm6OIy4C7G4dq497j3TS2sigg9jd0nKDfscx2SqMsw1Sfs6xhhRnguDgxLumz0pmZ2fN3r7hYkOk6lt0hJQukER+MJrZi9zwqdSTlN4rm0f6xUAe/tY/nO/MM+khAbsrXTIAuqXjmBgxnthdMJyGQPo0wADuuSmYUXeoXTfY5vLRJG/MGIazUm8V+wA/Yj0bUNp1XBWewiRG+SN526eOZXj0uLBmHXBIp2OMBdjOXbt2QaejXoDvM8FP4lcAR87MzNhyLyDuyVa7DqijqkqHqhaxTjwIduooD15epFr5BEilwOuRP7yAKzeJNODiSEXAhS0dX28JSIWEvCA+ibIXYNTpAcNLRqUkejkdAOcs4slBhPgx6YZotl8dQGM4/jdUTVOqwAYCb49qEWdpl+HQswEmqBuJhh1QSXmmV8gQTZHp9TuPp4/FpsM+or/1j8x6RhmGBDBEM4l2oCl1mk0laLaRj8mxaWBQq/bUAXYe4hNUshw8Nol6MFBjx6AN9Dv2J86Nt6lzYagIUysjOhh0OHXqlD3QAJpaCM8mY1JkKXz6AB87DGVfRaUJAY1AdSF9JMEJ8M3C2zeJFoAXaI9/2VBjIBKYd+SPHAmKKL8COHLr1q1FtgPxW03b0QGDMMAOKFmz1QRoNlU7i6AfqSIRCuOvr0DrAGf2jmuvS6PuQJieEf7i5/GpOlNCdjn87d3zk6XxsZ19+FuNazecQmwt8kcyOM+gFFxYI3EJtJsdjJL6rhIVou+uIexuI9AhaE0oz+yRgiB+bjzLx/9h5tyoRuDcTHwgQm34HEIj3T+VKJKcdJYvXw5ze+DAgYFPvfYZogFuHMhTVQuHn4jdZS9x/fmEiLc4EslecYZHT7/4Bv7ygHTgH2REfhNJnZ4A/BC1cOdoMjwUHDaqdvAmgnr/6I55Z86ecl8JyExTExFsoPtmZmaMGmsOhNeHDh0y52iZxm0wytn3uf/tpR/RKcfH7OoEiGVkEA2OXUY/SpyOb3DKmQoDTFNnEmWwPe/+Zy+hvZldI2DwsN/ZmQg8VvwWH98PwM7fPmjeeJoIr9AklJGHlGfY7JHg0dtnjzVugMXA/9IDz9SJrbuscUYkMKIISoAfLi9atIhfARzZma0tgu3LJJoAuaGVwfjFR4KhDVoaKuZEaHyCgo39m/Y8y65ps0sZT6bCAAP4iSmjuQyn6E0HhZvjQFCpid2ezBCfYK8RPQN8KoXXOL5qQD/xoEzMVkX4Q/zldDb2vyEGSl9NsAhIETs8pN84e3R5y8PP5/VaK3k8+Ufz/VKlU9MhLRAVHAmFYHbVACKX7t9TEf3uVxt71FtVSi9MiwEGkNe4u8pnRsWyQuUVxUNU01CvkQxPjhbuiB9zx7XlanHYzrRVDGEn2n7+YRzJ7qH95Gh8wenlg7dE25myAp8Papx62X+SxJGxFJAbfmISSvvQLf7BDys8tyruNWo8Q2Y4KQR/I73NPlAd2SMaDuxCqCSWSiNMkQGOK7LgE7qR44FEt46epXlGc2IkXQTbuUlEX25oE7+kaQYF7g/dxaHeiRQp50ylD7eLSETiCR4T7BEJUungKYdlaxJ9gCbPsSp84tbUfgqufv3WscRqfXtkigwwgD4NzllA9ImIxyQs0EhKjSKaHB1YeL44HhuJ/VH4lTOpFZcXvAwBP+n+KYgxAoVvthKA20S9Y48EB2F3Hwo/4lExNwS+kQ4PAfng4JRwB6dufFh6skGpVhIDwvFUP3jFnpQKjQOdIyb2kWuTmbMnUeJSzZYFx4wzVvIB+GE8VFDaY7oMMIC0Ob4e7GWkUxfHm60o1NH4JI7VOeGvgLZa1JUKFZ/Xyzo9QF3CTJpEFLpKJpFWyzSx+DiGk7oPnlNVLYZflQYuKRemOKCCKrUU1B2OD1YfXSWTyOXwyR/81V89TiGp2knjE7kerjNjEso4MHUG2OmkQsOLT3yApo7rdLq0kgksKJKlA7p++Cs4tkHATu0mKgUV6owI+PheTmkQLEAjw2NDXTz6tZc51oBkdr3gMiKioh0e3VDaVxzvlypC3oeID09hD0zkrWGHrErFOxFVJkNg6gwwQLzLyAPSXBqCABwWFFYO9gT7tLnWUpFqxk58axIh2I1m/1bnwaYTL1voxOAYQfxXDrKWVulE2VJwMcHr0Q6PVqlkxlBB6cO0YmXfePsnRU42oKeOT1CBBNn+yJmURzlIPLSgCtK5Bb0zjQYYUPTjnq+AVuQEwZybU2oR2TmJluAIOnIr7YlipM5uMZ0HWwnEpkXjpghlikxmYhDMDg/RgwyC/SquBBSlb2uRbdB7U9LhwJBJXAOlitLGp9niZccVPkWyV4QYaVyPHSLXh4+9BTtRsL/Zcyl5TKMBhq6E/H3k0xXCCxzP5so+pZS4Wbj02rv4CT5i77HNjTgcf6Ilrj8TZKpAifkP8kLnxqONeL0wZAlGFTgXMse32SN8DKlNYjSYlx4YKREcG8y2n+h5V+KB2q//gxQh1MblQZYavEI/aEb+an0HwtQZYE53RFNJCUOFf3P6339ofqWkzAdDAc+IHDb8+snE4UYAq4+f6IO/VWG5mcQIJEuruygIhtHFz1MsIsLrxCN9OMkLckLHy+xVagMbHOzkrwqMIkwXNlBBFImWqglegnSoMH5t5ERtuB1KTabLAMN82qKcItZiOPFpJAxdu30+q8QHBmhI8MmbsjHNICLh/Cbas+DDGz440myN4FhDpQ4PwGfKofRxarMrDcZn+Pjhu5INGlFTMSXkAUI1c9/T2Y54VdiNjE/2Y0sCOwOqCrPSKkMxwPv27TPrzF7Prube44i4hA6sEH9qBeYWx0NkOV/j/Pd/7Pw8A4mx2J/p9w454Iw8OzZ66ZM8depU9otKuFBwnRfs1AQl/OxLb+JvuuckFcTOwPS+Ch/OAMCn0nyff/avL+En2V3ZigPsJcoz0f0KwikgyIRGt2qF1gSSQLVji0Te7eDKYX037Zl/CZjZpfRN/wZY3gC/aNEi6Ou5uTmo7EOHDmH7hhtu4FdLly41R+cCxRp8lkAsnI0EIs5ICfbUDIId0Yd+xx4072Co9MRzV2z/ANv159zGuXz5sl3sDjCoW7duxQHgwIEDqCabgwcP8itQZLBRxcjBf5l/Sxw++QMULwfvE5Euh6ZMIASG6jsx8sCR/Ju3qEKzsGZNpY6q1UaEgYeZ3wwMe6Ykg1eTSANtEBarxxHToNtNI4pPeiCeLoHdM9Zefk36NMC7d+9mIcZfFwqTzMM2bNhgdlUEGhAG2CSuxxkshDFGElZZxmBsOB/KJKpTNMRYNFnaPxdyaGQ0ywESzBIWINYwsW+++aY5ojYwz+vWrTO5X6ON17ML7HCDy5JoyWApoZ3xkzsf+HadwLcIPrTGXvEiIKiiUnExRULbBnB5N27c6L/4KA94WjMzM2i5JvduifT8o/zjLYiz3Bl0DhxIbGK/NAx20JBDwLp/uLERL3/Hjh1FBrtjL78mvRlgqmP8NekyoKxx/PLly006GbSleOctn1qhFYTWi4/bIbdsdxj5m60QsL7IHMfwsQS0meC4b/CRlTzEASKQ6ffeq7AAfR1warQTc+IFC9BgzBcNAT0rpYQijQfBUvLSsxevqTqwzwNi5nt4/hgHxLJqxJYO9CDblMPq1auh4KDszHFVwK/w26BmhHXvRidy2D7SSCEbwansAD9MN0j1B2XjVOq5YWyAD26tUi8dpw3W6aJPBIJhROEaE+Dl16cfA8xuZ2hhk04DTjp+BdfJpBOAbJVGM18fPcr5i//gRIrEQ7hxsElUAco0Ja7CNXD0MXIWxnYmUR1IvAQ6KMx+X+Z66tQp+2JgFcwXNYDvYkc5UC5FLouoLcccJlZWNrS1OK/d0Y2kL4Gcg2MSTYAChxfLAifQjO2ZRoY7trOF6s6z7qWwbaZb0EuvvUvzY9IVQQ02NU7hg5yLhDbOE89doQcPfCcvCEKOvHOlMMFefiP0YIDh9aA44t3ORRw/fhy/hTdt0sVAqtC04tMlGI5A2/Jgs7cMCGvEvy6iUjvHwVt/+4/wtyh2p9NgEslA9KXnB2rR7B0Gs7OzvDBQxylGyOh388IeO90JHGvAwUXhQkbxVgXmloN5sLIIXIoiKtZ1pXgoiB0coAV1pgdt7Jh75cqVDUY/VWHti63Ko5F68UGejYjfR++dd/LwSfcmK0XPESbey2+Krg0wmj1KARGwSVdnZmYGOZw7F1vAGa4fxC7iAPJBEXsSMtRffHxOyAiCYeMrdW1JFxkDoODcK0Zv8Q5zG9G/Bw8eNLuGB2IjXmSehKBAULMmcT1SZQgRsH1H2csi2w6CbT73+/NT4mGMi7Q56zoxoHGAuhGvCzLQi9312bBhAy8JMUrN+ButI8VsMKa0n++CW5bY5ItAjbQxRoC6rv8cGu4OMowNCJXt28U9Bnj8OHsdv2QavPwG6doA0xMxiVxYgibhcdJbSNmGEhYcBML+RAcQ6ruSjCJns1VG0Pn96ujxZd9mlPoZBKLGEtuxY4fZlQBn0KxZswYeDzYuXLjwzjvvjL6pTNWspJ2kq2aWG1ctCIKvfn4UENi903H8imgJnAgmlp4BPsEBOXbSVH2YVXqbDxw4YHYNCfiCvDyo7AzPgD1YRS6XQC8WRsh3uerb4DaoH4ZCy9H6+lDG4LVEbDxUDY4xiSpMg5ffLJ0aYIa/9evm1KlTyAd/TdrCWdLPBkYXX0UmZNGemUSUoJksAudND3+RbVH/NntNnQN4JZGedpYVqKrgaDVhLJsywFWz4vhNSucV+ySKyg1w1PzDnzoWsdA+3QTBOAX0nUmM7gVBFa42eGrsT1yShQM9AN6M2TVUOLcDVAqYIPl2udngKzTz0ofsCUq7s66O4YD4Ie6JVu1uyfPyeyTDy2+DTg0w/XGTsKBG5lfLli1bvHgx90cYFZ2bFUxdcDYBJ0aWesoAjmHiUyto/IlBME5ttsqAbi2Nz9AwcI/I07YlSAbng0C2UEoIL0y6Cr0bYECBidtgds8W9SfD9cG3EuWk1wWpenwGRafANeMrv6sGtR/sv7HhJMd0Bx8Hv/rqq0uWLFm4cOHVq1eRzK7r7KwYPC2t98Q//VF8OrapOGNVi+UD36uSgxgEJWC2kmHggU9QQ6IFlfp82V5+76R7+S3RqQHGrVIFB1m/fv1v/MZvJDZXOMvIzSRGIF7xrRd2Vm2NOD5FiNnUTaKYquGv2SoDZ8fN4nh5uB7bvuuAIkq3vjiYrFq1CklYTSpQgO2qBpi9HdyukxVtcFHDjkxG41iD0+GR4uLYtB0E42Li+bNHB96e3S2JX0XugiNwlXQKPSQA9xdVU9/ZAhlZiR43aQ+WhtNFDz+4KBSuRIbpEjhAYBK5IIeaVhzSnj0mjduHAgl2EFLVFF1bHS+fbNu2jRtw2rixdu1ablQlI6sUL789ujPA1MiReH///v3SegG7CKQcffCt9EJD7OweJwgT2iSEJhgXxok8teJQqj1BerPEBWdcLQw8TsFJFigEe0Cr0nA7aufEiRNHjx6VArfrAkQ06b333mu2LJCPnD09qyDIB46qSVhwbM8kLBg7Fvk9qNxKTz2m12BVGLubRBRcMI7ERzpdcI9BKaU2qdqrxgqCDLATuL4Bzs6KPZm+Nucow6br30rCriDsjIw+pIPc6qwVBVWQqDeCoPmne+pB0BzqXIADFYuULcufXzkE66sStJqQGQnPahrgqlnFvfxW6c4A06CahMelS5e+8IUvMPYi3IZJKBoZQm58yBqSIcEfXFEOoVWaJOWQYllJkVCS9PD3dL23r+MsuBL2AYiSQvlUGm6H/EUqKI5dcQC+FNRudm4ODIycWYvwt3xnnx0ecTWa2HUhtBcE4zIqRV04mLEIhYrhIL8iMH4oqAxfnlaTOuvKlSv1DXCdrFjd/lAi+wDsbtKicYdsUJ6l3a0Rsu03bi07ciVQdw1aX4G9C04520LbyKRaWk0oDcQA3FPTAGdkhbsIevlt050B3rhxY1FVYT81ODauXr0qZffqq6/eeuut3PbBwStXrkSbYeAog6OV4psiHNVWRFw7J2YCcGQlXRyE/bHrPn3sr/7qcb+LvhQcLyVfFdsAS28zyNbjDsjKHryAHULJm8QIWqbEpXHhrgWf7CoivR7TsR82qwp711ECnPAv+hGllDKGigpiYeJ42Ehs0GoKVa0mtB6y4nbNrAjX0sKGmDTYXdwpPuJqtwRO0Ug8PZGwCn7pgfm2RjWLasqYVEuBIRAPWs0lS5YgSU1S1QAvW7aMcVp2VkEvvwO6M8AwlrhDk0hm/fr1TpMWlv/Xn5hvkP/yPD6UjL/38B8hMKr04Q9Dn6PentY+oxcUNv6pVNqQYChlqGYxpdjeu3fv4cOHkQ82HnvssSJN6nRBQ/q5gR9Sv6dnVQR+KP4p3Cx5rhG2h2MNVWev4Cfp422NB8FVo/Ag9Lc+8ul5pxM2gxokvRsN1SR9S1JTgP5TUQUdPXrU+QpntL299Kzi/Ok/+7O4r7+xy3iE9hD4wGk8Li/i9Pm35GN2FeyEHyMfs6vKTlthIsn+Nmitddv/jdR7JT7wgQ/gL35Lj59W06bIakKifHGCTG7atIk+ZXpWPrge28vvhu4MMGdmmkQCUNP4a/fmO/z5v7x5Xg62PXnbp479zlcu2JKX/jF5hYCiT+nHhnYO9jPjwsxWlMjgSga4GDaSVav/+7y2Idx1113cQBADq4mN/fv3c09V6meFe+HtoKzYScheOyTjlVhE1WJvsI4ARKuRfhoAN4Ll8LHNj6bXOPSU3WkRh/GEjfliBP0t7MwztD6oGnoVf2Xrv/m1//VFszfNNpDgTmQoH7NrzHfi7u76x/Mrqdm3KTdu7wwWXfrOoMLE9n/7sfl1zUy6IvT4TaIKHN4yiRGQZOysbztxL933QtfS0ZWIdEEH2bJlC46PdEH/qZ9Z+HN/97AtkY2TmLl/GExyYgcjftuUd//g3HfuvDY5duvWrdltA8DTlO7oS5cuUVnndSc2khXuZc3PrUVZnTz3Q5gcbOBTs6tw5+dfsFcIioPabCoIRuSKqN0kmgMFkljjiBh45E033cQ96TgRsAy2IcOmDDD42w/M25U/999uzrYN/s6qUNhMoiKO/SsCWqKOJHAAwiQ6RK45r1MTQGwis2vjOAZ4/fr1uAaQ7lAWwXxMoiu6Ox9fuW8STYDcYNQ5QdTsahoEW2LSIviTrRIvCb9yxjKz+eqxy/YsDM6oklniVRGreeONNyKrRgxwdla8l498+tiJF+Y1Dm4zvfc4DnJL7zBsSszaEFeUyc//7X+U0r5QHTiMSNBw//334+/SpUulgu65557RNzFYL2fPnqVFZ4d2XlY+i/+z/xsKyra13YMLyDbh+G1cSulHmkR1av48D/YbyTy4PC+fYoONbdu2iRLgcjG33HILDfOePXtGu10gvbbegBqhDMMqy+oRiVn54KrWrFljEl3RnQHm42IofZOuDXLj+H+rniByTom07AuoFP6arXoEvRCUDzCJ6ki/sQApN1sVqZkV7uL/suwv4QZnyl4WWZVLr72bXgWNBMGbCt4yWQdEJA/OfWduNAXa7KoIp1nQNsOgYhs2dfRNZZrKCj+HRW/K08oG4lF/dmQRTXV9dQN8EZSGfc00pdlevmBLiMwiLJr6Eyc7K95L/BUDbdCdAQa4w6bezug81MQJKSbRKInzZaCdxegmXgmiluw+Lhu6pSZhQZHKXu8UOpTD8OTw4cMZ4S+pkxUXSELDOPfdVro67v7cqZQl0kjNC6hk7xPB9UsnCgoKxcXtdCAnMm0KMJJwdibSVFY7duywWzdoashcaRZUk1NTGdx+++1m69r6LdioOhGaZGfVyI1k0Okpue6XSdTDz+qLh79r98E2SOJTK9StieHvE89dqfnkH6F/UBQXckHgDKU8EPj2OnmRZ0tdHcgzMcqpGQTjRM0GPc7KR+wSrLoKB2CIQKe2kQi4TlZ0HO3OQAp5pSfHBsKTZ153Fg8BdUQILb2NJhDhB2/8SURoWVnZXj6h1bxw4QIEphEDXDUr8fJNukM6NcB8UqJ+lwVr3X/+zNFHDZKiOml6E5tHU60I+cR7yPlC7OXLl5v0+MApHs67n7+e+6LyCKerrIKSXXFw41Im5qTjjPoTOqZoICadBgdubfIGbkH9rHD9wCQs2Lg6e8jHAafOc55QR7bFrTN2S+vbrA8XB0JbWub1vfygi1a/C1qIZ+V4+R3TqQEGo8ZV96RLi5df2fn5F1KmTVUFQp/SbHBMSvgLp7iR2SU4Xcrzr8ePH2exY8PsGjacLgCCLefRr73cuJt1x66TiYt45AXBiQMZ6XBAziSuh0WXEQf3Dh1rYNIe9d+Smw2NX575xw/FamZnAvDbLgfF4Tr44XuQ+l4+Z04J6TOnfCplFfTyu6RrA8wguI67QYcrsvyKPSrWIClPraCFlJ66qYFAGCFn6nUcxkb42/1qL+lABfNdAiASxsEKNu5mpVdKRvVBl9V5JMahNIpiXY/Li+GIvD/RpIdHdvCKH9J1gJ9Xfx5fZ1R6zG/CvPzO6EHcN2zYgNvO63DnWu2lQw7Qzs129xE0v8hgYWIXNA7IdoEFmPmMG5RGAgVdfyCgWdAexPSmNInG3az0x3OrBsFPPHclMecU4qP+Aoe1wPBDYTRqegwIR8yuMp488zoKQWdmtUHK6kNFTJKX3w39+Ju8/6o2gNYXmHQUqDzErCbREPHglV9BNUcMA2Lo+ldlL7iRwaFr7z8HcIbM3v7gGAxBGGT2JoBCaLaKEacmzkuPiIFPpYNLQW6JPbHi46O5Xb6c1MHeMWjRHE4CR44cMXuTQVGM18ysvF4Q3GZ9lz0RNIGafu0kefkd0FuHDxve7t27TbqMgwcP4nhUqkknMHPf07BVJtEQkM7gUyu23S1SuI0MBAan3mQA3bd69eqRKM6DgKnLvqNz586xI4QsX748L1Cr2g9fSmIFIQhOPG+RwOSBy6saoLDhEGd4rEeg/sw1LViwb98+s7c6bb+bIUjijBAbHo+/VQdx8ZNGHlYshbMK6oS/NhPj5bdNnyMuHAAHceUrgS+cF7MrGdiqxhfTCbY9eyeMcbDLERdTc/XENpb9gi3kMt0CDHMbMgqdy7fcCLC79a0+SjVx/lQKkJbEiScpFZGhqSPUEWaUM7sHAdpRX+4/wlwJeUFkJkdVOosRSWQSnA8q7uujN7bhIivJAw6u+paRbNqYXD0ZXn6r9GmAweXLl03xjBwluxsK21w+mmQ/pAUhpvQ3BRxStCiTGOF3O+Okzmgxjqk5b6hZbR4EEZJjjAXYzl27dkFjol6AL8pobPwK4MiZmRnR+DbQv3UiniAolgajBOSW4ielBMHIqim91lR/O6rG1MSIDnTiqVOnbD0ImlqNxwYub0uPIBaR+FT6g3PfsZVDpefoIjNOmqKDU4Bx9/Lbo2cDTKDNJRp2QLVlm16hWQUN0NrtqMtvh0+OXmRtEiNS2mqExKk3zUJT6gh0JWi2kY/JsTVQODV7F4T0kYL4YTDPTY1QwvTW9N584GzZwSipX19FMoOwu3HHywFNEjXS4GzzRkh/4Uf3cC5bl482gUa8/EOHDuHILr38lhiEAXZA+Zqt5mhQQRNRvkWzrnCAeJeOwc6g8eufPBpUJYhaUiaZx4NgkZCatPHcswNaHHSZ0V7NgfAaitKcoxPQ4noZFW4WhMhNjcVGgHeYHou3B2Qv6LGl05mX3wZDNMAt0aCCBjCojHGL9CyaEOX7xZffrinoOEVnQ0HjS7OdBMgqpfe4qPab0qGMUUyiW6gZYUSh4IAfLiP44FcAR3Zsa4fD1wsWohf/O0hRl0YbU0eDDDk0nx6myABTQTc41wBKdt/vXzfA48DT4W+8KcZpfKLvBMNJLnVKW0gccQ8Gwf4sgTzOf//HKdegBEHRNT4BswicyKkpCEZ8ACI4jQuNvfGHJ5UhM0UGGFBBNziSGtePUKAf/tSxOv4srHsbK4pMME0tNAZQ8il155+ukQto0JmYWu7ocGbWQ4+fF68rcY60b6Tbru5Ne55NnOSvdMN0GWDwg9F6co0I+lePXf7YzuORCJhRVHbMDe3f+NSbaSBxemoKKaLiBMFQqY30WNSRHEX48rde6XiSEUgXPw5jdQD9uQkYIJ8wps4Ag6Z69qid8bdoehS+OvFCZm8krHsj3ZjTSdGwXFUSRUWOSey4LgWZFAmVMnyq+vdw4tseZoKlT1xATemSaTTAoH6Q9OS1B41og7nT5tGvvczgGHa0qjJtY8GNaeOLDb0fOuXVVRIEo9bqh63IpNkn1xXAJt/g8FMRiDIr9XtDS2hH19QypQYYPPHclTpGDr8VPze4wrNkXjUqaiqKUprqw0+pDhwjLlcdoLu1n7AlOD9g7hvfM+mmOX3+LT6tkP7cNo+EoLYxNKuaZPhMrwEGX/7WK3kCKuGvgHzs0Aexl/0USnoQzHi6Az99SoCCq28UU2Y1Iwiur+xwqTrnrm3aG3a1BaBqXAvHC+rIJJoA7qCjlJQBMtUGGOR1VEKynWEe29mE6XX6oNJdURymg3/Ngtii/qMd0NrxbmEcsHbbUZPI4oEvvaRdkeMLWm7N1yMih6Y8b6i19vwMpUGm3QCDB+e+U2nMxg9/yZaHn2fnYdDW4id2TBwEP9QFN9oA9ZvyQFGcYLWS0+ffghvnTIeuBKKfDEdQqQPcnab6Gy699i5q3yQSgIH0O2a032sKUQM8T/qYDYAiLprliK8+ufdUcM5O0VwtAUai7ZmQ0wzMW+lcqjiy9pmPiES8ioto8LkppRIcOGjV8sHQOh0wEKSWqhtepvY5jxdqgA1oJ75P6lMU/pITL8Q0aSQIxql18K9tUDU1Oxhgxf21/lFxMm0qIwjmg+kmoXQOgtdKHWAZIH+xwaUPyMEbyOutgXDqIhtjhxrgn4IguHSwEI2nKPwF+Pbj/+jbRdMsi4JgtDcd/OsGlL9vQdPxa9Af3Q9WcRHMMCJRysBB9aU8XwsbnD65PTFPG/xEH10bR9QAX0d8sPD8938cGajDD2m/IyoYhtaZ66gLbnQMaqfO0kjOs0a+rqwUBNe8GKVZUB2VJlJtefj5vGg1TpGnrkweaoBdYA6LFChaRdEQi91mnrz2HqQgdtPSBTe6hzVVZ9gPP6fRnfvG94Kdfol1isNONvqaaqUmlI34SxSEeDN3gO9eqaP7ieeupLhx7T3TrHSDGuAAaFe+ZMfDX3xl+85obEXDjYifGASnP5ukNAusL0o+u+OXP8dGUfWlBMFBGVOGAKqv5nw9B3uYHxuNZE7fXR24cUcNcBgItzOmgj1F4W9wfqw0OR98VT8OU+pQc+rTA1966SOffioy6hbP/M7PPqNvY50SKGm2t4dkTRu8/ZEzdaRXGQ5qgAuBiIuDGQ9/g40BYa5vlQmCYPxEF9zoF5R/thZj/BF55CMSBEN7psy3V3oH/nGw3xiVa7bS8P1sCE/ihHwc6XfVqOM+MagBjiFmMqJtYWURAZvE9Tj90gJyq7lqktIIT555HXVhElXAr753peTFw8FvYZUrjQUq/cJndu1W/PWTr3VZg/arhbXDefJQAxyDHcWRVwqiZUYiY/7cJK6B1gstXGmurNIec9/4XqQGg6Du2IEsa58F8au49BlQZYCwFdP/luH/UoJtPw8I0qY9z0LYVHgmDzXAJbAhXbryjklfD77CASYRAirYnlRpL7ihzWkgPFhlLVJHscYFwD6yTo+3MhDgq6U8NkYhSTkSh5XGtcytar+3MhaoAS4BevMjn3kKDcDXszs//0LKU4DSFHGwveAGWpQ2qoGAqkxcCwW1aQ/ex7tAJAhOj5yUITP3je+lzJ9yhCROysHpuSnjhRrgEqBeIf3+pNn0h4h4ZHDBjcQclA64+3OnSh8A/fK3XvHtNPZEHihCFTOC0Ykzk8Edu06W9pdUtZcQj5Slr4rmmijjixrgGLaVRaOy7SW2U7qYSNH4DQeDTULpm9Kng4KVCIr2A9QvvtUIZqxxOjAaH8v3e9d4xke/9rJJj3jo8fOJ/TTKuKAGOAbDX5Ow3lrzxdDbxIqgFccnGAM125KVmiC4KepjROjjLCMqPPHclaKoaFT1OuN9vEElchJWnKba8tw3voesgv59RD6VcUQNcCHBTmY6v+ktTbofL70WfmoFQbA+FTooUE3+ChtO/4cPNKP/ZCd2IoiRkWBlHEHQGbF5cMsYvwbFpirUFfGXGsXlUBkv1AAX4oS/wkfvfWrdp4+ZRBloLZIJDK3Tp0S0RQ0N1IgzNxV7/H5CB6ceUd3yci2t4vEl7jzRsb7tU8caCUzZ8xzsKlMmEjXAYYLhL4BehmFGm/RnVPkgBycqwh5fj3/5W69oEDw0UFPiOT3wpZdShurnvvE9GaLD8fZwnQbBk81f3Xm85ugsxIMKh/M9S709ZTJQAxymKPxlIwFQykXDfgTf+jr39Pm3gpZbslWGAyoF2pCDCGZXGajcF19+G8GQX8taxWNHZ1YQusK23ynjzerSTQZqgAMUhb9OH3Lk4VEcKQtuOASXrgw+36L0C/sDi1yxILTWQeFRjTleRObcCTCcvpEufZjNAe5a3vNFELOUh5eUIaMGOEBQ5/qPAgMYWr/32FlwwyeooLFT+52Gxj//1/PzUU0iAQpJkQqulJXSI3CVSh1iHCBj/DbYiYquP45b2vVSeoAyfNQAuzDuMQkL7Ax2DTntMLjghsPXT74G/9okrvHkmdf9nUq/oNLhiiWqOSpE/g0+Q6JB8FhQ1AFmE/S8Bc7MOn3+LZMOAS0RFBIbee6xiMRXKimDRQ2wC6wgbKFJXOOhx88XdSmDmfue5pqUL47eUsedcdD8/DVg8VsNgofDpj3PcomrUj1IcAxVakSDJ4qHMnDqzHmmS5doOxNlTxlT1ABfR7BXJ6WrBwb1d75i5jEm4h+sQfBwcJ7b/vrJ1+IdGzjYjnh2fv6F4KJaGgRPG/DG7LcZ0jmr5GcHO94c4tG2MljUAF9HMPyF5rWbUBAa6cf/TcmsDRs40f4T98gkpb0pbYOKcIbxHv3ay0Xz3iEh/jyaIj2L/WZLGRgPPX7eb/428KtK+40dqBmqzsyqSpGwKQNHDfBPYVMxiWtAsaZEpfghe5biDdiBvzKJEUjGIy2lAx6c+05wfg3iV39uDvYEX4pVtPaZBsHDpKi+BNRykQdWyqdnz67dXsvx4vw+k/BIH/xSBoUa4J8SDH9TxBrHyIgOtv3B3SKCJh97NAjukWClCM7sG0Q2kck4+ErXPhsXUCmRIDL4bHcifBdL/XnR8WuAf9B2nK00jhpgQ1DtIrhJeRbQCWiQjxPXRkCzcaZ3aRDcLyj8+IiazHt/6PHzpb0jQVurQfDQQPgbX8k5e51nCIDTm1KqUiLU8QOUAaIG2OCHv+xSNokCEOL4s6Npy9PHinCwE/KijaWbcKVBnnjuSsqIA7yuTz1yJkUV6tpnigNsOWq/dFpJEVUHoZUhowZ4nqKu4EiXFEDw6o8IEj5MnNjpxImRJjHC36N0Q2Kxc8gtMZSBRfenaGkQPBDijRTGMs8VjvcGU+EE5xnUR1XHGKEGeB4//EXbiL+bvXTBDU6aiJtwAWG0M5FHg+Duuftzp1Ke7xT3CH8T59wFdaIqyiEQaaR5z+DS+Xaac5A6sSyurcj7h2NX9JUyNNQAz+M0MzYhkwiROOcwPnHRAUfaikCD4I5JrCzGLhI2YTvFT0Ig5fdsaxDcO3Bzi1yoPOvL7uVLFZdoTnH7fBAkFBlaCFtenkrHqAGej3ucvsR4E6pkGlMGkol/pB+XK+2BwkfNmkQxvmxgT0ooA13vT49PlA2lDeAARTqKu+x/QkvPe8AJ1x+Jg82WMmDUALtKEJ6jvz6G4ARAKaS70jiv7bfyXCahtAm0VcojHKgO34imi4RfmxoETwaVFEKQ7JlZdfqxld6ZdgMcDH/NVgh8m+Eas3WZRBTnMA2CuyGldhCjFHXrcczCHkEIEvTtEgVD6QbYM7RWk0hj7hvzr8xK6T6JUyo/GdT3DJRWmXYD7Bu8yCLpODj79SNQvvFJWwQBln2YBsEdEOwcdriz4N1zQuk6SgTHOA6cBsHdA7fbbF0PHalKRgsaAx+TaI6qxhhRRPCm4PClTAdT+mKqDbAT/jrGz8FfcKMqaAkpIz1oz7YPDtWf+LiLksGTZ14vrRSY3siohJAy1hD0qFIst9IU2x85E3yzGa1v1R7dNtomnTm+iSsd6I2gj4issp85Vtpmqg2wo/giehCmOthoqxKZuGiTfmFKTUrL9ouHv5s+QSZlrAF+mKMoNQjujNPn3yqqIJjedOtbv8O5FBjUdMEjON63wdqLNmSm1wA74S+SRUoQGjPFaiay5eHnS8Mp5w0QzqUqTYG6iFs+xMdVlVfKWAPydDS4qshuSBkGKgV2zm6e7eGv31JKGwPJSntMrwG2VV7kyaLSBTcygAGGTTWJAnBSe0ViVdCNE6l0kjis61M61uCfWoPgHimaW+dDkejeG+4g4FZ6YUoNsKPv0KiCIp644EYGpZN6nI6jSICu5FFU6SRxYnMRqNx4PweC74ceP28SI1qSNCUOir10Cp4AU93LvGKIUyVphH7zvYq5b3xPH6kYGlNqgG1lBz0YfAa0NEKqCYKk+ATFR7/2sh0oq4JuEKdsfVDaNcMOGOC4j+WoVA2C26NoKAE7061vv1SdmYWDfRvsiJzSO9NogG1N5wSaAve37e1+9DNPxbu/cA1oeNxWBd0gwUoX8G0jCyHFfSx/7bP4VSl5RNp4yiO/7AYbiN2qNDUal+3cYHtdekoe02iAbRF0hloFHCOWr1X8RmLDjlCTUAXdELCLkee5IRIpejmRuI9152efsVWq+lhtgFaT/RxO1b7fzsheAAseYTeaTUlh6gywreOgZ4OzGdHkuhwsweki/WAPfOkl6cnExePDbSWPohf0EsiDMzRbH9RvxKLjW7M1wkkq9fHnTCU2Iri/KQuU9gLkpJEHI5V+mToDbCu4oLJDePTo1142ia7AlUT6PPGtjEcGr1lJBwVYFNDc3dDT3j44aZGPBVfPdgg0CG6b0rkX4wJEBXKVMkwGwfbFb4Bh/RQyXQbY1m5O7x+BpMYnzrQH2lJR19APrDfl4fo1CM4G9rUowIVSbvBpb59I/Tpd4lLXSh1gYHwbk2J9S58OHw6QqMSpghAq28W3VYrSI9NlgEXm/PkvoG0VHAfKApdUNLRjP7WiLSePyLT2Np72dmD9FsUr9oVpENwIKFLf44m716yjSXVwcWu2DX70ay/DHTEJpSemyADbeg2y6HjHHajgUjjlKqKjec24i8EOTQ0ZFGDQv4ksT9gsrF9H8MiXv/WKPR2hm+uZYDZlvYQAxR4ZCRoyjCjic818wYPIqavXL1NkgEWpwRI/8KWXuE2GMzufXUNBHY2LFBdhIFc7Rnyx4DXPHffFRU6HyhUFqkFwHfx5dpMa1NpAaUC01DUfL6bFAEOdsRFSTLmTtL3gRlWC3eNExq0RMMXXkVAcgkVKYQi6O+1RVL+OZBbJgFIVtJRIY0GxT1JPbMoUFtxv0VCX0jHTYoBFnWHD7mWi1kuZSdglkU5R+0a4oZRyx/VveBRQhr1ooqKFmeAmiqnQILgRYJAiEzu+euwyKmLanov1h7rUm++LqTDAEv4ifHT6IQfb/Ip09BPPXaHDjiA4vtqwQuyuexsUb4/LEEIUi65KfIKgACgRYGudcdCI9d3+yJkJnoUEmxq5Ow6FiA3e8vDz09BLP0CmwgCLInM0GpJdLrhRFQRtQRWMdsWnVvBtx92n40iwlGD8/IfQOubB0EuT7AERDYIrAZd0gg1qBozvHY9EcPp+Ikcq7TH5BljCX6cfEm21+wU3qvLFgpfLUkfDe7Cnzio+Oz//gj8bFlGRMwuvL4IdpBBXCUfEGCtx2K1qEtE1k+Orr08YcD0TVcSEjYWPC5NvgNksnYmRd/e34EZVgnES9AsVN+5Og+AiHKVMUO+DGvHCxfjXg8tm96AGwYlceu1dCelgYv16J2hK6rM6FJWV0gETboAl/LUNVb8LbmQQjJPgT7z48tsaBEdApTuPdQ5z8QFUroS8BOZE1KLqx0oUDdzQG+t93KFHim4/8tiF0jYTboApWPYyUkNYcCMDP06CP8G7w9/E5eimii9/6xXHa3niuf9/e38DZMd13nfCqpSLQb3MVpF5k7fwbi252CSqwmqXFSxVm0WcTYjXS5mQTcRjm1ZGjpSAjGMilmGOAMkcmDLHjk0NHVIGKducSCKIGHQy+SB3HDM0IK9IRIagISGRIAWIE1owAA1NDgFLgkyZhF2oVN4f5jlzdNh9b9/+7r7d/191Td3u29O3b/d5Pv7POafv+dY6mniHCLfbtK9EcDKRHCshwfJjjnoLyfrA63Ns6VveNHCPbR4Z0zG6HIBN/oajWpCMrXXBIyGcRMrmZBXkFjigcUwpqiZyo9uf5nN6ZIduZRW2WNlmfBtt1aSZxN/ITLPW8tlj5wb2gr8Q/Cqrb3iiarocgM0y+WsCMY2tthyy10itkm9kMwokgkPI9MNgNrAzuIVwkuHMKD9wgVRSInggvuVHdLBhlfxIWiNGEvaAiErpbAC2Z0XhtuzZbFaw7UANihgc/p6PZRUSwSHxqzFGt97upltZzSRoybyQQ4zDxTExN7C8cd/819goJTcMcx3x62NXMvx5LlEdbQzAhw8fnpmZ2bIKLxYWFtwbWbC25c2SF+184EYOiC5hEWnPp796z6Mvs3GgCOghEbfC6nhdGU44rJpaG5YIHoZVgOKBRCFkJKZ0IyOz8C3K5mujRQF4bm7uHYmwg9t1FCZ/aUbWsUEj69iwAr5ROKeZ1eXzb/LXrVcMGZIlSYalSp6JiQnbPj8/z24XL150/1YL5CJhlZ5rMnaO2ArmXrJzo22ge9X3d2VlhVu2ffv2DRs2OJNLDfedO87tdseqkQ/88pfD6Kse36zQuiIdWA8/edZiMI2w/r6tVe8y1L1MTU3ZdtvN/c/Y0ooAvLS05Oz4He/Yv3+/2xqACF63bp3tkOaim9s1txUfX9oN+I6+v9Ay2SpEMFebFr9x40a7+MXBhDAefL37gFIJax4wvrc+ouq4s9zr0kXw3r17N23a5G7M2+GO250yVn3ddyFO23aSLXZz/xODd9nZfVipDHsI655PfzVsACI31vFhZWrbUgUHDx4k4Vu/fr1rMcUgRtDkaJzu6ONA8wGYG2CX78KFC27TENBSV111FXviNdymQZj8tXbDi8jI4S7Bd/QRl2/66wt/WNxauMjT09N2R0JQRTt27MBg3H5ZWFxcxFkP9NQ4+hINJkxBxv3W80XCu2mvi99frrYZkQdrIhKTBLs9CkPQJWlzR18Dz1hW1kVehY3Ha85cHP0YXxF+89DX4xeQS21KphRoA7gR1yYCNm/ejIvIl67xX8PcC8HlzJkzbr9W0nAAtgScW+LWU4BE5l9wIm49BnZIgjz/uVfG7oEbOeDL+pobr39s5li+Yjv+NyKG8KHHj1f4xCgiAVbnPmwVPtG9l4snjq54T3HPoy934NaHszNxjrTq3CKYzMld5VUIh5Xe3BAMNpQ4W7duLdIrwde3mnPY8gGtFg4gF/mwEoLv/uA6c7VZCnbh0dgi/RqEzOpCI2Ge4/uiKdACKyrGFKTJAGzad2DNORluJ/+IeHLrAeRrt/3K87ShMX3gRlbME5nB2KwV77JTMjk5udpEL4NfHlmHqIKFhYVQluVoEuC/OLlXZ259+FwnXkRkcRrC+4vSdVubALdIA3On8o535BtcaXfWLoVtEeUSaWOE5CK5LPmWu9+rerTmESFGqLmRGY24uGE0FoAtiHJL3HpGcCX8e9xT03RYnnv5QlY/Nb7YmB2ryCEBf2jPM2nSVVqh1yXtaZTIYjslyCSI8RE2mDNUjd3Aj4ixZCu9CPZFOV404viGEcrxHGGYkGDR1y6IpvlWze2fOJ41BpNs+ZS6YM2jRHwyijhuSWm6sQBsV8Gt5MJqGm5lFQLPD965aFUUt6kfhGN2eDHy6/tqc7OSKAE/7CuNGvbPDbDrYBu7xMwjS+YB75v/2u6HToz8jjMzM3b1Clb1KyVMAXPkf1Yb0C/oVcrEXc/YFSbLwcpSFpZ8tTlfKatqyPns9EgRGs8MmgnApl/dSgE4yMTEhFtZiz0svg+jP/jCEY7ppt1HbRBjHExite21N/SGmCWPTNTsjpsesiyke6BCWHjBd/zVf/+1BBFsygPV69bbDUJktT1e7hR0mwZB5rHzwRfDm9uZXoY2YzZFzmer3ILIk/giePeSfspoU/gyTHLDq5pmAjBfGxHmVgpgXUr2GvlLW2HpzAM3suKrr/gmexHBhO/AvvPW4qeoDRs0hGu20c585XBUTvdABPNNbWbIwPtLOm/XqsQhzfVgPYXDfIJVOFjCue+iNnw3sFWYhlUdrGqV3r3Y9Iddu3Y9++yzvDh9+vSbb765+k5+OJq9uOKKK+zFjTfeaC8GYg1v/fr1br12GgjA5lLL0v4cym7kjR++bKIFR+uNO37MDn8jItiEUcqikLVjTIJ/sS3J7TgldqcQZ1a3SG9ydvL27yGWofOCv+HT5LvKxF3PWBX6n/yK+60kj4++bj0F7Pzaa69dffXVeKtLly6xWooHvPLKK3fu3MnRuF/btm27/vrr3XuJmHjasGGDWw/g5rLQtmnSXAG3VTQBkXj3bzhBHGIWmmmaopnztddea6slBmBswVdGRzouG40Ebr1eGvhUGxviVgrDochfTP528oEbWZn/3Ctcit98+2+SWy13mIiM4xNJvLO9KDEAY2lZAzCYfI98BbQ++Th/+zMShy9rNze8v8DFAbeSDp/Q4AS5ESV6QMAJWuhN33Ksc25yctKtr/Er/+YP+MrvG/JTeqJOuAWWBbr1Vcy9ZB3WZM3PS9USm9++fftMVUOa5nfhwgXOnxzCrddIAwGYr1piFdQGtuGMfuJf1DSvsf3YuFmuyexvvcyq+bVMyWkLAzBYlu1WVh/2i1MmJY+4g87DnbU0y4tg64vJWlWy28F/WTdYuQHYK5tMLcemJsa/CHdZ6XUbePzzr9Lw9h/8uu8OoBWldC+0DfY0aGn846FDh/xqkeZHY7M2bM0Pr8UxM+V/poOnp6fdel00E4C5WHa5ec0WLt+VV15p72aFG/83//49N+6+PFLAlnsefZl82S/Hlr71wqlv+8X9W9chJpGoYiq85iKn6eRgN4OGa+1427ZttoXXuQMwztSOAJiclTqB1zlMjn/0U9f4dtxuG5rUN/ju//CXvmT3F7gsmZ5mY1gAtmTo/PnzJQZg+3v33XfzN2vL4btYgv7S2TdeOd/T8Rxtxvp9tn70qMVg7lfKPtR3vvOd/GV/k6fW/Dwpm9+dd97pXq1x5MiRW2+91ZqxNbyQ9M2v3NJsSpoJwD5dwsV//OMfL2L2Nopy8aVv+hCLMAoD8J5Pf9XHZhaaTilLeMx2hny++E0f+eKP/vxRrs/IaR6ESayCpmwVoXztmOAav5Uc0DfrfCYXYgM9eEHc3fngiyhg295DrB0igq331G1NBHPjgnNzLd8tfjs8nEBxD2iYCOYF3+69H9VQ5/bCDbpn37PcrPSlF7SWtZMiREYVsLpv377ihwW+S8pRMmXRTAD2vQVcuNAL8JaH1eXlZXt98uRJ2wHsrRC21D+rOgyx9Yf8mUeWwk/8wolvhOfjTnE1SvGPV1z5l916IqFUzQ03NHTitlr8sB6rFNlozB/o90QUEyIsNpLTbR0FUdbvzAuEr71OPwiLLC2yG17Ve0Af3Y30g7A8KysrnMl7dl/+avZwlW4w0EILbgydgNuUZWPoUtymLBt/+oEXb9z9hWuv/wdufRQ0Et/jW4SwRfkqXdZmNhCOU2L3aBpK84zp4UvaYzmJr4888kh44fyULIvK/m75F3a57bVh/edupdOEFpgp5P+Vv/a33SES4TL6kQu5CQOwrzZDGs+eEo5m38ut9xh7CNrf/ocPcU3cplHkuxfWqRbi3liN6Fgr970UD2j8bz/6CbvFkRs91htDC3WbCm8MnYDblGVj6FLcpowb//rf/L/CxpCAz+9J0awF4h/uv/9+XuzZs+fyHqtF4Ouuu44X9957r22JE5agaXuW9tH8fNpnU5A5uL1lKg7PduDAgZEtPzLKpAZq/TCDb2gP4jCL5QUXK3T9RFl7gdlzybjKFphJvUnYIxeIWF7zJRsvaIVpro+VhrgR3o0Om0qf0I759/AtP4CLEzCl5U0uQhrbMM6cOfM/37Qn9Gs9x+bIpjQBdiNY4gq98M1BRAFbclxiALYih1sR7SalexnIbbfdxt877rjDHIX5eRqSqa+wMpoeGid/aeEnTpywAGwHt5Pk4PxNgN0GToSrjgYaOl8y4TE9+Gh/6S0AP/XUU9g22y0M8+92lQ377Ty3ImLYEGi3khrfjm1Op69MGCPb8TDM5Lj7r776auSsUh4ToyLefOY/nQkz+vgSyoU0i4mV8V24mCujfuzPF+vAttggqYHgDd2rRPzwyfCww+ooKY9pc1rcimg3+Op8Nwt/7tuJxUh8ThiA8436vOWWW+yFF8d2evaXjcmJPrtFfF3VNNDQ/TiagWDS9oI75KsK4f6R/2W14DOlOw+XaPPmzW4lHb4do28sM+X1nj17TDmNbMcD8SaHjfHCrI6N11xzDS9SHpPv8n3v+7lIuI0vYcUszeKOPrZwWXLMYjRPd+jQoXvvvdfbncf8V1ZsENZnPvMZWs43vvGNyEFGHtMKlW1+hLWIwP3aunWrW0lNJABj+9x6hBZpovmBggGYcH7zzTfzgob9J3/yJ1aeSXYyjWi5BgJwQtGYCxRWHmyWGJbsrxo7sCXch9WxeKxxg1jDyjROzdoxJoHHJF4+88zlByDwopQAbL6e7OpTn/qUveBvmmMmp259xmwqtIuRcHPtbhIyeWGVZHyWrfL6Xe961+X9MuL/i9uKE+SO85c7a3d55DHtN1zdihgHyJayuhfD6mHDyNSYPVa6G0ZCmc0yv4TSbEU009b5qvny6whl/ahD5zG/RiNz66MY2I59AE5ox8kMNDlzzSOPaXbe/oe8N4VlJ5n8oPk430lmCZBN1oQiCph0amZmhgT6gx/8IKs0PMu9ko9pDzurf0aDKEhW92KQkR84cMCtvJ2EQVgjGeYiaI0JKT7nD26lRpqJXthhKd+Wg5Tyow59YLWBZfBukXaMtdgRkttxMnGTs47JPXv2JB/T5siXkrR1GPOD6X9hN94HbONRCZZEUNuSA19a9BDpue/Jx7SfJqx5FqYoC+4djGPyZNoX3Hq9NCYf+cIF9f6OHTuaumpjijnosetgs9OenZ1162I4JiKzdvk3i038hcXFRbdJjCFmp/U/zbEI9hAbcOu109gHW/U4fbYeAVvl3/1TCUVK7DFDkP6HGRrEn63KkunxPiW3cdUJuYKdbdYCpmgh9kwYaL/BXrhwwTKGZmuoTSrIHL1WhhUNuHxuXWTBCw4uYGvtxAaOQf3DIrqBVXShtWHY+qFgpt6JH6JScCl2W6+66qqRU+MagdDrrcMeCdUgDZdw7ckjmX6ox99gty5yYeNmjfZUd7ENL4lqnhHfPbAUy/GhPbUizsq7P3XqdxV7/IDRnoGT86uzlo2WzJ1pPoyZDuavW0/EShw5pjyKgSwtLVkOZDQ1BObixYu+2gzyyyVCTmOPtjCakpvEXRtJZ+T47SYxdiwuLvoUED+Tb2ZRcRAbPueDVtWEWqEjUWB2aSYnJ4d1BXkHrUn6VWBd8h58ZQ3FGe67t08gTpAQuPdE2eD+Ile7ak9E7LfJYx7aVTvLkqJSSPtcC1gFHVX1gLvjx4/bT8V72pnztaiQGybIA9GMoxrATVtNIoRbgwkVCcm4XY5MFhWqMQM7UdytE+5j3NY2b948PT1d5Bbj8sio/DCcEMKwxlgJmJubC8WoUdy98L8cId6qkd0tf0xT63pSz5w5g0f2MQB/PTExIQfdCGSpNterXLi5eGp55DaAZRF3w26IUsAVakavSIao6QfilQgpYKZBRc2ioUwiG5ZsomVxsmATTyPYW8Ce5LzKn8YLu8Xg7uIgYWHbyc/YbWFhQemUKAVrewRRa2Bxubxu3Tp7C9hzjGLtQBSAhRBCiAZQABZCCCEaQAFYdJ/Dq6R/+NfF1Se9xH9h3opgvOBQdkzbLkQaRrYr0Td014eyZa3ry62nIP6jqsbptZ9ZtAPO6NE/9ZLpJgKO0u7RpUuXbrrpJv79/vvvt7fsty1TtYQAAL4/SURBVIOMrIcV3SNTG/DtCvjH8H8j7Uq5XU+QBxmKdfK7lXT4ALy8vIwV+X/3ARi2b9+uAFwzoadLg3eU+/bts59p8v5RAViEZGoDYQCmaYU/G6UA3E/kQYZSJADDkSNHFIBbQugleQ3m++w3Fm07HpDXdmtCR2nY79WDArAI8W3gk5/8JK99O9m2bZuZPLbPdtstbFdhQwIF4H4iDzKUSADGKnzGymsfUHl911132WsF4HZi7s9AefhOOPs1YnvNPfLbIwE4/HcFYBEStgFeW73EEjtv8rQZ2x62Kx+qDQXgfiIPMpR4ADYrwlO/+93v9tYVGpICcDsJvST3xQdaew6AvQ7vXegow/8FBWARErYBXpuL2LWKmTxtyT/b3LcrHIJtpDVG+jiA4ygA9wR5kKEMC8Dr16/31sWL8+fPr75/mdCJo7S84SkAN0voJb3S5d7x195iY3hTvKM0iWzYWwrAIiRsA17pYvjeRYQNxrer1QblsLcUgPuJPMhQIgHYrAtP/eyzz3rriswoCANwiAJws3g3Bz4AW3pkBYzQ/UGogCNEHKV7JfpK2AbMRVhix18cRWj4kL5dKQD3BHmQoQwMwMhfXpt1IY8s4fUoALeT0EviBAnA5iWBAHzkyBHfu2+wD/8Sya6AjeGhwtein4RtAPPHIVhiZy4i0tGbvl0pAPcEeZChRAIw1nXixAnz1FjX0aNHfYU5EwrA9RN6NwvA/t7hIq+88kp7nZXwsKKfhG0AF3H77bfba1zEfffdF/ZPpUcBuD/IgwwlHoB9Pot15Xa+CsD1E96scOoR8Dqfl4TcbUB0hrANbNu2zSd2uIgiiZ0CcE+QBxlKJAD7iX2AdYVdO5mIB+AzZ864V6IaKoqUkcNW8XvVOOLp6Wm3ItpHFU0rEoD37t1bZzzGHanJ1YYC8FAiAbgsIgF448aN7lVGjhw5gqEalg3YQxM/+MEP2g6wb98+e2txcTH9k5C7B5fFvSqV8LDr1q1zrxK5ePGiF9zLy8tpxPfKyop+W7e1VNG0OKaPuLOzsxcuXOBF5OF6aICTJ096JXDzzTfbdghf52br1q3ulagSBeCh1BCA+Qh7sWfPHqzLqqMDPxT9bc4aD37bbbfx4sCBA6vvXP5f/mKKvn/aXnC0n/zJn/RKffPmzfaih1ThJcEfFtFg15mMh8SIpArnyLsD46uN3eM+Wrkyzb9UdP6iOFXcGo7pA3CY2NFOvHOw7jBs3ArdvLCxXX4cKP6B49xwww00sBzFcO+aRKXIsIdSQwAOrZfXBM4Ea8FxLy0tRUZ+YXjm+k+vTe338xk4DhbrAzD/O+4/Xp0b82gl1gDs15D87UOmEFDtNQmQ3QjeJdByg7gjvA4jK7cyHAob+RdePPXUU/7GgY29Fy3Et4ES4Zg+AOMu7AWEAdh7CT8whZbm249h50brssZmO0QciCfS5Pbv37+ysuJWRGUoAA+FAEx7tUZcFnZAb0VeleK+7YNwzWYhVnEKTSJuYMD+9oIAbE/EtOlStt0CsP84/0KUS9hnxvXnmnM77IYa5FXe8XEfcYi0Ln8rI//y/ve/H6cZ3voNGza4V6JnhE0rQQGDJeg+sfPNyVqXbQzbZEi8yZGsLy4uuhVRGYPvh6gH71gxLbMoLMQKyBCahHltXthcQ9tI2PY7YH6msfD1fmOogMln5+bm7LUoF/SK91bcQW4QVx7PaL0D4AuD/j6C3xj/l4g3HOY3RecJS8FhGoe9nzx58pOf/KS5C1bNLfiuDS98aTyvvvoqu9H2vFyOE2lyStbrQYbdJN6xYj9mNtibH5YVmsSHPvQhewH+NbmtvTDe/e53c0DrITZMxNvr2dlZ1ZSqI2EwHZHV50wpiXjDHTt2uFeiZ5SYe6GJffIXRzlfI+gqN8nBgweXlpbcSoyISRTkqquucq9EBZw5c2bv3r1u5e3gyyDB98UhIfM/saUO4D6Doi0r/TJ/cujQoWFjA32TYzfNjawHBeCGoa0PrAzv27fPHHcpMbjPQ6CFGHfqDIc260nUgwKw6D4zqyTMpr322mvJdSKFYsuBLAGyIywsLNhbQsBqhnwZtx7Dd/NHOL32cHj3/6r39hXd+KEcXsOtxxjpte3fNZiwcUY6OO8on3rqKXb2Y1W8owQCcDgnRAiaSoJ/gDAAh40wbFcwsn2KrqIbP5T0XhuWl5dx0PY6tC5Ul+aQNE76W2k9tdxBGxOnACwSCAPwpUGzbH27Cke/gwKwMHTjh5Lea99www1Hgil6CsBtI3Irb7/9dn+zjDCXgl1rTxNTABYJhAEYfLPx+HYVTggEBWBh6MYPJZPXVgBuM5FbuW1tzrQnvJXhRGoFYJFAJABHpgWCb1d+nu4tt9zCXwVgYejGDyWT11YAbjORWxn3d/5WhtEXFIBFApEAfMUVV9gD7PxcfN+urMnxbrxrA+INUvQE3fihRKwibiQKwONCeO8urT6978Ybb7ROO9tot9K2GOoDFiOhnfgAbE+TNZnLC9sYuogQBWBh6MYPJbSKBK8NiGM2gj2XVQG4bfhbBtwdP8jZb0/jKBWARQTajw/A+4LnRGZqVxC2T9ErdOOHUorXVgBuA+GtDEfKhLeS1wkzykABWESgefgATBOyLipy9IRHLg8kbJ+iV+jGDyW0itxeWwG4DYS38urVX4vixZEjRzI9HlIBWESgXfkA7F3Btm3bImOhRxK2T9ErdOOHUorXVgBuA+Gt5DX+cXl5OatMUQAWEWhLFoBRvXfddRdegi0nT560d9MTtk+4uPbb0rkpfgRRDwrAQynFaysAt4GIg8tHJADv2LGjlGecbdmyRe5yTKFdeQVchLB9TkxM+PYQ/hbhnj172C35Yajh44BmZ2f1VOf2owA8lFK8diQAz8/PYxhupQBbt26VdaWn9ADMbU35244333yzexW83rlzZ3hK+r2jMYWbWG4AplFZ79Xp06eJtX67H1Zy7erPgSO4r7vuOnvLj0SJPA4ISmn2olJ0h4ZSSvMNA7C3rpGk8dqbNm1yr8QoSrmVYQD2Bzxw4ACv8X379u2zMfAR8JXWZ+EdpRGe0tLS0sGDB92KGB+4ieUG4FDygt/ux6D4F9au2D8cgxIJwOFr0U5KcExdJXSRuQkDsBc6pXhtFPCwH6AVEbhuOMrjx4+79ezw70TfeAAGe41ntFtmeZIXKMDdZEvoKCE8AkxNTblXYnzgJhpuPTvu/9eO4F8YfjUegGHbtm2R8SiRAExWV6TNixrI33Q6D60ftwtuPTv87/T0tA/AoXXZa++14amnngr1cRqvHcmXRW34G3H69Gl7ffXVV4e3L7xTOEo0bsRXRm5lWT+6LsaayHgR30h8ZPUZOY0K53Dx4sXw5x8iATh9R4loird5AVEpCV77/e9/P8E49OBpvLZ+Zr8p/I3wKRRbXn31VVMnoVs0RxnZCOzvs6szZ86k7JsQ3WZ2dtZGYFn+bdj0YqusWANbXl72jQdnYq9paba/L6opQW8/CsD1gW3Yi4FeOwzAabw2SDY1hXeUA7nxxhvdq3SoO194Nm7c6F4VRgl6+1EAro+FhYWEilBEAY9EvYbNgqMcOBCd+3hZhsS6D4ZBLEcBuxXRe0jsisdg/Mzk5KRbES1GAbhWyEmHTR9C9d51111uZRSHDx/ev3+/WxFCCDGGKAALIYQQDaAALIQQQjSAArAQQgjRAArAQgghRAMoAAshhBANoAAshBBCNIACsBBCCNEACsBCCCFEAygACyGEEA2gACyEEEI0gAKwEEII0QAKwEIIIUQDKAALIYQQDaAALIQQQjSAArAQQgjRAArAQgghRAMoAAshhBANoAAshBBCNIACsBBCCNEACsBCCCFEAygACyGEEA2gACyEEEI0gAKwEEII0QAKwEIIIUQDKAALIYQQDaAALIQQQjSAArAQQgjRAArAQgghRAMoAAshhBBCCCGE6AUSwEIIIYQQQggheoEEsBBCCCGEEEKIXiABLIQQQgghhBCiF0gACyGEEEIIIYToBRLAQgghhBBCCCF6gQSwEEIIIYQQQoheIAEshBBCCCGEEKIXSAALIYQQQgghhOgFEsBCCCGEEEIIIXqBBLAQQgghhBBCiF4gASyEEEIIIYQQohdIAAshhBBCCCGE6AUSwEIIIYQQQggheoEEsBBCCCGEEEKIXiABLIQQQgghhBCiF0gACyGEEEIIIYToBRLAQgghhBBCCCF6gQSwEEIIIYQQQoheIAEshBBCCCGEEKIXSAALIYQQQgghhOgFEsBCCCGEEEIIIXqBBLAQQgghhBBCiF4gASyEEEIIIYQQohdIAAshhBBCCCGE6AUSwEIIIYQQQggheoEEsBBCCCGEEEKIXiABLIQQQgghhBCiF0gACyGEEEIIIYToBRLAQgghhBBCCCF6gQSwEEIIIYQQQoheIAEshBBCCCGEEKIXSAALIYQQQgghhOgFEsBCCCGEEEIIIXqBBLAQQgghhBBCiF4gASyEEEIIIYQQohdIAAshhBBCCCGE6AUSwEIIIYQQQggheoEEsBBCCCGEEEKIXiABLIQQQgghhBCiF0gACyGEEEIIIYToBRLAQgghhBBCCCF6gQSwEEIIIYQQQoheIAEshBBCCCGEEKIXSAALIYQQQgghhOgFEsBCCCGEEEIIIXqBBLAQQgghhBBCiF4gASyEEEIIIYQQohdIAFfI6dOnr7766omJCbcuREO89tprb775plsZgjXX66+/PnnPlLsVR+YjesLFixevvfbaK6+88vz5827TGvG3jhw58o53vGPgziEy56wsLy/v3LmTk+TywnXXXbewsODeE0I0R8Q2r7jiihtuuOGFF15wb48tSnKaZfwEcEKuUCeXLl3atm0bdvjss8+6TTHUuEVF5MiYy0qFlTGHEJi3bNliUVmWLvKRyZxTInPOBE7ygx/84MmTJ23V4jtG3XimIUSf2bdvH2ZIpn3gwAG3aZVDhw7hT3hrZmbGbUpNmuy9ONII7UcCOCdq3KJBlDE3jl1nkmaug5UYZOkiH5nMeaBdEI/m5ubYbsniXXfddeLEibidptwNnnrqKV/ZYc9777033MHOgdTTemZst+uuuy5rNHzttdf27Nlj5wM33HBDeATLfeMJbnx7yrPlhe3G9x3pHu2/kkO8EKI6zNKHJRuWhLPD/Py8bRkYiM2Q/UF27drFPhHsCN5RcGTv1vAAEe1d8FNC7L/GyCt2jC4IYLuR73//+/nLbf7Jn/zJm266yW552G4iu/Hi1ltvXW0bb2s0aRo3DYtPYQt7chxef+hDH/LFY4/9V3ioZ555xv6LNj3wPCMfZMTFtrV1+xb+TML/Cr8sb7373e/OoYhEaymeMZuDpgn5dmhE2l7K3TI1yPBovB6WX46R+UgAiyKYzdKENm7c+L1vh7bH9mRztuYX7oMutQOGrTrlbnEjwoLMD/gEzvZhC6fhdzOzGmYFA0877HSFyBHiCS5EbC3T2Ya7jcQOEk80hRA1MND8I0Q8RsQ5GANdRCQlMAa6NTtm6DYLfkqI/Vd4KA7eZq/YMbojgCN3Mb5x4G7xxlRp444T3yeeRkQabmTViBzHVsOrJLqEz5iHETeQeIuK5Ha2W9jIM+2WpkFGrG/gRk/kCAOJ79OI+Qx0GkKkpEg9a1gkst28cWXajcZstSGPFYv9bpFzMOxUs5rza6+99ju/8zvhp4T7RL5+ZLXI2Sbg6wIRLyGEqA1v3QlmWIUAjjuKSCJUg0ZooVfsJN0RwJEbabuFzXHY/TYTqqdx819+ZEVI5OPCHD1yPr5xD0SNuyfErcAz0kCGNd1II8+0m2t/MZIbZNxIQ+L/0lrzGeg0hEhJ28w5Oa7BQAPJas5mp+zvuzsGHjY0rkj1qsjZDoSvYKMB1fErROPEy9khPpp7h1Awex/mKOoUwC30ih2m7wI4bkK2W/iPEN+Yo3EP/JeEk+c7fv3rX4+nFJHmPpCBhxWdIW4FnjQGMrAJxRt5kd0iJLTzSPP2RP6lzeYjASyKUNCcrfmF7dz2iWzMvZvx1FNPJedkBc2ZLWabcTuyPPh7v/d7+RuRprnPNgInL+krRNswn4CjCB/Jjq/45Cc/yXYIQ7m5oNCrDJzlAQm5DdvxFX7nQ4cORf694KeEtNwrdp7eCeCNGzfylxb2k8GcxkgD9Sb3/rV5wvZfkfZk7c8fKt7K4yfm/8WOzLusQrwV2v/azmHGb9gZgk2GtJMEfw5q3N0mbgWeNAZifpYGExrCddddRwoYNvKUu0G+Bhk30pD2m8/c3Bz/DnZl8BK2eu+997o9hEhBQXMGTHXPnj3WjGnz999/vxlvxLhS7gakfTb92PbEUsIfHSnFnOHAgQNmp8BHfPnLX+YIcbvzjmjYwXOcbQTvE+IM+1AhRD2g3Hy6DoTayERZD74ifM4fsfgb3/jGQL/kPSHe1ZIE7ygQtP7jSHjiH1TkU0Ja7hU7z/gJ4NyM3f22kBzX1UKIkch8hOgGCQUCIYQohfHSCPKKxZEAbinW2dXz8owQ+ZD5CNENrKPjikFDOYQQoizGSCPIK5ZCjwSwEEIIIYQQQog+IwEshBBCCCGEEKIXSAALIYQQQgghhOgFEsBCCCGEEEIIIXqBBLAQQgghhBBCiF4gASyEEEIIIYQQohdIAAshhBBCCCGE6AUSwEIIIYQQQggheoEEsBBCCCGEEEKIXiABLIQQQgghhBCiF0gACyGEEEIIIYToBRLAQgghhBBCCCF6gQSwEEIIIYQQQoheIAH8NlZWVvbu3btp06Z3pGPjxo0zMzNnzpxx/y9Ezzh+/Pjhw4exgunp6S1btqS3nSJs2LCBz9qxYwefe/DgQU7AnY0QQgghhBCJSAD/NxJodKzLrNdYt27d1q1bSa9hfn6eDNtgZ9s4MTFx1VVXub3XWL9+PTu74wox5qysrCwsLNDaUZvx1p6ACVSYmpoye/Hs37/f2dJw7EMj2AEzCWys2M6BD1WVSgghhBBZcanJoORkcnLSkpNhIBbcrmuEmuLixYvuM0Tt9FcAz87OujR5FfL7vXv3Xrhwwb2dBVowDZqk3x1rFaxCLVuMC0tLS/jleCUoxPTk9PS0idh8xlIpnJXFp61bt65fv96d9yCw1h07drC/+08hxChWVlYup2yrzM3NreZy38WyvQQi5TBCsDvW4cP4H/cZQghRPeTneB68EH4J75Sc/DRCONKNU8X9ulMXJdE7AUyjJzl27esd7+B1uaGXNkp7dUdfbcHqehJtg1aK3x/m8Tdv3ozKPXjwYMcqOIuLi3xrTB4l775qAIKZQKhEXPQNvIGNbNq+fTv5VnLlqH6s7ma9KPPz87JQIURKyGFwbuQzZDXOoSQSak7+EdnpDlQxJCd8Fh+aaSoZKRynileUNs5HjwQwlhBm/KTC7o1qwHj8qFFeKGyLBrlw4cLevXvjqS0tEwdKW3X79Y/jx4+jewdeGbYrrohuQEsmT8LYU3Z0kC+Sh5GQWT8tZuIOVCVnzpzhs6xvGcXLCQysVUUgZ0W6a5qDED2HNDv5IT68RVjHV9Tj0EqHL4gbT9bz+EO+45h+wZrpiwCmxbvW8Y53YCFua/UsLi76EE6QdluFqJ6LFy+SvPoqjIHSI7lUpjiMCxcukH8TQtz1WoOI0sIh30IMxMo68WbsIX/CDywsLIyjK/Bd1sNGcwCODrVfWweOEKJ+8AOTk5PO5gNwCxMTE6T9PYnaJHs4cyRGJN8ztmzZwqXo2IC+Uui+AOau+zxg48aNjTQCTNFOALNUV7CoFLLDcJA/bNq0Cefo3hZZIIGOXEx8yOLiontbiHYwPz8faagG+RBZEe/2JPvBYNG9A5U/bnBubk5lLCHGl2Fj2WTdcXD7Xnp4NLQtpOMCmKjvTYXW4LY2AUmznQZocIIoHVx/JAOenp4uMR7s2rWLY1555ZXnz59n9dKlS3v27MG92utt27bx7vXXX//mm2+u7l4TdZ4V8TUsr27evFkd6aIpyGAw8Hi9HyegYn+I9RFFOopZ3b59u+xXiLHg8OHDkYHNGzZsyP3Y2n5CXIjMf0EcsdG93Uu6LIBD9duGHjB0r50MSAOLsqAthQVR0uIq0l+kppWQOPgdd9xx4sSJq6++2qSmcfr06RtvvLF+AVz/WaGEfT7Niz7PoBY1QyCLdG+S0xRRvL6E9Nprr+3cuRPzYfWKK67ArNpQ2Cr9rLiAkelzV63+AEQVPlMIUQQ8W1jjq8JUfQphsIqfefbZZ91604mNUfpZcfAwjpDGVP1QpHbSZQHsb3B7xn+GGli1K1GQM2fO+PDAi0qrKhGPjP9tlQA26jwrLr73MJLBolIiieD69evn5ubce8WIWBCQX1577bVeXrbBrqGKs8JmI91KMzMz7j0hREMQW0PDrHTaUehqzMmE+QM07gArPaulpaWwIFh1Gtk2OiuA9+7da3c00m4S8E1q3759/KPFQmt8rPphlgXhsKvnpWdiiUL4Ac/1+KxISnrkyBGk5s033+xdcBsS5frPKpTBvMBduDeEKAytKxy0VkUiGLEgi3ehDmyDXVd9VpHnJqxfv75XWaAQLQG785W+devW1TBAN3Q1ZP6RjlZo3AHWc1aHDx8Oa6yh++0w3RTAxEs/RpEcwm1NjQ2yuv766z/+8Y9XMfrLtzNFWZEDmrcf8zw1NeW2FsPa/MTEhLV2/C8HD4s+kZQ0TtVxwk4JwpJW42dlEKft3HA7MmpRHIRumAhWN74gtCBee+O6++67zfYbz//qPKsw/4Ya8m8hBFy4cCEsJZcYRnEgdtgQn9h7V3Po0CGbamHUNgTGqnt8Yljga+qsVlZWfN87nrDzyUw3BfDc3Jzdwh07drhNGbFO4ITcenl52X4m0a1nwafLuU9P9BnfKVTF2H4cqzncSNu2KDJwHESRWXlHjhwZ6cd9/49ZZUQAV3FWOSBU8FmAXNHsBpGbSCKYo4AbosJWDrgFvcoChWgWMhkzNyi32Efy8M53vtO6T0k2OH6kN7UKV4PXvfPOO9P8C6fE+dx6662cWHscYFgHzKdxxoVuCuDt27fbzctRwUXZkm0/8sgj/I2nzjS7G264AXM1W8rXOCxX/l9/4Bdu3PUFlves/h3T5Qd+9ou7HzqRaXnot0//5qGvp1+eOLrywqlvZ1r+/NJ/dde6c9DkVpt2JUPoLRktXTFiNWEVcyDDTMn+14KBCeB6BG0OfN0tjGRCpId2bk0Iyk0EvQ1GDM1MXoWtOGEWOD097bYKIUrFT1dcv359RbVj38taZ2jGrSX7KL9D3AG2AV8E7PBszW4KYH/n0tdurQmCb7K2hfBMxL3lllsiQ/CLCGBY/ah3bP5Hv2ky8qaPHPWS8r75r536oz91+7We77x1KSI+Ry6Pf/7ViMRNXh547NTumIpOXpDl/np2bfnwF6zxHD582N2DMrD2DCY1CRjvete74tln6SQnythgWK81k6w68c0Nwduu4bp169wmIVJDNLH2QyKIAbqtZaDCVm62bNliX2RyctJtEkKUhPUGQXUjp8y9xKfRVg2fO8yn+SpeSAsdoB9s2NXJIN0UwP62LS0tuU1lU1AAY+12hv/0vudQNXd88kX+ItsOHXv94SfPTtz1jKmdD/zyl584utLh/kyRzDff+POwPbBcf8sD3/MX/xItJ31xJ5mBvhji9ci7777bhxDyV0sNw93YeMcdd7iVYviS7ZVXXnny5Em2eIkOod3VeVYjsdP7Oz/x77f/ynNWi0mz3Df/tUjRZ+QSKSqNXGhI7hRFK/GJ4FVXXVWi+lVhqzj+Kal/a2Lmp/a+EFouS9yy7nn05cg+tsT3fN/MMe/YwyW+J5lAZB9bXv/mn7k91tCe8aVte0Z28It7OyCyg1/c2wGRHfzi3g6I7OAX93ZAZAe/uLcDIjv4xb0d4N96z66jN+6+/GLLhw5hXFVILJ9FWD5AqrNr1664n2H73Nzc/fff71f37NnjU4gDBw7ce++9mVwTR0gYAm21vzBFMQcYGfBS+lnlwEclJJXb1C00BDonRQQwstxOz1rV7Z84jhd46LdPf/bYOXMNJLi25xdOfIPAaRtZxqtzWOSDZrDzwcsFEVsmf/FL/L15epG/P/CzX9zxUzut8eQuvuSDyGE5tCfuxwG7iGyplFadlU1k+v/+r+/1945l257Fj//rl3//K38cUaThwh0Pxe3I5eEnz/qsOuUyLNXu9kJKGrkOI5fIpR65PP38+cjdTF6GOfDJyUmz67JiFgmTClul4LPAK//y/xhpYMTueHn6pbNvRG66LSpki15BgyeDfeCxU0SfmUdcXxQO0KU3q+r372z/V2ZcBR92kBv8z2233Wav8U64lBMnTsRTCDRqJNOolPaclZ8GsrKy4jZ1iG4KYD+poPSpOwOzioFTlRIgxbF/9GPrvQbm9bGlb1mP3z2PvhyGzEhnILmdOoe7wfK5t+6b/5oftn3rvc+hiF45/5ZVlGkbz/3BBV6wA20Ab+hdUlmdwCPhQ+MdRwOl5sA9K6JVZ8VH+GEd/+7Q5QB/852XaxYsP/3Ad8sZSCxyAvc/omJe/+afRURI8oLvjejbkcuw7r5hi7n6gcv/Pnl5DnnNiaAKW2nwLvfv3f47PzZz7Md/6XJRkuU/LUaTQqwbv03SzwtFZ9E3vvPWJe/QWNC68597xap+JDm28Rf+1ZK9wOViv2ZZVTzRcyTk8/HpjQNdDRure+hUhPacFcHI7s6GDRvcpm7RTQHsbxspKYmp29oaBj7Fd+aRy07BNDCQunn9g0+xjSHqHB5fuKGPf/5Vu78sE3c9w333A6XIwk0MWwWE28prU7+2g++RgNrmZoQpabwM5N9qMFFu8KzidwTz5K69b+bY7335nL+b37l46YmjK+F9f/jJs/HhjqLDvHT2DVqCNQCWW+6+3DNPC7n5/VPWfupMBFtVQvK07azCLBAvbTVoHLh7OwYem6Q/HMWTvL8Q4wUpChnLrfdenr6XqZ5LPmN2Qe5qW2zYlBmXbamTgVKTbAFXc/PNN4fCsnEB3MhZ4W/t7tQ83rA2uimAYWrK5RNt+6kh/6jYLVu2uE1rRDQwoJTMX5A0J+hbojL/pc7hNkPMsPtry55PfzUeOUib7F2fLcXVr0Hm538KeOPGjRU9PSJCOChxILjj2mbbeho/q61bt9qNWLduXfjQAa+BrYrh61m+0sFGXxRnISfIlEyIsQDLxa79EHRePPzk2T987U+tK5hWsXzuLXabX3v+c82zrVTYGokfnZ6cBXKj7S5zfwfWrCNw69n/nkdf/uyxc6qCiZbjkxMWpC8J50tn33DvvR22m3Mjd3WbEvG5+ubNm92mGsGH+MHGCTQ4BDqBSs8K6WT3JS5VOkNnBTAKwY9IrG2k6EjCsxr4gC7TSARFt76GJcoIIXSU2zScp58/H5af1TncCOiccMg6uQ4hZGBihECy+87O4f0dpn49fiw9IMPqkcHC4yMEEMXd1oBQA7PK3d/z6a/GbzSwgzqHOwP3PRyeg3W/cOrb9hZGbT6BlhDxBv7RFdiy21QLKmwlMD09bTclZXbus38WonBy5F0+99bjn3+V5mGDRFj4X/eeEPVC0yXo+MKc25oaWrJ5Nhrzbx76eqYOGG9l69evr38y8KXVx00dOHDArb+dQ4cO1fC4qTgNnhU6xQ9TrbPuWT+dFcAQjktsgwYOe+0SxrmZFuKvWw/AxViYREq5TaNQ53CdfPbYOZ/9sIwsPXB3fLzxHYPGSPXrmZ2dtUYFGzZsWFxcdG+IalhaWvI/tAboFkzbvRcjooEN8gxrIcMMmbsfDpRV53DLwXgfeOxUxM1G9C3Owd4Nx/hE8J0hjSSCIiTMAof1gXCLsVOsO+6leYsbHTH8HKAlrNns+fRXSQBsvIAQZeGrrrywuevujSwQsMhkBnbP4PdIY55+fsQ8hcOHD/vOoa1btyaEVFEpPgYBCtxt7ShdFsDQHg2cUv0aBE780UANDHgZKxijr9ym1KhzuFy4elzDsH6Pu0+T8bx09g3fERTfP7369aB7fQMDFJqUcLkgSPxgSCBapxx9NFADgzfkgW3AQyZN4uvTFJqNOocbh/uFxLVZcCzcR/zAMHFCWmn74BzcpuEoEWwD6bNAzNNsM6GuEYLnz2G8/AuNB7Htiyx+TIEQCZBLzAcz0vFa7o0CELnStGGcpHnIYalsHN8VDBs3blQRsDYuXLhgT9o3ut3x6+m4AAZ0r88nBg5TrIFwqGrKZ5wka2DAr1ncxbVFuhpSEu8cTine+kxcjXANI523yRCB7H+RMW7T28mhfkNobL7BA69p9hodnQ/kx+zsrH8GrEGQzipLhmlgoPFYc+Jvmu4dEmh1DjdC5MrjeJO7NfAVNhCa+45Ru63pmJmZca1ttZilRLAesGs/pR/SZ4E2OItwkGzCuHSbBMGCNhjYY5YPGptV01hu/8RxgosUcp+xiMNCWCnlmeT8O0La2hh/Rw5CJJm0PXGbblNq5ufnwxyGBEZ1wOogwwmvNqvujR7QfQFs+K4bctmBk28rAuGxYcMG++iNGzdmMmPTwKRQbn0QhD0/hrbg4Kiwcxi3ldCh0TdIU3zWwsLrfIkLl9SubYJiMfXLkklUD2RxcXHz5s3W9gzc3Pbt29swHaDNIDaQuBHRixUXfNpEggYGNtrch+TmESFejlHncIlwJX/z0Ne5ZXZ5ecFqmsvrq5M4Z+6R25qdSCKYo/IiUrJ///7Q5HNkgZgwmhaxkUZpROTEyAGi6eHIhCeSh6ydb2KMIDfD8/u0hCaUptXlwxJRlvQlG06PnQu2PZJn/1gEY+vWrcpeSmFlZSVybckVe1hm7YsABnSvj3C8qNqQsN5womC+H7cw10MW5daHgO+zrgky4FKKypHOYXxZrzqH433jJCu5E9mwSJHcEeTVb9b+opEcPHgwHN/imZyc5C23U1/BFezYsSOieAHRa79pVBbJGtigpVkboAW6TalR53BxkCLWbWsL1zNTTxoX3FTNffOZ56cMg1ASdkvCxMSE+oSLw4WdmpoKSwyE7Drr40bxWmcmrA5rCyGplO5BURvmnUhOuI84qyL1tfTU8ynDiKs1bJaQLR+YCS5jvLJPWtjnmkKPBLDBzQ6nSlbR3Y/W9Y0MQy2YQ9vYqpEa2PAPzChlpoen853DhH8UvslUW/iOxVUoR7DuozTD1L/5xp9b6ly6+o1A2jc3NxfpHDZorqTaGEVX5w+T3fLdkf1xuQsoXr57pWE1jQYGRJfVX0h38iUf/FfYOZy+97JvID/QAGZ6LFwxnGcOPVCR7w2hZSJ9XWNdhWZMTkNm4/YQo8D7YeNhDgDo3sOHD7s9yiO3bMDqMVhCkluvDGLN/NoE0Zp1uIjDLcB7zARPBS+xjjYSnB5OjI8eNjmrDWCn8VJ+DYF7HMHXoT7imV7plf3xpXcC2KBlhN2zULCmbrVkd6xVSE3Kqqxk0sBQRS+EJ9I7Or6dw8R+ro99CxYub4lf5Onnz9stILd2mxKpTf0OBFk4MzPjH3k6ENzojh078JvtrxdiyPPz8wgDImXYvROBMIDN1i/1U2pgwNZSjh0YSaRzOPcw/g7AZSfLtAGiLNgdRpq7osfRbCAiLrHOWZcLCwuREAaY8NzcHMHI7SRWp/XiDSJd6IAG3rt3b3VDys3MWfK1Cv4dF2FHoH3W3wWHRVhIsoXmjQPBcKSTq4CrykXmgqN+a77I3Gg/lHrngy/mmLILlqNy/nV2jZC3bN++fWAtm3yeXKVXnhBXRlBIuCBV1PjGnZ4KYM/Kykr4Y54GSfPk5CRRkxYTT/dJr9k+rKkRaKsYQ+U1cHqFRsZsMhXvVl34HKPOYS7C/Ode8X1iXByUfOmRhmPa8dPX75tVv8PwnaXJwjgCOhnZiZw2MBOMJSRNmYm45fYOcEecmcGVJyvbCGS6/AvJbnuke3oNDOxjlRoaSSmdQj3sHEaEhPofl4Xjcu/lBddhKhq33KwqWFxcxE7jFkF4IkgRyHo1cxhfQUyP9PEa+A08ktuverBcG7DKX7cpOzQtezpAs9GB08D5YET4CrdpDVxHa4N+G6AZ4G3w4b6iwZJPZ5aOJZZFKiz8o4WSKrpbMkEyT5SPlwU9lpngH8bdH/IVZmdn0RrDsiAr7lehRDpG3wVwCKl5sv0MBHmAUdXQ1MxVpUyaPQQn34lUdZbG8dvWOXyspOdXjYQw4DuCMmUq7VS/I6HB44VRyF6RDqw7Vg2fSxjgHIgHnE/7e6c9mTSw8cTa88NTDitISSc7hzErMnWfcfKiRJHP9TEvhzJp1r8NBNvEIobVrciZujHNAWO3Ct1ArQtsRwk3/jVfOPVta4TlDhAg4rSk7YWGZgs+hHSlLHMbax5e/cl3uyCNlwlyq9xhWFKKM2y2AjgMJPH8/DxOYGQRn+yFXAJngufEq5BLFBkQmhtOmI/mnDmN7du3c0pIWXeKQ8DLcdqcs+RuDiSA00K7bLxulCNpNtjfqsi4qtrG6TXSORwR4cj+Is+vSgNfyiqgt3/ieNaQP6bqV5RCPnOmqVjzpr2V3rA5IDnNmHYOhw6HBVVfuq+zhI8l3g/WZsiNkrWih0yRrIuUkQzMhm80EvX4XOAcbCLDyKo0+WvbRnlEKFch4DH8GH7EVavkB+eGZyMKu/UAYnGXZl7wXR547JT3liz4ZPdem3jp7BveMZIHuq0lMaapy+LiIi4RR5e1x6sRcMt4b6vy92o4T9VIAI8ZuTWwYfVIllLGUqanus5hDsKhfDbAgtKuxykT/0y+kmrn+C5SvyK3OaNUbWQHNlXdaLqWdw4vn3uLBNSMiIVM9Ilcz68aCce068BndSmDJ5cynYl6HNnV0DiodxvucfDgQT33y8APYALW/nEjbW6cxDtygDBSs7A6XrUkD44XVYmkb234xhn6jIsrX2k3QFexCY/79+/H7YD1yoak1M9WWAyx3mawDmf13zaCBPD4UVADA4rRssaBZdoaKNg5TF7Ov9i/s6AEah5rTcy2j37886+6TRmR+hVGQXP26S/pjttUDW3oHOYS8TX9OWBBfP1Kx5XwBa3QwIfWMICltSwuLpKlzc7OWtKGEHV53Boj+5Zh3bp1bu+A6elpOyaylo9wn9dpaMMIv9IFCZ7EvRofUOzx+h3pAXbN16kzpns4pbhQH8eyF1ePK+lWSoJGO/PIUp89oegSEsBjiSXN5H9FElCklxUI93z6q41EGiNN5zBud/5zr5Bz2z7szL/UP+6Ls/IjyYtERKlfEVJiSSvfYIQc1NY5XMXzq9IQukd1nogSQT+Yteaun6aEoEk8rW3SU1ngW37z0NfD6QwsGGNcKhckbtdWmyC7GC/Fy5XhclV9o20CCDeiVUPuhciNBPC4Qn6GMyqogQFfZsVO/rbBr4Wdw9+/+6i9YGl2+CVXxncEFbxKXv2OY8FeVERxDQz4BOsdpa3WacvkkSV2DvOPDz951le7Ch4tB589ds4+uqkBMqIP0LpoY1hNdeUVnAm2Y+GGv7yupzpWBXGHxndBjM2k+90gfOP82i8e+4VV9/Z4whe3Ih03F59ZXUPC/ZpDlksUXUICeIwpSwMDsQSFydHwpxzWba0XYhju1Rw6C5nBZ37nzIOPnfJbBnYOV80Lp75tJ1BKPzlHkPoVAylFAwNpkP34Cu22kc6fHJ3DYdmLhX9v5MxtPDkWip9xm4SoDEIeRkrLr066eLBBq3RX3e1cJ1xARCAa2KKqLT/9wABZyz4NDqsuHRuJRo5UQ68ACSGXl4Y6ssogxHghATzelKiBDStL15MCEor4FIvKtiQ/vyrMkjnDqh8rTWS1z3r4ybNuUzH4vlZGlfoVAylLAxv+iXfzn3vFbaqdYZ3DWC7269NWdsDcmspNOUlzLJxeU+U/IURWsFbci9Xu/YIziURYy2rYrc3PrBJC1IwE8NhjGpilRM/uBwGWpf08kd6h3M+vinQXl9s5bE/YIjsvUalK/Yo0lKuBgQOazpxp9EdrEZlI3H/wC25gsy0f/vUTzc61w2eaOMcR1dALJ0Tb8AVo4mmbTYCIH58DjP0SrJ9+/vzIM2cHdmNni8K2tFwM465R7Oa9Ue9uqxCiJCSAuwCxwbxkuQ7dj/4tkjp/840/x4n7qMMBCbSlj6UppXOYGOkn+pZ7JaV+RXpK18CAxZnS42/p1jcMHIgN1bMFC8VO3XvDO4fd2xXj6wL4CrdJiEbBHGiQjYw1Jd75AEoQLP1xU5nA78UHNnNZ7qn4CX9cdvusWxt9Dhan4fu0OZP6T4MTsMRP6YroNhLAHYHEsQoNDHhD30mSMj3Fb9osRFvSTAIsEU44a+cwF80EKklA6VVwqV+RlSo0MHA0S63wFVW0RvzDw0+e9aaXSdPmmDmcDz8ynCTbbRKiHRB9LNo2VZfhBDCQ2upQfBDROf5x2ObA7fWAL+Ii+IrAA4+dcm/UAtkI4r+p707uxFfGdTd1AkLUhgTwYOz3r+33CScmJtxPFm7ZYj/EDwsLC8ePH3d7twMcVkUaGIiL/sk68eOjOQkSPvElhM9/7pXSlWQ+iKPWr8vC9Yl0DvOuXbSKglw/1e/KygrmY8zNzZnJeJwtDWdqasrtusrs7Kw7Vp9+L74iDWxgnmYRxec4YEE+U2Qp5flVuI7SO4e9+MdNNfKELSFSgvyjoRKYKn3IRXoQhKVIsmNL38I/+DzBviNHHrvg6Ov7uCYyijRjsAeCU6qz3JCM7/jF97pNQnQaCWAHaTqZt/vB/uxs2rSJI1y8eNEdriG8Bq4uouDuLW79+sIf+ulDLGyvQniXiwl1u0R+efKZ193bZdMx9YusPXjwIIp0+/btGMv69etd628H69at46wmJiY4w/n5+Q5I5Uo1MJCPWsaDMkyfwNX//KqCncPhGBZeu61CtBgMqj1Rg7zC4j4LpjTyxHAmnz12Lq6j+FL4ii7ZIM6Qr+mH1aR0g/yX/Ys5pWYHnHu4ay2fB94grgB/+PDCwsJqWf67TE5OXi7bD8dykhDyE3e4w4cbVw19ptcCmBR569atLn1eg8a6f//+lI0SY0AMkHm7f14FMUyzdnvUDrGqItEVSUNteeR3S35KVtXg331H0KOfXU7oHC4IsXAc1S8qF++8Y8eOjRs3ugadyObNm3Hx+HTrp61nWIQN0LC+ZRugEbHBgWzYsAFrxbr5d3eg1lO1BgbyUbMCUtuBNSxMJuyPxVIeeOxUU31TdjJmWXZlEjqHvcKfafQBYEJ0BhSsWR825Tat/n6YN0lbCLLYac+NDv8TuSaTv+iukqRm45Dkk0WQt0xNTZFCpEx46oSMhRMjGSPP4VTJzdypi5LoqQAmD3ZNbBUM4MKFC+69vGBO2NJVV13lDrqqhIsfNgdlSS/SSpJLH9hIJfHaYfkW/24dQQjj9oc6UnbfERTPmPleYedwmpnDCfhbEK+Ctwr0Ko0fP+uabAz0Lc53YWFhjESjx3dZb926dZhCXr9+PQGmwYrVSGrQwMDBrbyFCTz9/HlMmwTXbIEl8vyq9hB5zhYppnUOY3e2BQ9me4pM4BkwCmxnenqaJIxY5gymSsKED8tts1XWzKk/+tOKJumkBxeBL7pv/mvxGQQvnX2jqYrYuEDKQUbB1cOTx7OCpsRwkSRnLCAtx5PgxMhknJdJpCkXtLi4mMPfIto51fn5eWnjfPRLACNHw4ZF03FvlM3+/ft9wo0krn+2sBdgWTUwaW7W51eFwrKdRc0cQp3AEHYOk3ykH7jlL34L1S++Mj7qAWil27dv592eDMgh2GD+A5U/LmJubq6R0tUw6ukHfjh4fhXLT+19YVjPajvB+fzW7y3/4J2Ldv4/fNczxWcOdxKyJRvIR6YVVmxHYtkhRGbpAyEPm0omPnrQsj3IJLBtsgPnMF6jOYqA5rRWXef0deJmOMuJZeeDLw77KV0/rood3KYeQ1JkeVTKqxEmXSwJ17ksOENLilpeo8/E0tLS3r17E5wJb5nfaNsTfFLCFyRJS9bzeGm+45h+wZrpkQD2vb6ETwzAba0SmqCfJ7lx48aapUVKGRbp+UTKsn8OHcu/2LNwhg2kbAQyYPteRbx85BIhjJHH7r1BmHJuSVwh2cVdxtNcZDBW0BO5m4aDBw9OTk5GOopZxW+0IcmuQgOHVR6We4LnV7109g0Twxh1O6taERC69l3wP9YZNaxzuFeQMKEzk0f3mZ7ES5iIbVXpx/DiGa+V/OgBkr8d7R7QUQQTmYilcgth2AUBjsO69YCs01M5lFXDWbC+9FXjbvD08+ct6WLhkubznNxcvP2wO1JKBcRmdN9673PVVVTrwaK2M/4AfJpNZmyhN6sCEjmbjzmwoIl7V7I3kF4IYISoz2tpIm5rXezdu9c+GuoR3h68m0WjUIyx8YmjK76yi67DG5YlWTm4+VYO22C6yWlY7ksSX/ppJHcOt0T94g0j3ZskwXKC6eECRoqshBZsucELWFwDY+aYZ1jtSn5+lVeV2FF7qloRODHT6siDYRkn2+eDXyPnRSc7h1dWVmZnZ4fJXdozKpeUsWNOYHFxkW89bJoDgnlqaqoDj8QzUKTYLw2+SOsNC0MsJAMPP3k2q9ZNhtMLC2p9gKCPY6l0qgjJTKRPHh9OBpL+OnNfzP8nF/FbC4KWKByvgrVw3FbjzM/PT0xMuAu0BmkM/lBDpo3uC2CvP4mOTUVBzNKrEVqk21oXlsL+s199wTtNtlTt/kg37bNqloJoUYsQBIYays+RzuEfmL78okH1i8QNS4DECaKCe68wu3btwqXa69OnT29ZfWp62J7ZeOONN7755ptuvRZqOCs0Q2RU1czMjHuvXrJqYIQfrdH3ycTrNSmxqhYLgtltagE4MTurh377tNuUjkjnMK/HNFMflg7iBHbs2EG7dfv1j+OrTzcYeGV6kv+d+qM/JQrbYFq3aY2mSj98Lkp7LEaUjKQlc57tLsfdF1IZ99jUjS6dw4cPR0IwGTWuT4o3PSSHkdoo7rHmPrm20XEB7NUvxuM2NYcvxtSggXF84fOrvv8jR2/c/YV/dbDu58HghU0ckkC7TZVBDPAdQbm7yIpghQb/mMfcYiMHZ86cCV0brxcXF9175RFKTUBYXn311a0SwFDpWZE3hzOoiR/1z7QZqYExOhsqacvuh06U1SlBRuXNuRET8/hhJsULefHOYVbbnKNfjD1tEWiKMzMzPZkQmwMS5bm5ucigGEAMdyaHfunsG9aGbfnAL3/5od8+XfoAqCJwhjZPioUXrR1UksDjn3/V0gycT7yy0B44zzAKsHDa9zz68nhJ4khBn9ek9BrFVhxSptAZrlu3jpji3usTXRbA3FG7u21Qv0alGpg010cXFtxfGPxMnj38ZAO/WkScs/yyovmETxxdsa/cyLcz7PKGfb+RzuGKet0Ruj5C4MUq7fORAPage8PAXHMZNaKBaWnh86vYXun4Xm/ONOma0ym8h7k4TqCi7Lm1ncOR4gsQ1xYWFtzbIguHDx+OXMyKioalsxz88CzmYIMgxm4yJ2eOODcT4+Td1hZjT8hnwfPgft3WMeG++a8RHZ5cfD1+5twIvhoZVD2V+pScOXMm7O8dF9scR5aWlsKpXmQ19df0G6SzApj7ancUVdCqipE37DBrzwexMJRYHxj1/CoTaVmHC5YFJ2YnUNbgZEK+7wiqdOLNSOLqNw6Ziu1mJ1y8czgcV8+LUjp/EJN2wJDrr7/e1KOXmpcuXdq2bZt7exXbXrUAxpCvvfZaPi4cgdzgWXELvDnXGTlo+b++8IfWlmwhiSl3Ct9IMGd7cimpVQ0SEblrA7kxogQXVy58UOOdw7SxiFSbnp4uvdPSGxHGcs0115w8edIKSd72qzbtgdRzVnNzc2Exi3SwbR3pYUUGKyB2oGS84iWOWPErOQCJImD1LRnznAncpuWHw0Q734vciTzKezlbmupLCCvLpO51Vpa9tzFYveKKK5599lm33rQPNKo7q8OHD4duMPzQDtNZAWxTASH9HEjfkvbt28c/WpLtc+4rr7zy/PkSVBbtbPW8Lg9ac5tSQ8x74uiKJYIsuDY8V6aeEAulTWlg4CtYMZWYnXt0Fl7ba+mKOoLSk0b9RiBlKdg5jHuyVgRl9frS1N/5zneabz1y5AhHjrjaiC+Ok8MXo1rvvPPONP/CKXE+t956KycWdvBWcVaZCGM24sRtLRvauZV7bLn13uce+A+neEHi4lPhRvA9ORXl3+RnZil8fbepIWruHKZdhVNYaVrVVXLjRmQewG9sQ/IHlZ4VqQI59+rFrnw0TYSwX5fQ4LZmwX7vgIBYc4GmdOZXnx6Cf2tk8Da+lBPA4dRcT6wCc1Y7H3wxa4CgCcVbEWkbh+LiVJRxRQr69fdDht7G0v7IOM3GfWANZ7WystJITb8puimAFxYW7BZu3LjRbcqCdSVdf/31H//4x32xuUT8c9vTDLsnx/LDb1hyiKUIjWtgw/9AUabH6uB8rdpd0WjqrORQv3Gydg7PzMxY+yE/Lj0nNifLwSN+tlL27duXbGh+BytO1XluKfEVN6zbbSoGzZtsI6x2xRtGZCx0g3AmJlNxL2WdzMNPnrXv3qonbxl2d3y3CS9YLcsjnTlzxpdU6slCwjTLwl/kMW+NJ3+1nRUX3yfilcpgbNkaDwtBjShPICgyp4D/Jaw37gpKgZBqgR6vQqpQ9Zfi0vnaVlPau1yWz73FFxnW8ZsDbgFHIwZxWLtQtpTi9HzGDk09ui/0NqQZkeo/NO4DazursKYfcbkdo5sC2CuE3DfP8mzf8kKIxE899dRNN91kH0GLvP/++9176cDC7X8H5vH4YjI/n1oRBlhNVkRZMV/feI8KpO/eITlIuWdtmGott5QwsnMY32SNBw9Vuvq1Zh93slXD5w4TwJb42lf2VFGWKo6fS5N74BaJV9bnV7VHAwNZlyl2kqTcLosvYhcB19eS+bcjKbFz2A94Llf6kkjZYUO8Hfk0y7pYPX7cU9XJn6+7hSG7wbMKZTAv8nlaQjneG2VrWq7xwUrjCBcNN4gGdusVYJbLbSpSfRAGfo+LSRQgjSE2pYlK/lG169evL31yR0hKH3jo0KGrr77avR3s0KwPrP+sfFdw/b8dWxvdFMA+h8hRTFpeXqYVPvLII/wdmGdHknXaX+ShOyMhuNrp+VHQpLn2cBdbIs+vqgJz+vx1643i+3X54vGCoh9jGZGCzWIXsOqOdL5ypHP4ff/wJ63xlDs9JtLxi+zE88bbP9vn5ubuv/9+XuzcudM8MoLZfPSBAwfuvffeTL6Y4yQMgY4bl0n0yHyE0s8qH742kX7gCSqRJmSNnwUdm+P5Va3SwIAJm4KlxWbyY1yN4vq5cXJ3DmODfszz1NSU21oGHFmzG3KAj129G5e7gtMXI3zAov0TJpp6whBNbmT5bHwpsW+zM6RxMvVARofTC3PaYSUMHzQxsUrVr3xgDshkVm9O3Y/5rI1uCmCfRqR/moUl1uCTftsyMzNDI77llluG9YnRQCOGlIb//pq/9n/+xH+4cdeRG3d/geUH7vziP/r4l6d+/Ss/8+BXPvwbX9n90ImRi+8k7PLCxYls6fOydjX+yoa/TctM37bLAh992223uZU1TDmHUhnDSXbZ5dKqs/IDh4b90Cga9bPHzoWjyO4p4/lVbdPAhp/mMPKRKuhkqwIgGFr1FYqTvnPYZxsVPdvZjILjZyrXFgS7i9fRQvwOFnDrPLc0+AT9ir/4F99zx+/d/onjr3/rIsLyvrXnBpHlu11bxuOff5XTw6xqlt8074GLezsAvxfZx5a4B4js+W+ffuWHP+aKhg88dioUfsOO+Yev/akfXMO/JOwZ/3S0HK4svsQFJ9c8so8t8T0jO/jFvR0Q2cEv7u01zMlMfOyZMEu0xe0RENnBL+7tgMgOfnFvB0R28It7O8C23zy9aLdj08S/wL7qkVjygZnIUdMfL7opgP18vMOHD7tNFWCNNUdWfeHCBf7xf/o//vHf+Fvv+/2v/PF7P3pZyv74L33pV/71H/CC1d995vWIU44vpVT7rFaN63TrLYDw8+FfP/GeXUc5sX/08S+3cFSSRZqq+34BVeO7f//+zz1z00cuX5Nt/+CfrTbtqrLkYQwsA1k4iUw0qLpbJqRVZ+VHdmzYsMFtWoVMi3TZ7iML6veJoyuly7x2amDw4nbg+A6SS7ss8ZSue/D1h3UO01yt8VQ03syiVY5abUESkj+MdyxmN8zNzdm5/X/+xt+zwBRZ4grTT92PLH3Y855HXzaFE1niobz4nv9l+Tte1uJXcX2RPX/ivuctv2LhrfDI6T89vaxtRAATX6w75PHffzWSJdri9guI7OAX93ZAZAe/uLcDIjv4xb29BrHPbsfW1XyG5Z1/76cwrhoK+vKBORhZ0x9ruimAp6en7Z7t3bvXbSqV3NLX8A+CRqi7TW8f7Mry0X95sh7t1yoNTK5srpzg9Kknztil6M/IZ+I3X9anGuTHBFTbaKuXE+i15z/XXJOLS81du3b5UuXdd9/txyQ3K4AbPKvJycn//n/5ge/7maf/8fSjoc6hST9Q+Fev0lBcAy+feyuSvpS1HD7+xz/+S1+6fHq/cOz3vnzuSy9/66NzJ1klPf23T79i+zz9/PlIklfn8vCTZ30SXM+Cw//Ru5/1Izuu/h8uz7kqvWgb6fTAZLCReI7Fds1uGIgVrGHdunWsnvqjP/2hn7tc0Jn8xS/90NrkBRbsrj3Ppwix8IEXqsEFNQUeLy4yAXFIDHUrXcQSEpyJW28B3AianJ0YRuG2DoIUFw9gxlVpQV8+MB/DavqdoZsC2IuEUGGWAk0wXrCBsBGPxOvzYT+acve+y77DL7gS/Lh7rwJMA5ONufUmIAG1L4tycJtWseDNUkOP60iqUL+XNW0glrgLfGX33ir3rD4DfM+nv+rW/9t/2759u7WfrVu3uk21MHCwcRycuLnmemjJWZlR/4XvucLu45gut977nGmzipYP/8ZXfuTuZ0zybf3oF3/6gRfDd2nqoSKtecEMvVyvYUH2+4rnez96uTPke2/7t7Sf9HNNS0SzG5IxfwtufVUGR/Tk8rm32OhW1uBGI8B4y62LyuAi3zf/NS+DSZmwKbxK5y9+PT0lIwnHCJCupJz67p//3LjEkg+M48sTkfF0naGbAhiqnk+VG19TWbduHe3YbY3x9PPn8SMTdz3zh6/9KcmZf0wOGSoCKXcPzzAI0hy8fg3MFzFVyRdMeF4OwcyPoiz9u6ekRPVLxOI4fhY3QXrgd+ebWlCJ17CnpqasFa1fv77OycBWjDxw4IBbfzuHDh2q53FTEZo9K6zYexuruHE3uWtbP3L0/b94uc+ThdbLHa+nB6a1Y6G9FdPg/83ayOc2FLZqA9eNA7cvzg2y8c82hvPHPvyvrQnVn2pgPprdkIDP0XPU0xHAl59cuFbfZMEE7nn05bhUFvkgU/KX9+Enz4b9wMRZLr6/7C38NbWxg+Bis99JSt2mdNjgPpZ4y/fJzObNm92m2pEPjLNjxw67L6X3I7aHzgpgP8y4bX33vqYycng27ts0Ek7HbVp1977fwLLqsup/NWtgxIDlgmi8lMKA3UwQcpL1aAlPcfXLCYcTQTlgcg7Eu7bnsN1o4evWrbO2tHXrVtyie0PUiA/egAh3W1eN19Iy68+33glf8qABR/r5y6VtGpgva188YkFeErfkZ71Lh+uPX/UJOu4rvO98Zd9IsF8/26rmTuB4mqXZDR7ui3ezS0tDJwqhB7iPaVQBrmCgEpv/3Cv1qGKcA45od5sGzebDbIe/JEVu03AwMfYMB1KNKdy+OvMfmqsPWyx8NI08U6c6rdqcfMIEAT8osuaCvkc+MASn52v6/uM6SWcFMExOTrbtFvpfPNu0aZPbNAp7lLw9tzACniWiqV4Y9HCC9NSjgTlJc4j5unN9nwkHqSdjyK1+ye/tf23hZqWMW3YjSJdHXp+ZtWfnAI2qkeDRQ4gQ/rfWYJiHsYZ6z6Mvu/U1yMawMmsVpBc0jNLH6bVEA5uD4juGwi/CN9/4c7sanG09Fl0pOKhwzA5fLaxgemyIJlfG33r/yE2o+WcnWjKPIELjZ5Xpjti4D5asnWNAGxjYUZwwKqoIhGD7lIEts1fUXEkvAp7cskGSCrepPGgSZDikHGV1qICXvmlOuPGCvnygMaym30m6LICBxNRuZBs0cA71a8yvDhdMlkOWdfkIal0NOXJfk14V5c3+AYAjfxYlDTa6KTm3Lo4p2PQhh5TC//wd3p9vmjWi2CfGVVMC+D4fPGB6err++NETyIN9Tx3Mzs66N4ZgbR6DGtbDSQZG5uH1EpbLv5RifQ1qYL6sWQHfK6Wm5SR9Oa9Si64CbiLuyHeV7Pn0V5NrkcNcOmbrf8Nv48aNlf4wZoRLmt3wdnyFC9ea0PcbgaZbShsmauAH4raDJC6rSGSBBjut3z9kAmMx90hy4jaVxNPPnzeb5S+f0ubrYM6c83yppMfB8H29v2LBFxGGCvagxKEZZ7qqvisYcIA1F/T77AOJNVvWfj0Hut3x6+m4AAavgZsdyO7H02dVvwYxz/xUyuAXjpTGzeHa0lc6S8+bOY7vCEozWikTPuHIUXcfiWnskeqXcyB+2Glw3YjT+S4dsoF/5yADx8iNBBcWdksCjV99wsXhwk5NTYUlBqw4fU7sR5GlSS+wvt0PnbC2xHJPsV8Jrl8D46DMFvA/wzR/Mt6icRpuUyvhm3J37FTtbFN244+scO3fv9+1s9XOkDplsAAfrAHDd1uzgN3la/zJYMXWTedbHY6F5pS7ZIZvQQC3sBcU4eSNC/fF9XRvVMOxpW/5yfl7Pv3VEntBS8Em0I7MQwaCU0LrxrscaDCt7f2OFPSxQRX0q2N2dja82iNr+l2i+wIYfNcr1P9MrMXFRd+8ivzGIw7LIh/uzG1KBx7Qd62Yfx+ZiJeVN5MEmA7nzMuqWw+ECOEH2xQ8Zw+phh3QrQfwEahcE6v27QrW+yE+JDI3iF5f9zGuuuqq6enpTv6SW0WgOogEvjvOQPfm+5UaGowZQqaxD+Rh4bAOXmD7WRPr2jSw707B2xT/LNyFfXGuW3vyUTynL0/wZXERmc6Ny2JfKk2Fi+bnmt3qkyyII+4NUQ1LS0sYuLviq8G6/Wk3zY+2FE8J8BIVDZ+uB74RiUr9Co3rWVYXa1Pgfn3IYCEvuufRl3HOVft/n+zlK9/HIQT7H7wwtm7d2shD8rsHqWDk2m7evLmHnSW9EMBAJPOzukkm6rnTfGi+YVQJWJ/kzgdfdOsZwUkRWrx/RLkNKx4XzJvJX02RcqpZU/bcEC+tRlA8aY6rXw4YTu3je5VYlubIHPPW1Z/yd5tKYmFhIczqDGxhbm5OPUshWOv8/HykCx3QwHv37i0lFUb9WuPMd5dRXzRIa34sJIgpc9yqNbB9L5ayUh8PrgND48jYXVOJKVfPEjs7DUw1n0PDJXIEZHOmUiC6N6zCYMtSwuVCMuAfFwJE6tLn+KFJuO91KlIEj+/StAXX8dlj50aGxUrr1MMoMZKWDsaO5yQfqC2NSYnVPuLlcsJEzTeRsGJlQbKvKmoWcbWGke7YsUOj2zLBZZyeng4ncMGWLVv6XFPoiwA2Dh486G8/JsSqe6NssExktn0QlDuowNJZAmpBjQccyvJLOyDqOvRf+T6IKMu/8I9EfbepXsKkOV8k8OqXq2G5C6u2pYos3IJHDZeL1JlUz49H8GAUBBjSvvb3eJTI4cOHCaKRPl6DqFDRUBGyE+41LapgPz+N/PHPv2rlHhaaevJsc7PlcjUw54AIt08fOaikIGaSLKXPA4zDJSKz9Nc2oUqYHk7bDpX7OPv37w8tl9dTU1OqYeUDR0dQjuSClT46AfdOA8DwG6njYKrE5XsefTnuIkJHZCdJK61B7HEmfpAzn1i1AykCl8gcHcvtnzhewx2Mp168wAfGixqlzynLBN7Mh4DiI9fSQNQOp6oaJNuYs/RwBKIDUWPz5s3uMq3B5Rr5SL+e0C8BbGAnvjcYeF2WEl5aWgp7kIivFWlsvCEeB79TovvDf1n8swVVdmz1eRu8Dh1xAtY7zVJ8PHAp+JyDcOI2pWD2t747r4+Fg1Q3EIuriibhUxoJYzTXmZmZ0BZCyLBpzMSVce9xOn78+NzcHMp/oNYFtqOEa/uaJJd200vsLyUnC41354MvxltUiRrYD7UgIavOOuLwpTBnPpfUufi3COGmhOM7SHNLNEnrt+ec3XoxaKiRnAZT3b59uwYHJkPcj3eAkAuW3t+bgEk+mlkjHa1xCEB+dIMtuI4fvPOyiWEObqdSwWy9ihsoyNsMJ89lwQXhRSuqEfARP3n/5TuCP3eb1nj4ybOZMpl64Do01ZhJYPB7EYs2JiYm0Hi9qg9evHhxYWEh4YLkm73VbfoogD2RGjBpBFly1n6wgW2untq81d7KyqtCcGrhHNf37Dp600eOvv6twZeFna0Pk7je1DDFBKzvhSUhor8QTO1j+Uf3lPljAMM4tvqzGUTTOiVEMkSUZK3oQTZv2bIF3YiExgTwrY30HvO5wDmQ2nI+8cHeEbBTIsHevXsbVwuWCmPCbr08SKE+e+yczzJpYH5kR3ENTKM1CYqoy32QgpBvlSK/sfGHfvu0fR0WPEDp3VBcIvOiFXVcHzx4MN4fAphwdeObxgVsHAcVTweb7QChSdQwiiEfhPKnnz+Pa7rjk1+h0dJ0fRzkRVn2XpF0HFOWz71Fe/AD8Wz56QdebEmJZIxYWVkhsifkALhKUoWmcpUS4SsgXrZu3RqOCQrBxaFBSpl02W16LYA9i4uLA9OIkPhAgggYXv05h6m7IhltGh77z390427nmsN8Gt9tmejtbXpQzUB84k50t2tFpPfFby4g8vjBdM98LgU/HdSttxsChulM1CO+1bX4toJ6JzZwtthjm5/7hUy1tlep7WCkGKyXeZO/eFmP/Vh2jzG/+ss9LBV1DWWFNNqPvks/uxLHFXaVY+zVJZoc2T6lnlz2woULc3NzA+NUZ0ZzDMNX7gb2fuCyNEIyKxH/YAU7vyDYyD2SR73i1mzsQ+e1nBUWWXDmySNH4q7+hVPf5tryX1xwlpaMnhsGzp+vGe+dbidE//n5+R07dgwb5ubBbyABcCCkDXgSsp1G3AUnzEdzzpzG9u3bOaWR6RbZDqfNOUvu5kACeAA0/b1799KqaH9xy6FFsh0lQExtQ5sjulh2W2nvq0/mnv3qt3B/Wz961FbJpP/zC3/sdmo3RJdP/c6ZrR91SuDHf+lLBBsf5v28X1utFCv38oluvUOQYVt5Eg8OpN0YS8jIvmUgX3d7B0xPT9sxkbV8hPu8MQc9ZsabXsIVhDa/ffa7ncPYcnJ6ioFY7svOtZ1kJvwjuIYpc1JMS8TtW0SedFART6z9/rP3MPVDeMJekpM/BDMJ4v79+9s/gpq4TGpoYz2GdX2A9X6Mi9T/zuqzcz9QzdODKoImjeTDdQws4PKWlcVZ2KfllfFywer9NIp751/+v3//VTyPeXhbCP1u13HDyrUsLZfoKcE/IBpxfSNHjbUBfDh6hLSKzGfcu69bhQRwFyAgWWdmpZ0zPlm3xX6R5fFgpDQvWG3VACdOhmsSTu0jPFvOwSpx2rJ/U7+7Hzph/1UdZAN2DTkNt0n0HiuIIMzcevVYl8UtP3/sU0+c8daBOYT2i717M0nu6mkDfojHnk9/1RJ0O3kWviBOoE6/ZCWDeqppWfGdpSN7RULQychOq0CBzXoISdNhcuHCBbf3GgcPHnRHXB1dkqxsI6xfv74l0xkK4uMRf+tspekhSuIE0vT73b46f9UvfCNML7nE1kn4yrf+ynN4ACRxQgkAT8X1abBGlgYvfUt8aMW4gFvDTe3fv998lPXKhqTUzzhb9w9rWG8zWIez+m8bQQK4O5iKI+S49VLBR9uAw/esusKBIY0c1M+kJRklXjZS1SbepJnaxzeyPPWmj1zuza7ouoWY6iAd71VRXKSBNIi2cWsFv4M1DGuNYRclW8zG/dLajHwgJGrv/+dfsjO/affRfU+erT+z5BOt++vxts7zTIY8jGyMnIzMzBTpwEHFVcPn2iwG6/Tow/O9iJXWctppdLRnzo2oGtbCkgMZtoBLIQ3AyXSj29Dw38uXDlnSjOci3wh/sdkuKQdpf+c/39e9EqJDSAB3CiSoRakSXSqHsgfqEJ557fswk8u67BnOPESFVupDORkCkn0WC69TVp0tCNlSac7K1eAjxncElKial86+QQvBZFI23eJgknxiqIF9sf9X//3X0OS8Zau8IHVrW+EGnYDN+pPETVmezdexMc9czDpTN25cGt8oxDCImyU+frxcMCvLBP7Zr77gjS5fryCH8rkBC5of99L+YSbADeKEyWfwPLx2W9NBemY1DpYfvHORv52cBiXEuCAB3DVIUi04Fa+5vnDq21bjtFGFbmv2cbz8L9HCu35LposXuTk932HF+RBLsibopn6t75fvYl8K8WzvlgVfn4/gyCgKt0mIQdBUzEzCjoJK8Rr4V/71H/ACExjoN+xJLexgC3ZXp7AMwcYffvKs73shE02YmWwGzlJDoukn/Y5Rn7kQKaFVY0RmTd+/++gD/6G0+Ro4PZyJdRQ3XiDG0fE1fa7CUvqjVZ5+/jyH9U9RadsPZ5z6oz/Fu47X2B8h8iEB3E2sAyT3JDSfOJJruk1vx8vsHHlwOFKahciXvvTLx5mYZMFNIylzu+lQ/XrM+7OdSFxKAHh9beL0wGHYQsSxsQzYiFuvEhq5PRPrPbuPLn09VSrGv4T1LOwFL5G1MyQTHNyuiS24tUxdrL6QxyWtKKuz09tTwY9aiT5j8YjW5dYbhZOpv5PWP+KOhWBNxM9k++mxD7r13ud4UdFHtBzcrHn1SIeHEF1FAriz5OiRwOtZJodmGzkQi51za2APPvehYL4usjN+tM8eO+ezbV6QfBf3zgPVrwd5bzKbjyuS2duAUq5S1q5p0XOsl4Dct7qWQ5Jn9ktT/9xzrqHmsCyOE6pTTLiUMZwc1qp4tvARBTU2/25GzdcsMcHlitm40No67UWvoK1a+aZOGUzyQKtO6Q2Kh+OUHFv61gOPnbJkIKsJsz/i2UyVpZ1zkZbPveVPr0QfNRIvfXc/dKK2uylE40gAdxn8acruR0Syl3zpPS++0nLoIhrYw9GIu+aIb/zw5XFWl1+sJujFh3OHJKtfD+djKTj5R8Iwy2GYKlCnkMgH0tcS39LnBHJAcws0UZ/uYMJsyaeBPfwvpuqzTD6FhDV9r1E4NoTvnmNSw0g4QzNMzq24V/EOtm3jGEXHwDSspVU3j4YcwB5UwYIfSOl2zGARbEX8RnGQcHbmLPgfXIeZJGdl141vxLfLEceLgxPj03FoKTMrzpm7bKfNf5GuuDeqBP9f0egYIVqLBHD3MWVLSHDrbwenbHk2MSyHB8RZmwYumE0SJDhDOxMWwurjv/+qn+LLQtpaSk00pfoN8aOwUj7wg2tiMl6dQqIgll+W1fmT3JJL0cAhZKUknZbJsZCY4iUiBw8FMx+NedaTh9kAGZbc15Yzt3NW4ijqAf1WhYQzhUZjJuDmGOSM1DQbL6UOnhWcDLbsC2dYZTiPtyzPmRukLKfB5c1Xy+N240LdihCiVCSAe4Elvqi+MPskVFjcKhgkvN7LWqokdPHR/KMtCVP72JOQ5jNpvki+brEc6tfjL1dyQOIr2G7qFBKlMP+5V2hOmFhuXYpCs1rSxF3PJA8GKV0Dh2CzO1d/8Thc+F5Yltujdnz5D5+QScea49L4DiEMGy0VyTGqwxewsN97Hn0Z35LSfr1UxvOQVFT3bA6SFvMtpXfa82WL1EG4QTguzq2UHgUhxhcJ4L6Ao8cXo82Wz73lRzqVmHoS+TjgSA2Mz/VT+zgZ8kjihHsvHbhvTtskNwvJOgEmTXm1iPr1+IyZEBKPuBaVK9IPorfkrqpgXGYpt977XEpDq0IDYykYqRkOCzZ46NjrDwcPc+Yka+v7jcPnmjLnfEZeYS6LdVmXntcKkQlUEG4hfRAnSvpnuQ8cA1IQPEyJToOz5auRLfAdMUy3tTywdASw2TIfUXrIxmkjtvN1/CaDqzTPyWnjRdOfOXtaJRT3njXvEqJ7SAD3CHzxe1fT6B+884tV9E8O08Ck1L7siuNOqVdTgrD3ipqFAD+wrmnqt6y0nuBhgZPE3QcSOw3+2qoQJUK7zaS7LDm2Bpm1zZeigbGLcNQGp5HQ2cLZWmaWZufq8JXBYfKAL2XfqJHTEyIC3sBabIIMxrh8vRjLqkKSlUg4SASfgCU2ItWeXn0MIQuXDrdQpMe1Osji/OUaWQexQSskYAMTJCF6iARwL8DlWQhEo969/7JOI7S490rFNPD8516JdNKiP0tRnskQ2sm5rTjKwslYVKhoYCdHs6z9h+565kc+9iwvqiirC+ExhUbS49YHYUOmWYp0UeYzGfxM+HPBOcZ3wHfeusRX4KPtILwot2Q2EnJfU7l8l/DrW07M+bRcQoi+kSyDeReDqiH+hvBxmE+8Gg68hXvBORCpHx7yO4vtAZ/GBbTEhmXgN/K0WVui4SV9hQiRAO44RJp4MkeYZEu5mRwHJzb4tPWHfu6ZkSXJSuF8QhH+nt1HH/nds1Vkri+dfcM+gqXZryz6AHkMLQ2jjmhLyzjtrVL6K1Jq4BdOfduP7+CjHyr70c3YVyiq+SxOzL1XJWHRkEttpQc+3b0tRMsg/h7/g2+jdd160+AKMBmM6DtvXVpe+4EfW7ApVGU39JjlPLf8/LH3fvRyopWskOsBj21n1f4OfyEaRAJ4MGfOnDl8+PDMKhMTE1vW2Lp1q21cWFg4frzQbNKq8VXhgRERt2jCuEiuzEH4FN/j6nNT3C6rxD/brUF8Ev/iH75tpDSvSxkEbr1txHjT23bwNnzxZllZWcF8jLm5OTMZj7Ol4UxNTbldV5mdnXXHOnx4aUkjzC/bneU3VnBBnlkHBe0wx0NcEximgdnuu0R4FydQz/RdTuMJ/0tpq8P5sLVKR0jyvT78G1+xj5v9rZfdViHaBPZoDoHlvvmvNah5Xlh7ArOdg/dUuAjboZPY6OIf/tgz//S+5+0ucAXcew1BaECQ/8zaAGnOx3IzIYRHAthBmk7m/Y68bNq0iSNcvHjRHa45yBFtXG6ajiCbQPJAlufsW2eIiWeWYUqyDRp4WPpOVA4fwHPr6q+zuPeyYNeZ4OfWVyEDsCPzbuRzxx1k7cGDB1Gk27dvx1jWr1/vWn87WLduHWc1MTHBGc7Pz3deKlvz27ra7bD7oRMVSVAzoh+bOfbkM6975ckLhGjjzRu1j/V5X4QmL30IBu7Ojv/xf+16odvTwyZ6jm+cRJz47BurTVfdy4o5eANkwTPEZ8w+vvoAjvaPds4BLsi+/siOX6uVk43gsp5+/nx1ztMX4n3Rgc/i08lzGqyMjCkq5XebXgtgmuDWrVtd+rwGCfT+/ftTStmFhQXEAJm3++dVEMO0b7dHjRAO409mGglekn/hHxM8MkE07D7Fg6c5frMaeJj6jUPAsOvGQsZAnB4ZJ3xhe1jCzfUxtWDjJ93WcQCPj3rcsWPHxo0bXYNOZPPmzTh679zrGRZhAzQsINkAjYgNDmTDhg1YK9bNv7sDjS3ku9ZiWWiKVahfjolzsHbOctNHj/7nF/7YvddKMEbfL01Wipsq2B9uk37xCd4h4FUs3+1eeSsBjBpzw9amp6exNQKcs6gqwVr5LBwRn3vw4MFGQupYQ/u0GhkNuHgMwpTQePFozqeMV4BrFq4VlzF80FeJj9M7tvbgw5T97eR15Y4YGhdUyhdGTwUw7d61tVWmpqYuXLjg3ssLmhkNcNVVV7mDrirh4odNA46PIIfjI+DlSIVtFiuuM6wWh1P7ODiRL0f50DQwf916XaRXvxG4FKHU53U8PrGFt7hcIwM/98KuIRewnfOdSG1p/OSarsnGQN/ihRcWFsZRNPo4t3Xr1mEKmeBHkj1G6TW6zpqfFV98F0QpiRQ2jqXbAVlovXbY3AbVFNgmX8S8IkuOLmv+nX8c+LwxDm7lrUylxnaCjWDd2AgpVxi8RmICFSK9HLB//34MKhn70BBT15BJYFuyyDl0o7A1jKefP4/1RWJ0GrwMztpW8TO++MXC6wceO4UfcG+LaiBn4GrjuO7J8uPGBvc3fTc7DcOea2AfFx9BMO6olC9G0i8BjBwNgyu24d4oG5qmb8dkFdXZkg0uYik4vghvuJrSHXnfL7iYR8Cb/9wrOeR0BMsj69TAZSXriAEbRWYXhOuD5Hjkd8/y+vaMP/cfES0NQkiIj3oAWikulXfbMIy/Bog6mP9A5Y+LICDVU7pKD5Zo3ZvxYgpN0d7K5wRIm6x92kLiNTDJHjsNHMLJ+3KefcfkRwCkuZ5cByuWYddjIQyWlpZIs5LTQdOTaFETsW2zAvDiGT+W3HWDdY9XbSsCDYwWaC22oEThUATigdGcMEdUipv8C6e+XVHR1owr08SrVoG35CtU2neKTya1s8qFLbgs914F0AB8sWPkWO52olL+2JXy20CPBLDv9aUBEd3d1irBJn2EJu0oUVoQz7ymevr5825rdjgOYdV6M1i27VnkL5mie7sk6tTA1aXpBImbp13PGOkIXyprl7gftppyhFIp4DpJZ+N9O3hSrKAncjcNBJjJyclIdGEVv9FsyCQNteyErCuhIGW5Mvukaflkt36kAz6Expymd2isNbDHCls+4eNFWOnjXS4I29M/HdBm97EUrEKWC4Y/Ozs7TO6SDuIWaPMd8wCLi4t862FpIuGYLHlchhQSiHc++GK5KpTmTSv1U35YaO2Iq/StvRRscgEfPV5DcP1wm8YL2fDz+5a+f/fRn/gXz3MyxTsqjLKOUwMq5RtjV8pvFb0QwAhRHw6xDbe1Lvbu3WsfDcWFNwHMCqjkbflCIz4u7NjkaGH3RXzaWynUo4EtQSdEle7HuRp2xexaceVJGli1he+VfgCqn6jDf1UnJBYWFiI+kVRYijc9XEBEgrt2qxBZseU6LyDGaE3lvvmvpZS17DwsraTp+rlnNGacQA4z6YYGDglrAbZsm17M4f38PBR0SyN5JIkO7TPeKUq7JUNC67r9+of1Dg28MmxfWWnF4M9M45PTgIWGkd2DAP7iyW/u+fRXWRq0Yj7a3FGlfZslYl0OyU9LqQeainVafOShEwtHXou4r3IbEgcnoBAsGv/WKuWnpLWl/BbSfQHs9SctoKnSL6mJVyMTExNua0YQXZZgETayJljkc0hQS6ZZiHwJgs2LvSJ9y3FMA6O33XrZcH04Pt+xXOkOXlcPPDIbw4ICkSnNbEMkisUwLkiJJ0wkCCMEOd/c3Jx7ryR27drFka+88srz5y83j0uXLu3Zs8daNa+3bdvGu9dff/2bb765untNVHpWRJTIvMSZmRn3XjWYsbBkHZCGZ7C+TRsw+dngp7DZztGK5zHd08CGXfN/+Etf8lcMo0YtZDJPsk8rUHKQcvvuBkLaF3nwBGD1tE/lOsMgHOMV430miOGae0uwVj8PM3dF26DhYd2+wmXL7odODBvq70VUszKYPGQsOoFxpyQAjXf80mDMvfA3ZRJoVVF0LF8hX6ZBE/LtitZS8/1SKb8gbSjlt5aOC2Cvfslf3abmIB23k8mqgXG75n3um3/bL+4kg5+ymqX/30yey6bMZfrEkRChOWYVGrg69WtpMQHArY/i6efPW4iy8+HfEyqyPp4VzH5IdsOxjrxeXFx075UNUnN+fp4XONA77rjjxIkTV199ddikT58+feONN9YvgGs4q5WVlXDYFUqj3On9tAcyDNoD0iuhRJUAuSxW9oNrpS5aVxVJW/c0sJkh1urWV8EkQxeKE0hZE+Sy2AiRipLmSDsEAhyJjntbZOHw4cORi1mp/wRfJWHJpyjiYQ53keMhVS2RwSIlBAg8Ukrp66G14IWsL9daHct89p9z43MtHcoXmzJRQym/h9Rfym85XRbAs7Ozdo/Tq1+y5C2rvwZ8/fXXW1cSLC8v20bLsIuQVQP78nDKLArHZAk0i6mvIoLQ5rYRIEsMjVVo4OrUr6Upuaf2RRJobs3AyMHltd34ClkzGBI1HyfWrVtXw0BHLzUNTKZVAtio+qzQvWF4Jlq7N/LiM9Fb730uoWIyEJo9TdSPQdj90IljS9+yqhkatXSjMDqjgbk+dumSTY+vySX1kycxVZzzyDvlp/2X8sifCxcuRKTa9PR0zZ2W3YYkO7TrzZs3V9SRjuhNKWNon3H1Uu5AXOJUpPTTFNhL1ggoymLngy+SonALsgYgWnJZUabOUn6fqbqUPy50VgAvLS3ZrUUVZO3r99mzDZ4sdzynL8AkyGkcinXAkpklP60UCBi+nMz++ab2DYPQaHF35Gmkp1wNXJH6JQbYFy/r6SDcFG4NgoFjsqB2iDSRJMY/TYc93abhhOPqeVHbiMeI1Dxy5AjGcvPNN3sbaYMAruesuAXenMmb84UQPyc8UycM7fO++a/5nJj8GENw761RehuO0AENzJXhK+TwHggYNK2//ggSVMqw64DzNI2N08vnnGla5CjW0gDdW/oANm9BWMo111xz8uRJi4M+/DVr1zWfFUrYT6IrUlikXd3z6MtFbAQzx7ppXSWG9dbCN8VMUGKNuxRLwBo/E+5+bZ3ztFVyknipxb09BM7N7prtnDvW1F/Kj4Cr4aNtFpU5GVbNz7RkblcVZ1V6KX+86KwAtj5byDdwwprddddd5/uBy+Lw4cN2YiQ0blMAWax1BJEqJdThCIe2G8tAKVUiHNn6PdKospSYBi6eOlekfu1JYJxeuYcNiYyUDnuTvCIi+A27PiSF1oqg3FBhXnViYsJcauh/bQefkg6jopTUY6cEYQdvg2cVhhCUiduagkz1DqC1+1TDmkeCi/CQw7FzKT2QccZaAz+89txst14AzNmusy3cmng9AgFjJo8Yjr87jDNnzvjWlbvIkoa4BR05coQP9RurtuuBNHtWXHxfZMyUlL9w6tsWNFmw2YF2isnQbJDHVhyxpSI7zYQ11BLDfSZeOvuGhT+SHLepXrh3di+a7YvGh3AOmXxFFcTLLtwXfB0pXKRV056JaHbv+Jt+iHVTpfwIoasZ2PXVuAOs7qxKKeWPI90UwAsLC3YvN27c6DZlgSZlhZYww/bs27ePt2zoPC2SBspqJEgnMzk5efnk3vGO2dlZt2k1lTTfQUSMZ5O4ITwOiaa5ZuJTytloZUFg5nNxfG69MMVT54rUrwWe3WX/FlQCkdnaNoSVb2e3m3sdCUK0PWs/69evr+5JBt4KIrNErMGHkthTpCRJXjvSj/Nlr732Ws7HbDAigKs4q/T4ihvW7TYNgQZvOpamOzLHIhuzvggWkqGsz2QyyGX5dzLy3LaWwJhqYNOrVYz8JC8MR6R/4Je/jOsOTdh8KcsTo37Z1Y9SqyEpiWdaEcNvSf5X/1mFMpgXyS4X88QWuPvJAoBGQgPAtONCog34ImxTMtgCIn/del2Ys8U5NOjNzF1z/XP3plYKrixeuKHNh4ME0w8YxLrNsqD+Xt+Q0NVEqmxG4w6w6rPKXcofX7opgL1CiATLBGhb5NPLy8tk2JZY0/KuuOKKZ5991nYYhuXikUaZDHZup2cfZP6OJRIyCaXkZ97L4JoHziCtDdwxp4FfLitgF0mdq1C/nEbpfd1ZIbrQDLgmnAbLj//SlyZ/8fJr0mirBOOkrPHgqqpTvzR+PqJ0xehFdQLDbNb+1wzNjK5SQZsD/6zFYeOIMBzrA+RuJjz55rPHztluLLQEUuTi2RgZCUfDXqroTxgvDYzHMKc6svpQCnyKfy4DC4mjuXHusmkMsvz4dcO0/Zjnqakpt7UYZtQRvBH5TMvSLI8vKlWd/1l5i08MPUDjZ+XBqO2j161bN7IYwS1+4LFTfpQWS7OxOx80UTv5pjpj6wdLTC/eKoKW007pm0A8nHElrb5jb1n/TaQh+US90lJ+SryrsUKbOUYUwS233GIqoDZXE1L/WaUv5XeAbgpgXzhPX1Ky5OCDH/ygb0kYpHUcXXfddREZ7PuU4IYbbnjhhRfcG+k4c+YM//gXvueKze//daJLWOojRQ47A2cGTe1rECtv54uIZADx5bf+n2WO9iMfe/ZLL38r8lbC8rvPvM5/vfejX/z9r/xx5C1bULBZl197/A9v+shRDvuJf/e1yFvJC16+uuUn7nv+7//cImd1edn9hZt2f/GHb/0Fa3gVzdbwiaa5XazgXe96V7xbtXT43AQ/juINq1HtFMC+NhEfeEJSZaKLexrpzwdyBcsP7EaTN1eRcfIplpHzWW5TeYyLBi69ipcJ/GdY3uLFA//h1C13P8vr298+58U/CaasZztjyO985zvNgszGI+Vdn2kNI0emRaC888470/wLp8T53HrrrZxYZGRH6WeVG2/gaODDX37F61sijttjbVz9rfc+x4tWxe7c4IsIc25FiHQM7Ch+z+6jN3748gtE/u8vPm/WVGkp32NJO77FfIUl/JrbNZCRpfzO0E0B7GvnNUwnoP1dHTyTIyX/v5/+7GV3sOuy4hrbJdvJ73zwRa/rwgWNx7vfv/voz/za4B0iy0/tfWHk/qFATbPc9ZnLXTTbphc/88SZyFsjl1B4l76g8N/3C5fT5alf+8rvfencjvsvf/e/suFvV9G2w7JOSOiOjbvvvttXH7E1XhPArr32Wm8FbL/jjjtW9y2KHZnTIFadPHmSLV6iQ9hZVOdZDcOPIFpZcaNbnxjyHGDyAxqPTw6wjno6JK2+ho249fJovwbmgnOGSM2WnCEGToJoDcCWm6e/yEbfMbJ9+3a3a0l4a4obdXXs27cvOT76HaywVee5ZYJm809/4T/+Xx/+vL9fP3l/LybLvXT2DR+SwiVuR+n3fPzzr/oYGi7x+iB72jCoj869LbLH95x5ZMnnAOESHyaG3dlbeANc1od/4yvD9vTlqsji3g6I7OAX93ZAZAe/uLcDIjv4xb0dENnBL+7tgMgOfnFvB0R28It7OyCyg1/c22ssn3vLtk987HLg+xt/dwf2fud9tf5+m2XsfG5krFlcEnt8apQ1z4fkyr5hbpnziTvAis4qmYRSfsfopgD2nfiHDx92m8qDFulr5zTBPXv28EHJRZoIFy5cuPIv/4//+49/ynzB1o8efeR3z8a9eZuxtJ7YUMpppx/P7B1oicV1y0GJnW69HZAx2MjJW+99LrzIOEdr20397GekJOm98HXXXWcC1cDv15nItuGsbGQHbNiwgVWTmrRq3537+jf/7KHfPm0DX63JNTLc7unVZ7yhvUeaW1bMkNupgcluObdIGaI9YOMk+j/0c64g8v+6+hoaUrnxy7KrNPN6yiVBAHs7DSk9nyuFy51Xq7cmssSHEoQjn8NlfPf0cpHlp/a+8N6f/SLKn9cJwjKyxPfMJIDZbpP2t00v/svfOT1sz6xC3Waa8Ddhz+o41vRE6zqhAUSurXVT/YXvueLLL9bnk01Plu5hvKhOIKK3Pfa/lr2Yi26DA4yX8jtJNwXw9PS03by9e/e6TW3CHgT93/3Vd275vhtJGa0XqP7nPRQELWrum7DhNhUgjQbmLfvEstQvHtmSAEKs29QObBwdDSP+TXGU1rYbKc5dHD4imtAS1ikT9iydlpyVPdzue/7iX/qhjx70t48lnNTA63h+WT/elErvdjZDbpUG5staN07NDw7MwWfXZl3+1b/xd2lLI+eapsR6GDigVX+QndhFPM1i+9zc3P3338/rQ4cOvfvd7+ZfEMy25cCBA/fee2+mzIwDJgyBtswvLEhZ/hfp7ij9rIrADfq+n3maG/R//sRjjVSv2oAv7dU8VdUbcnHFaMNVWErJXrLSK+nLd7RLvfPtj1CtuZTvB46Z1KwtP0nuAcbjhRXJlgjgSCm/w3RTAHuRsGXLFrepTXh97p+0NqYOkRzXaqgINrepAJY6cx0GauDS1a99XIkHLAUfmBOS9e3bt1v72bp1q9tUI2Ffq+WmVvtsTw9wI2dlRv3/3vB/3Dj1n//x7Jd/5tfcj+LQaB/67dMDm3Tj7F7tFC299NYqDUyCa3ehDXWHBLhoVgnFl05NTV027+GdBlWAadx2221uZQ006vr1601qGqRo3tBqoG1nZT8w8Re+54rv+4cf52Y1+7jgZjEZPLBKWymPf/7VgmW7+dXfn8P7ufXa+eyxc6V73baB47VqBX8HFkp8ll51KZ98ID7MBOKZgOZ2Gf53auoMQI3QTQEMpT9EpCx8cWXdunW0Y7d1FV/+92MmxwLrrixlZp2lzmSrkZhauvoliHK0D/zyl9uTviyfe8sy4DQ/zeJTZBxiDRPdI3iPPIzSPXIamjorrNh7my3fd+MtP//s96+Olvz4b73s9mgxlguWbghmyI1rYOt8KMU1Vcd33rpk41D2fPqrdp60KD8CraxO4GTIEf1jRUPsZxHCHgmMqLaHTrXtrLgvRG27L0tL7Zoy0xTj+MhiUQMzjyyN7M5ptpQfIayhg5fNfZvb5fvnNm/e7DZ1l84KYBtmDG3rxKeZ2okNG55tKSl6b4ziiu9msUfeF+H1b/5ZROuWrn5tbu09j7ZFn5ABW0f67odOpM/UaeE+GyN+RIopoh58JQLm5ubc1tU5ZtZo2z+mw8RqifZlNK6BK+rfLhGujPkiBHBkQqN/DAnU8CjOiNRET15zzTUkWHiV9gjgZs8qzR0h6eduEsHduqge/EzxrKNSSGmI7+V6187QbCnfg0vR3C4O8t1SfisHz5ZOZwUw+H78Ogs2ySB67ZQ2bdrkNg3hod8+TSglhx4Xv0kCZyNenjhadNJ8qHjLVb/+JNvTx24DyciA8w3RnFl7YCzQqBoMIb2CUOF/aw2GeRh73BRLy2efosSq+AVsbJZj1q+BW2jmcax3OsHD08ZICq2BkZdcuHDBvVENAwcbx2nDEOg4VZ+VN/Z169Yl9/0eW/qWtb2Ju55p/5zz0uHr40lqm27gHVdyOdsmFnFHImWmquHjrLTN35o/uja4tjZyLXepsSWl/MZnUQ2ktrMaVsrvNl0WwOC7W9uggdOrX489oBj/0vIap8dOeM+nv+rW8+J173s/Wpr6fensGxyKw7bkYtqTtDmf4l39uEgfQmB6erqpKNJ59u/f74enwuzsrHtjOF7qtPypOQ88dorzjDyqpCD1a+C2mXkcP88/jT6nvbmmtpodViqDLcE6cOCAW387hw4dqvNxU55mz2rHjsu/1GKQI7qtKeDmmjDo1QjhRiQfl9pMPu5gcTv2+Oiaf+WBz7URKLlL2y0H72o3mstevM8D2lDK7+HcrpSl/K7ScQEMXgM326fv42h69WvgSf0wubHwpBaNSHkRsW5TLv7wNTcy83efed1tKoCJkFvvfa62RDwBPz623MFyJMehLwMav/qEi8OFJfcNSwxYcdZJgNbVj1202YpNm9E4CxpvSJ0a2OaPtMTM45A1mihKM88/ZHZ21rW81Uk9i4uL7g1RDVg3Nu6u+OoPMqukmJ76ZTD2Hhe63pvVX3msuSe8ZmzK2z2Pvlz6zVUpvzZylPK7R/cFMPiuV6j/mVgkK96kiaNua0YaKazmBr9vAi938dv3AP/ox57lL5HMvZELq8W24SdA+V72wJtKC9KIXl/3MfB0xJJu/6RbuSB6CQl+DKpBTlzkp1l9MavNVkwTRaxykiWOH65HA9u1beekX+/AM83zj0AoCRskrVFKuFzwnH7mFBC4yx1ZjSEQ12ii7Q/ixSENoLU3KAKXz72VtdIk2oBK+RVRSim/S/RCAMPFYHr3hg0b6rGlcHQBba54OyOWmHwi1WtnF0eIVWRzyE6vftG9fE1Lx/NpYA5lXS6NT8fy4ufWe5+rM/tZWFgIuzIMbGFubg5v6HYSq9ZKshuJu4Dk2Lt3b4l1aK+F2mzF1lZLfFBcpRqYS1q6aC8RezZSiUN49u/fHyYxvCatkTnnA9OenZ0NO0Oguq4nVJlFRhY9LqszdPVp2C+dfcNyzkZ+MFml/OJUUcrvDH0RwMbBgwd9nCNpYNW9UTbYLTLbPgjKHV1AKlnwqQO1kWPgcVzxxrekhIDEf6GlGyxCG/ZLUdw17p3b1ASLi4uTk5Nh6mxgFNu3b0f+VZTztRMCwI4dOyKBwdiyZUvVQ0V8Mau1Vmw/FYbplSVZTQNjj98s9VeR/WGbNa6B+Ef6VzQIE4vevHmza7WrYN3Ycj0/njS+EKBJoyOil5Bdbn9vMjQJi2s1T09tEPKBSt0dnspXuvkgrm3BsWNp8I946JIA/s5bl6wGyvLQb58uKwQUQaX8lNRWyu8A/RLABsHP9wYDr8tSwktLS2GzI75Wp7FfOPVtfC7uCf/rNrUSwryFhzTp6TCt67en78j1v07s1huCL8JpZDrz2qC5zszMhLYQQiZNY56dnR33YZaIAWIkyn+g1gW2o4Qb+ZoYRZutePncW3Z6Zem30jVwC3/Q2yAbtktXyhNi0kCs2bJli2vTAbT86sLQuIATwMYjihcQvcN+00iUDuZfXe3ePwoLr2VbbORFdU8E6KT0BZsytvPBF8utVJaISvkhzZbyx5o+CmBPZOAT5oRRZTUemhcmF4mstQ1I8/qqtjQrB4Qf6+xKHvE1TP0a/iCkvG7TcGyIabPzf3I/8KZBkMTJWtGDbMa34naR0JgALriRkMPnAucwPT3N+cQrxBGw04mJib1797aqi8xbcQtH8GJ3Zk0PP3nWbSpGiRrYEtwSx2mXwuvf/LPGR+gQfTDkSOew0ZnC1jC8E4vLXUDx8t3rmQOVD1o12sOruO7ha0NlVf3wUajcgRbnS3ilu1YbwtPOORd9Q6V8o8FS/pjSawHsocUMrJ2HDEwmQki+myq0W+2Tpc0/PGhDknY/dMKtv51k9euxXDxBA5NVW8BrsCjrJ3kWeeBNq0Dcms5EPYZj+9sJYYCAx9lij2M0WcgPl21hf8JDqz9LXtZ4iuIa2LuLVhX+fLEAAdM2w0/OEQ1iHPnT/v372z+CGgU7Pz9vZa94R5AHZzU1NTVeGSHhwyo7LLxg1b3RLfBymEnxb0fOw4WauOuZhIlO5B4tGcfbNrho3AUWt94VVMoXaZAAHgDBlYaF8dAQ4xkDMZXtNL7Z2VnMzP1PC2j/gBwfqyKJr09nk9WvkaCBhx2/Tkznf6Cjv/43EnJN/DimgSsHhCjGEjIyIAEZrds7gMBgx0TW8hHu8zqHtR/acNu6gPAqnBjupZSGXUQD+//lhdvUAuzG4cfGyPB9mpgsjCOgk7FHM0awrDEkTf/qhQsX3N5rYNfuiKuFNj4iQdlGwKt0Lx3EA1iwY+lwh/C4gAPszEPLyLispsnS4SJLHJXyRYgEcNfwCXSrskMP+S7nxhn6zupM6tcYqIEfeOwUGxusZT5xdIUTaHMBQowFWIQ9gOQDv/zlVqUmnEyJ/a75NLBN+uU02tOfY6fUPcNHHpMsopC9Ih04qLhq+FzLAmdnZzkf9Xh0EnN69Ywoxo9l8qt4KktaSK7cprGFL27f5dZ7n6voyXzdQKX8PiAB3EHCBLqd3RH2lAXCSQ71a5gGtum1HMRWm3qSEIGE9JcT0M9aiLIgU7FW3baB9DY+k79uvQBZNXCJH10K/kmECZMyhCgXwg2RvXvqxYawsSTLYBwjXx/9li+3wdVYypEmW+iS9BVCRJAA7iw+geZvpnpnPdiMx5s+cpS/WdWvYdnwr/ybP7ActJHfqSOaEoz59PYk5aJLkORZA2tVBmaDHcgjizuWlBr4z7M8A68G/H1p2yO4ROfBFuw3Dlh2PvjiGA25T0PyTC4bbYEoLfitLf3AgyW4Ha7znk9/laVV9cdMcOYEjkZSIyHajwRwx/EKrW1+nJP50Y89y4mx5C5m/7NffYF/v3l6sX6Fb9GRT7/13udaWF8QXcJ3RDQ1xiEOCagVnoqP+x2pgdnBPosXblNzYPioDk6mnYVF0R9ofhaDWDo2+AjZFin54RzQq3zTsn5VgatnqVFZB2wVTxxdMZ+Jm9IEciEGIgHcC8hWLYFuT0el9U7/+8N/ZD9gkCOzJ0Dyjz9WalBMiRXguaRtyMhFT0Bq0upY2vPbG2bFxa0vQQP73uY21O/sQQPFO6CEKJFWlbYrAj+AXk3osM1HeOmQxLiysb6YOFJT9fioNv8miBBtQAK4R+AcTQaTxrlNDWF5sx/NmPX5VYQo8/JW9q5zZuAX1n6yVdFFNIIJQrRiSx65ZMUgLLpg4jhQA9/z6MtsbEPZzv/UXMeedCU6CYbTnjJZcZCmux86UV25meNbTsJfXrut48nyubf6UBARojgSwL2DBM7GxjQ1nDKifg3r3eLERnatEAXt/MNw+NDqM/0rTZSJK1Y+6OSIKTFeWINvyRiEl86+YcZb8GT4dzsOGtgXuRqf9Osfcdee8edCJIP6tUaLEY3v47K8FsUb2GBvvk65gy/CI/+b33sFjzpeA4a7VOYQomYkgHuK79Co2YEOVL+Gn+STcEr2DIyB4yGr08C+PNy25/GKnuNTt9JHBmYFuzDjLahXTQO/96NffO9q+t5s7s5VNRHehi5oIbKCVYaPy3JbxwGfDIT+JBSrZcng++a/5suIHN8Cffvt/djSt+z6cPIakyJEPiSAe03yExdLJ0H9eizCDXy2KmFp2FtGFRrYZhqXXngWohTCwXuNV2dsxDIm7NZz8ehnlznIe3YdXT7/pttUOz7V1iPuRAegDTfuHNJjaQkxd6DpmcerrnBvs5xIilrYc04SYk/gY9GAFCEKIgEsnMarejhlGvVrxH9kheBt9U7esi3DMA3MZ7n1ArRtsqUQwyAxaklf5dPPnzfjzdcpbb7ojk9+xUyvkZ7tVg0vF6IKUHctfHD0wI7fciGspylp7X7oBFlEC6veDz95Ns35CyFGIgEsHKUPLgpJr36N5XNv2RSmF059m1DNC1ZT5qN8CvsX0cB8on16x35bQnQbDATZRrslSXKbmoAs1swn0+97//ml/2oPhDej47vwumYNbOo965kLMXYQWP0Y2lbNI8UPZBV4+Ip7Hn15ZBe3dSyztOr7JqNxZ0JUhwSw+C6EkN0PnSBCDBt9lI+s6tfgZC7/44cvRywy45HhLSS3BibbbklPmhD5OLb2lLtm8zwbqpfygfO+4BUOO6xTA7ekdiBEzeAlzPTQw1iB2zpW+PEvez791YF5At+Rd1nGRfpyI6wayK1RMU6IipAAFlGQviZZ+ZtJdg4kn/o1TI2/Z9fRHGeSVQNzfM36E53Bcj7ypwYH8FuXy8jqlZ3qwFHTNWhgjN1yzWHZsxCdh5bflPp96LdPP/DYqeKm52tY981/zW1axdxLkRmzfkRY1foZX2SPUbBvIXckRKVIAIvBjKyqpsEULBHOraeGfNcGaBFyXjj1bV4QgbL+PoFpYI4z8vztUZma9Sc6RuMN2xQsy7ATsN8Ax1G49Rh2hIo0sJ/3oZqXEBEIoJXaBTmGSdYShSXugohfRdXPHk+QdTBaJkh1bv/E8fH6HSYhxhcJYJEE4WRgVTUN9tDmHOrXK14/AYYwbHp45EOwItgTHRM0sO3A8vTz590mIbqFWSIyr5EZZZieldIiM+rZbsNDRnbOVKGBrXeaYw5T5kL0GWRYpQ8ctkfNVaEnseiKjNrP1Ki6K1gIUQMSwGI0flZh+kCYW/1an9XAMc/5fmRlmAYmmJm2z3GSQowXXm3yt5HeTus/8T29SHFzKS+c+rZtSaZEDYw341AsymKFGEkVj8uycR+lGyBeIl6v51PKFfDF1TUe2BIklkaKkkIIkAAWaSGQmMseGbdyq18rOSf8o50D8ThTHhzRwIQfEwOk46WXn4VoLViNn9fgNtWImSEi9neOvpbDiotrYNW8hMgN9tvacImMHDZjy+ctVfRjZ2X+c6/YyZB7FK/lCSGKIAEssmEenDR02DSbfOqXYGC5KVHWbRqC7zvKNM/Hkm8+4pcPXO5Gbmo4qBCN4/tJUj6iuUQw8/euGu8/+RfPu01ZyK2BVfMSonReOvtGG8Iop4FDSx7bkr58nwk+Or2UZc/3zRwLH3QvhGgQCWCRBxuoTCYa8eb51K/vGkqf12b6kRXjkdVzZjnyFf2ugOg7fl5Dvie05wDlaSr0x3/5S/zN8VgByKGBbeqEal5ClAhq054hZ7acID4hMgOiKX7z0NfL9QN4ITQtX02DSoQYOySARX4sqk3c9Yw9tzCf+mV//gtB69ZTQzDjH9M8RQOVbrn+p37nDH8zZc9CdBjfMZJpPEUOsDizQfug9E9oj5NeA/vhKup1EaIiiP72Q2IYWuRBd+CD78ixXenBaVTtrzJhfsYnQpyeZTWNC34hRAISwKIQ+HorA988vcjfTOqX/7UeoYefPOs2ZYTgyr8TX8mJ3aa3Q4psU4PuefRl25J7FKUQXcVqSSRww+yoIH4CQmh0fJZlxjnU6Ugr9v3bWZ8bL4TIB0YXUblWE9/54Is56lwD8flGWR25aNdStPR33rrEKf3g9Be37bmcCPFaRTchWo4EsCiBuz7zEk6fJXkeTgjRyzLUlI+BHQYR0SRupPbsI2X8lHz2bPVaIQRUNFQ4YYgHRmp9RzmeTzNMA3PyNigx3xBrIURZYKT/8QuvuZXCmIMqt07nR7EVPKb/7UZV3IQYFySARVGsyktwIvU0LRp/EmOEp58/z27kqWV1w0amGNkU5YSo5uV3iaFUiHEHs8WIsIv0laxk0gzxyD0JAuPlH70G5uTt40rscRJC5MbGBptJFon1/C+pRXVDVMqSwUKIMUICWBTCklc0sFtfzUoJJGwc1gMTEatlYaL65unLspaFVffGEIip0sBCxLHhfJjGyEpWAt6+0owwZB/2ZP+snc9eA9vT3d83c6zc7mshRHpeOvtG/DHL+BPrvGUh+rezOMVZ4e5SerzHP/8qPifBs3mHpoHQQrQWCWCRn7j69bxw6tuW/oadP4QWG/EYf1RGcZbPvfVDP3dZeLOMVL+GNLAQw8CgkitZCeR4rjt7Il/5r6y/U+Kf7v5UOqsXQlSBjQVLKG3jUh547FRKAVxwblQVoGbNR+EYRz7Ti6+5c/W3KvQoLCHaiQSwyEmC+vVYHZTl8c+/isg0tVl6TfQ7b/+RTxvDmTJrlwYWIgFM2AwkfdHKJiBgkm49CzZv3z+yLhlfZdPT3YVoEGK6WWIO1RqfalHRb/ZmhVyCJMdOzx4TyIJzSyngDSsFsiR0FwshGkECWOQhjfr1+Hg28XPPxKNdQWxAdeTJPTb1iI1pYpXvehpZ0xWin3gTHjm2wjo98A9uPTtPHF3hCJhkgq/wjxvwUtmPhZYGFqJOHnjsFKaXr5+TmGvK+dZ7n0NF2zwmlirGiGXFF9b5WzBvefzzr2aSzUKIGpAAFpnJpH7B5v/cdu/z/CXalVUKtUSZAw6sOmfqcCY4SQMLkYx1g2BWA20K5WlDposb0fK5t8x446aNqdoQj3hWKg0sxDiCUduwEZb3/UJpj8bMDR7MTwb2tbYiD0QQQrQQCWCRjUzq1wvLxz//qm2xDtuCj1v0A678YQfCp6f/kRV/qtLAQiRgJoyxhGMu/ENfykpesUfrfgkfImB9TXiPYU+6kgYWYnz5zluX0JlNhWC8ig1gwYFEuqBNBud4GkIcviMJibS0EI0jASwykEn9+mQ0onVx/TbTLzJuOQ3ktZGhjyOxpJnA5taHIw0sRBq8CVs3bJFJv8n4Iz/5zOu8YBk5fkQaWIhKeWH1N28JqQVV3PK5t1qiAy2xYSGvKDjaeSR+eEuzM5yFEBLAIi2Z1O/IWbiEGevhsRzabR1OJOd2W9Phu6dG6m0+xQR2ct+yEAIztBEWLL/670voGxnI765J3197/A/dplFIAwtRBcRHm4CQfgLUQKxDleOMHFfsI/LEXc+k/HGHfGStxbN/ODglKzaOBv9Ztd4WQgxDAlikIpP6NaWappMW72/hzR7g7LbGsI6gIgOnSYWtdzdN2dWUuTSwEAl4m/rB1R/fLmV8YIgf7nHXZ16yD3ri6Ip7bxTSwEKUyxfWftsszWM1huGlb9ZCNrZvHaf8e5ETgOVzb+V4WnWEY2uPx8/t9xKedCCEqAEJYDEapKBFLLc+HEJaep3pISjaf8UFtgVdllKqv+mVuTSwEAnYMEgSOOs5YdWSuTTz7Ufy52vDPcIeEnuWHtttdSTSwEKUCBI0/cyjgdhT9HKM4fLgGR5+8my+J07zodbvypL+54iTKS6DhRBNIQEsRpBe/fqcePncW25TFkhY7SmyBCdWOYitPlTgJ1Xi+B9ZGRn/pIGFGIhPZCNG5H/FpMj0toThHvZrTBhvSk0rDSyEIIibTMVl5UtOkjEZrDm9QowXEsAiifTqd1hOnBViyXtXYxVL8rjo3KQfemQauFwFLsRYY5MArUo1EHMFmFjWoX1ePyc8he71b/6ZGS+Owm1KRBpYiHwQfAvKRY6Qu7M3Pb5fd9ivB+OIKp0/XAr22xbve/vT9YUQ1SEBLIaSXv2OzInTY8HsR3/+WQtpFVVVCcwmbkc+x2LmkSV2kwYWAg1pUxXSZJNmyBPDf7IoxI/+SPlcGfu1kpQORxpYiKzYaAusJveEW5uzMHAoRxWgcs07/f2fW3zymdfd1obgK+dIXb6z9kgU5RtC1IAEsBhMSvVLTmmZa/EKqw1OJuL6jiPflZSytycr9mSvkd9RGlgIrNKMMX2n0J8HP3g2rCOI7fYoafbMNNzDnAP/m+a/pIGFSAkGZSaZ+1HPVvyqLnAPw2ZPsNz0kaNZh5+Ui3knlhwy2EoPKUuHQojcSACLAaRUv4Q3diueVtrgHw7F57pNAb4rqYpCcsq0XhpY9Bn7VbOUajMCEtdGW8RnNIyUx8ngN8x403gGaWAhRmKhf2RAHIa3sjqlL59lVfj3zRxrVvdGyF3Bx0+S9kgAC1EpEsAiSkr1m7L7NBmSURvzM/LxkiZBq5ghQ/JtQ6eSf2TFTiB3UVyIMcVkKgmZW88FZmuWbsfxqWHBqhaZoh122PS/EGlgIUaSo8jVLLsfOpFs/oh5DN+cT/3fDl9Xc0VACJEGCWDxNlKqX+vSSTlhbyDEIUusOVTK/h/+xSYb5+4ySiCNvjXNLw0seoKvDZU1FR8JuvWjRzlgiccEGySCc3Drw5EGFqJcSo/FFYEMtmcHYP5p6mWtIuG5gEKIfEgAi++SRv2SOBI/2K1IRTPhl05GQrg1+Z1eOafE5t6Q8Sckx9LAoif4Acb5BkPGef2bf2YjFT+27yX+spSoge0J0hx/pLKVBhbCQwz9wC9/OV/XqH9sez16EndhuUfBnyMmdSHKp6mXVQTXLdNANtSvuazcDyQTQsSRABYOC2YEhoRAmD7LHIa5chYO5Tblwo+ozPrsnGQ47Eh5Lw0sOk+RSb9xfNEqnAZsH4G5lTU4EKdkAnukb5EGFgKs5I3VZNJjgM1aoPzNQ193myoD1WcP5eITSyyZNQUO0D/7INNlt+FvDep2ITqGBLC4jOnSZPX7wGOnivjf5XNvWXpa4qOkSGTtmAUnKEawZD3hPE0DJ3eVCzGmWH5WsJvFY7+GMizbs9HLWHGOwSADsTRxpEOQBhZ9xjp+MYGs4ZgMgTwhjYmVgj0gk9yjlEpcAuY3dj74YlkDXpLJJ4NfOPVtqzuoK1iI4kgAi9Hql+1Wgs1X7h3Y/1MiVVSj7SE9CT1gKSdLCzFG0Notu01+IFxKzEawzeR0jQ/1uWApctT6ljlasreRBhb9hIiMfM3R8dttuCz2KBAWrg+r7o3KsNQokwYWQpSFBHDfGal+l8+9ZfIy3w8MWA9PDS7ehmezlDVKiqydo/Hdh/VNSQOLLuEFYfHOWF+TSi+kfZls54MvJgvXNPAV7ASStbc0sBAjKW6PacBUyROwR3ISt6khyHnMF7XqR5WEEOUiAdxrRqpf/1yoHNVQcl9LLuuMIiZKWUqZWMhlsQ4xDus2vR1pYNENrCWP7DUdyevf/DMzmXwjJPl3S4KLz7Hni6QZtyINLMQwMAqzx+piHKmFDQAZaao9gcQpZbqFUMfFJYxTE0IkIAHcX0aqX5u8R3By66l5aXXeDv87TDdWjT1lmnNI7v9JiXViD7sOphwUhMT4YgP/Ck76pf3br4wU78JFlNrc/iI/tGbYkws4Jbc+CGlg0W1o2FaWSq8w/YgM/uYof6fEPA+xtbqPKAsbEUagLyWpGIavAKacL+YH6JUyaUWIXiEB3FOS1S8bzQtnVbC+YFzWE3SKYMK1lOfrJD/+emQpQYh2Qou1zLhg/mS2xqFKnOlwbOlbHJOl4KQGOw5pYsK5SQOLrmLPs8A207dt06WE8hLNuQPgLe35lyw7H3yxOl/hK4B70v3IhZ0V96v9dQQh2oMEcB9JFmw4X6spZtKNHMoGMlVaMM6KP6visZxoZ5eFq+c2BUgDi7HDVB9LJkuP4Gc6lDLpII6NsCh4fIzXdH6ClrarIQ0sOoNv9m0YWkz8RTQmj8UYF7iwllfk/lGMNOCRkMEpNTCXlyRnYHIihBiIBHDvSJZqlm5mFXI25LiUvtYqKHE0F/Gb4zzw2Cm3HiANLMYIE65FmmudMx2si6Ogh7GcNWFwijSw6BjL595qtjHjXmwaAsvMI0vqohRCtAQJ4H5howHJIwdmvTmmAprqY3n6+fNuU1uxEimnmrKkOoyEH1nxGlhhXrQZm96Pvbv1jHhTqnmmQ/HRHF72D7NQaWDRN0yg0uZRy25TGWBiNo636nmz7WH3Qyf4ytV1w5JypE+0cjtJIXqCBHCPSMjtiFUkhbybfiog7tXCW9Zf0m8WYryddr6n1Bp2JVni/VFKoEWbIYUy7Zqv25Z/J8nj35ua6cCHFhzN4R8bM+zp9DJhMb48/OTZ9BrJpgfT1Cuav9BD8KvmXqqQ/dwmO/jIMe02lI9URzJYiGFIAPeFhKzOHm/IWykLwCTBloMW7EptED96M/djZr2QmP/cK27TGkqgRTuhZVqz54XblAU/DrnxpIoTMOvDBblNWfAebJj5y4TF2OFL0mlm/NoPHLKUNXTrO29dmnlkqbrOz/ECD2PzwljyOdsE/L1L7q7gjpiTLFLrF6LDSAD3goR8zgb0pv8VH3vca5FRiO3BBoSzxEVsSob9yIoSaNE2ikz69SlXq3qKsLIig1AsQ0UJD7wgMmExRvi4XH9ztRSChThY7iBqkYD55JHi1tw+fky3RogIEsDdJyGTs9GMKQuE3pMOGzo4pvjknhduUxZs3m/88iqBFu3BJv3m6C+lGdOG+d82PEh2IH5YYI5B3bgyM9KB2aFMWIwFNpyhhmfRhWAd71udNjVx1zMaQZ0SHA7+JHfBPR9/fum/5ih6CtF5JIA7zrAcjlWLXmlGQNX5uNemKDIbiotpPVGRi/n6N//Mrht3wW0Sol5IfW699zkaYdasy4+gy/2srDrJ3UfN1zRPOHA8oTSw6ABFikQJdGAUWP2ggX3hoKzx5waurGOdE0JUigRwlxmWvREObfvIAMY/WhJc8+Nem8IGkhGZckhWe0Rt5EJxAaWBRVP4Bz5lehwLmtkaM8qZpMptHQdsVHMO+03oIZcGFuMLrdeKsynHeQ0Dn4B4VkdiiXz22Dm7NWU9RtSyFzxVgvfDn888spTv0QlCdAwJ4M4yLG9Lnvnm8Ukwe45XElwQ/8VzzHMmReAf3/f2aZbSwKIRrFOU1pjJfnNryPZgP+eW1X795YoL3WG+VIhGMKmTPDSDtmr6qqDa+cKJb9hxMI3SH2ssSmdkEd8mbbGou1j0HAngbjIsY9v54ItsH1lxtPHA+NDePjgBBWsTq7Lqf668yd0wV5AGFjVjaVCm3NcnRh14lGs++/VzFuLjqKWBRRvwYzryPbEiPdiCZQt8XIenPrWQ3Q+dwHsX6XXwRfyERmLPf+EWh8V6IXqFBHAHGZireQ2WnN3a6OiRu/UEgpCNACdapI8TPvkOnxvE9X/f6swfXVhRKTS/rJN+8RjWyfNw3l8Fayck8Wa/pIPp7dfy/gceO+XW15AGFs1iVa30P9lQEHRvERkm8rF87i3LH1gqfVyWPQKwrAHYQowdEsBdwwvdsLPR+nbIcRNSN5LFTibBxQnTaLcpBfajqUQyt76qTKSBRaX4PsyUw9tIcC3ZyiQRxwsv79EPbtMobAhMXGlIA4sG+eyxc8Mem+QNOfcj63Ad7pVoB8eWvmUJA+6reCUC36VbLESIBHCnGKh+h/1WrYckr/NJcHFypNHxh41JA4vqIDmmadHAUsozP1e2D/08GKP5xpSdKi+dfcOMN/SlIA0sWoWXvhhyjjZJe7YBIzRpRaWu4hvJ2D3XUIjqkADuDnH165VtQqeujaoidqo6mAafRqf8WVRuiilePxtHGlhUgdW5dj90wq0n4n/0K6LuOo896Sql9WGqNvQjopmlgUU90NKSH8NhUz1zhG9UkD35nIUcQIXvMYIkZOeDL+ZI2PgXc2ikhXEZbGPWahtgL0TjSAB3hLj6xdnZlmGDIZ84usK77KOHAWbFp9EJD5kIsa42PzjNJ9Z6uIgoDs3J6lxpijK+gpOy6XaSTPrfSoSRyoI0sKgaixojH1OUT64Q9HEavX3I5ViDdrW2wYJ3ytqjazJ4YtBjonnLhrkpMxF9QAK4C8TVrym0YYMhXzr7hu0vN1cEn0YjKtym4Vi5gTviw5WJFt0CUYSRdS6PT2701BPDesAwSa6M2zQEG1vO1QvdqTSwqAgfoDVKSCSwfO4tP3x92OTwHFhX8LDsUYjOIAE89sTVr3VZDHxiEztb3yPJn9skimFDTwfWUyP4X7DwWkUaWBRhoDCL8521CWCZHmbeB7ga9nMgXJ/kjhSusJUPwkRTGliUjtVlBnb8WsmVdpi+04+WaS2cRf29XSVrJ3CcSP309W/+2ciyoBDjjgTweEN4C9UvIdMqgvEHvfCWzRcameqJHNiQJFKTkWHDpIjvhZMGFvmwOn3Cw+0MTfIfCf7QyoIjnwJoWoJL6talgUUtmPRlSTlzgWb88JNn7V9otGqcfeOBx06NrMh72NOqe6FnE6LzSACPMRH1y19bfensG7aDx1eOVQOuDl9iIJlOTjgsNUH6WrYdkcRCjMTaTPIvlj3++VfZB58QdwgiDr4xTRY4/7lX2Acb91JZGlhUh3/eRKYi6cwjS++bOSbD7ydh+YOcJKVf8o+HiIeVJ46ukEO6FSG6ggTwuBJRv36KqU/LDJya+UHNJqqH76wNN+VvQk/7C6u/Qc8dtJKEdSBLA4uReMNPmHnuUxncgtsk0uEvXULCFy81SgOL3FgsSCi7qFGJfJCB+MdlPfDYKbc1EXOAH3j7b+NZLTXNADchxggJ4LEElYvWxSXZzA3zcfy1dw1clXVoJHcTiSrg4o8cVOlvopX2pYHFSL5w4hs0Eux6WE7sG54GsxXBd7sNG3GK8dpkE6+TrTAhDSwyYYPq+evWM0I7xNI5wsiHRYs+U1y4eo+nyCI6gwTw+OGFE9mwfx129bDROiFHTmkTlXIqxdQae+QJd4rX0sAigeRJv1g6b9kOsvpSsJkjaNrIE2I89gA8f0ekgUV6rOOXJWxdPmQMa3Kezx47R0tjT2SJZjaJrBxb+lbCGKIINswQrDKYu14jRKuQAB4zvOJF/fpxd949gdWDP6Bn3rSGkYMqLahwW8mbTQPrGd0iQvJEcVNiNCFZfemYRx02/A/r5l0M3N6VBhZp+M5bl3Dy4aAtL30jI7ni2I8ksXOJv3wj+sYTR1csLbn13ueS54pbHZBF0+hEx5AATmJlZWXv3r2bNm16Rzo2btw4MzNz5swZ9/9lE6rf+LNYbBowTm1k8VjUj/1iDcvAQZWWN/Mu+bR19I1Mg0RPoG1YZjww/7DqCY0nfTlfZAUfa8+3I1mMT+znBplbNtPutgYmuh1eY2FhgXjnmZ6e3pLI1NSU23WV+fl5d6DDh48fP+4+oH+8nmK+jBBVQHvzj8va+eCLCfVTPxxGgUZ0BgngKAcPHkTHOkW7xrp167Zu3RoP2+xsGycmJq666iq39xrr169nZ3fcwoTq17IxP7DWSsJs0a/ptBwrUthNdJsCbAjrA4+dGmsNbCny3Nyc2QWJL+bjTKJK+CAz0r1793ICS0tdqCD4Dsa4mpLV1wzS12bB7R70c8rmk23sxthpYOwFq0GgYkTpC761sWHDBk5sx44dWDeneuHCBXfeYwVtZpi+pZ0MewvrpiGp801UCs4tHEg4DBsO4zMTm8DVpRHRx48fx8PgZ6ycV48zDP0bmoITcGcjKkYC2DE7O+sa4yqoWRKCfIH24sWL6F7atDvWKpOTk2x3e2THq99Dx16P9DZY8ViDZseIhLmF9hZ59q/933/Ii7ZpYNqwhQeUbaSFJ4MGxsUDhsC/h2B6HHMk2KP7hzW2b99ux4zXnhJYv3696eSFhYWVlVY/JNlq87d/Ito55q0+YW65qIjX1x4uGL/4Vt7CP5NNtlADk9thRFhumoIUZoJlYWJYyv79+zHAGoyFgMsHWccy6SAnEC9GD4Q9+ZfFxUV3oPaBgqVt0B6Sh5t62M0CPY1NfW6iEQaOVoswcCp7O8GDmW/JmjOYQIXIGBYw35hMZKQM+MEymQS2JVGcAx9a3TjTXtF3AUxCTzbs2tc73sHrcjuOMDkCuTv6qiHlaLhe/f7W/7NsQXT53FtstD6H5J/bEa3Fzy2MVF5Jfewuz/5Wk+VVGirp8kgHvXnzZlo4e+LoW9jpigFyYgQMCznJqb9NYWjJaEwbDhCZ9Curbwlke1goN+I33z6xH89s29mhQQ2MkqTNT05ODmvw6FvErZmt+5+xAiOdm5vD8ySU4bB39mm8yIXNmi1bNdOb8LBfZ7AaaMIOQtTAsaVv+RJMghKmPePfaNvsSTtn1b3RKKQihPLk8pnpSRIDE7EtHFfixTPCBI/tznsQuEGc4Zg68wbprwBG+obmMTs7696ohoMHD/qaEy/SSwUcirmhXz7wX/hL4ssWi5E4Jj3+cazxyVDkoWVsty6+j33GqR33RmXg/UkWUbPWRCMgg6empvDFLQwSRcAJYJiEwGFfnLhC+Km52ko+YX2MkXGPNjCetxJmaok6GTixH+PFYNmIgKlNA9NEaagD1aCVddrcO1oiBFZUPXmt+/IBhF1yxJrLW2HHr/f2MmExRtggfNotOUlk/EKYwBz/g283NVB/ZWWFBH6Y3CW4E+IJ9EXGYLYQXDrfGm08sMqJYCZna2GfRKvoqQDev3+/aybveAfx0m2tHpqsb6zbt293W4eDfzH1u3328tyzBx47ZXMCWTQpqDN8561LljFHuvWsi/gfffyyEq5CA2MFA2PG5OTk/Px8x6JFJg4fPkyuHB8lRVBBS1RaBfCTfsMU2YQWGzUYsoVYOTJyd/zw9de/dZG3WErXwLTScPiSYTJPeY/HkuN4aWDTpk04QLdTlViReth4H+I4EoJA79aFaCU00WEPm/AJTKSOXx2EYPL2eKeoeT+0rtuvfxw/fhzdO/DKsL3x4TBto3cCmLTex0Ky/0ay/ImJCTsBxHBypmLdgDdPL/L3Py2uWL+QRkZ1EiKH3e4wHzLl84N3Xq6/lqKB5+bmIs7RPKMy5gQsh45cN4wXMVyuAzEpxY32DcD/OEpkqK1oG3GFY7PjkL4nTv9JWRqYpjg5Oema4Brbt2+X/aaEC4i7i/SZbNmypeqeYSw6HK7Fa9MMtIr5z73itgoxVrx09g1fsvcy2HQyb6WZQpweQi1ROFKVtpK0JsQOw0b2xct/+MCOjebLR78EMCbks9gSn8+cg8XFRTsNGBZ6zZtYjPyJ+57nhUrFnYfEyASPf8SOHxB7464joTRKDzlfpKcIh1hP70cnWVhYiAyZZrW4Atn90Anu8gOPnbJV8gkriIzpw8B7CLbpBwSa1uUm2hCef/vUK0U0MBlepMkhg1XOLwgp4PT0dCiGN27cWHCsOG1g54MvJvxCr/1kN8s9j77sxYMQY4cv4rDEizhWEMQTFmzk8exl06ZNhGD3tshCfNBQcY831vRIAIfqtw32g+61k4G4Bvae5Uc+9qz5Ec0a6g+n/uhPyZW57/4ZSKaO3rPrKPl0Sg1Mehdxdir7lYvVpMMEGpWSoxqNKDKZ5PNm01E4AaXIYwe3zLy3fySM/VjIRx46kUMDY7Ouba0OOqC9uTdEqYQP6QA8Zw5X+dnVH+WeuOuZhxYuT9fHit0bb0ehXHSJ8HFZ4TQQ2vnf/7nLoxdz/FBfPHuZnp4uK3vZtWsXB7zyyivPnz9/+vTpq6++mtXrr7/+zTffvHTp0rZt2/yq+4fmqO5U5+bmQo+XL3UZd3okgP0wgPZUj0INHNq2V78sJEztf768qAJiiclgK6/yl9do4B8bpYFpV+Ggl+3bt1cROVjFBe/Zs2diYsJetzZysFr1qYZKmBfpnYwfKGtpsX++XWSuoBgv/IwG+4E6k0a33P3se3/2aBoNjMGGXb47duwod7C9GAaG7C56ll9twCHbb0RPf+okf1ls/OdLZ9/QvH3RE0hRwmTV+0CWn0w9gYvsJZxthO4t3fWRG/gRoJYMRDIBpOaNN97YkjSm6lNFCYepS69mUPdFAO/du9dusGXA7WFmZsZOzD8T65/8yuXRzrbkqJyJjmGpMwsvEEVbP3qU1z/ysWcHamDSNV/V40Xpvsy7Y2LSHXfcceLEiauvvjq0qRZGjjpPdWlpyZce0sSScNKvPTCWRc+36wx+KMfDT54lHbTXmHCyBiYWWBOCiqYqeOvACq655pqTJ0/yAgPx2VULDbnOU8VyfVK4efPm5BT8O29dQv3aozpYiNpssUEcLA88diq5XilEV6HlP/cHF2wO18i5PJHsJT4usixCVXnkyBE+zq8aLfR+UOmpcvEzpS7doBcCmOjlg1kLe/m9zWPwk//82Ht2XVY4M/s18U98F/+k2S+e/ObkL14ebrRtejGSV/khQ9UFj9Adg2WiLRfARp2nGsYSXgzLnm1Y+33zX/MTv/Wkq07iSxufPXbOfhL2+z8yWAPTcnyoSvMzAbmJWAdEsqvWGjLUdqq+bg5pMsIXTn3bHDULN9rGdAjRW3wZ6O59Sz+0GuOGjWesIXvxeJcS9qkuLy/fcsstzz77LNtb6P3qOdWUqUtn6IUAnpubszu6Y8cO20KjsZ8KpD3ZCEmgVdnGSLitGvtNpr/wPVe8Z9fv4yDe+7NHNfFPDMQ/afbOf3l5oN17dn/Bcmj8lHdbU1NTtnMVRJJRMlFU5c033+z9b2vz5vpP1bsdJE2k7oaB26Sp//iF12y+A4mCuom6jU1hQPfO/tblX3THeCMa+PDhw9ZgoLYUECy1mpmZsVWjnYZc/6murKz4CnWaX0zUmGchIiyfe8smCODx7vjkV3jhn/EJZC9+zHNZ2Ys5iomJCXML+BAO7udDRXKDOI14PztJCMv0jZyqSRIgdak6EjVLLwSwH1EWGU5G07FOobC44t6rEVoY57bph++zvt86l50Pvrj7oRMDl3seffk3D3192EKMf+HUtwcuODv3xUQFIJOsqvojP3/56Wgs/2X5O5s2bbIWXvxHrRU5SsQ/7J1A4ouppMjcNVKBn527XMUo/pxMMUZYDWvbHjdc9r0fdRr4woULvu+3rN808nYRYmHOW4f1pnq8pTdiyNjItddey2mEErfxU+WsvAa2J6ZisJO/8CVu3w/dtfjKecU7IVJB3khi+fjnX8V2iIAnTv8JGzdu3GjGVcXTeSzJ5+ARl8IW70BCLP/h3RLlAI4r2UGZ3+MM9+3bx0dH0pg6T9VjqgSISmU9QaaF9EIAe3kQL2ZY87ruuuvizatO7PTArdcFuXhEvvrl6efPR0RvuKDBQrUcLlbqa89y+yeOR87QLzOPLEW+V7h84cQ3ItfEL40/oAgZHD4p7drrf4zGMzk56d4uA0WOUvDP1LFzs27AH10tXuhJV/3E17Bu+sjliid/0cA7duywdlLWc54xjXe+8502TM6k4xVXXGGrgHXUVh7C3O68886Rh+IkOcNbb72VU21bJct3zm/evPlfHfz65VL1bud7uZVuJyFEOvCB7/uFy2OgWP763/mnWFYVMz4sB6ghyoPPlxIIUymP/aO5OEtj6jnhkfghbKE37hi9EMC+whSprPsmO/AGW1uM4Jsm0Zr/5R9t9amnnmI1nm37j0gO4b72T9biNomS6IPIZ7nuB/85WZr7zoVR5CiLCxcu2FfAxk32fP/uy7LHHhIrest31n4t6XKT+MjRd/3Nv2XtpKzuX8MqRBy28SQGC00wT/+uGXILUy7s9y/9lb9+44eP2C37oZ9b/MS/+5oPFvFBHI9//lX/brgU2XPmkSUfg8IlPpn8nkdfjuxjS5E9bdZGfInv6Z/9G1nik6K1Z3wpsmdkB7+4twMiO/jFvR0Q2cEv7u2AyA5+cW8HhO/e8KHfxeRLzF7ASn5g6QFu8F3veldTvVyczLAKHe4urEu2Ko0JUxe3qXP0bgg0bZHgury8TFpgUZZcP2yCwyDbDhtx/L8GbuEjzBQTBDAZj50eQt1tEiI1/9vf+rvWfkqZraHIUTqc2Pf8xb90w44nLd7733YWghTWz2W48q/+NZpKiYmgGUWa6FYDnMxA8/TDMULaZsg+F9zyU0/u/o2vRJQqSz0CeFgxN/74gCr2FKJ0EoZn5mOgP4FITe3uu+/2XpHc3p7+4/exg+CF/uRP/oQXvmeLPe+44w7bpyC+NMnBT548yRafekFY8W/wVO1kwK13jl4IYP8sx+npaeva+uAHP+jjKw3RDOa6664blijQNOMh2bdF47bbbguPSeM2CTFSAPsZ55U+9lN0lampKWs/A7tJ05MjcqSn8ciRkhLP08Dwr/4fNpnCueOTX+lzWsl3jyTZ5S5fOPGNiIQod3ngsVPWOVb68k/+xfPv2f2F//k9P0sDjphbPryN2NEwbQJfJISxcW5u7v7773frKThw4MC9996bVZryQcOGQGNuNpDKra+J9shYqqynmu88E8CrXHYuZU8zEaLnlJW9ZAJnGEnII47IMgo7JfNIfn/eKsVFp6TBU11YWOBogMxxmzpHLwTwmTNn7EauCx5Fk56BpWvaZSRI+8YXpuMRBhp5pc8AEJ2HJu0foljuOKI4oTv+zGc+c+jQoSuuuIJc8xvf+IYfUjGMBiNHplMt8TxXVlZsdsOWnzpoGrjPyw/87BcRe9UtyVP6iy9PHF2JSO5yl++94QfMios/ym4kNPLbbrvNXuNASHEIZ6+++urOnTs5geRklEgXyckqJfeplnWeBw8eXL0tl3+gJUf+IIQYBgblnzBXVidwMnxifFBbRFXaqleV4SCagf9eEQ2eKv9rqQuUOyunVfRCAIOvM/lfQkoJTSqufoHtHI1WaG9ZKxy4J/GbPYdVr/1E8w5XWUTV4KG8t4o86rxE4v7Ul4Fo5N7zstsdd9yBgUQqREXccVaKnGpZ5+mfowiqbYmR0PD8gMBKRwNdunTJ/4yk4TOnMJ1aXl6+6aab7Hy8BAX2qfqhU54ip1rKefrhYzjYlZUVt1UIURJhoKwuewkJi+N4mMjAN3sL72EDPCMjQ8kfyqqPp6GRU63/jjRFXwQwuYVXCPXUmdIQnlWHqyyiBmhLvh9448aNFT25PnTHYQJ66NAhPjecWRAXwA1GjkynWsp5+p/1x8AjPwIsRAKTk5O+5diP7pRORFXiOvyYCLOFZ5555lOf+pS9C2wMa7ulCMuUFDnVgueJ2fofV9+0aRMf7d4QQpRKPdlLSOMzudJT86mGqUvnVUlfBDCEVY02aODQ5tVBJErBDyiALVu2VBFIUrrjPXv2hKqyzZEjPNXi5+l/zwamp6fdViFSg/TywwJ5UYUMPhKMK04g3gELiExfWqqB3Kea+zy5/n5eEllg1fNKhBDgn4YDyLAaZLAICVOXqakpt7XT9EgAQ3s0sNSvqA50lzUtIIE+ePCge0NUxtLSkh+/CpOTk+oyEkUgQvkYARh1uS0KxTg3N3fgwAG3HgPl6T577VHShw4dKvfhUinJeqoPPvhgvvMkBfelB6RvnTpfCAH+l/Nhw4YNFY2CEZ5I6rJ9+/b+pC79EsBAVkFgszvdVJEjLHRJ/YqKiCTQGzduVFdG6RA8bPqNQfYsixYlcuHCBT8mDQheJIiqrZQLQjd0lZs3b9a0BSEaBN0bmiQKTUq4XHBxfroN9LPe1zsBbPgbT8Ja5zB3shk/rQhBojxG1EDYrWFs375dD3TJDVY8PT3t62gGssS9LUQFEKcQZq61rbJlyxaVtHJz/PjxMP8DEm4l2UK0CrKXMNTyempqSqOj84HiIFGJZIOljy0aI3oqgIF8wrcDXlQ9IhqLDYcZqJtI1A+NPOxNMsgClUaPBHexY8eOiOjFojW8XNTMwPrLxo0byRRVUU0Gaw3Haxg4QFUDhWg5i4uLkQogPnD79u1Vp+7jzpkzZ4gXEdG7YcMGze+A/gpgIzJMtIpuHLSub3xYLGmKe0OI5iCcTExMWLMMQSHjGZVJHz58mOAakRmA6FX1SrQElNvU1FS8lZLfEMt6Po6Xi0O0jSTNBqJXebMQY8rAShZg1ypJ49l27NgRUbxAUJD6iNB3AWxEumcBbVAke+CA/peHjRo6mYXIB3IX0RvvHDbIIGdmZjrcS7y4uIha4OvHhQRs3Lhxbm5OfUSi/dCSB6Y+QPZDdkgC1ElVjHniwfjukTju4burx0OI7kGyTYAeWOcioBPWCe5dndqwtLTEd8e5DfP5KoMmIwH8Noij4aPADazIwicaIC5iaV5sX1hY2L59e7wVYn51zjEWohRo1TjWgUVWD8oQu9i7d+9YaGNCIN8I6x4YKT18KdS+bFZ0gIsXLw4LTJ7169cTpGjzBw8eJJV0/9lK+Dq4GlK6iYkJcjv3BQbBDkj9ln8dIUQVEL5xaIRy5w4GQRpAMoCXaH+/FMkY6mN6epp8bGCN3sAlTk1NdVXqV4QE8FBodiT3wyrKw1ACLbqK72ZJ1pAR8Ms4bv4LuwBUKFlsSEqXTaBy/7AG0cuOid/nIzKZKnaKMOBkZKqiVyAj0boj06kI7Mn+JpU9zg7XGGlKOBC36xpEWHesmZnJyUk+IkGrx2F/bB+RL60rhEgA72SdpcnCOAKpDk7GeaiZGVyN81xrpOlfxTu5vdfAA7sjzsxMTExkcsXr16/nX/CcGlJaHAngnNCINU9SCI95eSIEPh25i0/PFGnKwvQ24pbTQCFzShq9LER6rNI0OzuLBaF4MyVnZRHmnZwMuJMTQoiyQR7jZFDIOBxTpJkqcWXB51qREffL+UjiVo0EsBBCCCGEEEKIXiABLIQQQgghhBCiF0gACyGEEEIIIYToBRLAoqVcvHjx2muvtakR119//ZtvvuneGMS+fftsT9DPXYgeMjMzQ+Nfv379llWmpqbcG+VhJskHufUUnD59+uqrr/YmaY8rA3uK7/bt2227EKKHrEbs77K/1N8pLe6vzpw5485sDU1HF6IzSACLPJDCEgwyhZasJESv5eVlTiD+ViR6ecizqz5bIZqF5k0jr1RSxk3SCk933XXXm2++eenSpdtvv53V0ACHmWQNZyuEaDk4AahIVQ5LIcxrDcwHhvkrqPRUhRD1IwEs8tCIACY43XDDDQsLC0eOHBn46RLAorfQvGnkNQvgCHHDlAAWQgwDJwB1CuBLly5t27Zt2JgyCWAh+oMEsMjDMAH8yU9+0uIEXHHFFc8++6x7Yy3wsD2MLhZvbH8ID5iQbUsACxGB5k0jHygpd+3axVsRewSzI4iYzKFDh2y7de26raME8L59+/iIyKEkgIUQwzA/E1eVpbisgf7KjhD3SIYEsBD9QQJY5CGhB9jGF0UqrF79wsAUOV6RlQAWIj00bxr5QElp9hIxMYxl/fr17373u+MmaVI2knrCMJM0kx+YNUoACyGGgROAuKosxWXF/VW8+5ctt9xyi//HYf4KVs9UAliI7iABLPKQIIAHhq5du3ZNTExYWTeMLhaieMutB0gAC5EemjeNPKUAtlSStC9ukmy58sorz58/79YD4iZpFhfZcuONN4YfJAEshBgITgDSCOAcLivur6xU57csLy9H0o9h/goun6gEsBAdQgJY5CFBAFsICUMX8cliTCR02Z4DDwLDyrerYei7hJFvWPSSABadh+ZNIx8oKSMmyaqlkryOmCSrkdJVSEJNahjDTDLhbIUQPQEnAHFVWYrLKtFfwbBTFUKMKRLAIg/pBTDxyVdYee3HKSVEGqPE6CUBLDpPgqQMTZLXPpUEb5LxwYFxJICFECWCE4BkAZzbZUkACyESkAAWeUgQwBZ1LCyF6hd86Dpy5Eh8xk4EO45FneS8HGxokyEBLHpIgqT0JnnixIkwlQQzyaNHj5JKDpyJUBESwEKIywF7kKpsocsadqpCiDFFAljkIY0Avv322yPxyULXfffdN2ySYUVIAIvOM1IA82686oRJsh1qtg4JYCGEOZ9hApi32uOy7EMlgIXoDBLAIg8JAtjP1I1XZy101ax+QQJYdJ4ESelNMj44wkxy4JC/ShkpgFdWVvbv3+9WWgyXjlN1K0KILOAEIK4qW+iyVs90hAC+cOGCe9UtLl682NWvJvqMBLDIQ4IAbiHJAvjgwYObN2+enZ1162MLX3Pr1q2Li4tuXfSJkZKyVSScLW9hj6Rcbn0cwB9OTU25FSFEOnACMBbdqgmnapE3IhGXl5dxC/GsA22/Z88eO9rGjRsXFhbcG+0Ghzw9Pb1p06bx8sxCJCABLPLQDQFMMLvqqquWlpbcemGIDTfffHO8f5tYGG4PZyx7/DznI0eOXH311RMTE7b61FNPsRrvNrfHdfCPkVo4AZUvpV6pvpEgKVvIsLMljww3WrJo7Zx/CXPHlM7HupKuu+660Hyw02uvvfa2226z1eKfApYduhUhRArMysZXACN6161bF4Zg4vINN9xAFLZfcoo4kMhDtswR+dBfm7PKDXkFH6Qiu+gGEsAiDx0QwMePH2djGM/QpQcOHLC4tXHjRsLYyZMnTaymH7ZtMcyHNIteyc/qICiGP526a+1RYbYKA7dwTDvV+GCw2dlZNDAf7dZFD6B50xjGWgDTktl45swZt76G2aA3gawmCd4ql5aW8F2+uhRS/FPYf+/evW5FCDEKTAbGVwDjTMCtvJ2BAjhNcK/HWeWGb4TmdytCjDMSwCIP+OW4c28tAwXwjh07NmzY4FYCCEjs7CWrrXpB67GO2bj4NCyGDfzHCITJ+D5IYrvCxm233eZ3MEVtnztMAF+4cIHtYzGFUpQFt/tyLrZGO0fkclbu/FaJzDvAJOOplTV42rPZr7csb6HWqXLgwAHeihhvSLJJjvyU5eXlnTt3sgWGWT3+ZFwKEEK0ATMoT9ti1pkzZ9yZrRERwGyZnp52K28ntwCGgs7KsBPIpIrTeLmDBw/y7vHjx926EGOLBLDoKVu3bt28ebNbWcOSae/9I6tAsHn/+99/8uRJS7UHBgkLSIQuq+AmaOB9+/bF3+XIkaBl9V0+y0LaQCKBNr5FiJYzNzdHu430AFub9zliZDWCtxS3voq3RzM0Sx9JFkO7S/kpCVYPvCWjE6I/JNS8zIdEHEJko/dFtgolOitzhjk8UrKX279/P+9qjpXoABLAoqcQGPDjbmUNc/0+/FhoQY6++uqre/bsCQPMwCARiV5GPMgZA9UvWNzyMc9E+MA97fTuv/9+t74Gwpvt4/J0DSEMLGX9+vVhxmYGZeZgW9hny+rgiPjzYzDJuJksLy9/6EMfitsOZuW3p/+UhNQQ9b5u3TrlhUL0B5xVZLaRdyYhYUWbHXwv63XXXRcmFSU6KzaSdUQq6QPPzQh9WrIA5rO2bt3qVoQYZySARX/ZtGnTjh073EpGkoNEs2zevFnPpBXjCAJyw4YNWWfSkiBec801luqR+f3wD/9wPIkshWFWv3//fqR7fPayEKLbTE5OtvCp9WH3L7r3lltuifQPJ5CQ25BXxMfNCTGmSACLXjM3N7dx48as/TZEO6uk3nXXXW5TO1haWiIRP3jwoFsXYgy5cOECqVt80MRA/DwFz8DhEgWxhDLEEsQdO3aQFKrjV4jegr/avn37pk2bWjIz9sjqD0k4P7VKSpc4zMvxBfHGW7du1dRf0SUkgIW4DNLRvRpbOvAVhBBCiJHYKF/TaSMFXijt2jluSwhRMxLAQggx9tic9k2bNvECcjxP1RJK/tetp8B6X31CyYfap9ucND0SWQgxjFU1mv83kAb6K3suhhEXuhF/FWL/MhY/yCSEKAUJYJEZewzgunXrSHMN90ZqSkm17aM3btzIyQz8QSMh+gPWhCEU0Zxxq7Ruk7vuuuvNN9+8dOnS7bffzmqYPg5LKIufjBCi2+AioFwBDHitYU+JlwAWQngkgEVmTAAX0ZwDQ1f4G3TxqDYsdBU/GSE6QILmDB/+mTCxdmRZynpXwh0kgIUQ+Vh1SIM1py+3Jbijgf7KPNIwLycBLITwSACLzCRozuKpdjzJNiSAhUhgpObctWvXsI4RI1kAW79KxAAlgIUQ+cBFwDABTCIR+RWfCAP9VbKXkwAWQngkgEVmRmrOIqm2BLAQOUjWnGY+yc9VHmaVNhB6YNYoASyEyAcuAgZqzmFpQEjcX8W9HMcJn48lASyE8EgAi8wka84iqTZIAAuRg2TN6efFhRMNbrvtNvf2KsMSysiWG2+8cWRCmXwyQghhXiiuOX337zPPPIO3OXnypB9ZFrqaiL+yzCFO3KFJAAshQAJYZCZZc+ZLtT3W3YR+jvyqgQSwEAkkaE4zN94Ntas3NFuFBKschgSwECIfuAiIa07zKpFBZKZvK/JXMOxkhBBdRQJYZCZBc9afaksACwEJmjNugCABLIRoEFwExDXnwClUbGTn0Dv5ZAOK/w6wvSUBLER/kAAWmUnQnPWn2hLAQsAwzWm2FnmcjA0pTJ6oXwQJYCFEMrgIiGhOC/QRQWvdvyNVbhEGnowQosNIAIvMDNOcjaTaEsBCwDDNGc8dqzZJkAAWQiSDi4CI5rSeXu+dlpeXzVkN7LYtkYEnI4ToMBLAIjPDNGcjqbYEsBAwUHNigLfccstdd901Nzd39dVXswN88IMfPHnypNujGkYK4DNnzszOzrqVRtm7d+/S0pJbEULUhbmjlmjOhJO5ePEiDm3Tpk2Li4tuU0PgqTZv3rxjx46VlRW3SQiRFwlgkZmBmrOpVHukACZ6cUr8devNcfDgwePHj7sVIUqlVZ2uCSfDxi1btriV2lleXubTOT23vsbExMTk5KRbEUJUz+UUofUCeGpqauPGjWH+ED7dM+5Jdu3adeWVV9qTq6032/ddc5Cbb745/svGHDCyPfkjoFkvKkQ3kAAWmWlVp2vCySA4169ff+bMGbdeL8NSbQLq1q1b2yDIRZdI0Jz1M+xkrPvCraxWzfbs2WP1Mv7FVnltq26nRPiXbdu2XXfddWH6iHFde+214ZPnT58+fcMNNywsLNgolYEHZ6MGkghRG2bpbRbAe/fuXbdu3cBgPdCT7Fv7CQxbNe8UTgqzLX6UnHmqyDNTPAnOCsguhv2jECINEsAiM2MhgCPpbKtSbc55WFgVIh+0NNpbmwXw/Pw8G+MFKXtInk8cbTXyKIFkfFq5tLRkeeGwh+Uk55S81ZKB2UJ0HswN2iyASSGGedSBnsS6f0PHxZb4FDDzV/x78mO9kp2VZT4aCy1EbiSARWbaL4BJstmICnXra7Qn1d64cWNLtIroBqRuNDYPduHeqBE+1H38KhED3LFjBxbhVtawEpK3FJ8a+s4NeyrsgQMHeMuGFA7s9yglp0zId4UQfQNfMT097VbezjABnNwDDJEUIsFfJTurgwcP8q4mVQmRGwlgkRk8L447xL1RI6Ta7rNXiczfG9jXNDLVhnDuzbDHTpaSapNno4HdihA9wGpVEas0M/FZY2Q1glWsIobpE0ozRj+qcKBtJltlwltCiL5h2YVbeTvmiyJ+xitemwP8yU9+Mq6HI2mD91duPWDgR3jwVLzrVoQQ2ZH9iA5y/PhxYgNC3a2vEsmtI6shkWdXeEpMtTdv3jww5gnRYTZs2BD2qJhBYSbeFrApMk62bNy4MdKBjFXGS07Ly8sf+tCH4gZ4+vTpcLv/oJBIz8zs7OxVV13FCbh1IUS/WVlZWbdu3bBSeINwYniwSIYjhMiEBLDoJqTUW7dudSvZU222R8Jeian24uIiGxv/TQUhaubChQubNm2amppy6+nAxK655hqzIMz2h3/4h+NmWJCZmRn8AKfn1oUQYtXhkEhMTk62pzS2d+/eDRs2yFkJURAJYNFZiFv5elmH9QCXArr3qquuUu1W9Jn9+/ennG1rc4BX60iO5KkHWZmenm7Jz6QJIVoLgrPxJ07hppr6VQshuocEsOgyBAxS7c2bN6dMcG3WTUiJMnjv3r0k/UtLS25dCCGEEEIIUS8SwEIIIYQQQggheoEEsBBCCCGEEEKIXiABLIQQQgghhBCiF0gACyGEEEIIIYToBRLAQgghhBBCCCF6gQSwEEIIIYQQQoheIAEshBBCCCGEEKIXSAALIYQQQgghhOgFEsBCCCGEEEIIIXqBBLAQQgghhBBCiF4gASyEEEIIIYQQohdIAAshhBBCCCGE6AUSwEIIIYQQQggheoEEsBBCCCGEEEKIXiABLIQQQgghhBCiF0gACyGEEEIIIYToBRLAQgghhBBCCCF6gQSwEEIIIYQQQoheIAEshBBCCCGEEKIXSAALIYQQQgghhOgFEsBCCCGEEEIIIXqBBLAQQgghhBBCiF4gASyEEEIIIYQQohdIAAshhBBCCCGE6AUSwEIIIYQQQggheoEEsBBCCCGEEEKIXiABLIQQQgghhBCiF0gACyGEEEIIIYToAf/tv/3/AW/LwgoHAs+XAAAAAElFTkSuQmCC)"
   ]
  },
  {
   "cell_type": "markdown",
   "id": "tjEFkGwNV8i1",
   "metadata": {
    "id": "tjEFkGwNV8i1"
   },
   "source": [
    "![forward_propogation.png](data:image/png;base64,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)"
   ]
  },
  {
   "cell_type": "code",
   "execution_count": 9,
   "id": "9c0844ec-c936-48b6-b678-e4ee4fdb7f1c",
   "metadata": {
    "id": "9c0844ec-c936-48b6-b678-e4ee4fdb7f1c"
   },
   "outputs": [],
   "source": [
    "# Forward Propagation\n",
    "def forward_prop(weights_biases, X):\n",
    "    \"\"\"\n",
    "    Computes forward propagation through the network.\n",
    "    Args:\n",
    "        weights_biases (dict): Current weights and biases.\n",
    "        X (ndarray): Input data.\n",
    "    Returns:\n",
    "        dict: Activations and pre-activations for each layer.\n",
    "    \"\"\"\n",
    "    L = len(weights_biases) // 2  # Number of layers\n",
    "    LNLcaches = {\"A0\": X}  # Initialize cache to store activations and pre-activations\n",
    "\n",
    "    A = X  # Set input as initial activation\n",
    "    for l in range(1, L):\n",
    "        Z = weights_biases[\"W\" + str(l)].dot(A) + weights_biases[\"b\" + str(l)]  # Linear transformation\n",
    "        A = ReLU(Z)  # Apply ReLU activation for hidden layers\n",
    "        LNLcaches[\"Z\" + str(l)] = Z  # Store pre-activation\n",
    "        LNLcaches[\"A\" + str(l)] = A  # Store activation\n",
    "\n",
    "    # Compute output layer\n",
    "    Z = weights_biases[\"W\" + str(L)].dot(A) + weights_biases[\"b\" + str(L)]  # Linear transformation for output\n",
    "    A = softmax(Z)  # Apply softmax activation for output layer\n",
    "    LNLcaches[\"Z\" + str(L)] = Z  # Store pre-activation for output\n",
    "    LNLcaches[\"A\" + str(L)] = A  # Store final output activation\n",
    "\n",
    "    return LNLcaches  # Return all layer activations and pre-activations"
   ]
  },
  {
   "cell_type": "code",
   "execution_count": 10,
   "id": "eSuN-O5GD2ct",
   "metadata": {
    "cellView": "form",
    "colab": {
     "base_uri": "https://localhost:8080/",
     "height": 765
    },
    "id": "eSuN-O5GD2ct",
    "jupyter": {
     "source_hidden": true
    },
    "outputId": "724f9b16-7c70-4ea6-e218-3a18be874edd"
   },
   "outputs": [
    {
     "data": {
      "text/latex": [
       "$\\displaystyle \\color{red}{\\large{from \\ \\ Input \\ \\ Layer \\ \\ to \\ \\ Hidden \\ \\ Layer \\ 1}}$"
      ],
      "text/plain": [
       "<IPython.core.display.Math object>"
      ]
     },
     "metadata": {},
     "output_type": "display_data"
    },
    {
     "data": {
      "text/latex": [
       "$\\displaystyle \\Large{\\Huge{[} \\Large{W^{[1]}} \\Huge{]} \\Large{_{_{\\left( 100, \\  784\\right)}}}\\Huge{[} \\Large{X} \\Huge{]} \\Large{_{_{\\left( 784, \\  33600\\right)}}} + \\Huge{[}\\Large{[b^{[1]}]_{_{\\left( 100, \\  1\\right)}}[b^{[1]}}]_{_{\\left( 100, \\  1\\right)}}\\cdots[b^{[1]}]_{_{\\left( 100, \\  1\\right)}}\\Huge{]} \\Large{_{_{\\left( 100, \\  33600\\right)}}} = \\Huge{[} \\Large{Z^{[1]}} \\Huge{]} \\Large{_{_{\\left( 100, \\  33600\\right)}}}}$"
      ],
      "text/plain": [
       "<IPython.core.display.Math object>"
      ]
     },
     "metadata": {},
     "output_type": "display_data"
    },
    {
     "name": "stdout",
     "output_type": "stream",
     "text": [
      "\n"
     ]
    },
    {
     "data": {
      "text/latex": [
       "$\\displaystyle \\Large{\\Huge{[} \\Large{A^{[1]}} \\Huge{]} \\Large{_{_{\\left( 100, \\  33600\\right)}}} = ReLU \\left(\\Huge{[} \\Large{Z^{[1]}} \\Huge{]} \\Large{_{_{\\left( 100, \\  33600\\right)}}}\\right)}$"
      ],
      "text/plain": [
       "<IPython.core.display.Math object>"
      ]
     },
     "metadata": {},
     "output_type": "display_data"
    },
    {
     "name": "stdout",
     "output_type": "stream",
     "text": [
      "\n",
      "\n"
     ]
    },
    {
     "data": {
      "text/latex": [
       "$\\displaystyle \\color{red}{\\large{from \\ \\ Hidden \\ \\ Layer \\ 1 \\ \\ to \\ \\ Hidden \\ \\ Layer \\ 2}}$"
      ],
      "text/plain": [
       "<IPython.core.display.Math object>"
      ]
     },
     "metadata": {},
     "output_type": "display_data"
    },
    {
     "data": {
      "text/latex": [
       "$\\displaystyle \\Large{\\Huge{[} \\Large{W^{[2]}} \\Huge{]} \\Large{_{_{\\left( 30, \\  100\\right)}}}\\Huge{[} \\Large{A^{[1]}} \\Huge{]} \\Large{_{_{\\left( 100, \\  33600\\right)}}} + \\Huge{[}\\Large{[b^{[2]}]_{_{\\left( 30, \\  1\\right)}}[b^{[2]}}]_{_{\\left( 30, \\  1\\right)}}\\cdots[b^{[2]}]_{_{\\left( 30, \\  1\\right)}}\\Huge{]} \\Large{_{_{\\left( 30, \\  33600\\right)}}} = \\Huge{[} \\Large{Z^{[2]}} \\Huge{]} \\Large{_{_{\\left( 30, \\  33600\\right)}}}}$"
      ],
      "text/plain": [
       "<IPython.core.display.Math object>"
      ]
     },
     "metadata": {},
     "output_type": "display_data"
    },
    {
     "name": "stdout",
     "output_type": "stream",
     "text": [
      "\n"
     ]
    },
    {
     "data": {
      "text/latex": [
       "$\\displaystyle \\Large{\\Huge{[} \\Large{A^{[2]}} \\Huge{]} \\Large{_{_{\\left( 30, \\  33600\\right)}}} = ReLU \\left(\\Huge{[} \\Large{Z^{[2]}} \\Huge{]} \\Large{_{_{\\left( 30, \\  33600\\right)}}}\\right)}$"
      ],
      "text/plain": [
       "<IPython.core.display.Math object>"
      ]
     },
     "metadata": {},
     "output_type": "display_data"
    },
    {
     "name": "stdout",
     "output_type": "stream",
     "text": [
      "\n",
      "\n"
     ]
    },
    {
     "data": {
      "text/latex": [
       "$\\displaystyle \\color{red}{\\large{from \\ \\ Hidden \\ \\ Layer \\ 2 \\ \\ to \\ \\ Hidden \\ \\ Layer \\ 3}}$"
      ],
      "text/plain": [
       "<IPython.core.display.Math object>"
      ]
     },
     "metadata": {},
     "output_type": "display_data"
    },
    {
     "data": {
      "text/latex": [
       "$\\displaystyle \\Large{\\Huge{[} \\Large{W^{[3]}} \\Huge{]} \\Large{_{_{\\left( 20, \\  30\\right)}}}\\Huge{[} \\Large{A^{[2]}} \\Huge{]} \\Large{_{_{\\left( 30, \\  33600\\right)}}} + \\Huge{[}\\Large{[b^{[3]}]_{_{\\left( 20, \\  1\\right)}}[b^{[3]}}]_{_{\\left( 20, \\  1\\right)}}\\cdots[b^{[3]}]_{_{\\left( 20, \\  1\\right)}}\\Huge{]} \\Large{_{_{\\left( 20, \\  33600\\right)}}} = \\Huge{[} \\Large{Z^{[3]}} \\Huge{]} \\Large{_{_{\\left( 20, \\  33600\\right)}}}}$"
      ],
      "text/plain": [
       "<IPython.core.display.Math object>"
      ]
     },
     "metadata": {},
     "output_type": "display_data"
    },
    {
     "name": "stdout",
     "output_type": "stream",
     "text": [
      "\n"
     ]
    },
    {
     "data": {
      "text/latex": [
       "$\\displaystyle \\Large{\\Huge{[} \\Large{A^{[3]}} \\Huge{]} \\Large{_{_{\\left( 20, \\  33600\\right)}}} = ReLU \\left(\\Huge{[} \\Large{Z^{[3]}} \\Huge{]} \\Large{_{_{\\left( 20, \\  33600\\right)}}}\\right)}$"
      ],
      "text/plain": [
       "<IPython.core.display.Math object>"
      ]
     },
     "metadata": {},
     "output_type": "display_data"
    },
    {
     "name": "stdout",
     "output_type": "stream",
     "text": [
      "\n",
      "\n"
     ]
    },
    {
     "data": {
      "text/latex": [
       "$\\displaystyle \\color{red}{\\large{from \\ \\ Hidden \\ \\ Layer \\ 3 \\ \\ to \\ \\ Output \\ \\ Layer}}$"
      ],
      "text/plain": [
       "<IPython.core.display.Math object>"
      ]
     },
     "metadata": {},
     "output_type": "display_data"
    },
    {
     "data": {
      "text/latex": [
       "$\\displaystyle \\Large{\\Huge{[} \\Large{W^{[4]}} \\Huge{]} \\Large{_{_{\\left( 10, \\  20\\right)}}}\\Huge{[} \\Large{A^{[3]}} \\Huge{]} \\Large{_{_{\\left( 20, \\  33600\\right)}}} + \\Huge{[}\\Large{[b^{[4]}]_{_{\\left( 10, \\  1\\right)}}[b^{[4]}}]_{_{\\left( 10, \\  1\\right)}}\\cdots[b^{[4]}]_{_{\\left( 10, \\  1\\right)}}\\Huge{]} \\Large{_{_{\\left( 10, \\  33600\\right)}}} = \\Huge{[} \\Large{Z^{[4]}} \\Huge{]} \\Large{_{_{\\left( 10, \\  33600\\right)}}}}$"
      ],
      "text/plain": [
       "<IPython.core.display.Math object>"
      ]
     },
     "metadata": {},
     "output_type": "display_data"
    },
    {
     "name": "stdout",
     "output_type": "stream",
     "text": [
      "\n"
     ]
    },
    {
     "data": {
      "text/latex": [
       "$\\displaystyle \\Large{\\Huge{[} \\Large{A^{[4]}} \\Huge{]} \\Large{_{_{\\left( 10, \\  33600\\right)}}} = softmax \\left(\\Huge{[} \\Large{Z^{[4]}} \\Huge{]} \\Large{_{_{\\left( 10, \\  33600\\right)}}}\\right)}$"
      ],
      "text/plain": [
       "<IPython.core.display.Math object>"
      ]
     },
     "metadata": {},
     "output_type": "display_data"
    },
    {
     "name": "stdout",
     "output_type": "stream",
     "text": [
      "\n",
      "\n"
     ]
    }
   ],
   "source": [
    "# @title $Forward \\ \\ Propogation$\n",
    "LNLcaches_check = forward_prop(weights_biases_check, X_train)  # Perform forward propagation and store intermediate results\n",
    "\n",
    "for i in range(1, L+1):  # Loop through each layer\n",
    "    W = weights_biases_check[\"W\" + str(i)]  # Weights of the current layer\n",
    "    b = weights_biases_check[\"b\" + str(i)]  # Biases of the current layer\n",
    "    Z = LNLcaches_check[\"Z\" + str(i)]  # Linear transformation output of the current layer\n",
    "    A = LNLcaches_check[\"A\" + str(i-1)]  # Activation input for the current layer\n",
    "\n",
    "    # Format weights, biases, and activations for LaTeX display\n",
    "    expr_W = r\"\\Huge{[} \\Large{W^{[\" + sp.latex(i) + r\"]}} \\Huge{]} \\Large{_{_{\" + sp.latex(W.shape) + r\"}}}\"\n",
    "    expr_b = r\"\\Huge{[}\" + r\"\\Large{[b^{[\" + sp.latex(i) + r\"]}]_{_{\" + sp.latex(b.shape) + r\"}}\" + r\"[b^{[\" + sp.latex(i) + r\"]}}]_{_{\" + sp.latex(b.shape) + r\"}}\"\n",
    "    expr_b = expr_b + r\"\\cdots\" + r\"[b^{[\" + sp.latex(i) + r\"]}]_{_{\" + sp.latex(b.shape) + r\"}}\" + r\"\\Huge{]} \\Large{_{_{\" + sp.latex(Z.shape) + r\"}}}\"\n",
    "\n",
    "    # Format activation for layer input (X for the first layer, A for subsequent layers)\n",
    "    if(i == 1):\n",
    "        expr_A = r\"\\Huge{[} \\Large{X} \\Huge{]} \\Large{_{_{\" + sp.latex(A.shape) + r\"}}}\"\n",
    "    else:\n",
    "        expr_A = r\"\\Huge{[} \\Large{A^{[\" + sp.latex(i-1) + r\"]}} \\Huge{]} \\Large{_{_{\" + sp.latex(A.shape) + r\"}}}\"\n",
    "\n",
    "    # Format Z (linear transformation output)\n",
    "    expr_Z = r\"\\Huge{[} \\Large{Z^{[\" + sp.latex(i) + r\"]}} \\Huge{]} \\Large{_{_{\" + sp.latex(Z.shape) + r\"}}}\"\n",
    "\n",
    "    # Display text indicating layer transition\n",
    "    if(i == 1):\n",
    "        display(Math(r\"\\color{red}{\\large{from \\ \\ Input \\ \\ Layer \\ \\ to \\ \\ Hidden \\ \\ Layer \\ 1}}\"))\n",
    "    elif(i == L):\n",
    "        display(Math(r\"\\color{red}{\\large{from \\ \\ Hidden \\ \\ Layer \\ \" + sp.latex(i-1) + r\" \\ \\ to \\ \\ Output \\ \\ Layer}}\"))\n",
    "    else:\n",
    "        display(Math(r\"\\color{red}{\\large{from \\ \\ Hidden \\ \\ Layer \\ \" + sp.latex(i-1) + r\" \\ \\ to \\ \\ Hidden \\ \\ Layer \\ \" + sp.latex(i) + r\"}}\"))\n",
    "\n",
    "    # Display the linear transformation equation\n",
    "    display(Math(r\"\\Large{\" + expr_W + expr_A + r\" + \" + expr_b + r\" = \" + expr_Z + r\"}\"))\n",
    "    print()\n",
    "\n",
    "    # Calculate activation for the current layer\n",
    "    A_next = LNLcaches_check[\"A\" + str(i)]  # Activation output of the current layer\n",
    "    expr_A_next = r\"\\Huge{[} \\Large{A^{[\" + sp.latex(i) + r\"]}} \\Huge{]} \\Large{_{_{\" + sp.latex(A_next.shape) + r\"}}}\"\n",
    "\n",
    "    # Apply ReLU activation for hidden layers and softmax for the output layer\n",
    "    if(i < L):\n",
    "        display(Math(r\"\\Large{\" + expr_A_next + r\" = ReLU \\left(\" + expr_Z + r\"\\right)}\"))\n",
    "    else:\n",
    "        display(Math(r\"\\Large{\" + expr_A_next + r\" = softmax \\left(\" + expr_Z + r\"\\right)}\"))\n",
    "\n",
    "    print(\"\\n\")  # Add spacing between layer outputs"
   ]
  },
  {
   "cell_type": "markdown",
   "id": "iSv4KT4D9OPf",
   "metadata": {
    "id": "iSv4KT4D9OPf"
   },
   "source": [
    "# $Cost$"
   ]
  },
  {
   "cell_type": "markdown",
   "id": "T9DRQbLhcDvd",
   "metadata": {
    "id": "T9DRQbLhcDvd"
   },
   "source": [
    "$For \\ a \\ single \\ example, \\ the \\ cross-entropy \\ loss \\ is:$\n",
    "\n",
    "${L = - \\sum_{i=1}^{10} y_i \\cdot log \\left( \\hat{y_i} \\right)}$\n",
    "\n",
    "$\\large{\\therefore Cost(J) = \\sum_{j=1}^{m} \\left( - \\sum_{i=1}^{10} y_i \\cdot log \\left( \\hat{y_i} \\right) \\right)}$"
   ]
  },
  {
   "cell_type": "code",
   "execution_count": 11,
   "id": "6dea8de7-ddd6-4930-b351-5b95b59a4c70",
   "metadata": {
    "id": "6dea8de7-ddd6-4930-b351-5b95b59a4c70"
   },
   "outputs": [],
   "source": [
    "# One-Hot encode target column\n",
    "def one_hot(Y):\n",
    "    \"\"\"\n",
    "    Converts target labels into one-hot encoded format.\n",
    "    Args:\n",
    "        Y (ndarray): Array of target labels.\n",
    "    Returns:\n",
    "        ndarray: One-hot encoded representation of Y.\n",
    "    \"\"\"\n",
    "    one_hot_Y = np.zeros((Y.size, Y.max() + 1))  # Initialize a zero matrix of shape (num_samples, num_classes)\n",
    "    one_hot_Y[np.arange(Y.size), Y] = 1  # Set the corresponding class index to 1 for each sample\n",
    "    one_hot_Y = one_hot_Y.T  # Transpose to match expected shape (num_classes, num_samples)\n",
    "    return one_hot_Y\n",
    "\n",
    "# Cross-Entropy loss\n",
    "def compute_loss(AL, Y):\n",
    "    \"\"\"\n",
    "    Computes cross-entropy loss.\n",
    "    Args:\n",
    "        AL (ndarray): Output layer activations (softmax probabilities).\n",
    "        Y (ndarray): True labels.\n",
    "    Returns:\n",
    "        float: Cross-entropy loss.\n",
    "    \"\"\"\n",
    "    m = Y.size  # Number of examples\n",
    "    one_hot_Y = one_hot(Y)  # One-hot encode the true labels\n",
    "    loss = -np.sum(one_hot_Y * np.log(AL + 1e-8)) / m  # Compute cross-entropy loss with numerical stability (epsilon)\n",
    "    return loss  # Return the calculated loss"
   ]
  },
  {
   "cell_type": "code",
   "execution_count": 12,
   "id": "XRQY9gkhLTAj",
   "metadata": {
    "cellView": "form",
    "colab": {
     "base_uri": "https://localhost:8080/",
     "height": 226
    },
    "id": "XRQY9gkhLTAj",
    "jupyter": {
     "source_hidden": true
    },
    "outputId": "c44a6362-0641-4e59-cc3b-b2981b609b8a"
   },
   "outputs": [
    {
     "data": {
      "text/latex": [
       "$\\displaystyle \\Huge{[} \\Large{Y_{one-hot}} \\Huge{]} \\Large{_{_{\\left( 10, \\  33600\\right)}} \\ast \\ log}\\Huge{[} \\Large{A^{[4]}} \\Huge{]} \\Large{_{_{\\left( 10, \\  33600\\right)}}}\\large{ = } \\Huge{[} \\large{y_{ij} \\cdot log(a_{ij})} \\Huge{]} \\Large{_{_{\\left( 10, \\  33600\\right)}}}$"
      ],
      "text/plain": [
       "<IPython.core.display.Math object>"
      ]
     },
     "metadata": {},
     "output_type": "display_data"
    },
    {
     "name": "stdout",
     "output_type": "stream",
     "text": [
      "\n",
      "\n"
     ]
    },
    {
     "data": {
      "text/latex": [
       "$\\displaystyle \\Large{Cost (J) = -\\sum_{j=1}^{33600} \\sum_{i=1}^{10} y_{ij} \\cdot log(a_{ij})}$"
      ],
      "text/plain": [
       "<IPython.core.display.Math object>"
      ]
     },
     "metadata": {},
     "output_type": "display_data"
    },
    {
     "name": "stdout",
     "output_type": "stream",
     "text": [
      "\n"
     ]
    },
    {
     "data": {
      "text/latex": [
       "$\\displaystyle \\large{Cost(J) =2.31043563596092}$"
      ],
      "text/plain": [
       "<IPython.core.display.Math object>"
      ]
     },
     "metadata": {},
     "output_type": "display_data"
    }
   ],
   "source": [
    "# @title $Cost$\n",
    "\n",
    "# Shape of output layer matches the shape of one-hot encoded target labels\n",
    "expr1 = r\"\\Huge{[} \\Large{Y_{one-hot}} \\Huge{]} \\Large{_{_{\" + sp.latex(LNLcaches_check[\"A\" + str(L)].shape) + r\"}} \\ast \\ log}\" + expr_A_next\n",
    "expr1 = expr1 + r\"\\large{ = } \\Huge{[} \\large{y_{ij} \\cdot log(a_{ij})} \\Huge{]} \\Large{_{_{\" + sp.latex(LNLcaches_check[\"A\" + str(L)].shape) + r\"}}}\"\n",
    "display(Math(expr1))  # Display the mathematical representation of the cost function\n",
    "\n",
    "print(\"\\n\")\n",
    "\n",
    "# Summation-based formula for cost computation (cross-entropy loss)\n",
    "expr2 = r\"\\Large{Cost (J) = -\\sum_{j=1}^{\" + sp.latex(int(m*0.8)) + \"} \\sum_{i=1}^{10} y_{ij} \\cdot log(a_{ij})}\"\n",
    "display(Math(expr2))  # Display the cost function formula in LaTeX\n",
    "\n",
    "# Generate one-hot encoded labels\n",
    "one_hot_Y = one_hot(Y_train)\n",
    "\n",
    "# Compute the actual cost value using the network's predictions and true labels\n",
    "cost = compute_loss(LNLcaches_check[\"A\" + str(L)], Y_train)\n",
    "\n",
    "print()\n",
    "# Display the computed cost value\n",
    "display(Math(\"\\large{Cost(J) =\" + sp.latex(cost) +r\"}\"))\n"
   ]
  },
  {
   "cell_type": "markdown",
   "id": "bqstDuRB9HiI",
   "metadata": {
    "id": "bqstDuRB9HiI"
   },
   "source": [
    "# $Gradient \\ \\ Descent$"
   ]
  },
  {
   "cell_type": "markdown",
   "id": "7M4SNdWo0RK5",
   "metadata": {
    "id": "7M4SNdWo0RK5"
   },
   "source": [
    "## $\\color{red}{For \\ \\ Layer \\ \\ L}$"
   ]
  },
  {
   "cell_type": "markdown",
   "id": "57aeb945-7159-4f13-968f-d2c259237346",
   "metadata": {
    "id": "57aeb945-7159-4f13-968f-d2c259237346"
   },
   "source": [
    "### $Derivative \\ of \\ J \\ w.r.t. \\ Z^{[L]}:$\n",
    "\n",
    "$\\large{dZ^{[L]} = \\Large{\\frac{dJ}{dZ^{[L]}} = \\frac{dJ}{dA^{[L]}} \\frac{dA^{[L]}}{dZ^{[L]}}}}$\n",
    "\n",
    "$\\Large{\\therefore \\ \\color{blue}{dZ^{[L]} = \\left[A^{[L]}-Y\\right]}}$"
   ]
  },
  {
   "cell_type": "markdown",
   "id": "1c2547fb-bc7e-44bd-99f7-2552dfc5b505",
   "metadata": {
    "id": "1c2547fb-bc7e-44bd-99f7-2552dfc5b505"
   },
   "source": [
    "$Now \\ \\ as, \\ \\large{[Z^{[L]}]_{10 \\times m} = [W^{[L]}]_{10 \\times n_{_{L-1}}} [A^{[L-1]}]_{n_{_{L-1}} \\times m} + [b^{[L]}]_{10 \\times 1}}$\n",
    "\n",
    "$\\Large{\\Rightarrow \\frac{\\partial Z^{[L]}}{\\partial W^{[L]}} = \\left[A^{[L-1]}\\right]} \\ \\ ; \\ \\ \\ \\ \\Large{\\frac{\\partial Z^{[L]}}{\\partial b^{[L]}} = \\left[1\\right] \\ \\ and \\ \\ \\ \\ \\Large{\\frac{\\partial Z^{[L]}}{\\partial A^{[L-1]}} = \\left[W^{[L]}\\right]}}$"
   ]
  },
  {
   "cell_type": "markdown",
   "id": "c098b24f-436f-46a7-adb3-1da2131aa226",
   "metadata": {
    "id": "c098b24f-436f-46a7-adb3-1da2131aa226"
   },
   "source": [
    "$and, \\ \\Large{\\frac{\\partial J}{\\partial W^{[L]}} = \\frac{dJ}{dZ^{[L]}} \\frac{\\partial Z^{[L]}}{\\partial W^{[L]}}}$\n",
    "\n",
    "$\\large{\\therefore \\color{blue}{\\left[ dW^{[L]} \\right]_{10 \\times n_{_{L-1}}} =\\frac{\\partial J}{\\partial W^{[L]}} = \\frac{1}{m} \\left(\\left[dZ^{[L]}\\right]_{10 \\times m} \\left[A^{{[L-1]}^T}\\right]_{m \\times n_{_{L-1}}} \\right)}}$"
   ]
  },
  {
   "cell_type": "markdown",
   "id": "1fb20746-ee72-4d9a-9c56-ee474e1c574f",
   "metadata": {
    "id": "1fb20746-ee72-4d9a-9c56-ee474e1c574f"
   },
   "source": [
    "$also, \\ \\Large{\\frac{\\partial J}{\\partial b^{[L]}} = \\frac{dJ}{dZ^{[L]}} \\frac{\\partial Z^{[L]}}{\\partial b^{[L]}}}$\n",
    "\n",
    "$\\large{\\therefore \\color{blue}{\\left[ db^{[L]} \\right]_{10 \\times 1} =\\frac{\\partial J}{\\partial b^{[L]}} = \\frac{1}{m} \\left(\\left[dZ^{[L]}\\right]_{10 \\times m} \\left[1^T\\right]_{m \\times 1} \\right)}}$"
   ]
  },
  {
   "cell_type": "markdown",
   "id": "5e0c5erjezor",
   "metadata": {
    "id": "5e0c5erjezor"
   },
   "source": [
    "## $\\color{red}{For \\ \\ Layer \\ \\ l < L}$"
   ]
  },
  {
   "cell_type": "markdown",
   "id": "akaECI2b24TO",
   "metadata": {
    "id": "akaECI2b24TO"
   },
   "source": [
    "$As,$\n",
    "$\\large{Z^{[l]} = W^{[l]}A^{[l-1]} + b^{[l]}}$\n",
    "\n",
    "$\\Large{\\Rightarrow \\frac{\\partial Z^{[l]}}{\\partial W^{[l]}} = \\left[A^{[l-1]}\\right]_{(n_{_{l-1}} \\times m)}} \\ \\ ; \\ \\ \\ \\ \\Large{\\frac{\\partial Z^{[l]}}{\\partial b^{[l]}} = \\left[1\\right]_{(n_{_{l}} \\times 1)} \\ \\ and \\ \\ \\ \\ \\Large{\\frac{\\partial Z^{[l]}}{\\partial A^{[l-1]}} = \\left[W^{[l]}\\right]_{(n_{_{l}} \\times n_{_{l-1}})}}}$\n",
    "\n",
    "$\\therefore \\color{blue}{\\large{dZ^{[l]} = \\Large{\\frac{dJ}{dZ^{[l]}} = \\frac{d J}{d Z^{[l+1]}} \\frac{\\partial Z^{[l+1]}}{\\partial A^{[l]}} \\frac{dA^{[l]}}{dZ^{l}}}} = \\large{dZ^{[l+1]} \\cdot W^{[l+1]}} \\cdot \\Large{\\frac{dA^{[l]}}{dZ^{l}}}}$"
   ]
  },
  {
   "cell_type": "markdown",
   "id": "6QKM9xerez2F",
   "metadata": {
    "id": "6QKM9xerez2F"
   },
   "source": [
    "### $for \\ \\ ReLu \\ \\ Activation \\ \\ function$\n",
    "\n",
    "$\\color{}{\\large{A^{[l]} = ReLu \\left(Z^{[l]} \\right)} = max\\left(0,z\\right)}$\n",
    "\n",
    "\n",
    "$\\Rightarrow \\Large{\\frac{dA^{[l]}}{dZ^{[l]}}}=\\large{\\left\\{ \\begin{array}{cl}\n",
    "1 & : \\ z > 0 \\\\\n",
    "0 & : \\ z \\leq 0\n",
    "\\end{array} \\right.}$\n",
    "\n",
    "$\\therefore \\color{blue}{\\large{dZ^{[l]} = \\Large{\\frac{dJ}{dZ^{[l]}} =\\large{\\left\\{ \\begin{array}{cl}\n",
    "\\large{dZ^{[l+1]} \\cdot W^{[l+1]}} & : \\ z > 0 \\\\\n",
    "0 & : \\ z \\leq 0\n",
    "\\end{array} \\right.} }}}$"
   ]
  },
  {
   "cell_type": "markdown",
   "id": "qHsK6rcy24TP",
   "metadata": {
    "id": "qHsK6rcy24TP"
   },
   "source": [
    "$and, \\Large{\\frac{\\partial J}{\\partial W^{[l]}} = \\frac{d J}{dZ^{[l]}} \\frac{\\partial Z^{[l]}}{\\partial W^{[l]}}}$\n",
    "\n",
    "$\\large{\\therefore \\color{blue}{\\left[ dW^{[l]} \\right]_{(1 \\times 4)} =\\frac{\\partial J}{\\partial W^{[l]}} = \\frac{1}{m} \\left(\\left[dZ^{[l]}\\right]_{(1 \\times m)} \\left[A^{{[l-1]}^T}\\right]_{(m \\times 4)} \\right)}}$"
   ]
  },
  {
   "cell_type": "markdown",
   "id": "yob1Bdt_0M1O",
   "metadata": {
    "id": "yob1Bdt_0M1O"
   },
   "source": [
    "$also, \\ \\Large{\\frac{\\partial J}{\\partial b^{[l]}} = \\frac{dJ}{dZ^{[l]}} \\frac{\\partial Z^{[l]}}{\\partial b^{[l]}}}$\n",
    "\n",
    "$\\large{\\therefore \\color{blue}{\\left[ db^{[l]} \\right]_{(1 \\times 1)} =\\frac{\\partial J}{\\partial b^{[l]}} = \\frac{1}{m} \\left(\\left[dZ^{[l]}\\right]_{(1 \\times m)} \\left[1^T\\right]_{(m \\times 1)} \\right)}}$"
   ]
  },
  {
   "cell_type": "markdown",
   "id": "4sppdYJEd0ZY",
   "metadata": {
    "id": "4sppdYJEd0ZY"
   },
   "source": [
    "# $Backward \\ \\ Propogation$"
   ]
  },
  {
   "cell_type": "code",
   "execution_count": 13,
   "id": "b1ed85c8-5deb-4609-b6c0-4a9e26d7a8c9",
   "metadata": {
    "id": "b1ed85c8-5deb-4609-b6c0-4a9e26d7a8c9"
   },
   "outputs": [],
   "source": [
    "def deriv_ReLU(Z):\n",
    "    # Derivative of ReLU: 1 for positive values, 0 for negative values\n",
    "    return Z > 0\n",
    "\n",
    "def back_prop(LNLcaches, weights_biases, X, Y):\n",
    "    \"\"\"\n",
    "    Performs backpropagation to compute gradients of weights and biases.\n",
    "    Args:\n",
    "        LNLcaches (dict): Cache from forward propagation containing activations and pre-activations.\n",
    "        weights_biases (dict): Current weights and biases.\n",
    "        X (ndarray): Input data.\n",
    "        Y (ndarray): True labels.\n",
    "    Returns:\n",
    "        dict: Gradients for weights and biases.\n",
    "    \"\"\"\n",
    "    L = len(weights_biases) // 2  # Number of layers\n",
    "    m = Y.size  # Number of examples\n",
    "    one_hot_Y = one_hot(Y)  # Convert true labels to one-hot encoding\n",
    "    grads = {}  # Dictionary to store gradients\n",
    "\n",
    "    # Output layer gradients\n",
    "    dZL = LNLcaches[\"A\" + str(L)] - one_hot_Y  # Derivative of loss w.r.t. ZL\n",
    "    grads[\"dZ\" + str(L)] = dZL\n",
    "    dWL = 1 / m * dZL.dot(LNLcaches[\"A\" + str(L-1)].T)  # Gradient of weights for output layer\n",
    "    grads[\"dW\" + str(L)] = dWL\n",
    "    dbL = 1 / m * np.sum(dZL, axis=1).reshape(-1, 1)  # Gradient of biases for output layer\n",
    "    grads[\"db\" + str(L)] = dbL\n",
    "\n",
    "    # Gradients for hidden layers\n",
    "    for l in reversed(range(1, L)):\n",
    "        dZl = weights_biases[\"W\" + str(l + 1)].T.dot(grads[\"dZ\" + str(l + 1)]) * deriv_ReLU(LNLcaches[\"Z\" + str(l)])\n",
    "        grads[\"dZ\" + str(l)] = dZl\n",
    "        dWl = 1 / m * dZl.dot(LNLcaches[\"A\" + str(l-1)].T)  # Gradient of weights for layer l\n",
    "        grads[\"dW\" + str(l)] = dWl\n",
    "        dbl = 1 / m * np.sum(dZl, axis=1).reshape(-1, 1)  # Gradient of biases for layer l\n",
    "        grads[\"db\" + str(l)] = dbl\n",
    "\n",
    "    return grads  # Return computed gradients\n",
    "\n",
    "def update_params(weights_biases, grads, alpha):\n",
    "    \"\"\"\n",
    "    Updates weights and biases using gradient descent.\n",
    "    Args:\n",
    "        weights_biases (dict): Current weights and biases.\n",
    "        grads (dict): Gradients for weights and biases.\n",
    "        alpha (float): Learning rate.\n",
    "    Returns:\n",
    "        dict: Updated weights and biases.\n",
    "    \"\"\"\n",
    "    L = len(weights_biases) // 2  # Number of layers\n",
    "    for l in range(1, L + 1):\n",
    "        # Update weights and biases using gradients\n",
    "        weights_biases[\"W\" + str(l)] -= alpha * grads[\"dW\" + str(l)]\n",
    "        weights_biases[\"b\" + str(l)] -= alpha * grads[\"db\" + str(l)]\n",
    "\n",
    "    return weights_biases  # Return updated parameters\n",
    "\n",
    "def get_predictions(AL):\n",
    "    \"\"\"\n",
    "    Converts output probabilities into predicted labels.\n",
    "    Args:\n",
    "        AL (ndarray): Output probabilities from the softmax layer.\n",
    "    Returns:\n",
    "        ndarray: Predicted labels (class indices with highest probability).\n",
    "    \"\"\"\n",
    "    return np.argmax(AL, 0)  # Returns index of maximum probability for each example.\n",
    "\n",
    "def get_accuracy(predictions, Y):\n",
    "    \"\"\"\n",
    "    Computes accuracy by comparing predictions to true labels.\n",
    "    Args:\n",
    "        predictions (ndarray): Predicted labels.\n",
    "        Y (ndarray): True labels.\n",
    "    Returns:\n",
    "        float: Accuracy as the proportion of correct predictions.\n",
    "    \"\"\"\n",
    "    return np.sum(predictions == Y) / Y.size  # Proportion of correct predictions.\n",
    "\n",
    "def gradient_descent(X, Y, iterations, alpha, layers_dims):\n",
    "    \"\"\"\n",
    "    Trains the neural network using gradient descent.\n",
    "    Args:\n",
    "        X (ndarray): Input data.\n",
    "        Y (ndarray): True labels.\n",
    "        iterations (int): Number of training iterations.\n",
    "        alpha (float): Learning rate.\n",
    "        layers_dims (list): List specifying the number of neurons in each layer.\n",
    "    Returns:\n",
    "        dict: Trained weights and biases.\n",
    "    \"\"\"\n",
    "    weights_biases = initialize_weights_biases(layers_dims)  # Initialize weights and biases\n",
    "    L = len(weights_biases) // 2  # Number of layers\n",
    "\n",
    "    for i in range(iterations):\n",
    "        LNLcaches = forward_prop(weights_biases, X)  # Perform forward propagation\n",
    "        grads = back_prop(LNLcaches, weights_biases, X, Y)  # Compute gradients using backpropagation\n",
    "        weights_biases = update_params(weights_biases, grads, alpha)  # Update parameters\n",
    "\n",
    "        if (i + 1) % 10 == 0:  # Display accuracy every 10 iterations\n",
    "            print(\"Iteration :\", i + 1)\n",
    "            predictions = get_predictions(LNLcaches[\"A\" + str(L)])\n",
    "            print(\"Loss :\",compute_loss(LNLcaches[\"A\" + str(L)], Y))\n",
    "            print(\"Accuracy :\", get_accuracy(predictions, Y))\n",
    "            print()\n",
    "\n",
    "\n",
    "    return weights_biases, LNLcaches,grads  # Return final trained parameters"
   ]
  },
  {
   "cell_type": "code",
   "execution_count": 14,
   "id": "ZY_M9M0EehsT",
   "metadata": {
    "cellView": "form",
    "colab": {
     "base_uri": "https://localhost:8080/",
     "height": 1000
    },
    "id": "ZY_M9M0EehsT",
    "jupyter": {
     "source_hidden": true
    },
    "outputId": "d07f3f5a-9210-48a6-ae50-042407bc6ba7"
   },
   "outputs": [
    {
     "data": {
      "text/latex": [
       "$\\displaystyle \\color{red}{\\Large{Gradients \\ \\ at \\ \\ Output \\ \\ Layer}}$"
      ],
      "text/plain": [
       "<IPython.core.display.Math object>"
      ]
     },
     "metadata": {},
     "output_type": "display_data"
    },
    {
     "data": {
      "text/latex": [
       "$\\displaystyle \\Huge{[} \\Large{dZ^{[4]}} \\Huge{]} \\Large{_{_{\\left( 10, \\  33600\\right)}}} \\Large{ = }\\Huge{[} \\Large{A^{[4]}} \\Huge{]} \\Large{_{_{\\left( 10, \\  33600\\right)}}} - \\Huge{[} \\Large{Y_{one-hot}} \\Huge{]} \\Large{_{_{\\left( 10, \\  33600\\right)}}}$"
      ],
      "text/plain": [
       "<IPython.core.display.Math object>"
      ]
     },
     "metadata": {},
     "output_type": "display_data"
    },
    {
     "name": "stdout",
     "output_type": "stream",
     "text": [
      "\n"
     ]
    },
    {
     "data": {
      "text/latex": [
       "$\\displaystyle \\Huge{[} \\Large{dW^{[4]}} \\Huge{]} \\Large{_{_{\\left( 10, \\  20\\right)}}} \\large{= \\frac{1}{33600}}\\Huge{(} \\Huge{[} \\Large{dZ^{[4]}} \\Huge{]} \\Large{_{_{\\left( 10, \\  33600\\right)}}}\\Huge{[} \\Large{A^{[3]}} \\Huge{]^{^{\\large{T}}}} \\Large{_{_{\\left( 33600, \\  20\\right)}}}\\Huge{)}$"
      ],
      "text/plain": [
       "<IPython.core.display.Math object>"
      ]
     },
     "metadata": {},
     "output_type": "display_data"
    },
    {
     "name": "stdout",
     "output_type": "stream",
     "text": [
      "\n"
     ]
    },
    {
     "data": {
      "text/latex": [
       "$\\displaystyle \\Huge{[} \\Large{db^{[4]}} \\Huge{]} \\Large{_{_{\\left( 10, \\  1\\right)}}} \\large{= \\frac{1}{33600}}\\Huge{(} \\Huge{[} \\Large{dZ^{[4]}} \\Huge{]} \\Large{_{_{\\left( 10, \\  33600\\right)}}}\\Huge{[} \\Large{1} \\Huge{]} \\Large{_{_{ (33600,1) }}}\\Huge{)}$"
      ],
      "text/plain": [
       "<IPython.core.display.Math object>"
      ]
     },
     "metadata": {},
     "output_type": "display_data"
    },
    {
     "name": "stdout",
     "output_type": "stream",
     "text": [
      "\n",
      "\n"
     ]
    },
    {
     "data": {
      "text/latex": [
       "$\\displaystyle \\color{blue}{\\large{Update \\ \\ Weights (W^{[4]}) \\ and \\ Biases (b^{[4]})}}$"
      ],
      "text/plain": [
       "<IPython.core.display.Math object>"
      ]
     },
     "metadata": {},
     "output_type": "display_data"
    },
    {
     "data": {
      "text/latex": [
       "$\\displaystyle \\Huge{[} \\Large{W^{[4]}} \\Huge{]} \\Large{_{_{\\left( 10, \\  20\\right)}}} \\Large{=}\\Huge{[} \\Large{W^{[4]}} \\Huge{]} \\Large{_{_{\\left( 10, \\  20\\right)}}} \\Large{- \\alpha \\ \\cdot}\\Huge{[} \\Large{dW^{[4]}} \\Huge{]} \\Large{_{_{\\left( 10, \\  20\\right)}}}$"
      ],
      "text/plain": [
       "<IPython.core.display.Math object>"
      ]
     },
     "metadata": {},
     "output_type": "display_data"
    },
    {
     "name": "stdout",
     "output_type": "stream",
     "text": [
      "\n"
     ]
    },
    {
     "data": {
      "text/latex": [
       "$\\displaystyle \\Huge{[} \\Large{b^{[4]}} \\Huge{]} \\Large{_{_{\\left( 10, \\  1\\right)}}} \\Large{=}\\Huge{[} \\Large{b^{[4]}} \\Huge{]} \\Large{_{_{\\left( 10, \\  1\\right)}}} \\Large{- \\alpha \\ \\cdot}\\Huge{[} \\Large{db^{[4]}} \\Huge{]} \\Large{_{_{\\left( 10, \\  1\\right)}}}$"
      ],
      "text/plain": [
       "<IPython.core.display.Math object>"
      ]
     },
     "metadata": {},
     "output_type": "display_data"
    },
    {
     "name": "stdout",
     "output_type": "stream",
     "text": [
      "\n",
      "\n"
     ]
    },
    {
     "data": {
      "text/latex": [
       "$\\displaystyle \\color{red}{\\Large{Gradients \\ \\ at \\ \\ Hidden \\ \\ Layer \\ 3}}$"
      ],
      "text/plain": [
       "<IPython.core.display.Math object>"
      ]
     },
     "metadata": {},
     "output_type": "display_data"
    },
    {
     "data": {
      "text/latex": [
       "$\\displaystyle \\Huge{[} \\Large{dZ^{[3]}} \\Huge{]} \\Large{_{_{\\left( 20, \\  33600\\right)}}=}\\Huge{([} \\Large{W^{[4]}} \\Huge{]^{^{\\large{T}}}} \\Large{_{_{\\left( 20, \\  10\\right)}}}\\Huge{[} \\Large{dZ^{[4]}} \\Huge{]} \\Large{_{_{\\left( 10, \\  33600\\right)}}} \\Huge{)}\\Large{\\ast} \\ DerivativeReLU \\Huge{([} \\Large{Z^{[3]}} \\Huge{]} \\Large{_{_{\\left( 20, \\  33600\\right)}}} \\Huge{)}$"
      ],
      "text/plain": [
       "<IPython.core.display.Math object>"
      ]
     },
     "metadata": {},
     "output_type": "display_data"
    },
    {
     "name": "stdout",
     "output_type": "stream",
     "text": [
      "\n"
     ]
    },
    {
     "data": {
      "text/latex": [
       "$\\displaystyle \\Huge{[} \\Large{dW^{[3]}} \\Huge{]} \\Large{_{_{\\left( 20, \\  30\\right)}}} \\large{= \\frac{1}{33600}}\\Huge{(} \\Huge{[} \\Large{dZ^{[3]}} \\Huge{]} \\Large{_{_{\\left( 20, \\  33600\\right)}}}\\Huge{[} \\Large{A^{[2]}} \\Huge{]^{^{\\large{T}}}} \\Large{_{_{\\left( 33600, \\  30\\right)}}}\\Huge{)}$"
      ],
      "text/plain": [
       "<IPython.core.display.Math object>"
      ]
     },
     "metadata": {},
     "output_type": "display_data"
    },
    {
     "name": "stdout",
     "output_type": "stream",
     "text": [
      "\n"
     ]
    },
    {
     "data": {
      "text/latex": [
       "$\\displaystyle \\Huge{[} \\Large{db^{[3]}} \\Huge{]} \\Large{_{_{\\left( 20, \\  1\\right)}}} \\large{= \\frac{1}{33600}}\\Huge{(} \\Huge{[} \\Large{dZ^{[3]}} \\Huge{]} \\Large{_{_{\\left( 20, \\  33600\\right)}}}\\Huge{[} \\Large{1} \\Huge{]} \\Large{_{_{ (33600,1) }}}\\Huge{)}$"
      ],
      "text/plain": [
       "<IPython.core.display.Math object>"
      ]
     },
     "metadata": {},
     "output_type": "display_data"
    },
    {
     "name": "stdout",
     "output_type": "stream",
     "text": [
      "\n",
      "\n"
     ]
    },
    {
     "data": {
      "text/latex": [
       "$\\displaystyle \\color{blue}{\\large{Update \\ \\ Weights (W^{[3]}) \\ and \\ Biases (b^{[3]})}}$"
      ],
      "text/plain": [
       "<IPython.core.display.Math object>"
      ]
     },
     "metadata": {},
     "output_type": "display_data"
    },
    {
     "data": {
      "text/latex": [
       "$\\displaystyle \\Huge{[} \\Large{W^{[3]}} \\Huge{]} \\Large{_{_{\\left( 20, \\  30\\right)}}} \\Large{=}\\Huge{[} \\Large{W^{[3]}} \\Huge{]} \\Large{_{_{\\left( 20, \\  30\\right)}}} \\Large{- \\alpha \\ \\cdot}\\Huge{[} \\Large{dW^{[3]}} \\Huge{]} \\Large{_{_{\\left( 20, \\  30\\right)}}}$"
      ],
      "text/plain": [
       "<IPython.core.display.Math object>"
      ]
     },
     "metadata": {},
     "output_type": "display_data"
    },
    {
     "name": "stdout",
     "output_type": "stream",
     "text": [
      "\n"
     ]
    },
    {
     "data": {
      "text/latex": [
       "$\\displaystyle \\Huge{[} \\Large{b^{[3]}} \\Huge{]} \\Large{_{_{\\left( 20, \\  1\\right)}}} \\Large{=}\\Huge{[} \\Large{b^{[3]}} \\Huge{]} \\Large{_{_{\\left( 20, \\  1\\right)}}} \\Large{- \\alpha \\ \\cdot}\\Huge{[} \\Large{db^{[3]}} \\Huge{]} \\Large{_{_{\\left( 20, \\  1\\right)}}}$"
      ],
      "text/plain": [
       "<IPython.core.display.Math object>"
      ]
     },
     "metadata": {},
     "output_type": "display_data"
    },
    {
     "name": "stdout",
     "output_type": "stream",
     "text": [
      "\n",
      "\n"
     ]
    },
    {
     "data": {
      "text/latex": [
       "$\\displaystyle \\color{red}{\\Large{Gradients \\ \\ at \\ \\ Hidden \\ \\ Layer \\ 2}}$"
      ],
      "text/plain": [
       "<IPython.core.display.Math object>"
      ]
     },
     "metadata": {},
     "output_type": "display_data"
    },
    {
     "data": {
      "text/latex": [
       "$\\displaystyle \\Huge{[} \\Large{dZ^{[2]}} \\Huge{]} \\Large{_{_{\\left( 30, \\  33600\\right)}}=}\\Huge{([} \\Large{W^{[3]}} \\Huge{]^{^{\\large{T}}}} \\Large{_{_{\\left( 30, \\  20\\right)}}}\\Huge{[} \\Large{dZ^{[3]}} \\Huge{]} \\Large{_{_{\\left( 20, \\  33600\\right)}}} \\Huge{)}\\Large{\\ast} \\ DerivativeReLU \\Huge{([} \\Large{Z^{[2]}} \\Huge{]} \\Large{_{_{\\left( 30, \\  33600\\right)}}} \\Huge{)}$"
      ],
      "text/plain": [
       "<IPython.core.display.Math object>"
      ]
     },
     "metadata": {},
     "output_type": "display_data"
    },
    {
     "name": "stdout",
     "output_type": "stream",
     "text": [
      "\n"
     ]
    },
    {
     "data": {
      "text/latex": [
       "$\\displaystyle \\Huge{[} \\Large{dW^{[2]}} \\Huge{]} \\Large{_{_{\\left( 30, \\  100\\right)}}} \\large{= \\frac{1}{33600}}\\Huge{(} \\Huge{[} \\Large{dZ^{[2]}} \\Huge{]} \\Large{_{_{\\left( 30, \\  33600\\right)}}}\\Huge{[} \\Large{A^{[1]}} \\Huge{]^{^{\\large{T}}}} \\Large{_{_{\\left( 33600, \\  100\\right)}}}\\Huge{)}$"
      ],
      "text/plain": [
       "<IPython.core.display.Math object>"
      ]
     },
     "metadata": {},
     "output_type": "display_data"
    },
    {
     "name": "stdout",
     "output_type": "stream",
     "text": [
      "\n"
     ]
    },
    {
     "data": {
      "text/latex": [
       "$\\displaystyle \\Huge{[} \\Large{db^{[2]}} \\Huge{]} \\Large{_{_{\\left( 30, \\  1\\right)}}} \\large{= \\frac{1}{33600}}\\Huge{(} \\Huge{[} \\Large{dZ^{[2]}} \\Huge{]} \\Large{_{_{\\left( 30, \\  33600\\right)}}}\\Huge{[} \\Large{1} \\Huge{]} \\Large{_{_{ (33600,1) }}}\\Huge{)}$"
      ],
      "text/plain": [
       "<IPython.core.display.Math object>"
      ]
     },
     "metadata": {},
     "output_type": "display_data"
    },
    {
     "name": "stdout",
     "output_type": "stream",
     "text": [
      "\n",
      "\n"
     ]
    },
    {
     "data": {
      "text/latex": [
       "$\\displaystyle \\color{blue}{\\large{Update \\ \\ Weights (W^{[2]}) \\ and \\ Biases (b^{[2]})}}$"
      ],
      "text/plain": [
       "<IPython.core.display.Math object>"
      ]
     },
     "metadata": {},
     "output_type": "display_data"
    },
    {
     "data": {
      "text/latex": [
       "$\\displaystyle \\Huge{[} \\Large{W^{[2]}} \\Huge{]} \\Large{_{_{\\left( 30, \\  100\\right)}}} \\Large{=}\\Huge{[} \\Large{W^{[2]}} \\Huge{]} \\Large{_{_{\\left( 30, \\  100\\right)}}} \\Large{- \\alpha \\ \\cdot}\\Huge{[} \\Large{dW^{[2]}} \\Huge{]} \\Large{_{_{\\left( 30, \\  100\\right)}}}$"
      ],
      "text/plain": [
       "<IPython.core.display.Math object>"
      ]
     },
     "metadata": {},
     "output_type": "display_data"
    },
    {
     "name": "stdout",
     "output_type": "stream",
     "text": [
      "\n"
     ]
    },
    {
     "data": {
      "text/latex": [
       "$\\displaystyle \\Huge{[} \\Large{b^{[2]}} \\Huge{]} \\Large{_{_{\\left( 30, \\  1\\right)}}} \\Large{=}\\Huge{[} \\Large{b^{[2]}} \\Huge{]} \\Large{_{_{\\left( 30, \\  1\\right)}}} \\Large{- \\alpha \\ \\cdot}\\Huge{[} \\Large{db^{[2]}} \\Huge{]} \\Large{_{_{\\left( 30, \\  1\\right)}}}$"
      ],
      "text/plain": [
       "<IPython.core.display.Math object>"
      ]
     },
     "metadata": {},
     "output_type": "display_data"
    },
    {
     "name": "stdout",
     "output_type": "stream",
     "text": [
      "\n",
      "\n"
     ]
    },
    {
     "data": {
      "text/latex": [
       "$\\displaystyle \\color{red}{\\Large{Gradients \\ \\ at \\ \\ Hidden \\ \\ Layer \\ 1}}$"
      ],
      "text/plain": [
       "<IPython.core.display.Math object>"
      ]
     },
     "metadata": {},
     "output_type": "display_data"
    },
    {
     "data": {
      "text/latex": [
       "$\\displaystyle \\Huge{[} \\Large{dZ^{[1]}} \\Huge{]} \\Large{_{_{\\left( 100, \\  33600\\right)}}=}\\Huge{([} \\Large{W^{[2]}} \\Huge{]^{^{\\large{T}}}} \\Large{_{_{\\left( 100, \\  30\\right)}}}\\Huge{[} \\Large{dZ^{[2]}} \\Huge{]} \\Large{_{_{\\left( 30, \\  33600\\right)}}} \\Huge{)}\\Large{\\ast} \\ DerivativeReLU \\Huge{([} \\Large{Z^{[1]}} \\Huge{]} \\Large{_{_{\\left( 100, \\  33600\\right)}}} \\Huge{)}$"
      ],
      "text/plain": [
       "<IPython.core.display.Math object>"
      ]
     },
     "metadata": {},
     "output_type": "display_data"
    },
    {
     "name": "stdout",
     "output_type": "stream",
     "text": [
      "\n"
     ]
    },
    {
     "data": {
      "text/latex": [
       "$\\displaystyle \\Huge{[} \\Large{dW^{[1]}} \\Huge{]} \\Large{_{_{\\left( 100, \\  784\\right)}}} \\large{= \\frac{1}{33600}}\\Huge{(} \\Huge{[} \\Large{dZ^{[1]}} \\Huge{]} \\Large{_{_{\\left( 100, \\  33600\\right)}}}\\Huge{[} \\Large{A^{[0]}} \\Huge{]^{^{\\large{T}}}} \\Large{_{_{\\left( 33600, \\  784\\right)}}}\\Huge{)}$"
      ],
      "text/plain": [
       "<IPython.core.display.Math object>"
      ]
     },
     "metadata": {},
     "output_type": "display_data"
    },
    {
     "name": "stdout",
     "output_type": "stream",
     "text": [
      "\n"
     ]
    },
    {
     "data": {
      "text/latex": [
       "$\\displaystyle \\Huge{[} \\Large{db^{[1]}} \\Huge{]} \\Large{_{_{\\left( 100, \\  1\\right)}}} \\large{= \\frac{1}{33600}}\\Huge{(} \\Huge{[} \\Large{dZ^{[1]}} \\Huge{]} \\Large{_{_{\\left( 100, \\  33600\\right)}}}\\Huge{[} \\Large{1} \\Huge{]} \\Large{_{_{ (33600,1) }}}\\Huge{)}$"
      ],
      "text/plain": [
       "<IPython.core.display.Math object>"
      ]
     },
     "metadata": {},
     "output_type": "display_data"
    },
    {
     "name": "stdout",
     "output_type": "stream",
     "text": [
      "\n",
      "\n"
     ]
    },
    {
     "data": {
      "text/latex": [
       "$\\displaystyle \\color{blue}{\\large{Update \\ \\ Weights (W^{[1]}) \\ and \\ Biases (b^{[1]})}}$"
      ],
      "text/plain": [
       "<IPython.core.display.Math object>"
      ]
     },
     "metadata": {},
     "output_type": "display_data"
    },
    {
     "data": {
      "text/latex": [
       "$\\displaystyle \\Huge{[} \\Large{W^{[1]}} \\Huge{]} \\Large{_{_{\\left( 100, \\  784\\right)}}} \\Large{=}\\Huge{[} \\Large{W^{[1]}} \\Huge{]} \\Large{_{_{\\left( 100, \\  784\\right)}}} \\Large{- \\alpha \\ \\cdot}\\Huge{[} \\Large{dW^{[1]}} \\Huge{]} \\Large{_{_{\\left( 100, \\  784\\right)}}}$"
      ],
      "text/plain": [
       "<IPython.core.display.Math object>"
      ]
     },
     "metadata": {},
     "output_type": "display_data"
    },
    {
     "name": "stdout",
     "output_type": "stream",
     "text": [
      "\n"
     ]
    },
    {
     "data": {
      "text/latex": [
       "$\\displaystyle \\Huge{[} \\Large{b^{[1]}} \\Huge{]} \\Large{_{_{\\left( 100, \\  1\\right)}}} \\Large{=}\\Huge{[} \\Large{b^{[1]}} \\Huge{]} \\Large{_{_{\\left( 100, \\  1\\right)}}} \\Large{- \\alpha \\ \\cdot}\\Huge{[} \\Large{db^{[1]}} \\Huge{]} \\Large{_{_{\\left( 100, \\  1\\right)}}}$"
      ],
      "text/plain": [
       "<IPython.core.display.Math object>"
      ]
     },
     "metadata": {},
     "output_type": "display_data"
    },
    {
     "name": "stdout",
     "output_type": "stream",
     "text": [
      "\n",
      "\n"
     ]
    }
   ],
   "source": [
    "# @title $Backward \\ \\ Propogation$\n",
    "weights_biases, LNLcaches, grads = gradient_descent(X_train, Y_train, 1, 0.1, Layers_dims)\n",
    "# Compute and display gradients for the output layer\n",
    "display(Math(r\"\\color{red}{\\Large{Gradients \\ \\ at \\ \\ Output \\ \\ Layer}}\"))\n",
    "# Gradient of the loss with respect to Z (output layer pre-activation)\n",
    "dZL_expr = r\"\\Huge{[} \\Large{dZ^{[\" + sp.latex(L) + r\"]}} \\Huge{]} \\Large{_{_{\" + sp.latex(grads[\"dZ\"+str(L)].shape) + r\"}}} \\Large{ = }\"\n",
    "dZL_expr = dZL_expr + r\"\\Huge{[} \\Large{A^{[\" + sp.latex(L) + r\"]}} \\Huge{]} \\Large{_{_{\" + sp.latex(LNLcaches[\"A\" + str(L)].shape) + r\"}}} - \\Huge{[} \\Large{Y_{one-hot}} \\Huge{]} \\Large{_{_{\" + sp.latex(LNLcaches[\"A\" + str(L)].shape) + r\"}}}\"\n",
    "display(Math(dZL_expr))\n",
    "\n",
    "print()\n",
    "\n",
    "# Gradient of weights at the output layer\n",
    "dWL_expr = r\"\\Huge{[} \\Large{dW^{[\" + sp.latex(L) + r\"]}} \\Huge{]} \\Large{_{_{\" + sp.latex(grads[\"dW\"+str(L)].shape) + r\"}}} \\large{= \\frac{1}{\" +sp.latex(int(m*0.8))+ r\"}}\"\n",
    "dWL_expr = dWL_expr + r\"\\Huge{(} \\Huge{[} \\Large{dZ^{[\" + sp.latex(L) + r\"]}} \\Huge{]} \\Large{_{_{\" + sp.latex(grads[\"dZ\"+str(L)].shape) + r\"}}}\"\n",
    "dWL_expr = dWL_expr + r\"\\Huge{[} \\Large{A^{[\" + sp.latex(L-1) + r\"]}} \\Huge{]^{^{\\large{T}}}} \\Large{_{_{\" + sp.latex(LNLcaches[\"A\" + str(L-1)].shape[::-1]) + r\"}}}\" + r\"\\Huge{)}\"\n",
    "display(Math(dWL_expr))\n",
    "\n",
    "print()\n",
    "\n",
    "# Gradient of biases at the output layer\n",
    "dbL_expr = r\"\\Huge{[} \\Large{db^{[\" + sp.latex(L) + r\"]}} \\Huge{]} \\Large{_{_{\" + sp.latex(grads[\"db\"+str(L)].shape) + r\"}}} \\large{= \\frac{1}{\" +sp.latex(int(m*0.8))+ r\"}}\"\n",
    "dbL_expr = dbL_expr + r\"\\Huge{(} \\Huge{[} \\Large{dZ^{[\" + sp.latex(L) + r\"]}} \\Huge{]} \\Large{_{_{\" + sp.latex(grads[\"dZ\"+str(L)].shape) + r\"}}}\"\n",
    "dbL_expr = dbL_expr + r\"\\Huge{[} \\Large{1} \\Huge{]} \\Large{_{_{ (\" + sp.latex(int(m*0.8)) + r\",1) }}}\" + r\"\\Huge{)}\"\n",
    "display(Math(dbL_expr))\n",
    "\n",
    "print(\"\\n\")\n",
    "\n",
    "# Update weights and biases at the output layer\n",
    "display(Math(\"\\color{blue}{\\large{Update \\ \\ Weights (W^{[\"+ sp.latex(L) +r\"]}) \\ and \\ Biases (b^{[\"+ sp.latex(L) +r\"]})}}\"))\n",
    "\n",
    "# Weight update formula\n",
    "W_expr = r\"\\Huge{[} \\Large{W^{[\" + sp.latex(L) + r\"]}} \\Huge{]} \\Large{_{_{\" + sp.latex(weights_biases[\"W\" + str(L)].shape) + r\"}}} \\Large{=}\"\n",
    "W_expr = W_expr + r\"\\Huge{[} \\Large{W^{[\" + sp.latex(L) + r\"]}} \\Huge{]} \\Large{_{_{\" + sp.latex(weights_biases[\"W\" + str(L)].shape) + r\"}}} \\Large{- \\alpha \\ \\cdot}\"\n",
    "W_expr = W_expr + r\"\\Huge{[} \\Large{dW^{[\" + sp.latex(L) + r\"]}} \\Huge{]} \\Large{_{_{\" + sp.latex(grads[\"dW\"+str(L)].shape) + r\"}}}\"\n",
    "display(Math(W_expr))\n",
    "\n",
    "print()\n",
    "\n",
    "# Bias update formula\n",
    "b_expr = r\"\\Huge{[} \\Large{b^{[\" + sp.latex(L) + r\"]}} \\Huge{]} \\Large{_{_{\" + sp.latex(weights_biases[\"b\" + str(L)].shape) + r\"}}} \\Large{=}\"\n",
    "b_expr = b_expr + r\"\\Huge{[} \\Large{b^{[\" + sp.latex(L) + r\"]}} \\Huge{]} \\Large{_{_{\" + sp.latex(weights_biases[\"b\" + str(L)].shape) + r\"}}} \\Large{- \\alpha \\ \\cdot}\"\n",
    "b_expr = b_expr + r\"\\Huge{[} \\Large{db^{[\" + sp.latex(L) + r\"]}} \\Huge{]} \\Large{_{_{\" + sp.latex(grads[\"db\"+str(L)].shape) + r\"}}}\"\n",
    "display(Math(b_expr))\n",
    "\n",
    "print(\"\\n\")\n",
    "\n",
    "# Loop for hidden layers (backward propagation through the network)\n",
    "for i in reversed(range(1, L)):\n",
    "    display(Math(r\"\\color{red}{\\Large{Gradients \\ \\ at \\ \\ Hidden \\ \\ Layer \\ \" + sp.latex(i) +r\"}}\"))\n",
    "\n",
    "    # Gradients for hidden layer pre-activation\n",
    "    dZ_expr = r\"\\Huge{[} \\Large{dZ^{[\" + sp.latex(i) + r\"]}} \\Huge{]} \\Large{_{_{\" + sp.latex(grads[\"dZ\"+str(i)].shape) + r\"}}=}\"\n",
    "    dZ_expr = dZ_expr + r\"\\Huge{([} \\Large{W^{[\" + sp.latex(i+1) + r\"]}} \\Huge{]^{^{\\large{T}}}} \\Large{_{_{\" + sp.latex(weights_biases[\"W\" + str(i+1)].shape[::-1]) + r\"}}}\"\n",
    "    dZ_expr = dZ_expr + r\"\\Huge{[} \\Large{dZ^{[\" + sp.latex(i+1) + r\"]}} \\Huge{]} \\Large{_{_{\" + sp.latex(grads[\"dZ\"+str(i+1)].shape) + r\"}}} \\Huge{)}\"\n",
    "    dZ_expr = dZ_expr + r\"\\Large{\\ast} \\ DerivativeReLU \\Huge{([} \\Large{Z^{[\" + sp.latex(i) + r\"]}} \\Huge{]} \\Large{_{_{\" + sp.latex(LNLcaches[\"Z\" + str(i)].shape) + r\"}}} \\Huge{)}\"\n",
    "    display(Math(dZ_expr))\n",
    "\n",
    "    print()\n",
    "\n",
    "    # Gradient of weights at hidden layers\n",
    "    dW_expr = r\"\\Huge{[} \\Large{dW^{[\" + sp.latex(i) + r\"]}} \\Huge{]} \\Large{_{_{\" + sp.latex(grads[\"dW\"+str(i)].shape) + r\"}}} \\large{= \\frac{1}{\" +sp.latex(int(m*0.8))+ r\"}}\"\n",
    "    dW_expr = dW_expr + r\"\\Huge{(} \\Huge{[} \\Large{dZ^{[\" + sp.latex(i) + r\"]}} \\Huge{]} \\Large{_{_{\" + sp.latex(grads[\"dZ\"+str(i)].shape) + r\"}}}\"\n",
    "    dW_expr = dW_expr + r\"\\Huge{[} \\Large{A^{[\" + sp.latex(i-1) + r\"]}} \\Huge{]^{^{\\large{T}}}} \\Large{_{_{\" + sp.latex(LNLcaches[\"A\" + str(i-1)].shape[::-1]) + r\"}}}\" + r\"\\Huge{)}\"\n",
    "    display(Math(dW_expr))\n",
    "\n",
    "    print()\n",
    "\n",
    "    # Gradient of biases at hidden layers\n",
    "    db_expr = r\"\\Huge{[} \\Large{db^{[\" + sp.latex(i) + r\"]}} \\Huge{]} \\Large{_{_{\" + sp.latex(grads[\"db\"+str(i)].shape) + r\"}}} \\large{= \\frac{1}{\" +sp.latex(int(m*0.8))+ r\"}}\"\n",
    "    db_expr = db_expr + r\"\\Huge{(} \\Huge{[} \\Large{dZ^{[\" + sp.latex(i) + r\"]}} \\Huge{]} \\Large{_{_{\" + sp.latex(grads[\"dZ\"+str(i)].shape) + r\"}}}\"\n",
    "    db_expr = db_expr + r\"\\Huge{[} \\Large{1} \\Huge{]} \\Large{_{_{ (\" + sp.latex(int(m*0.8)) + r\",1) }}}\" + r\"\\Huge{)}\"\n",
    "    display(Math(db_expr))\n",
    "\n",
    "    print(\"\\n\")\n",
    "\n",
    "    # Update weights and biases for the current hidden layer\n",
    "    display(Math(\"\\color{blue}{\\large{Update \\ \\ Weights (W^{[\"+ sp.latex(i) +r\"]}) \\ and \\ Biases (b^{[\"+ sp.latex(i) +r\"]})}}\"))\n",
    "\n",
    "    W_expr = r\"\\Huge{[} \\Large{W^{[\" + sp.latex(i) + r\"]}} \\Huge{]} \\Large{_{_{\" + sp.latex(weights_biases[\"W\" + str(i)].shape) + r\"}}} \\Large{=}\"\n",
    "    W_expr = W_expr + r\"\\Huge{[} \\Large{W^{[\" + sp.latex(i) + r\"]}} \\Huge{]} \\Large{_{_{\" + sp.latex(weights_biases[\"W\" + str(i)].shape) + r\"}}} \\Large{- \\alpha \\ \\cdot}\"\n",
    "    W_expr = W_expr + r\"\\Huge{[} \\Large{dW^{[\" + sp.latex(i) + r\"]}} \\Huge{]} \\Large{_{_{\" + sp.latex(grads[\"dW\"+str(i)].shape) + r\"}}}\"\n",
    "    display(Math(W_expr))\n",
    "\n",
    "    print()\n",
    "\n",
    "    b_expr = r\"\\Huge{[} \\Large{b^{[\" + sp.latex(i) + r\"]}} \\Huge{]} \\Large{_{_{\" + sp.latex(weights_biases[\"b\" + str(i)].shape) + r\"}}} \\Large{=}\"\n",
    "    b_expr = b_expr + r\"\\Huge{[} \\Large{b^{[\" + sp.latex(i) + r\"]}} \\Huge{]} \\Large{_{_{\" + sp.latex(weights_biases[\"b\" + str(i)].shape) + r\"}}} \\Large{- \\alpha \\ \\cdot}\"\n",
    "    b_expr = b_expr + r\"\\Huge{[} \\Large{db^{[\" + sp.latex(i) + r\"]}} \\Huge{]} \\Large{_{_{\" + sp.latex(grads[\"db\"+str(i)].shape) + r\"}}}\"\n",
    "    display(Math(b_expr))\n",
    "\n",
    "    print(\"\\n\")"
   ]
  },
  {
   "cell_type": "markdown",
   "id": "J6kdotG9fFqY",
   "metadata": {
    "id": "J6kdotG9fFqY"
   },
   "source": [
    "# $Train \\ \\ Deep \\ \\ Neural \\ \\ Network \\ \\ Model$"
   ]
  },
  {
   "cell_type": "code",
   "execution_count": 15,
   "id": "dd2a9711-c76e-4bf5-a4b1-cb6cfbdcf8c0",
   "metadata": {
    "colab": {
     "base_uri": "https://localhost:8080/"
    },
    "id": "dd2a9711-c76e-4bf5-a4b1-cb6cfbdcf8c0",
    "outputId": "d000e549-c0cc-4ae6-f8c8-f395989a91bd"
   },
   "outputs": [
    {
     "name": "stdout",
     "output_type": "stream",
     "text": [
      "Iteration : 10\n",
      "Loss : 2.1802323346810524\n",
      "Accuracy : 0.379047619047619\n",
      "\n",
      "Iteration : 20\n",
      "Loss : 1.9337379405057784\n",
      "Accuracy : 0.5168452380952381\n",
      "\n",
      "Iteration : 30\n",
      "Loss : 1.579260589046726\n",
      "Accuracy : 0.5968154761904761\n",
      "\n",
      "Iteration : 40\n",
      "Loss : 1.236409588090049\n",
      "Accuracy : 0.6723511904761905\n",
      "\n",
      "Iteration : 50\n",
      "Loss : 1.368005142943014\n",
      "Accuracy : 0.5313988095238096\n",
      "\n",
      "Iteration : 60\n",
      "Loss : 0.8595890948311395\n",
      "Accuracy : 0.7551190476190476\n",
      "\n",
      "Iteration : 70\n",
      "Loss : 0.7886632725443775\n",
      "Accuracy : 0.7513095238095238\n",
      "\n",
      "Iteration : 80\n",
      "Loss : 0.7210542203322603\n",
      "Accuracy : 0.7735416666666667\n",
      "\n",
      "Iteration : 90\n",
      "Loss : 0.6540048113852085\n",
      "Accuracy : 0.8015178571428572\n",
      "\n",
      "Iteration : 100\n",
      "Loss : 0.6482329130804628\n",
      "Accuracy : 0.79\n",
      "\n",
      "Iteration : 110\n",
      "Loss : 0.5626051658754918\n",
      "Accuracy : 0.8315476190476191\n",
      "\n",
      "Iteration : 120\n",
      "Loss : 0.5380832169401654\n",
      "Accuracy : 0.8407440476190476\n",
      "\n",
      "Iteration : 130\n",
      "Loss : 0.509541368649837\n",
      "Accuracy : 0.8513690476190476\n",
      "\n",
      "Iteration : 140\n",
      "Loss : 0.4707428861062164\n",
      "Accuracy : 0.8647916666666666\n",
      "\n",
      "Iteration : 150\n",
      "Loss : 0.4605377202521744\n",
      "Accuracy : 0.8660416666666667\n",
      "\n",
      "Iteration : 160\n",
      "Loss : 0.4514979741686666\n",
      "Accuracy : 0.867827380952381\n",
      "\n",
      "Iteration : 170\n",
      "Loss : 0.41962368872285644\n",
      "Accuracy : 0.8819047619047619\n",
      "\n",
      "Iteration : 180\n",
      "Loss : 0.402614180793373\n",
      "Accuracy : 0.8879464285714286\n",
      "\n",
      "Iteration : 190\n",
      "Loss : 0.4015700310691482\n",
      "Accuracy : 0.8870238095238095\n",
      "\n",
      "Iteration : 200\n",
      "Loss : 0.4273868501768712\n",
      "Accuracy : 0.87625\n",
      "\n",
      "Iteration : 210\n",
      "Loss : 0.3764554977887526\n",
      "Accuracy : 0.8954761904761904\n",
      "\n",
      "Iteration : 220\n",
      "Loss : 0.35787377007635496\n",
      "Accuracy : 0.9008035714285715\n",
      "\n",
      "Iteration : 230\n",
      "Loss : 0.35212135993842597\n",
      "Accuracy : 0.9020238095238096\n",
      "\n",
      "Iteration : 240\n",
      "Loss : 0.3626139714259508\n",
      "Accuracy : 0.8966369047619047\n",
      "\n",
      "Iteration : 250\n",
      "Loss : 0.39828922838666364\n",
      "Accuracy : 0.8800892857142857\n",
      "\n",
      "Iteration : 260\n",
      "Loss : 0.3293266559711469\n",
      "Accuracy : 0.9084821428571429\n",
      "\n",
      "Iteration : 270\n",
      "Loss : 0.32166394830040784\n",
      "Accuracy : 0.9102678571428572\n",
      "\n",
      "Iteration : 280\n",
      "Loss : 0.31562192976306463\n",
      "Accuracy : 0.9114880952380953\n",
      "\n",
      "Iteration : 290\n",
      "Loss : 0.3100912661766345\n",
      "Accuracy : 0.9134821428571429\n",
      "\n",
      "Iteration : 300\n",
      "Loss : 0.30524698849181614\n",
      "Accuracy : 0.914375\n",
      "\n",
      "Iteration : 310\n",
      "Loss : 0.302753917673518\n",
      "Accuracy : 0.9146428571428571\n",
      "\n",
      "Iteration : 320\n",
      "Loss : 0.3147769720998008\n",
      "Accuracy : 0.9091369047619048\n",
      "\n",
      "Iteration : 330\n",
      "Loss : 0.361162435902598\n",
      "Accuracy : 0.8939583333333333\n",
      "\n",
      "Iteration : 340\n",
      "Loss : 0.2883346108757553\n",
      "Accuracy : 0.919077380952381\n",
      "\n",
      "Iteration : 350\n",
      "Loss : 0.2819280722572687\n",
      "Accuracy : 0.9208333333333333\n",
      "\n",
      "Iteration : 360\n",
      "Loss : 0.27744365846712\n",
      "Accuracy : 0.9219047619047619\n",
      "\n",
      "Iteration : 370\n",
      "Loss : 0.27322209763935706\n",
      "Accuracy : 0.9233333333333333\n",
      "\n",
      "Iteration : 380\n",
      "Loss : 0.26917318362472065\n",
      "Accuracy : 0.9244345238095238\n",
      "\n",
      "Iteration : 390\n",
      "Loss : 0.2652492181898092\n",
      "Accuracy : 0.9256547619047619\n",
      "\n",
      "Iteration : 400\n",
      "Loss : 0.2614408760904016\n",
      "Accuracy : 0.9264880952380953\n",
      "\n",
      "Iteration : 410\n",
      "Loss : 0.2577480406166146\n",
      "Accuracy : 0.9276190476190476\n",
      "\n",
      "Iteration : 420\n",
      "Loss : 0.2541499815027875\n",
      "Accuracy : 0.9283928571428571\n",
      "\n",
      "Iteration : 430\n",
      "Loss : 0.2506289741244432\n",
      "Accuracy : 0.9294642857142857\n",
      "\n",
      "Iteration : 440\n",
      "Loss : 0.24720250325593152\n",
      "Accuracy : 0.9309226190476191\n",
      "\n",
      "Iteration : 450\n",
      "Loss : 0.24385302008051477\n",
      "Accuracy : 0.9319345238095238\n",
      "\n",
      "Iteration : 460\n",
      "Loss : 0.2405710166973052\n",
      "Accuracy : 0.9327380952380953\n",
      "\n",
      "Iteration : 470\n",
      "Loss : 0.23738214179273984\n",
      "Accuracy : 0.9335714285714286\n",
      "\n",
      "Iteration : 480\n",
      "Loss : 0.2343282791661974\n",
      "Accuracy : 0.934404761904762\n",
      "\n",
      "Iteration : 490\n",
      "Loss : 0.23157970661574664\n",
      "Accuracy : 0.9352083333333333\n",
      "\n",
      "Iteration : 500\n",
      "Loss : 0.22965164448381914\n",
      "Accuracy : 0.935327380952381\n",
      "\n"
     ]
    }
   ],
   "source": [
    "# Train the neural network using gradient descent\n",
    "weights_biases, LNLcaches, grads = gradient_descent(X_train, Y_train, 500, 0.1, Layers_dims)\n",
    "# X_train: Input data, Y_train: True labels, 1000: Iterations, 0.1: Learning rate, [784, 300, 100, 30, 20, 10]: Layer dimensions"
   ]
  },
  {
   "cell_type": "markdown",
   "id": "zXKLHP3CflVx",
   "metadata": {
    "id": "zXKLHP3CflVx"
   },
   "source": [
    "# $Accuracy \\ \\ of \\ \\ Trained \\ \\ Model$"
   ]
  },
  {
   "cell_type": "code",
   "execution_count": 16,
   "id": "a14c4659-c8a6-4838-811c-67d0ea144f7b",
   "metadata": {
    "id": "a14c4659-c8a6-4838-811c-67d0ea144f7b"
   },
   "outputs": [],
   "source": [
    "# Make predictions using the trained model\n",
    "def make_predictions(X, weights_biases):\n",
    "    L = len(weights_biases) // 2  # Number of layers in the network\n",
    "    LNLcaches = forward_prop(weights_biases, X)  # Forward propagation\n",
    "    predictions = get_predictions(LNLcaches[\"A\" + str(L)])  # Get predicted labels\n",
    "    return predictions  # Return predicted labels"
   ]
  },
  {
   "cell_type": "code",
   "execution_count": 17,
   "id": "e2fc9c63-fd14-4f8e-b08e-31b5209e97df",
   "metadata": {
    "colab": {
     "base_uri": "https://localhost:8080/"
    },
    "id": "e2fc9c63-fd14-4f8e-b08e-31b5209e97df",
    "outputId": "47c8d024-96c4-46d4-f7ce-2c3b2d40f9c2"
   },
   "outputs": [
    {
     "name": "stdout",
     "output_type": "stream",
     "text": [
      "0.9258333333333333\n"
     ]
    }
   ],
   "source": [
    "# Make predictions on the test set and calculate accuracy\n",
    "Y_pred = make_predictions(X_test, weights_biases)  # Generate predictions for the test data\n",
    "accuracy = get_accuracy(Y_pred, Y_test)  # Calculate the accuracy by comparing predictions with true labels\n",
    "print(accuracy)  # Print the accuracy of the model on the test set"
   ]
  },
  {
   "cell_type": "markdown",
   "id": "T46nqxmBf0JM",
   "metadata": {
    "id": "T46nqxmBf0JM"
   },
   "source": [
    "# $Make \\ \\ Predictions \\ \\ on \\ \\ Unseen \\ \\ Data$"
   ]
  },
  {
   "cell_type": "code",
   "execution_count": 18,
   "id": "d08a5f9a-7245-4d19-94fa-593ac0bd8fcc",
   "metadata": {
    "colab": {
     "base_uri": "https://localhost:8080/",
     "height": 255
    },
    "id": "d08a5f9a-7245-4d19-94fa-593ac0bd8fcc",
    "outputId": "d206f7ce-ee1f-48f2-c689-4ce7d0f2d416"
   },
   "outputs": [
    {
     "data": {
      "application/vnd.google.colaboratory.intrinsic+json": {
       "type": "dataframe",
       "variable_name": "unseen_data"
      },
      "text/html": [
       "\n",
       "  <div id=\"df-c4dbc378-1ffe-40c8-b6e6-1994108a32ff\" class=\"colab-df-container\">\n",
       "    <div>\n",
       "<style scoped>\n",
       "    .dataframe tbody tr th:only-of-type {\n",
       "        vertical-align: middle;\n",
       "    }\n",
       "\n",
       "    .dataframe tbody tr th {\n",
       "        vertical-align: top;\n",
       "    }\n",
       "\n",
       "    .dataframe thead th {\n",
       "        text-align: right;\n",
       "    }\n",
       "</style>\n",
       "<table border=\"1\" class=\"dataframe\">\n",
       "  <thead>\n",
       "    <tr style=\"text-align: right;\">\n",
       "      <th></th>\n",
       "      <th>pixel0</th>\n",
       "      <th>pixel1</th>\n",
       "      <th>pixel2</th>\n",
       "      <th>pixel3</th>\n",
       "      <th>pixel4</th>\n",
       "      <th>pixel5</th>\n",
       "      <th>pixel6</th>\n",
       "      <th>pixel7</th>\n",
       "      <th>pixel8</th>\n",
       "      <th>pixel9</th>\n",
       "      <th>...</th>\n",
       "      <th>pixel774</th>\n",
       "      <th>pixel775</th>\n",
       "      <th>pixel776</th>\n",
       "      <th>pixel777</th>\n",
       "      <th>pixel778</th>\n",
       "      <th>pixel779</th>\n",
       "      <th>pixel780</th>\n",
       "      <th>pixel781</th>\n",
       "      <th>pixel782</th>\n",
       "      <th>pixel783</th>\n",
       "    </tr>\n",
       "  </thead>\n",
       "  <tbody>\n",
       "    <tr>\n",
       "      <th>0</th>\n",
       "      <td>0</td>\n",
       "      <td>0</td>\n",
       "      <td>0</td>\n",
       "      <td>0</td>\n",
       "      <td>0</td>\n",
       "      <td>0</td>\n",
       "      <td>0</td>\n",
       "      <td>0</td>\n",
       "      <td>0</td>\n",
       "      <td>0</td>\n",
       "      <td>...</td>\n",
       "      <td>0</td>\n",
       "      <td>0</td>\n",
       "      <td>0</td>\n",
       "      <td>0</td>\n",
       "      <td>0</td>\n",
       "      <td>0</td>\n",
       "      <td>0</td>\n",
       "      <td>0</td>\n",
       "      <td>0</td>\n",
       "      <td>0</td>\n",
       "    </tr>\n",
       "    <tr>\n",
       "      <th>1</th>\n",
       "      <td>0</td>\n",
       "      <td>0</td>\n",
       "      <td>0</td>\n",
       "      <td>0</td>\n",
       "      <td>0</td>\n",
       "      <td>0</td>\n",
       "      <td>0</td>\n",
       "      <td>0</td>\n",
       "      <td>0</td>\n",
       "      <td>0</td>\n",
       "      <td>...</td>\n",
       "      <td>0</td>\n",
       "      <td>0</td>\n",
       "      <td>0</td>\n",
       "      <td>0</td>\n",
       "      <td>0</td>\n",
       "      <td>0</td>\n",
       "      <td>0</td>\n",
       "      <td>0</td>\n",
       "      <td>0</td>\n",
       "      <td>0</td>\n",
       "    </tr>\n",
       "    <tr>\n",
       "      <th>2</th>\n",
       "      <td>0</td>\n",
       "      <td>0</td>\n",
       "      <td>0</td>\n",
       "      <td>0</td>\n",
       "      <td>0</td>\n",
       "      <td>0</td>\n",
       "      <td>0</td>\n",
       "      <td>0</td>\n",
       "      <td>0</td>\n",
       "      <td>0</td>\n",
       "      <td>...</td>\n",
       "      <td>0</td>\n",
       "      <td>0</td>\n",
       "      <td>0</td>\n",
       "      <td>0</td>\n",
       "      <td>0</td>\n",
       "      <td>0</td>\n",
       "      <td>0</td>\n",
       "      <td>0</td>\n",
       "      <td>0</td>\n",
       "      <td>0</td>\n",
       "    </tr>\n",
       "    <tr>\n",
       "      <th>3</th>\n",
       "      <td>0</td>\n",
       "      <td>0</td>\n",
       "      <td>0</td>\n",
       "      <td>0</td>\n",
       "      <td>0</td>\n",
       "      <td>0</td>\n",
       "      <td>0</td>\n",
       "      <td>0</td>\n",
       "      <td>0</td>\n",
       "      <td>0</td>\n",
       "      <td>...</td>\n",
       "      <td>0</td>\n",
       "      <td>0</td>\n",
       "      <td>0</td>\n",
       "      <td>0</td>\n",
       "      <td>0</td>\n",
       "      <td>0</td>\n",
       "      <td>0</td>\n",
       "      <td>0</td>\n",
       "      <td>0</td>\n",
       "      <td>0</td>\n",
       "    </tr>\n",
       "    <tr>\n",
       "      <th>4</th>\n",
       "      <td>0</td>\n",
       "      <td>0</td>\n",
       "      <td>0</td>\n",
       "      <td>0</td>\n",
       "      <td>0</td>\n",
       "      <td>0</td>\n",
       "      <td>0</td>\n",
       "      <td>0</td>\n",
       "      <td>0</td>\n",
       "      <td>0</td>\n",
       "      <td>...</td>\n",
       "      <td>0</td>\n",
       "      <td>0</td>\n",
       "      <td>0</td>\n",
       "      <td>0</td>\n",
       "      <td>0</td>\n",
       "      <td>0</td>\n",
       "      <td>0</td>\n",
       "      <td>0</td>\n",
       "      <td>0</td>\n",
       "      <td>0</td>\n",
       "    </tr>\n",
       "  </tbody>\n",
       "</table>\n",
       "<p>5 rows × 784 columns</p>\n",
       "</div>\n",
       "    <div class=\"colab-df-buttons\">\n",
       "\n",
       "  <div class=\"colab-df-container\">\n",
       "    <button class=\"colab-df-convert\" onclick=\"convertToInteractive('df-c4dbc378-1ffe-40c8-b6e6-1994108a32ff')\"\n",
       "            title=\"Convert this dataframe to an interactive table.\"\n",
       "            style=\"display:none;\">\n",
       "\n",
       "  <svg xmlns=\"http://www.w3.org/2000/svg\" height=\"24px\" viewBox=\"0 -960 960 960\">\n",
       "    <path d=\"M120-120v-720h720v720H120Zm60-500h600v-160H180v160Zm220 220h160v-160H400v160Zm0 220h160v-160H400v160ZM180-400h160v-160H180v160Zm440 0h160v-160H620v160ZM180-180h160v-160H180v160Zm440 0h160v-160H620v160Z\"/>\n",
       "  </svg>\n",
       "    </button>\n",
       "\n",
       "  <style>\n",
       "    .colab-df-container {\n",
       "      display:flex;\n",
       "      gap: 12px;\n",
       "    }\n",
       "\n",
       "    .colab-df-convert {\n",
       "      background-color: #E8F0FE;\n",
       "      border: none;\n",
       "      border-radius: 50%;\n",
       "      cursor: pointer;\n",
       "      display: none;\n",
       "      fill: #1967D2;\n",
       "      height: 32px;\n",
       "      padding: 0 0 0 0;\n",
       "      width: 32px;\n",
       "    }\n",
       "\n",
       "    .colab-df-convert:hover {\n",
       "      background-color: #E2EBFA;\n",
       "      box-shadow: 0px 1px 2px rgba(60, 64, 67, 0.3), 0px 1px 3px 1px rgba(60, 64, 67, 0.15);\n",
       "      fill: #174EA6;\n",
       "    }\n",
       "\n",
       "    .colab-df-buttons div {\n",
       "      margin-bottom: 4px;\n",
       "    }\n",
       "\n",
       "    [theme=dark] .colab-df-convert {\n",
       "      background-color: #3B4455;\n",
       "      fill: #D2E3FC;\n",
       "    }\n",
       "\n",
       "    [theme=dark] .colab-df-convert:hover {\n",
       "      background-color: #434B5C;\n",
       "      box-shadow: 0px 1px 3px 1px rgba(0, 0, 0, 0.15);\n",
       "      filter: drop-shadow(0px 1px 2px rgba(0, 0, 0, 0.3));\n",
       "      fill: #FFFFFF;\n",
       "    }\n",
       "  </style>\n",
       "\n",
       "    <script>\n",
       "      const buttonEl =\n",
       "        document.querySelector('#df-c4dbc378-1ffe-40c8-b6e6-1994108a32ff button.colab-df-convert');\n",
       "      buttonEl.style.display =\n",
       "        google.colab.kernel.accessAllowed ? 'block' : 'none';\n",
       "\n",
       "      async function convertToInteractive(key) {\n",
       "        const element = document.querySelector('#df-c4dbc378-1ffe-40c8-b6e6-1994108a32ff');\n",
       "        const dataTable =\n",
       "          await google.colab.kernel.invokeFunction('convertToInteractive',\n",
       "                                                    [key], {});\n",
       "        if (!dataTable) return;\n",
       "\n",
       "        const docLinkHtml = 'Like what you see? Visit the ' +\n",
       "          '<a target=\"_blank\" href=https://colab.research.google.com/notebooks/data_table.ipynb>data table notebook</a>'\n",
       "          + ' to learn more about interactive tables.';\n",
       "        element.innerHTML = '';\n",
       "        dataTable['output_type'] = 'display_data';\n",
       "        await google.colab.output.renderOutput(dataTable, element);\n",
       "        const docLink = document.createElement('div');\n",
       "        docLink.innerHTML = docLinkHtml;\n",
       "        element.appendChild(docLink);\n",
       "      }\n",
       "    </script>\n",
       "  </div>\n",
       "\n",
       "\n",
       "<div id=\"df-1ef86389-be04-4682-b5d0-35ded6e1df3a\">\n",
       "  <button class=\"colab-df-quickchart\" onclick=\"quickchart('df-1ef86389-be04-4682-b5d0-35ded6e1df3a')\"\n",
       "            title=\"Suggest charts\"\n",
       "            style=\"display:none;\">\n",
       "\n",
       "<svg xmlns=\"http://www.w3.org/2000/svg\" height=\"24px\"viewBox=\"0 0 24 24\"\n",
       "     width=\"24px\">\n",
       "    <g>\n",
       "        <path d=\"M19 3H5c-1.1 0-2 .9-2 2v14c0 1.1.9 2 2 2h14c1.1 0 2-.9 2-2V5c0-1.1-.9-2-2-2zM9 17H7v-7h2v7zm4 0h-2V7h2v10zm4 0h-2v-4h2v4z\"/>\n",
       "    </g>\n",
       "</svg>\n",
       "  </button>\n",
       "\n",
       "<style>\n",
       "  .colab-df-quickchart {\n",
       "      --bg-color: #E8F0FE;\n",
       "      --fill-color: #1967D2;\n",
       "      --hover-bg-color: #E2EBFA;\n",
       "      --hover-fill-color: #174EA6;\n",
       "      --disabled-fill-color: #AAA;\n",
       "      --disabled-bg-color: #DDD;\n",
       "  }\n",
       "\n",
       "  [theme=dark] .colab-df-quickchart {\n",
       "      --bg-color: #3B4455;\n",
       "      --fill-color: #D2E3FC;\n",
       "      --hover-bg-color: #434B5C;\n",
       "      --hover-fill-color: #FFFFFF;\n",
       "      --disabled-bg-color: #3B4455;\n",
       "      --disabled-fill-color: #666;\n",
       "  }\n",
       "\n",
       "  .colab-df-quickchart {\n",
       "    background-color: var(--bg-color);\n",
       "    border: none;\n",
       "    border-radius: 50%;\n",
       "    cursor: pointer;\n",
       "    display: none;\n",
       "    fill: var(--fill-color);\n",
       "    height: 32px;\n",
       "    padding: 0;\n",
       "    width: 32px;\n",
       "  }\n",
       "\n",
       "  .colab-df-quickchart:hover {\n",
       "    background-color: var(--hover-bg-color);\n",
       "    box-shadow: 0 1px 2px rgba(60, 64, 67, 0.3), 0 1px 3px 1px rgba(60, 64, 67, 0.15);\n",
       "    fill: var(--button-hover-fill-color);\n",
       "  }\n",
       "\n",
       "  .colab-df-quickchart-complete:disabled,\n",
       "  .colab-df-quickchart-complete:disabled:hover {\n",
       "    background-color: var(--disabled-bg-color);\n",
       "    fill: var(--disabled-fill-color);\n",
       "    box-shadow: none;\n",
       "  }\n",
       "\n",
       "  .colab-df-spinner {\n",
       "    border: 2px solid var(--fill-color);\n",
       "    border-color: transparent;\n",
       "    border-bottom-color: var(--fill-color);\n",
       "    animation:\n",
       "      spin 1s steps(1) infinite;\n",
       "  }\n",
       "\n",
       "  @keyframes spin {\n",
       "    0% {\n",
       "      border-color: transparent;\n",
       "      border-bottom-color: var(--fill-color);\n",
       "      border-left-color: var(--fill-color);\n",
       "    }\n",
       "    20% {\n",
       "      border-color: transparent;\n",
       "      border-left-color: var(--fill-color);\n",
       "      border-top-color: var(--fill-color);\n",
       "    }\n",
       "    30% {\n",
       "      border-color: transparent;\n",
       "      border-left-color: var(--fill-color);\n",
       "      border-top-color: var(--fill-color);\n",
       "      border-right-color: var(--fill-color);\n",
       "    }\n",
       "    40% {\n",
       "      border-color: transparent;\n",
       "      border-right-color: var(--fill-color);\n",
       "      border-top-color: var(--fill-color);\n",
       "    }\n",
       "    60% {\n",
       "      border-color: transparent;\n",
       "      border-right-color: var(--fill-color);\n",
       "    }\n",
       "    80% {\n",
       "      border-color: transparent;\n",
       "      border-right-color: var(--fill-color);\n",
       "      border-bottom-color: var(--fill-color);\n",
       "    }\n",
       "    90% {\n",
       "      border-color: transparent;\n",
       "      border-bottom-color: var(--fill-color);\n",
       "    }\n",
       "  }\n",
       "</style>\n",
       "\n",
       "  <script>\n",
       "    async function quickchart(key) {\n",
       "      const quickchartButtonEl =\n",
       "        document.querySelector('#' + key + ' button');\n",
       "      quickchartButtonEl.disabled = true;  // To prevent multiple clicks.\n",
       "      quickchartButtonEl.classList.add('colab-df-spinner');\n",
       "      try {\n",
       "        const charts = await google.colab.kernel.invokeFunction(\n",
       "            'suggestCharts', [key], {});\n",
       "      } catch (error) {\n",
       "        console.error('Error during call to suggestCharts:', error);\n",
       "      }\n",
       "      quickchartButtonEl.classList.remove('colab-df-spinner');\n",
       "      quickchartButtonEl.classList.add('colab-df-quickchart-complete');\n",
       "    }\n",
       "    (() => {\n",
       "      let quickchartButtonEl =\n",
       "        document.querySelector('#df-1ef86389-be04-4682-b5d0-35ded6e1df3a button');\n",
       "      quickchartButtonEl.style.display =\n",
       "        google.colab.kernel.accessAllowed ? 'block' : 'none';\n",
       "    })();\n",
       "  </script>\n",
       "</div>\n",
       "\n",
       "    </div>\n",
       "  </div>\n"
      ],
      "text/plain": [
       "   pixel0  pixel1  pixel2  pixel3  pixel4  pixel5  pixel6  pixel7  pixel8  \\\n",
       "0       0       0       0       0       0       0       0       0       0   \n",
       "1       0       0       0       0       0       0       0       0       0   \n",
       "2       0       0       0       0       0       0       0       0       0   \n",
       "3       0       0       0       0       0       0       0       0       0   \n",
       "4       0       0       0       0       0       0       0       0       0   \n",
       "\n",
       "   pixel9  ...  pixel774  pixel775  pixel776  pixel777  pixel778  pixel779  \\\n",
       "0       0  ...         0         0         0         0         0         0   \n",
       "1       0  ...         0         0         0         0         0         0   \n",
       "2       0  ...         0         0         0         0         0         0   \n",
       "3       0  ...         0         0         0         0         0         0   \n",
       "4       0  ...         0         0         0         0         0         0   \n",
       "\n",
       "   pixel780  pixel781  pixel782  pixel783  \n",
       "0         0         0         0         0  \n",
       "1         0         0         0         0  \n",
       "2         0         0         0         0  \n",
       "3         0         0         0         0  \n",
       "4         0         0         0         0  \n",
       "\n",
       "[5 rows x 784 columns]"
      ]
     },
     "execution_count": 18,
     "metadata": {},
     "output_type": "execute_result"
    }
   ],
   "source": [
    "# Load and display the first few rows of unseen test data\n",
    "unseen_data = pd.read_csv(\"test.csv\")  # Read the unseen test data from CSV\n",
    "unseen_data.head()  # Display the first 5 rows of the unseen data"
   ]
  },
  {
   "cell_type": "code",
   "execution_count": 19,
   "id": "73d6feeb-ada8-4e03-8725-faed3b4775b4",
   "metadata": {
    "id": "73d6feeb-ada8-4e03-8725-faed3b4775b4"
   },
   "outputs": [],
   "source": [
    "# Function to identify an image from the unseen dataset using the trained model\n",
    "def identify(weights_biases=weights_biases, unseen_data=unseen_data):\n",
    "    unseen_data = np.array(unseen_data)  # Convert the unseen data to a numpy array\n",
    "    r = np.random.randint(0, unseen_data.shape[0]-1)  # Randomly select an index from unseen data\n",
    "    x = unseen_data[r].reshape(-1, 1)  # Reshape the selected image to column vector\n",
    "    x = x / 255  # Normalize the image\n",
    "\n",
    "    # Reshape image for visualization and display it\n",
    "    current_image = x.reshape((28, 28)) * 255  # Reshape back to 28x28 for visualization\n",
    "    plt.gray()  # Set the color map to grayscale\n",
    "    plt.imshow(current_image, interpolation='nearest')  # Display the image\n",
    "    plt.show()  # Show the image\n",
    "\n",
    "    # Make and print the prediction\n",
    "    print(\"This is :\", make_predictions(x, weights_biases)[0])  # Output predicted class label"
   ]
  },
  {
   "cell_type": "code",
   "execution_count": 24,
   "id": "4b0cc4bc-128e-418e-ae60-1c514bdc4f01",
   "metadata": {
    "colab": {
     "base_uri": "https://localhost:8080/",
     "height": 448
    },
    "id": "4b0cc4bc-128e-418e-ae60-1c514bdc4f01",
    "outputId": "f6f11152-dbb6-4384-ea7a-b176eaa08e13"
   },
   "outputs": [
    {
     "data": {
      "image/png": "[encoded data removed]",
      "text/plain": [
       "<Figure size 640x480 with 1 Axes>"
      ]
     },
     "metadata": {},
     "output_type": "display_data"
    },
    {
     "name": "stdout",
     "output_type": "stream",
     "text": [
      "This is : 6\n"
     ]
    }
   ],
   "source": [
    "# Call the identify function to randomly select an image from the unseen dataset and make a prediction\n",
    "identify()"
   ]
  }
 ],
 "metadata": {
  "colab": {
   "provenance": []
  },
  "kernelspec": {
   "display_name": "Python 3 (ipykernel)",
   "language": "python",
   "name": "python3"
  },
  "language_info": {
   "codemirror_mode": {
    "name": "ipython",
    "version": 3
   },
   "file_extension": ".py",
   "mimetype": "text/x-python",
   "name": "python",
   "nbconvert_exporter": "python",
   "pygments_lexer": "ipython3",
   "version": "3.11.5"
  }
 },
 "nbformat": 4,
 "nbformat_minor": 5
}
